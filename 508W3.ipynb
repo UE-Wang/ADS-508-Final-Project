{
 "cells": [
  {
   "cell_type": "markdown",
   "id": "356a24d3-5156-4829-abd8-31ad93ec1e4f",
   "metadata": {},
   "source": [
    "# USADS 508 W3 Team 2"
   ]
  },
  {
   "cell_type": "markdown",
   "id": "f15d09d8-0890-4576-b931-e8343e98727d",
   "metadata": {
    "tags": []
   },
   "source": [
    "!python --version\n",
    "!pip list\n",
    "# Pip\n",
    "!pip install --disable-pip-version-check -q pip --upgrade > /dev/null\n",
    "!pip install --disable-pip-version-check -q wrapt --upgrade > /dev/null\n",
    "# AWS CLI and AWS Python SDK (boto3)\n",
    "!pip install --disable-pip-version-check -q awscli==1.18.216 boto3==1.16.56 botocore==1.19.56\n",
    "# SageMaker\n",
    "!pip install --disable-pip-version-check -q sagemaker==2.29.0\n",
    "!pip install --disable-pip-version-check -q smdebug==1.0.1\n",
    "!pip install --disable-pip-version-check -q sagemaker-experiments==0.1.26\n",
    "# PyTorch\n",
    "!conda install -y pytorch==1.6.0 -c pytorch\n",
    "# TensorFlow\n",
    "!pip install --disable-pip-version-check -q tensorflow==2.3.1\n",
    "# Hugging Face Transformers (BERT)\n",
    "!pip install --disable-pip-version-check -q transformers==3.5.1\n",
    "# TorchServe\n",
    "!pip install --disable-pip-version-check -q torchserve==0.3.0\n",
    "!pip install --disable-pip-version-check -q torch-model-archiver==0.3.0\n",
    "# PyAthena\n",
    "!pip install --disable-pip-version-check -q PyAthena==2.1.0\n",
    "# Redshift\n",
    "!pip install --disable-pip-version-check -q SQLAlchemy==1.3.22\n",
    "# AWS Data Wrangler\n",
    "!pip install --disable-pip-version-check -q awswrangler==2.3.0\n",
    "# StepFunctions\n",
    "!pip install --disable-pip-version-check -q stepfunctions==2.0.0rc1\n",
    "# Zip\n",
    "!conda install -y zip\n",
    "# Matplotlib\n",
    "!pip install --disable-pip-version-check -q matplotlib==3.1.3\n",
    "# Seaborn\n",
    "!pip install --disable-pip-version-check -q seaborn==0.10.0\n",
    "\n",
    "\n",
    "# Summarize\n",
    "!python --version\n",
    "# !pip list\n",
    "setup_dependencies_passed = True\n",
    "%store setup_dependencies_passed\n",
    "%store"
   ]
  },
  {
   "cell_type": "code",
   "execution_count": 2,
   "id": "bbbe004b-53f2-47d5-8bc4-7ff971217148",
   "metadata": {
    "tags": []
   },
   "outputs": [],
   "source": [
    "import boto3, re, sys, math, json, os, sagemaker, urllib.request\n",
    "import io\n",
    "import sagemaker\n",
    "from sagemaker import get_execution_role\n",
    "from IPython.display import Image\n",
    "from IPython.display import display\n",
    "# from time import gmtime, strftime\n",
    "from sagemaker.predictor import csv_serializer\n",
    "from pyathena import connect\n",
    "import pandas as pd\n",
    "import numpy as np\n",
    "import matplotlib.pyplot as plt\n",
    "%matplotlib inline\n",
    "import seaborn as sns\n",
    "# from sklearn.decomposition import PCA\n",
    "# from sklearn.model_selection import train_test_split, \\\n",
    "# RepeatedStratifiedKFold, RandomizedSearchCV\n",
    "# from sklearn.metrics import roc_curve, auc, mean_squared_error,\\\n",
    "# precision_score, recall_score, f1_score, accuracy_score,\\\n",
    "# confusion_matrix, plot_confusion_matrix, classification_report\n",
    "# from sagemaker.tuner import HyperparameterTuner\n",
    "# from sklearn.linear_model import LogisticRegression\n",
    "# from sklearn.ensemble import RandomForestClassifier\n",
    "# from scipy.stats import loguniform\n",
    "import warnings\n",
    "warnings.filterwarnings('ignore')"
   ]
  },
  {
   "cell_type": "markdown",
   "id": "c3904e6e-4744-49bc-a75d-1546d525584b",
   "metadata": {},
   "source": [
    "# Check the Environment was Created Correctly"
   ]
  },
  {
   "cell_type": "code",
   "execution_count": 3,
   "id": "41950d00-e0e9-4d90-a675-a3fb5dbcb2b1",
   "metadata": {
    "tags": []
   },
   "outputs": [],
   "source": [
    "import boto3\n",
    "\n",
    "region = boto3.Session().region_name\n",
    "session = boto3.session.Session()\n",
    "\n",
    "ec2 = boto3.Session().client(service_name=\"ec2\", region_name=region)\n",
    "sm = boto3.Session().client(service_name=\"sagemaker\", region_name=region)"
   ]
  },
  {
   "cell_type": "code",
   "execution_count": 4,
   "id": "1969df2d-aa40-4025-ab69-52ded6282035",
   "metadata": {
    "tags": []
   },
   "outputs": [
    {
     "name": "stdout",
     "output_type": "stream",
     "text": [
      "DomainId: d-7v61k0r2izyh\n",
      "Name: datascience-1-0-ml-t3-medium-1abf3407f667f989be9d86559395\n"
     ]
    }
   ],
   "source": [
    "import json\n",
    "\n",
    "notebook_instance_name = None\n",
    "\n",
    "try:\n",
    "    with open(\"/opt/ml/metadata/resource-metadata.json\") as notebook_info:\n",
    "        data = json.load(notebook_info)\n",
    "        domain_id = data[\"DomainId\"]\n",
    "        resource_arn = data[\"ResourceArn\"]\n",
    "        region = resource_arn.split(\":\")[3]\n",
    "        name = data[\"ResourceName\"]\n",
    "    print(\"DomainId: {}\".format(domain_id))\n",
    "    print(\"Name: {}\".format(name))\n",
    "except:\n",
    "    print(\"+++++++++++++++++++++++++++++++++++++++++\")\n",
    "    print(\"[ERROR]: COULD NOT RETRIEVE THE METADATA.\")\n",
    "    print(\"+++++++++++++++++++++++++++++++++++++++++\")"
   ]
  },
  {
   "cell_type": "code",
   "execution_count": 5,
   "id": "4ca7a9d0-e07b-44d8-b87a-d32a10e086f1",
   "metadata": {
    "tags": []
   },
   "outputs": [
    {
     "name": "stdout",
     "output_type": "stream",
     "text": [
      "InService\n"
     ]
    }
   ],
   "source": [
    "describe_domain_response = sm.describe_domain(DomainId=domain_id)\n",
    "print(describe_domain_response[\"Status\"])"
   ]
  },
  {
   "cell_type": "code",
   "execution_count": 6,
   "id": "c601e344-42ed-454e-814c-9f9e4c255504",
   "metadata": {
    "tags": []
   },
   "outputs": [
    {
     "name": "stdout",
     "output_type": "stream",
     "text": [
      "Enabled\n"
     ]
    }
   ],
   "source": [
    "try:\n",
    "    get_status_response = sm.get_sagemaker_servicecatalog_portfolio_status()\n",
    "    print(get_status_response[\"Status\"])\n",
    "except:\n",
    "    pass"
   ]
  },
  {
   "cell_type": "code",
   "execution_count": 7,
   "id": "23e919f2-1e6a-4080-84c6-0f29edcf50c6",
   "metadata": {
    "tags": []
   },
   "outputs": [
    {
     "name": "stdout",
     "output_type": "stream",
     "text": [
      "[OK] Checks passed!  Great Job!!  Please Continue.\n"
     ]
    }
   ],
   "source": [
    "if (\n",
    "    describe_domain_response[\"Status\"] == \"InService\"\n",
    "    and get_status_response[\"Status\"] == \"Enabled\"\n",
    "    and \"datascience\" in name\n",
    "):\n",
    "    setup_instance_check_passed = True\n",
    "    print(\"[OK] Checks passed!  Great Job!!  Please Continue.\")\n",
    "else:\n",
    "    setup_instance_check_passed = False\n",
    "    print(\"+++++++++++++++++++++++++++++++++++++++++++++++\")\n",
    "    print(\"[ERROR]: WE HAVE IDENTIFIED A MISCONFIGURATION.\")\n",
    "    print(describe_domain_response[\"Status\"])\n",
    "    print(get_status_response[\"Status\"])\n",
    "    print(name)\n",
    "    print(\"+++++++++++++++++++++++++++++++++++++++++++++++\")"
   ]
  },
  {
   "cell_type": "markdown",
   "id": "ab512b00-2e76-48c6-b851-5118f3baf279",
   "metadata": {},
   "source": [
    "# Update IAM Roles and Policies"
   ]
  },
  {
   "cell_type": "code",
   "execution_count": 8,
   "id": "53927e45-6d05-45c8-a550-ca8a18ae8aef",
   "metadata": {
    "tags": []
   },
   "outputs": [],
   "source": [
    "import boto3\n",
    "import sagemaker\n",
    "import time\n",
    "from time import gmtime, strftime\n",
    "\n",
    "sagemaker_session = sagemaker.Session()\n",
    "role = sagemaker.get_execution_role()\n",
    "bucket = sagemaker_session.default_bucket()\n",
    "region = boto3.Session().region_name\n",
    "\n",
    "from botocore.config import Config\n",
    "\n",
    "config = Config(retries={\"max_attempts\": 10, \"mode\": \"adaptive\"})\n",
    "\n",
    "iam = boto3.client(\"iam\", config=config)"
   ]
  },
  {
   "cell_type": "markdown",
   "id": "49312677-f7f7-446d-ad91-a987a43f69c1",
   "metadata": {},
   "source": [
    "# Get SageMaker Execution Role Name"
   ]
  },
  {
   "cell_type": "code",
   "execution_count": 9,
   "id": "791efe9a-8145-420c-a41c-2379e48f67e7",
   "metadata": {
    "tags": []
   },
   "outputs": [
    {
     "name": "stdout",
     "output_type": "stream",
     "text": [
      "Role name: LabRole\n"
     ]
    }
   ],
   "source": [
    "role_name = role.split(\"/\")[-1]\n",
    "\n",
    "print(\"Role name: {}\".format(role_name))"
   ]
  },
  {
   "cell_type": "markdown",
   "id": "2bffd4d5-c3a0-4c7e-af8d-59b2ee520823",
   "metadata": {},
   "source": [
    "# Pre-Requisite: SageMaker notebook instance ExecutionRole contains IAMFullAccess Policy."
   ]
  },
  {
   "cell_type": "code",
   "execution_count": 10,
   "id": "67d2972f-50ab-4b00-9ade-832d00fcd982",
   "metadata": {
    "tags": []
   },
   "outputs": [
    {
     "name": "stdout",
     "output_type": "stream",
     "text": [
      "[OK] You are all set up to continue with this workshop!\n"
     ]
    }
   ],
   "source": [
    "admin = False\n",
    "post_policies = iam.list_attached_role_policies(RoleName=role_name)[\"AttachedPolicies\"]\n",
    "for post_policy in post_policies:\n",
    "    if post_policy[\"PolicyName\"] == \"AdministratorAccess\":\n",
    "        admin = True\n",
    "        break\n",
    "\n",
    "setup_iam_roles_passed = True\n",
    "print(\"[OK] You are all set up to continue with this workshop!\")"
   ]
  },
  {
   "cell_type": "markdown",
   "id": "83a2c1d0-2a7d-4a61-ace0-bc417bbb5950",
   "metadata": {},
   "source": [
    "# Check Pre-Requisites"
   ]
  },
  {
   "cell_type": "markdown",
   "id": "a9649ff0-ed39-44dd-bea7-bf538ab7e3d2",
   "metadata": {
    "tags": []
   },
   "source": [
    "if not setup_instance_check_passed:\n",
    "    print(\"+++++++++++++++++++++++++++++++++++++++++++++++++++++++++++++++\")\n",
    "    print(\"[ERROR] YOU HAVE TO RUN ALL NOTEBOOKS IN THE SETUP FOLDER FIRST. You are missing Instance Check.\")\n",
    "    print(\"+++++++++++++++++++++++++++++++++++++++++++++++++++++++++++++++\")\n",
    "if not setup_dependencies_passed:\n",
    "    print(\"+++++++++++++++++++++++++++++++++++++++++++++++++++++++++++++++\")\n",
    "    print(\"[ERROR] YOU HAVE TO RUN ALL NOTEBOOKS IN THE SETUP FOLDER FIRST. You are missing Setup Dependencies.\")\n",
    "    print(\"+++++++++++++++++++++++++++++++++++++++++++++++++++++++++++++++\")\n",
    "if not setup_iam_roles_passed:\n",
    "    print(\"+++++++++++++++++++++++++++++++++++++++++++++++++++++++++++++++\")\n",
    "    print(\"[ERROR] YOU HAVE TO RUN ALL NOTEBOOKS IN THE SETUP FOLDER FIRST. You are missing Setup IAM Roles.\")\n",
    "    print(\"+++++++++++++++++++++++++++++++++++++++++++++++++++++++++++++++\")"
   ]
  },
  {
   "cell_type": "markdown",
   "id": "70326db5-96f7-47c5-a0b0-e1b5be86a2d1",
   "metadata": {},
   "source": [
    "# Create Athena Database Schema"
   ]
  },
  {
   "cell_type": "code",
   "execution_count": 11,
   "id": "37cbb38a-590c-432a-9385-2567d16968d0",
   "metadata": {
    "tags": []
   },
   "outputs": [],
   "source": [
    "import boto3\n",
    "import sagemaker\n",
    "\n",
    "sess = sagemaker.Session()\n",
    "bucket = 'usd508team2'\n",
    "role = sagemaker.get_execution_role()\n",
    "region = boto3.Session().region_name"
   ]
  },
  {
   "cell_type": "markdown",
   "id": "46c9ebf7-9201-4b38-a3b5-ac9d3b6baaa2",
   "metadata": {},
   "source": [
    "# Import PyAthena"
   ]
  },
  {
   "cell_type": "code",
   "execution_count": 12,
   "id": "cd07fcca-0656-4b8f-bb45-d68ba3bc6043",
   "metadata": {
    "tags": []
   },
   "outputs": [],
   "source": [
    "# !pip install --disable-pip-version-check -q PyAthena==2.1.0\n",
    "from pyathena import connect"
   ]
  },
  {
   "cell_type": "markdown",
   "id": "a0e9d9e2-c4dc-4a72-ab22-4f82444751e0",
   "metadata": {},
   "source": [
    "# Create Athena Database"
   ]
  },
  {
   "cell_type": "code",
   "execution_count": 13,
   "id": "678755a8-1b8d-4e43-b177-502c8b9a823f",
   "metadata": {
    "tags": []
   },
   "outputs": [],
   "source": [
    "database_name = \"CA_Traffic\""
   ]
  },
  {
   "cell_type": "code",
   "execution_count": 14,
   "id": "4098a2e1-33b2-4436-a0d3-f582387c49d2",
   "metadata": {
    "tags": []
   },
   "outputs": [],
   "source": [
    "# Set S3 staging directory -- this is a temporary directory used for Athena queries\n",
    "s3_staging_dir = \"s3://{0}/athena/staging\".format(bucket)"
   ]
  },
  {
   "cell_type": "code",
   "execution_count": 15,
   "id": "35dd1337-d984-4382-932c-1fb6edadeb2d",
   "metadata": {
    "tags": []
   },
   "outputs": [],
   "source": [
    "conn = connect(region_name=region, s3_staging_dir=s3_staging_dir)"
   ]
  },
  {
   "cell_type": "code",
   "execution_count": 16,
   "id": "f2fa1ea4-66e6-481b-8a92-467ab300458d",
   "metadata": {
    "tags": []
   },
   "outputs": [
    {
     "name": "stdout",
     "output_type": "stream",
     "text": [
      "CREATE DATABASE IF NOT EXISTS CA_Traffic\n"
     ]
    }
   ],
   "source": [
    "statement = \"CREATE DATABASE IF NOT EXISTS {}\".format(database_name)\n",
    "print(statement)"
   ]
  },
  {
   "cell_type": "code",
   "execution_count": 17,
   "id": "1006b5f8-086c-4879-bd5f-4781e5fa835e",
   "metadata": {
    "tags": []
   },
   "outputs": [
    {
     "data": {
      "text/html": [
       "<div>\n",
       "<style scoped>\n",
       "    .dataframe tbody tr th:only-of-type {\n",
       "        vertical-align: middle;\n",
       "    }\n",
       "\n",
       "    .dataframe tbody tr th {\n",
       "        vertical-align: top;\n",
       "    }\n",
       "\n",
       "    .dataframe thead th {\n",
       "        text-align: right;\n",
       "    }\n",
       "</style>\n",
       "<table border=\"1\" class=\"dataframe\">\n",
       "  <thead>\n",
       "    <tr style=\"text-align: right;\">\n",
       "      <th></th>\n",
       "    </tr>\n",
       "  </thead>\n",
       "  <tbody>\n",
       "  </tbody>\n",
       "</table>\n",
       "</div>"
      ],
      "text/plain": [
       "Empty DataFrame\n",
       "Columns: []\n",
       "Index: []"
      ]
     },
     "execution_count": 17,
     "metadata": {},
     "output_type": "execute_result"
    }
   ],
   "source": [
    "import pandas as pd\n",
    "\n",
    "pd.read_sql(statement, conn)"
   ]
  },
  {
   "cell_type": "markdown",
   "id": "ed0539f7-6266-44eb-a66b-b6b8615bdc93",
   "metadata": {
    "tags": []
   },
   "source": [
    "# Verify The Database Has Been Created Succesfully"
   ]
  },
  {
   "cell_type": "code",
   "execution_count": 18,
   "id": "1060c2ea-009b-4d5e-bbf6-c729fed914db",
   "metadata": {
    "tags": []
   },
   "outputs": [
    {
     "data": {
      "text/html": [
       "<div>\n",
       "<style scoped>\n",
       "    .dataframe tbody tr th:only-of-type {\n",
       "        vertical-align: middle;\n",
       "    }\n",
       "\n",
       "    .dataframe tbody tr th {\n",
       "        vertical-align: top;\n",
       "    }\n",
       "\n",
       "    .dataframe thead th {\n",
       "        text-align: right;\n",
       "    }\n",
       "</style>\n",
       "<table border=\"1\" class=\"dataframe\">\n",
       "  <thead>\n",
       "    <tr style=\"text-align: right;\">\n",
       "      <th></th>\n",
       "      <th>database_name</th>\n",
       "    </tr>\n",
       "  </thead>\n",
       "  <tbody>\n",
       "    <tr>\n",
       "      <th>0</th>\n",
       "      <td>ca_traffic</td>\n",
       "    </tr>\n",
       "    <tr>\n",
       "      <th>1</th>\n",
       "      <td>default</td>\n",
       "    </tr>\n",
       "  </tbody>\n",
       "</table>\n",
       "</div>"
      ],
      "text/plain": [
       "  database_name\n",
       "0    ca_traffic\n",
       "1       default"
      ]
     },
     "execution_count": 18,
     "metadata": {},
     "output_type": "execute_result"
    }
   ],
   "source": [
    "statement = \"SHOW DATABASES\"\n",
    "\n",
    "df_show = pd.read_sql(statement, conn)\n",
    "df_show.head(5)"
   ]
  },
  {
   "cell_type": "markdown",
   "id": "c7fa7854-b16f-439f-bb5b-55e754ed3ed2",
   "metadata": {
    "tags": []
   },
   "source": [
    "# if database_name in df_show.values:\n",
    "    ingest_create_athena_db_passed = True"
   ]
  },
  {
   "cell_type": "markdown",
   "id": "55caf157-5107-48c2-bf55-7cc88fc7eb5b",
   "metadata": {},
   "source": [
    "# Create Athena Table from Local TSV Files"
   ]
  },
  {
   "cell_type": "code",
   "execution_count": 19,
   "id": "2ecb575a-2b8d-4081-8e78-8682d38868dd",
   "metadata": {
    "tags": []
   },
   "outputs": [],
   "source": [
    "# Set Athena parameters\n",
    "database_name = \"ca_traffic\"\n",
    "Ex_Ln_table = \"Ex_Ln\"\n",
    "HOV_table = \"HOV\"\n",
    "vol_table = \"vol\"\n",
    "s3_path_Ex_Ln = \"s3://{}/Express_Lanes.csv\".format(bucket)\n",
    "s3_path_HOV = \"s3://{}/HOV.csv\".format(bucket)\n",
    "s3_path_vol = \"s3://{}/Traffic_Volumes_AADT.csv\".format(bucket)"
   ]
  },
  {
   "cell_type": "code",
   "execution_count": 20,
   "id": "1e6a7f72-9a8b-4ed7-ba80-404f7bad4066",
   "metadata": {
    "tags": []
   },
   "outputs": [
    {
     "data": {
      "text/html": [
       "<div>\n",
       "<style scoped>\n",
       "    .dataframe tbody tr th:only-of-type {\n",
       "        vertical-align: middle;\n",
       "    }\n",
       "\n",
       "    .dataframe tbody tr th {\n",
       "        vertical-align: top;\n",
       "    }\n",
       "\n",
       "    .dataframe thead th {\n",
       "        text-align: right;\n",
       "    }\n",
       "</style>\n",
       "<table border=\"1\" class=\"dataframe\">\n",
       "  <thead>\n",
       "    <tr style=\"text-align: right;\">\n",
       "      <th></th>\n",
       "    </tr>\n",
       "  </thead>\n",
       "  <tbody>\n",
       "  </tbody>\n",
       "</table>\n",
       "</div>"
      ],
      "text/plain": [
       "Empty DataFrame\n",
       "Columns: []\n",
       "Index: []"
      ]
     },
     "execution_count": 20,
     "metadata": {},
     "output_type": "execute_result"
    }
   ],
   "source": [
    "statement1 = \"\"\"CREATE EXTERNAL TABLE IF NOT EXISTS {}.{}(\n",
    "         OBJECTID int,\n",
    "         District int,\n",
    "         Route string,\n",
    "         Direction string,\n",
    "         Begin_County string,\n",
    "         Begin_Post_Mile string,\n",
    "         End_County string,\n",
    "         End_Post_Mile string,\n",
    "         Begin_Abs_Post_Mile int,\n",
    "         End_Abs_Post_Mile int,\n",
    "         Description string,\n",
    "         Length__Lane_Miles_ int,\n",
    "         Opening_Date string,\n",
    "         Occupancy_Requirement_for_Toll_ string,\n",
    "         Hours_of_Operation string,\n",
    "         Comments string,\n",
    "         Shape_Length int\n",
    ") ROW FORMAT DELIMITED FIELDS TERMINATED BY ',' LINES TERMINATED BY '\\\\n' LOCATION '{}'\n",
    "TBLPROPERTIES ('skip.header.line.count'='1')\"\"\".format(\n",
    "    database_name, Ex_Ln_table, s3_path_Ex_Ln\n",
    ")\n",
    "\n",
    "pd.read_sql(statement1, conn)"
   ]
  },
  {
   "cell_type": "code",
   "execution_count": 21,
   "id": "c132aa26-6fa4-427b-ab8f-b62d146903b8",
   "metadata": {
    "tags": []
   },
   "outputs": [
    {
     "data": {
      "text/html": [
       "<div>\n",
       "<style scoped>\n",
       "    .dataframe tbody tr th:only-of-type {\n",
       "        vertical-align: middle;\n",
       "    }\n",
       "\n",
       "    .dataframe tbody tr th {\n",
       "        vertical-align: top;\n",
       "    }\n",
       "\n",
       "    .dataframe thead th {\n",
       "        text-align: right;\n",
       "    }\n",
       "</style>\n",
       "<table border=\"1\" class=\"dataframe\">\n",
       "  <thead>\n",
       "    <tr style=\"text-align: right;\">\n",
       "      <th></th>\n",
       "    </tr>\n",
       "  </thead>\n",
       "  <tbody>\n",
       "  </tbody>\n",
       "</table>\n",
       "</div>"
      ],
      "text/plain": [
       "Empty DataFrame\n",
       "Columns: []\n",
       "Index: []"
      ]
     },
     "execution_count": 21,
     "metadata": {},
     "output_type": "execute_result"
    }
   ],
   "source": [
    "statement2 = \"\"\"CREATE EXTERNAL TABLE IF NOT EXISTS {}.{}(\n",
    "         OBJECTID int,\n",
    "         District int,\n",
    "         Route string,\n",
    "         Direction string,\n",
    "         Begin_County string,\n",
    "         Begin_Post_Mile string,\n",
    "         End_County string,\n",
    "         End_Post_Mile string,\n",
    "         Begin_Abs_Post_Mile int,\n",
    "         End_Abs_Post_Mile int,\n",
    "         Description string,\n",
    "         Length__Lane_Miles_ int,\n",
    "         Occupancy_Requirement string,\n",
    "         Hours_of_Operation string,\n",
    "         Segment_Opening_Date string,\n",
    "         Comments string,\n",
    "         Shape_Length int\n",
    ") ROW FORMAT DELIMITED FIELDS TERMINATED BY ',' LINES TERMINATED BY '\\\\n' LOCATION '{}'\n",
    "TBLPROPERTIES ('skip.header.line.count'='1')\"\"\".format(\n",
    "    database_name, HOV_table, s3_path_HOV\n",
    ")\n",
    "\n",
    "pd.read_sql(statement2, conn)"
   ]
  },
  {
   "cell_type": "code",
   "execution_count": 22,
   "id": "14f7b314-1214-42a1-be44-0b9e354a0016",
   "metadata": {
    "tags": []
   },
   "outputs": [
    {
     "data": {
      "text/html": [
       "<div>\n",
       "<style scoped>\n",
       "    .dataframe tbody tr th:only-of-type {\n",
       "        vertical-align: middle;\n",
       "    }\n",
       "\n",
       "    .dataframe tbody tr th {\n",
       "        vertical-align: top;\n",
       "    }\n",
       "\n",
       "    .dataframe thead th {\n",
       "        text-align: right;\n",
       "    }\n",
       "</style>\n",
       "<table border=\"1\" class=\"dataframe\">\n",
       "  <thead>\n",
       "    <tr style=\"text-align: right;\">\n",
       "      <th></th>\n",
       "    </tr>\n",
       "  </thead>\n",
       "  <tbody>\n",
       "  </tbody>\n",
       "</table>\n",
       "</div>"
      ],
      "text/plain": [
       "Empty DataFrame\n",
       "Columns: []\n",
       "Index: []"
      ]
     },
     "execution_count": 22,
     "metadata": {},
     "output_type": "execute_result"
    }
   ],
   "source": [
    "statement3 = \"\"\"CREATE EXTERNAL TABLE IF NOT EXISTS {}.{}(\n",
    "         OBJECTID int,\n",
    "         District int,\n",
    "         Route int,       \n",
    "         RTE_SFX string,      \n",
    "         COUNTY string,\n",
    "         PM_PFX string, \n",
    "         PM int,\n",
    "         PM_SFX string,\n",
    "         DESCRIPTION string,\n",
    "         BACK_PEAK_HOUR int,\n",
    "         BACK_PEAK_MADT int,\n",
    "         BACK_AADT int,\n",
    "         AHEAD_PEAK_HOUR int,\n",
    "         AHEAD_PEAK_MADT int,\n",
    "         AHEAD_AADT int   \n",
    ") ROW FORMAT DELIMITED FIELDS TERMINATED BY ',' LINES TERMINATED BY '\\\\n' LOCATION '{}'\n",
    "TBLPROPERTIES ('skip.header.line.count'='1')\"\"\".format(\n",
    "    database_name, vol_table, s3_path_vol\n",
    ")\n",
    "\n",
    "pd.read_sql(statement3, conn)"
   ]
  },
  {
   "cell_type": "code",
   "execution_count": 23,
   "id": "a1163945-2093-47b0-99eb-c4e2b6970f7d",
   "metadata": {
    "tags": []
   },
   "outputs": [
    {
     "data": {
      "text/html": [
       "<div>\n",
       "<style scoped>\n",
       "    .dataframe tbody tr th:only-of-type {\n",
       "        vertical-align: middle;\n",
       "    }\n",
       "\n",
       "    .dataframe tbody tr th {\n",
       "        vertical-align: top;\n",
       "    }\n",
       "\n",
       "    .dataframe thead th {\n",
       "        text-align: right;\n",
       "    }\n",
       "</style>\n",
       "<table border=\"1\" class=\"dataframe\">\n",
       "  <thead>\n",
       "    <tr style=\"text-align: right;\">\n",
       "      <th></th>\n",
       "      <th>tab_name</th>\n",
       "    </tr>\n",
       "  </thead>\n",
       "  <tbody>\n",
       "    <tr>\n",
       "      <th>0</th>\n",
       "      <td>ex_ln</td>\n",
       "    </tr>\n",
       "    <tr>\n",
       "      <th>1</th>\n",
       "      <td>hov</td>\n",
       "    </tr>\n",
       "    <tr>\n",
       "      <th>2</th>\n",
       "      <td>traffic_volumes_aadt</td>\n",
       "    </tr>\n",
       "    <tr>\n",
       "      <th>3</th>\n",
       "      <td>vol</td>\n",
       "    </tr>\n",
       "  </tbody>\n",
       "</table>\n",
       "</div>"
      ],
      "text/plain": [
       "               tab_name\n",
       "0                 ex_ln\n",
       "1                   hov\n",
       "2  traffic_volumes_aadt\n",
       "3                   vol"
      ]
     },
     "execution_count": 23,
     "metadata": {},
     "output_type": "execute_result"
    }
   ],
   "source": [
    "statement = \"SHOW TABLES in {}\".format(database_name)\n",
    "\n",
    "df_show = pd.read_sql(statement, conn)\n",
    "df_show.head(5)"
   ]
  },
  {
   "cell_type": "markdown",
   "id": "1b28afb7-8f04-48c1-8978-a8b8fdca4e4a",
   "metadata": {},
   "source": [
    "# Ex_Ln Table:"
   ]
  },
  {
   "cell_type": "code",
   "execution_count": 24,
   "id": "dea5c3a9-661d-424d-9a95-f7deb8005b18",
   "metadata": {
    "tags": []
   },
   "outputs": [
    {
     "name": "stdout",
     "output_type": "stream",
     "text": [
      "<class 'pandas.core.frame.DataFrame'>\n",
      "RangeIndex: 27 entries, 0 to 26\n",
      "Data columns (total 17 columns):\n",
      " #   Column                           Non-Null Count  Dtype  \n",
      "---  ------                           --------------  -----  \n",
      " 0   OBJECTID                         27 non-null     int64  \n",
      " 1   District                         27 non-null     int64  \n",
      " 2   Route                            27 non-null     object \n",
      " 3   Direction                        27 non-null     object \n",
      " 4   Begin_County                     27 non-null     object \n",
      " 5   Begin_Post_Mile                  27 non-null     object \n",
      " 6   End_County                       27 non-null     object \n",
      " 7   End_Post_Mile                    27 non-null     object \n",
      " 8   Begin_Abs_Post_Mile              27 non-null     float64\n",
      " 9   End_Abs_Post_Mile                27 non-null     float64\n",
      " 10  Description                      27 non-null     object \n",
      " 11  Length__Lane_Miles_              27 non-null     float64\n",
      " 12  Opening_Date                     27 non-null     object \n",
      " 13  Occupancy_Requirement_for_Toll_  27 non-null     object \n",
      " 14  Hours_of_Operation               27 non-null     object \n",
      " 15  Comments                         26 non-null     object \n",
      " 16  Shape_Length                     27 non-null     float64\n",
      "dtypes: float64(4), int64(2), object(11)\n",
      "memory usage: 3.7+ KB\n"
     ]
    },
    {
     "data": {
      "text/html": [
       "<div>\n",
       "<style scoped>\n",
       "    .dataframe tbody tr th:only-of-type {\n",
       "        vertical-align: middle;\n",
       "    }\n",
       "\n",
       "    .dataframe tbody tr th {\n",
       "        vertical-align: top;\n",
       "    }\n",
       "\n",
       "    .dataframe thead th {\n",
       "        text-align: right;\n",
       "    }\n",
       "</style>\n",
       "<table border=\"1\" class=\"dataframe\">\n",
       "  <thead>\n",
       "    <tr style=\"text-align: right;\">\n",
       "      <th></th>\n",
       "      <th>OBJECTID</th>\n",
       "      <th>District</th>\n",
       "      <th>Route</th>\n",
       "      <th>Direction</th>\n",
       "      <th>Begin_County</th>\n",
       "      <th>Begin_Post_Mile</th>\n",
       "      <th>End_County</th>\n",
       "      <th>End_Post_Mile</th>\n",
       "      <th>Begin_Abs_Post_Mile</th>\n",
       "      <th>End_Abs_Post_Mile</th>\n",
       "      <th>Description</th>\n",
       "      <th>Length__Lane_Miles_</th>\n",
       "      <th>Opening_Date</th>\n",
       "      <th>Occupancy_Requirement_for_Toll_</th>\n",
       "      <th>Hours_of_Operation</th>\n",
       "      <th>Comments</th>\n",
       "      <th>Shape_Length</th>\n",
       "    </tr>\n",
       "  </thead>\n",
       "  <tbody>\n",
       "    <tr>\n",
       "      <th>0</th>\n",
       "      <td>1</td>\n",
       "      <td>4</td>\n",
       "      <td>237</td>\n",
       "      <td>EB</td>\n",
       "      <td>SCL</td>\n",
       "      <td>R3.343</td>\n",
       "      <td>SCL</td>\n",
       "      <td>R9.164R</td>\n",
       "      <td>3.400</td>\n",
       "      <td>9.216</td>\n",
       "      <td>Mathilda Avenue to I-880</td>\n",
       "      <td>7.316</td>\n",
       "      <td>Mathilda Ave. to Zanker Rd. - 11/15/2019; Zank...</td>\n",
       "      <td>3+</td>\n",
       "      <td>M-F; 05:00-20:00</td>\n",
       "      <td>Conversion from HOV to Express Lane. ; Mileage...</td>\n",
       "      <td>11502.249796</td>\n",
       "    </tr>\n",
       "    <tr>\n",
       "      <th>1</th>\n",
       "      <td>2</td>\n",
       "      <td>4</td>\n",
       "      <td>580</td>\n",
       "      <td>EB</td>\n",
       "      <td>ALA</td>\n",
       "      <td>18.913</td>\n",
       "      <td>ALA</td>\n",
       "      <td>R8.762</td>\n",
       "      <td>35.097</td>\n",
       "      <td>24.916</td>\n",
       "      <td>Hacienda Rd to Greenville Rd</td>\n",
       "      <td>17.041</td>\n",
       "      <td>2/19/2016</td>\n",
       "      <td>2+</td>\n",
       "      <td>M-F; 05:00-20:00</td>\n",
       "      <td>Converted from HOV lane. Includes dual lane se...</td>\n",
       "      <td>20683.777789</td>\n",
       "    </tr>\n",
       "    <tr>\n",
       "      <th>2</th>\n",
       "      <td>3</td>\n",
       "      <td>7</td>\n",
       "      <td>10S</td>\n",
       "      <td>EB</td>\n",
       "      <td>LA</td>\n",
       "      <td>16.968</td>\n",
       "      <td>LA</td>\n",
       "      <td>27.96</td>\n",
       "      <td>0.000</td>\n",
       "      <td>10.992</td>\n",
       "      <td>Alameda St to Baldwin Ave</td>\n",
       "      <td>17.022</td>\n",
       "      <td>Alameda St to Mission Rd - Apr 1990; Mission R...</td>\n",
       "      <td>3+ 5:00-9:00 am M-F; 3+ 4:00-7:00 pm M-F; 2+ A...</td>\n",
       "      <td>24 hrs</td>\n",
       "      <td>Mileage includes dual lane segment from PM 22....</td>\n",
       "      <td>21359.741104</td>\n",
       "    </tr>\n",
       "    <tr>\n",
       "      <th>3</th>\n",
       "      <td>4</td>\n",
       "      <td>7</td>\n",
       "      <td>10</td>\n",
       "      <td>EB</td>\n",
       "      <td>LA</td>\n",
       "      <td>27.963</td>\n",
       "      <td>LA</td>\n",
       "      <td>30.995</td>\n",
       "      <td>26.463</td>\n",
       "      <td>29.495</td>\n",
       "      <td>Baldwin Ave to I-605</td>\n",
       "      <td>5.273</td>\n",
       "      <td>Baldwin Ave to Rte 605 � Feb 2005; Converted t...</td>\n",
       "      <td>3+ 5:00-9:00 am M-F; 3+ 4:00-7:00 pm M-F; 2+ A...</td>\n",
       "      <td>24 hrs</td>\n",
       "      <td>Mileage includes dual lane segment from PM 27....</td>\n",
       "      <td>5877.568529</td>\n",
       "    </tr>\n",
       "    <tr>\n",
       "      <th>4</th>\n",
       "      <td>5</td>\n",
       "      <td>8</td>\n",
       "      <td>91</td>\n",
       "      <td>EB</td>\n",
       "      <td>RIV</td>\n",
       "      <td>R0.000</td>\n",
       "      <td>RIV</td>\n",
       "      <td>7.514</td>\n",
       "      <td>37.232</td>\n",
       "      <td>44.858</td>\n",
       "      <td>Orange County Line to I-15</td>\n",
       "      <td>16.524</td>\n",
       "      <td>Converted from single lane HOV lane to dual Ex...</td>\n",
       "      <td>3+; (Pay 50% discounted toll Monday thru Frida...</td>\n",
       "      <td>24 hrs</td>\n",
       "      <td>; Dual lane facility from PM R0.000 to PM 6.41...</td>\n",
       "      <td>14765.391421</td>\n",
       "    </tr>\n",
       "  </tbody>\n",
       "</table>\n",
       "</div>"
      ],
      "text/plain": [
       "   OBJECTID  District Route Direction Begin_County Begin_Post_Mile End_County  \\\n",
       "0         1         4   237        EB          SCL          R3.343        SCL   \n",
       "1         2         4   580        EB          ALA          18.913        ALA   \n",
       "2         3         7   10S        EB           LA          16.968         LA   \n",
       "3         4         7    10        EB           LA          27.963         LA   \n",
       "4         5         8    91        EB          RIV          R0.000        RIV   \n",
       "\n",
       "  End_Post_Mile  Begin_Abs_Post_Mile  End_Abs_Post_Mile  \\\n",
       "0       R9.164R                3.400              9.216   \n",
       "1        R8.762               35.097             24.916   \n",
       "2         27.96                0.000             10.992   \n",
       "3        30.995               26.463             29.495   \n",
       "4         7.514               37.232             44.858   \n",
       "\n",
       "                    Description  Length__Lane_Miles_  \\\n",
       "0      Mathilda Avenue to I-880                7.316   \n",
       "1  Hacienda Rd to Greenville Rd               17.041   \n",
       "2     Alameda St to Baldwin Ave               17.022   \n",
       "3          Baldwin Ave to I-605                5.273   \n",
       "4    Orange County Line to I-15               16.524   \n",
       "\n",
       "                                        Opening_Date  \\\n",
       "0  Mathilda Ave. to Zanker Rd. - 11/15/2019; Zank...   \n",
       "1                                          2/19/2016   \n",
       "2  Alameda St to Mission Rd - Apr 1990; Mission R...   \n",
       "3  Baldwin Ave to Rte 605 � Feb 2005; Converted t...   \n",
       "4  Converted from single lane HOV lane to dual Ex...   \n",
       "\n",
       "                     Occupancy_Requirement_for_Toll_ Hours_of_Operation  \\\n",
       "0                                                 3+   M-F; 05:00-20:00   \n",
       "1                                                 2+   M-F; 05:00-20:00   \n",
       "2  3+ 5:00-9:00 am M-F; 3+ 4:00-7:00 pm M-F; 2+ A...             24 hrs   \n",
       "3  3+ 5:00-9:00 am M-F; 3+ 4:00-7:00 pm M-F; 2+ A...             24 hrs   \n",
       "4  3+; (Pay 50% discounted toll Monday thru Frida...             24 hrs   \n",
       "\n",
       "                                            Comments  Shape_Length  \n",
       "0  Conversion from HOV to Express Lane. ; Mileage...  11502.249796  \n",
       "1  Converted from HOV lane. Includes dual lane se...  20683.777789  \n",
       "2  Mileage includes dual lane segment from PM 22....  21359.741104  \n",
       "3  Mileage includes dual lane segment from PM 27....   5877.568529  \n",
       "4  ; Dual lane facility from PM R0.000 to PM 6.41...  14765.391421  "
      ]
     },
     "execution_count": 24,
     "metadata": {},
     "output_type": "execute_result"
    }
   ],
   "source": [
    "Ex_Ln_df = pd.read_csv(s3_path_Ex_Ln)\n",
    "Ex_Ln_df.info()\n",
    "Ex_Ln_df.head(5)"
   ]
  },
  {
   "cell_type": "code",
   "execution_count": 25,
   "id": "f57a5890-e202-4fc3-9bfb-be71d6411dac",
   "metadata": {
    "tags": []
   },
   "outputs": [
    {
     "data": {
      "image/png": "[encoded data removed]",
      "text/plain": [
       "<Figure size 640x480 with 4 Axes>"
      ]
     },
     "metadata": {},
     "output_type": "display_data"
    }
   ],
   "source": [
    "n_bins = 10\n",
    "fig, ((ax0, ax1), (ax2, ax3)) = plt.subplots(nrows=2, ncols=2)\n",
    "\n",
    "ax0.hist(Ex_Ln_df['District'], n_bins, density=True, histtype='bar', stacked = True)\n",
    "ax0.set_title('District')\n",
    "\n",
    "ax1.hist(Ex_Ln_df['Begin_Abs_Post_Mile'], n_bins, density=True, histtype='bar', stacked=True)\n",
    "ax1.set_title('Begin_Abs_Post_Mile')\n",
    "\n",
    "ax2.hist(Ex_Ln_df['End_Abs_Post_Mile'], n_bins, histtype='bar', stacked=True)\n",
    "ax2.set_title('End_Abs_Post_Mile')\n",
    "\n",
    "ax3.hist(Ex_Ln_df['Length__Lane_Miles_'], n_bins, histtype='bar', stacked=True)\n",
    "ax3.set_title('Day Length__Lane_Miles_')\n",
    "\n",
    "\n",
    "fig.tight_layout()\n",
    "plt.show()"
   ]
  },
  {
   "cell_type": "code",
   "execution_count": 26,
   "id": "f87c7384-2cba-4725-b3a4-ca5d12065e15",
   "metadata": {
    "tags": []
   },
   "outputs": [
    {
     "data": {
      "image/png": "[encoded data removed]",
      "text/plain": [
       "<Figure size 1274.24x600 with 1 Axes>"
      ]
     },
     "metadata": {},
     "output_type": "display_data"
    }
   ],
   "source": [
    "# Create a grouped bar chart using seaborn\n",
    "sns.set_style(\"whitegrid\")\n",
    "sns.set_palette(\"husl\", 2)\n",
    "ax = sns.catplot(x='Route', y='Length__Lane_Miles_', hue='Direction', \n",
    "                 kind='bar', data=Ex_Ln_df, height = 6, aspect=2)\n",
    "\n",
    "# Set the axis labels and title\n",
    "ax.set_xlabels('Freeway Route Number')\n",
    "ax.set_ylabels('Freeway Length (Miles)')\n",
    "ax.set(title='Freeway Length by Route Number and Direction')\n",
    "\n",
    "# Show the plot\n",
    "plt.show()"
   ]
  },
  {
   "cell_type": "code",
   "execution_count": 27,
   "id": "a4fe2cb2-ea54-4cfa-9fac-fd2e2d81191c",
   "metadata": {
    "tags": []
   },
   "outputs": [
    {
     "data": {
      "image/png": "[encoded data removed]",
      "text/plain": [
       "<Figure size 1000x700 with 1 Axes>"
      ]
     },
     "metadata": {},
     "output_type": "display_data"
    }
   ],
   "source": [
    "# Group the data by county and sum the lane miles\n",
    "grouped_data = Ex_Ln_df.groupby(['Begin_County', 'End_County']).agg({'Length__Lane_Miles_': 'sum'}).reset_index()\n",
    "\n",
    "# Create a horizontal bar chart\n",
    "fig, ax = plt.subplots(figsize=(10, 7))\n",
    "bars = ax.barh(y=grouped_data['Begin_County'] + ' - ' + grouped_data['End_County'], width=grouped_data['Length__Lane_Miles_'], color='navy')\n",
    "\n",
    "# Set the axis labels and title\n",
    "ax.set_xlabel('Lane Miles')\n",
    "ax.set_ylabel('County Range')\n",
    "ax.set_title('Total Lane Miles by County Range')\n",
    "\n",
    "# Add labels to the bars\n",
    "for i, bar in enumerate(bars):\n",
    "    value = bar.get_width()\n",
    "    x_pos = value + 5\n",
    "    y_pos = i\n",
    "    ax.text(x_pos, y_pos, str(round(value)), va='center')\n",
    "\n",
    "# Show the plot\n",
    "plt.show()"
   ]
  },
  {
   "cell_type": "markdown",
   "id": "f90a5c9d-c8d5-4254-820c-912c6d5decf1",
   "metadata": {},
   "source": [
    "# HOV Dataset:"
   ]
  },
  {
   "cell_type": "code",
   "execution_count": 28,
   "id": "9b04dcf6-9fc3-4cae-8b01-dcc8ab86ec4c",
   "metadata": {
    "tags": []
   },
   "outputs": [
    {
     "name": "stdout",
     "output_type": "stream",
     "text": [
      "<class 'pandas.core.frame.DataFrame'>\n",
      "RangeIndex: 109 entries, 0 to 108\n",
      "Data columns (total 17 columns):\n",
      " #   Column                 Non-Null Count  Dtype  \n",
      "---  ------                 --------------  -----  \n",
      " 0   OBJECTID               109 non-null    int64  \n",
      " 1   District               109 non-null    int64  \n",
      " 2   Route                  109 non-null    object \n",
      " 3   Direction              109 non-null    object \n",
      " 4   Begin_County           109 non-null    object \n",
      " 5   Begin_Post_Mile        109 non-null    object \n",
      " 6   End_County             109 non-null    object \n",
      " 7   End_Post_Mile          109 non-null    object \n",
      " 8   Begin_Abs_Post_Mile    106 non-null    float64\n",
      " 9   End_Abs_Post_Mile      106 non-null    float64\n",
      " 10  Description            109 non-null    object \n",
      " 11  Length__Lane_Miles_    109 non-null    float64\n",
      " 12  Occupancy_Requirement  109 non-null    object \n",
      " 13  Hours_of_Operation     109 non-null    object \n",
      " 14  Segment_Opening_Date   105 non-null    object \n",
      " 15  Comments               83 non-null     object \n",
      " 16  Shape_Length           109 non-null    float64\n",
      "dtypes: float64(4), int64(2), object(11)\n",
      "memory usage: 14.6+ KB\n"
     ]
    },
    {
     "data": {
      "text/html": [
       "<div>\n",
       "<style scoped>\n",
       "    .dataframe tbody tr th:only-of-type {\n",
       "        vertical-align: middle;\n",
       "    }\n",
       "\n",
       "    .dataframe tbody tr th {\n",
       "        vertical-align: top;\n",
       "    }\n",
       "\n",
       "    .dataframe thead th {\n",
       "        text-align: right;\n",
       "    }\n",
       "</style>\n",
       "<table border=\"1\" class=\"dataframe\">\n",
       "  <thead>\n",
       "    <tr style=\"text-align: right;\">\n",
       "      <th></th>\n",
       "      <th>OBJECTID</th>\n",
       "      <th>District</th>\n",
       "      <th>Route</th>\n",
       "      <th>Direction</th>\n",
       "      <th>Begin_County</th>\n",
       "      <th>Begin_Post_Mile</th>\n",
       "      <th>End_County</th>\n",
       "      <th>End_Post_Mile</th>\n",
       "      <th>Begin_Abs_Post_Mile</th>\n",
       "      <th>End_Abs_Post_Mile</th>\n",
       "      <th>Description</th>\n",
       "      <th>Length__Lane_Miles_</th>\n",
       "      <th>Occupancy_Requirement</th>\n",
       "      <th>Hours_of_Operation</th>\n",
       "      <th>Segment_Opening_Date</th>\n",
       "      <th>Comments</th>\n",
       "      <th>Shape_Length</th>\n",
       "    </tr>\n",
       "  </thead>\n",
       "  <tbody>\n",
       "    <tr>\n",
       "      <th>0</th>\n",
       "      <td>1</td>\n",
       "      <td>3</td>\n",
       "      <td>50</td>\n",
       "      <td>EB</td>\n",
       "      <td>SAC</td>\n",
       "      <td>R5.371</td>\n",
       "      <td>ED</td>\n",
       "      <td>5.834</td>\n",
       "      <td>11.005</td>\n",
       "      <td>34.632</td>\n",
       "      <td>Watt Ave to Cameron Park Dr</td>\n",
       "      <td>23.627</td>\n",
       "      <td>2+</td>\n",
       "      <td>M-F 06:00-10:00 and 15:00-19:00</td>\n",
       "      <td>Watt Ave to Sunrise Blvd - Dec 2011; Sunrise B...</td>\n",
       "      <td>NaN</td>\n",
       "      <td>48659.155980</td>\n",
       "    </tr>\n",
       "    <tr>\n",
       "      <th>1</th>\n",
       "      <td>2</td>\n",
       "      <td>3</td>\n",
       "      <td>80</td>\n",
       "      <td>EB</td>\n",
       "      <td>SAC</td>\n",
       "      <td>M0.767</td>\n",
       "      <td>PLA</td>\n",
       "      <td>4.718</td>\n",
       "      <td>84.691</td>\n",
       "      <td>106.237</td>\n",
       "      <td>West El Camino Ave to SR-65</td>\n",
       "      <td>21.546</td>\n",
       "      <td>2+</td>\n",
       "      <td>M-F 06:00-10:00 and 15:00-19:00</td>\n",
       "      <td>Yolo Co Line to Longview Dr - Dec 2016; Longvi...</td>\n",
       "      <td>NaN</td>\n",
       "      <td>44432.185806</td>\n",
       "    </tr>\n",
       "    <tr>\n",
       "      <th>2</th>\n",
       "      <td>3</td>\n",
       "      <td>4</td>\n",
       "      <td>80</td>\n",
       "      <td>EB</td>\n",
       "      <td>SOL</td>\n",
       "      <td>0.504</td>\n",
       "      <td>SOL</td>\n",
       "      <td>0.673</td>\n",
       "      <td>27.995</td>\n",
       "      <td>28.164</td>\n",
       "      <td>Carquinez Bridge Toll Plaza</td>\n",
       "      <td>0.255</td>\n",
       "      <td>3+</td>\n",
       "      <td>M-F 05:00-10:00 and 15:00-19:00</td>\n",
       "      <td>Opened; W/O Toll Plaza to E/O Toll Plaza, 07/3...</td>\n",
       "      <td>2-Seat Vehicles with 2 Persons Permitted; Toll...</td>\n",
       "      <td>348.131415</td>\n",
       "    </tr>\n",
       "    <tr>\n",
       "      <th>3</th>\n",
       "      <td>4</td>\n",
       "      <td>4</td>\n",
       "      <td>80</td>\n",
       "      <td>EB</td>\n",
       "      <td>SOL</td>\n",
       "      <td>R11.485</td>\n",
       "      <td>SOL</td>\n",
       "      <td>19.594</td>\n",
       "      <td>38.976</td>\n",
       "      <td>47.096</td>\n",
       "      <td>Red Top Road to Air Base Pkwy</td>\n",
       "      <td>8.120</td>\n",
       "      <td>2+</td>\n",
       "      <td>M-F 05:00-10:00 and 15:00-19:00</td>\n",
       "      <td>Opened; Red Top Road to E/O Air Base Pkwy., 11...</td>\n",
       "      <td>NaN</td>\n",
       "      <td>16660.846138</td>\n",
       "    </tr>\n",
       "    <tr>\n",
       "      <th>4</th>\n",
       "      <td>5</td>\n",
       "      <td>7</td>\n",
       "      <td>10</td>\n",
       "      <td>EB</td>\n",
       "      <td>LA</td>\n",
       "      <td>30.995</td>\n",
       "      <td>LA</td>\n",
       "      <td>48.265</td>\n",
       "      <td>29.495</td>\n",
       "      <td>46.765</td>\n",
       "      <td>I-605 to San Bernardino County Line</td>\n",
       "      <td>17.270</td>\n",
       "      <td>2+</td>\n",
       "      <td>24 Hr</td>\n",
       "      <td>Rte 605 to 0.6 mi west of Puente Ave (Francisq...</td>\n",
       "      <td>Continues into San Bernardino County</td>\n",
       "      <td>33527.727027</td>\n",
       "    </tr>\n",
       "  </tbody>\n",
       "</table>\n",
       "</div>"
      ],
      "text/plain": [
       "   OBJECTID  District Route Direction Begin_County Begin_Post_Mile End_County  \\\n",
       "0         1         3    50        EB          SAC          R5.371         ED   \n",
       "1         2         3    80        EB          SAC          M0.767        PLA   \n",
       "2         3         4    80        EB          SOL           0.504        SOL   \n",
       "3         4         4    80        EB          SOL         R11.485        SOL   \n",
       "4         5         7    10        EB           LA          30.995         LA   \n",
       "\n",
       "  End_Post_Mile  Begin_Abs_Post_Mile  End_Abs_Post_Mile  \\\n",
       "0         5.834               11.005             34.632   \n",
       "1         4.718               84.691            106.237   \n",
       "2         0.673               27.995             28.164   \n",
       "3        19.594               38.976             47.096   \n",
       "4        48.265               29.495             46.765   \n",
       "\n",
       "                           Description  Length__Lane_Miles_  \\\n",
       "0          Watt Ave to Cameron Park Dr               23.627   \n",
       "1          West El Camino Ave to SR-65               21.546   \n",
       "2          Carquinez Bridge Toll Plaza                0.255   \n",
       "3        Red Top Road to Air Base Pkwy                8.120   \n",
       "4  I-605 to San Bernardino County Line               17.270   \n",
       "\n",
       "  Occupancy_Requirement               Hours_of_Operation  \\\n",
       "0                    2+  M-F 06:00-10:00 and 15:00-19:00   \n",
       "1                    2+  M-F 06:00-10:00 and 15:00-19:00   \n",
       "2                    3+  M-F 05:00-10:00 and 15:00-19:00   \n",
       "3                    2+  M-F 05:00-10:00 and 15:00-19:00   \n",
       "4                    2+                            24 Hr   \n",
       "\n",
       "                                Segment_Opening_Date  \\\n",
       "0  Watt Ave to Sunrise Blvd - Dec 2011; Sunrise B...   \n",
       "1  Yolo Co Line to Longview Dr - Dec 2016; Longvi...   \n",
       "2  Opened; W/O Toll Plaza to E/O Toll Plaza, 07/3...   \n",
       "3  Opened; Red Top Road to E/O Air Base Pkwy., 11...   \n",
       "4  Rte 605 to 0.6 mi west of Puente Ave (Francisq...   \n",
       "\n",
       "                                            Comments  Shape_Length  \n",
       "0                                                NaN  48659.155980  \n",
       "1                                                NaN  44432.185806  \n",
       "2  2-Seat Vehicles with 2 Persons Permitted; Toll...    348.131415  \n",
       "3                                                NaN  16660.846138  \n",
       "4               Continues into San Bernardino County  33527.727027  "
      ]
     },
     "execution_count": 28,
     "metadata": {},
     "output_type": "execute_result"
    }
   ],
   "source": [
    "HOV_df = pd.read_csv(s3_path_HOV)\n",
    "HOV_df.info()\n",
    "HOV_df.head(5)"
   ]
  },
  {
   "cell_type": "code",
   "execution_count": 29,
   "id": "ef7d1331-66b0-4a12-8c91-093beae3cf56",
   "metadata": {
    "tags": []
   },
   "outputs": [
    {
     "data": {
      "image/png": "[encoded data removed]",
      "text/plain": [
       "<Figure size 640x480 with 4 Axes>"
      ]
     },
     "metadata": {},
     "output_type": "display_data"
    }
   ],
   "source": [
    "n_bins = 10\n",
    "fig, ((ax0, ax1), (ax2, ax3)) = plt.subplots(nrows=2, ncols=2)\n",
    "\n",
    "ax0.hist(HOV_df['District'], n_bins, density=True, histtype='bar', stacked = True)\n",
    "ax0.set_title('District')\n",
    "\n",
    "ax1.hist(HOV_df['Begin_Abs_Post_Mile'], n_bins, density=True, histtype='bar', stacked=True)\n",
    "ax1.set_title('Begin_Abs_Post_Mile')\n",
    "\n",
    "ax2.hist(HOV_df['End_Abs_Post_Mile'], n_bins, histtype='bar', stacked=True)\n",
    "ax2.set_title('End_Abs_Post_Mile')\n",
    "\n",
    "ax3.hist(HOV_df['Length__Lane_Miles_'], n_bins, histtype='bar', stacked=True)\n",
    "ax3.set_title('Day Length__Lane_Miles_')\n",
    "\n",
    "fig.tight_layout()\n",
    "plt.show()"
   ]
  },
  {
   "cell_type": "code",
   "execution_count": 30,
   "id": "9d5eb0ef-870c-4427-bf9d-fd0ab49decfc",
   "metadata": {
    "tags": []
   },
   "outputs": [
    {
     "data": {
      "image/png": "[encoded data removed]",
      "text/plain": [
       "<Figure size 1474.24x700 with 1 Axes>"
      ]
     },
     "metadata": {},
     "output_type": "display_data"
    }
   ],
   "source": [
    "# Create a grouped bar chart using seaborn\n",
    "sns.set_style(\"whitegrid\")\n",
    "sns.set_palette(\"husl\", 2)\n",
    "ax = sns.catplot(x='Route', y='Length__Lane_Miles_', hue='Direction', \n",
    "                 kind='bar', data=HOV_df, height = 7, aspect=2)\n",
    "\n",
    "# Set the axis labels and title\n",
    "ax.set_xlabels('Freeway Route Number')\n",
    "ax.set_ylabels('Freeway Length (Miles)')\n",
    "ax.set(title='Freeway Length by Route Number and Direction')\n",
    "\n",
    "# Show the plot\n",
    "plt.show()"
   ]
  },
  {
   "cell_type": "code",
   "execution_count": 31,
   "id": "926cefde-a51d-4449-802b-45908308c3f9",
   "metadata": {
    "tags": []
   },
   "outputs": [
    {
     "data": {
      "image/png": "[encoded data removed]",
      "text/plain": [
       "<Figure size 1000x700 with 1 Axes>"
      ]
     },
     "metadata": {},
     "output_type": "display_data"
    }
   ],
   "source": [
    "# Group the data by county and sum the lane miles\n",
    "grouped_data = HOV_df.groupby(['Begin_County', 'End_County']).agg({'Length__Lane_Miles_': 'sum'}).reset_index()\n",
    "\n",
    "# Create a horizontal bar chart\n",
    "fig, ax = plt.subplots(figsize=(10, 7))\n",
    "bars = ax.barh(y=grouped_data['Begin_County'] + ' - ' + grouped_data['End_County'], width=grouped_data['Length__Lane_Miles_'], color='navy')\n",
    "\n",
    "# Set the axis labels and title\n",
    "ax.set_xlabel('Lane Miles')\n",
    "ax.set_ylabel('County Range')\n",
    "ax.set_title('Total Lane Miles by County Range')\n",
    "\n",
    "# Add labels to the bars\n",
    "for i, bar in enumerate(bars):\n",
    "    value = bar.get_width()\n",
    "    x_pos = value + 5\n",
    "    y_pos = i\n",
    "    ax.text(x_pos, y_pos, str(round(value)), va='center')\n",
    "\n",
    "# Show the plot\n",
    "plt.show()"
   ]
  },
  {
   "cell_type": "markdown",
   "id": "2c1455b8-5eca-450e-87ad-7c5ccc1ccb48",
   "metadata": {},
   "source": [
    "# Traffic Volumes_AADT table:"
   ]
  },
  {
   "cell_type": "code",
   "execution_count": 32,
   "id": "bb7ef4d5-a674-4b9b-8856-3446f216ca36",
   "metadata": {
    "tags": []
   },
   "outputs": [
    {
     "name": "stdout",
     "output_type": "stream",
     "text": [
      "<class 'pandas.core.frame.DataFrame'>\n",
      "RangeIndex: 7114 entries, 0 to 7113\n",
      "Data columns (total 15 columns):\n",
      " #   Column           Non-Null Count  Dtype  \n",
      "---  ------           --------------  -----  \n",
      " 0   OBJECTID         7114 non-null   int64  \n",
      " 1   DISTRICT         7113 non-null   float64\n",
      " 2   ROUTE            7114 non-null   int64  \n",
      " 3   RTE_SFX          42 non-null     object \n",
      " 4   COUNTY           7114 non-null   object \n",
      " 5   PM_PFX           2367 non-null   object \n",
      " 6   PM               7114 non-null   float64\n",
      " 7   PM_SFX           369 non-null    object \n",
      " 8   DESCRIPTION      7114 non-null   object \n",
      " 9   BACK_PEAK_HOUR   6471 non-null   float64\n",
      " 10  BACK_PEAK_MADT   6471 non-null   float64\n",
      " 11  BACK_AADT        6471 non-null   float64\n",
      " 12  AHEAD_PEAK_HOUR  6483 non-null   float64\n",
      " 13  AHEAD_PEAK_MADT  6483 non-null   float64\n",
      " 14  AHEAD_AADT       6483 non-null   float64\n",
      "dtypes: float64(8), int64(2), object(5)\n",
      "memory usage: 833.8+ KB\n"
     ]
    },
    {
     "data": {
      "text/html": [
       "<div>\n",
       "<style scoped>\n",
       "    .dataframe tbody tr th:only-of-type {\n",
       "        vertical-align: middle;\n",
       "    }\n",
       "\n",
       "    .dataframe tbody tr th {\n",
       "        vertical-align: top;\n",
       "    }\n",
       "\n",
       "    .dataframe thead th {\n",
       "        text-align: right;\n",
       "    }\n",
       "</style>\n",
       "<table border=\"1\" class=\"dataframe\">\n",
       "  <thead>\n",
       "    <tr style=\"text-align: right;\">\n",
       "      <th></th>\n",
       "      <th>OBJECTID</th>\n",
       "      <th>DISTRICT</th>\n",
       "      <th>ROUTE</th>\n",
       "      <th>RTE_SFX</th>\n",
       "      <th>COUNTY</th>\n",
       "      <th>PM_PFX</th>\n",
       "      <th>PM</th>\n",
       "      <th>PM_SFX</th>\n",
       "      <th>DESCRIPTION</th>\n",
       "      <th>BACK_PEAK_HOUR</th>\n",
       "      <th>BACK_PEAK_MADT</th>\n",
       "      <th>BACK_AADT</th>\n",
       "      <th>AHEAD_PEAK_HOUR</th>\n",
       "      <th>AHEAD_PEAK_MADT</th>\n",
       "      <th>AHEAD_AADT</th>\n",
       "    </tr>\n",
       "  </thead>\n",
       "  <tbody>\n",
       "    <tr>\n",
       "      <th>0</th>\n",
       "      <td>1</td>\n",
       "      <td>12.0</td>\n",
       "      <td>1</td>\n",
       "      <td>NaN</td>\n",
       "      <td>ORA</td>\n",
       "      <td>R</td>\n",
       "      <td>0.129</td>\n",
       "      <td>NaN</td>\n",
       "      <td>DANA POINT, JCT. RTE. 5</td>\n",
       "      <td>NaN</td>\n",
       "      <td>NaN</td>\n",
       "      <td>NaN</td>\n",
       "      <td>4250.0</td>\n",
       "      <td>42000.0</td>\n",
       "      <td>38250.0</td>\n",
       "    </tr>\n",
       "    <tr>\n",
       "      <th>1</th>\n",
       "      <td>2</td>\n",
       "      <td>12.0</td>\n",
       "      <td>1</td>\n",
       "      <td>NaN</td>\n",
       "      <td>ORA</td>\n",
       "      <td>R</td>\n",
       "      <td>0.780</td>\n",
       "      <td>NaN</td>\n",
       "      <td>DANA POINT, DOHENY PARK ROAD</td>\n",
       "      <td>4250.0</td>\n",
       "      <td>42000.0</td>\n",
       "      <td>38900.0</td>\n",
       "      <td>4350.0</td>\n",
       "      <td>43500.0</td>\n",
       "      <td>38900.0</td>\n",
       "    </tr>\n",
       "    <tr>\n",
       "      <th>2</th>\n",
       "      <td>3</td>\n",
       "      <td>12.0</td>\n",
       "      <td>1</td>\n",
       "      <td>NaN</td>\n",
       "      <td>ORA</td>\n",
       "      <td>R</td>\n",
       "      <td>1.077</td>\n",
       "      <td>NaN</td>\n",
       "      <td>BREAK IN RTE</td>\n",
       "      <td>NaN</td>\n",
       "      <td>NaN</td>\n",
       "      <td>NaN</td>\n",
       "      <td>NaN</td>\n",
       "      <td>NaN</td>\n",
       "      <td>NaN</td>\n",
       "    </tr>\n",
       "    <tr>\n",
       "      <th>3</th>\n",
       "      <td>4</td>\n",
       "      <td>12.0</td>\n",
       "      <td>1</td>\n",
       "      <td>NaN</td>\n",
       "      <td>ORA</td>\n",
       "      <td>NaN</td>\n",
       "      <td>8.430</td>\n",
       "      <td>NaN</td>\n",
       "      <td>LAGUNA BEACH, MOUNTAIN ROAD</td>\n",
       "      <td>3200.0</td>\n",
       "      <td>40500.0</td>\n",
       "      <td>37900.0</td>\n",
       "      <td>3200.0</td>\n",
       "      <td>40500.0</td>\n",
       "      <td>37900.0</td>\n",
       "    </tr>\n",
       "    <tr>\n",
       "      <th>4</th>\n",
       "      <td>5</td>\n",
       "      <td>12.0</td>\n",
       "      <td>1</td>\n",
       "      <td>NaN</td>\n",
       "      <td>ORA</td>\n",
       "      <td>NaN</td>\n",
       "      <td>9.418</td>\n",
       "      <td>NaN</td>\n",
       "      <td>LAGUNA BEACH, JCT. RTE. 133 NORTH</td>\n",
       "      <td>3400.0</td>\n",
       "      <td>43000.0</td>\n",
       "      <td>38800.0</td>\n",
       "      <td>3850.0</td>\n",
       "      <td>43000.0</td>\n",
       "      <td>38800.0</td>\n",
       "    </tr>\n",
       "  </tbody>\n",
       "</table>\n",
       "</div>"
      ],
      "text/plain": [
       "   OBJECTID  DISTRICT  ROUTE RTE_SFX COUNTY PM_PFX     PM PM_SFX  \\\n",
       "0         1      12.0      1     NaN    ORA      R  0.129    NaN   \n",
       "1         2      12.0      1     NaN    ORA      R  0.780    NaN   \n",
       "2         3      12.0      1     NaN    ORA      R  1.077    NaN   \n",
       "3         4      12.0      1     NaN    ORA    NaN  8.430    NaN   \n",
       "4         5      12.0      1     NaN    ORA    NaN  9.418    NaN   \n",
       "\n",
       "                         DESCRIPTION  BACK_PEAK_HOUR  BACK_PEAK_MADT  \\\n",
       "0            DANA POINT, JCT. RTE. 5             NaN             NaN   \n",
       "1       DANA POINT, DOHENY PARK ROAD          4250.0         42000.0   \n",
       "2                       BREAK IN RTE             NaN             NaN   \n",
       "3        LAGUNA BEACH, MOUNTAIN ROAD          3200.0         40500.0   \n",
       "4  LAGUNA BEACH, JCT. RTE. 133 NORTH          3400.0         43000.0   \n",
       "\n",
       "   BACK_AADT  AHEAD_PEAK_HOUR  AHEAD_PEAK_MADT  AHEAD_AADT  \n",
       "0        NaN           4250.0          42000.0     38250.0  \n",
       "1    38900.0           4350.0          43500.0     38900.0  \n",
       "2        NaN              NaN              NaN         NaN  \n",
       "3    37900.0           3200.0          40500.0     37900.0  \n",
       "4    38800.0           3850.0          43000.0     38800.0  "
      ]
     },
     "execution_count": 32,
     "metadata": {},
     "output_type": "execute_result"
    }
   ],
   "source": [
    "vol_df = pd.read_csv(s3_path_vol)\n",
    "vol_df.info()\n",
    "vol_df.head(5)"
   ]
  },
  {
   "cell_type": "code",
   "execution_count": 33,
   "id": "f465a7fc-fc22-43f4-a321-55fc35a5cca8",
   "metadata": {
    "tags": []
   },
   "outputs": [
    {
     "data": {
      "text/html": [
       "<div>\n",
       "<style scoped>\n",
       "    .dataframe tbody tr th:only-of-type {\n",
       "        vertical-align: middle;\n",
       "    }\n",
       "\n",
       "    .dataframe tbody tr th {\n",
       "        vertical-align: top;\n",
       "    }\n",
       "\n",
       "    .dataframe thead th {\n",
       "        text-align: right;\n",
       "    }\n",
       "</style>\n",
       "<table border=\"1\" class=\"dataframe\">\n",
       "  <thead>\n",
       "    <tr style=\"text-align: right;\">\n",
       "      <th></th>\n",
       "      <th>ROUTE</th>\n",
       "      <th>BACK_PEAK_HOUR</th>\n",
       "      <th>BACK_AADT</th>\n",
       "      <th>Rate</th>\n",
       "    </tr>\n",
       "  </thead>\n",
       "  <tbody>\n",
       "    <tr>\n",
       "      <th>187</th>\n",
       "      <td>220</td>\n",
       "      <td>474.000000</td>\n",
       "      <td>322.000000</td>\n",
       "      <td>147.204969</td>\n",
       "    </tr>\n",
       "    <tr>\n",
       "      <th>178</th>\n",
       "      <td>207</td>\n",
       "      <td>300.000000</td>\n",
       "      <td>740.000000</td>\n",
       "      <td>40.540541</td>\n",
       "    </tr>\n",
       "    <tr>\n",
       "      <th>120</th>\n",
       "      <td>136</td>\n",
       "      <td>80.000000</td>\n",
       "      <td>280.000000</td>\n",
       "      <td>28.571429</td>\n",
       "    </tr>\n",
       "    <tr>\n",
       "      <th>225</th>\n",
       "      <td>284</td>\n",
       "      <td>100.000000</td>\n",
       "      <td>370.000000</td>\n",
       "      <td>27.027027</td>\n",
       "    </tr>\n",
       "    <tr>\n",
       "      <th>217</th>\n",
       "      <td>270</td>\n",
       "      <td>120.000000</td>\n",
       "      <td>450.000000</td>\n",
       "      <td>26.666667</td>\n",
       "    </tr>\n",
       "    <tr>\n",
       "      <th>214</th>\n",
       "      <td>266</td>\n",
       "      <td>40.000000</td>\n",
       "      <td>160.000000</td>\n",
       "      <td>25.000000</td>\n",
       "    </tr>\n",
       "    <tr>\n",
       "      <th>206</th>\n",
       "      <td>254</td>\n",
       "      <td>263.333333</td>\n",
       "      <td>1106.666667</td>\n",
       "      <td>23.795181</td>\n",
       "    </tr>\n",
       "    <tr>\n",
       "      <th>146</th>\n",
       "      <td>167</td>\n",
       "      <td>20.000000</td>\n",
       "      <td>90.000000</td>\n",
       "      <td>22.222222</td>\n",
       "    </tr>\n",
       "    <tr>\n",
       "      <th>131</th>\n",
       "      <td>150</td>\n",
       "      <td>1967.333333</td>\n",
       "      <td>9116.666667</td>\n",
       "      <td>21.579525</td>\n",
       "    </tr>\n",
       "    <tr>\n",
       "      <th>138</th>\n",
       "      <td>158</td>\n",
       "      <td>255.000000</td>\n",
       "      <td>1187.500000</td>\n",
       "      <td>21.473684</td>\n",
       "    </tr>\n",
       "  </tbody>\n",
       "</table>\n",
       "</div>"
      ],
      "text/plain": [
       "     ROUTE  BACK_PEAK_HOUR    BACK_AADT        Rate\n",
       "187    220      474.000000   322.000000  147.204969\n",
       "178    207      300.000000   740.000000   40.540541\n",
       "120    136       80.000000   280.000000   28.571429\n",
       "225    284      100.000000   370.000000   27.027027\n",
       "217    270      120.000000   450.000000   26.666667\n",
       "214    266       40.000000   160.000000   25.000000\n",
       "206    254      263.333333  1106.666667   23.795181\n",
       "146    167       20.000000    90.000000   22.222222\n",
       "131    150     1967.333333  9116.666667   21.579525\n",
       "138    158      255.000000  1187.500000   21.473684"
      ]
     },
     "execution_count": 33,
     "metadata": {},
     "output_type": "execute_result"
    }
   ],
   "source": [
    "grouped_data = vol_df.groupby('ROUTE').mean().reset_index()\n",
    "grouped_data_back = grouped_data[['ROUTE', 'BACK_PEAK_HOUR','BACK_AADT']]\n",
    "grouped_data_back['Rate'] = (grouped_data_back['BACK_PEAK_HOUR'] / grouped_data_back['BACK_AADT']) * 100\n",
    "grouped_data_back = grouped_data_back.sort_values( \"Rate\", ascending = False).head(10)\n",
    "grouped_data_back.style.background_gradient(cmap=\"Blues\")\n",
    "grouped_data_back"
   ]
  },
  {
   "cell_type": "code",
   "execution_count": 34,
   "id": "37d5802b-3f3b-4de8-b042-99a1f8c297bc",
   "metadata": {
    "tags": []
   },
   "outputs": [
    {
     "data": {
      "text/html": [
       "<div>\n",
       "<style scoped>\n",
       "    .dataframe tbody tr th:only-of-type {\n",
       "        vertical-align: middle;\n",
       "    }\n",
       "\n",
       "    .dataframe tbody tr th {\n",
       "        vertical-align: top;\n",
       "    }\n",
       "\n",
       "    .dataframe thead th {\n",
       "        text-align: right;\n",
       "    }\n",
       "</style>\n",
       "<table border=\"1\" class=\"dataframe\">\n",
       "  <thead>\n",
       "    <tr style=\"text-align: right;\">\n",
       "      <th></th>\n",
       "      <th>ROUTE</th>\n",
       "      <th>AHEAD_PEAK_HOUR</th>\n",
       "      <th>AHEAD_AADT</th>\n",
       "      <th>Rate</th>\n",
       "    </tr>\n",
       "  </thead>\n",
       "  <tbody>\n",
       "    <tr>\n",
       "      <th>217</th>\n",
       "      <td>270</td>\n",
       "      <td>90.000000</td>\n",
       "      <td>210.000000</td>\n",
       "      <td>42.857143</td>\n",
       "    </tr>\n",
       "    <tr>\n",
       "      <th>178</th>\n",
       "      <td>207</td>\n",
       "      <td>300.000000</td>\n",
       "      <td>750.000000</td>\n",
       "      <td>40.000000</td>\n",
       "    </tr>\n",
       "    <tr>\n",
       "      <th>192</th>\n",
       "      <td>229</td>\n",
       "      <td>60.000000</td>\n",
       "      <td>170.000000</td>\n",
       "      <td>35.294118</td>\n",
       "    </tr>\n",
       "    <tr>\n",
       "      <th>214</th>\n",
       "      <td>266</td>\n",
       "      <td>75.000000</td>\n",
       "      <td>215.000000</td>\n",
       "      <td>34.883721</td>\n",
       "    </tr>\n",
       "    <tr>\n",
       "      <th>84</th>\n",
       "      <td>95</td>\n",
       "      <td>718.000000</td>\n",
       "      <td>2685.000000</td>\n",
       "      <td>26.741155</td>\n",
       "    </tr>\n",
       "    <tr>\n",
       "      <th>187</th>\n",
       "      <td>220</td>\n",
       "      <td>76.000000</td>\n",
       "      <td>322.000000</td>\n",
       "      <td>23.602484</td>\n",
       "    </tr>\n",
       "    <tr>\n",
       "      <th>85</th>\n",
       "      <td>96</td>\n",
       "      <td>272.727273</td>\n",
       "      <td>1155.681818</td>\n",
       "      <td>23.598820</td>\n",
       "    </tr>\n",
       "    <tr>\n",
       "      <th>138</th>\n",
       "      <td>158</td>\n",
       "      <td>315.000000</td>\n",
       "      <td>1342.500000</td>\n",
       "      <td>23.463687</td>\n",
       "    </tr>\n",
       "    <tr>\n",
       "      <th>225</th>\n",
       "      <td>284</td>\n",
       "      <td>150.000000</td>\n",
       "      <td>660.000000</td>\n",
       "      <td>22.727273</td>\n",
       "    </tr>\n",
       "    <tr>\n",
       "      <th>218</th>\n",
       "      <td>271</td>\n",
       "      <td>51.428571</td>\n",
       "      <td>226.428571</td>\n",
       "      <td>22.712934</td>\n",
       "    </tr>\n",
       "  </tbody>\n",
       "</table>\n",
       "</div>"
      ],
      "text/plain": [
       "     ROUTE  AHEAD_PEAK_HOUR   AHEAD_AADT       Rate\n",
       "217    270        90.000000   210.000000  42.857143\n",
       "178    207       300.000000   750.000000  40.000000\n",
       "192    229        60.000000   170.000000  35.294118\n",
       "214    266        75.000000   215.000000  34.883721\n",
       "84      95       718.000000  2685.000000  26.741155\n",
       "187    220        76.000000   322.000000  23.602484\n",
       "85      96       272.727273  1155.681818  23.598820\n",
       "138    158       315.000000  1342.500000  23.463687\n",
       "225    284       150.000000   660.000000  22.727273\n",
       "218    271        51.428571   226.428571  22.712934"
      ]
     },
     "execution_count": 34,
     "metadata": {},
     "output_type": "execute_result"
    }
   ],
   "source": [
    "grouped_data_ahead = grouped_data[['ROUTE', 'AHEAD_PEAK_HOUR','AHEAD_AADT']]\n",
    "grouped_data_ahead['Rate'] = (grouped_data_ahead['AHEAD_PEAK_HOUR'] / grouped_data_ahead['AHEAD_AADT']) * 100\n",
    "grouped_data_ahead = grouped_data_ahead.sort_values( \"Rate\", ascending = False).head(10)\n",
    "grouped_data_ahead.style.background_gradient(cmap=\"Blues\")\n",
    "grouped_data_ahead"
   ]
  },
  {
   "cell_type": "code",
   "execution_count": 35,
   "id": "0f0f1468-5e34-480e-a52e-0fe07f4d3611",
   "metadata": {
    "tags": []
   },
   "outputs": [
    {
     "data": {
      "text/plain": [
       "<matplotlib.axes._subplots.AxesSubplot at 0x7f1bf568a210>"
      ]
     },
     "execution_count": 35,
     "metadata": {},
     "output_type": "execute_result"
    },
    {
     "data": {
      "image/png": "[encoded data removed]",
      "text/plain": [
       "<Figure size 1000x200 with 1 Axes>"
      ]
     },
     "metadata": {},
     "output_type": "display_data"
    },
    {
     "data": {
      "image/png": "[encoded data removed]",
      "text/plain": [
       "<Figure size 1000x200 with 1 Axes>"
      ]
     },
     "metadata": {},
     "output_type": "display_data"
    },
    {
     "data": {
      "image/png": "[encoded data removed]",
      "text/plain": [
       "<Figure size 1000x200 with 1 Axes>"
      ]
     },
     "metadata": {},
     "output_type": "display_data"
    },
    {
     "data": {
      "image/png": "[encoded data removed]",
      "text/plain": [
       "<Figure size 1000x200 with 1 Axes>"
      ]
     },
     "metadata": {},
     "output_type": "display_data"
    },
    {
     "data": {
      "image/png": "[encoded data removed]",
      "text/plain": [
       "<Figure size 1000x200 with 1 Axes>"
      ]
     },
     "metadata": {},
     "output_type": "display_data"
    },
    {
     "data": {
      "image/png": "[encoded data removed]",
      "text/plain": [
       "<Figure size 1000x200 with 1 Axes>"
      ]
     },
     "metadata": {},
     "output_type": "display_data"
    }
   ],
   "source": [
    "fig,ax = plt.subplots(figsize = (10,2))\n",
    "sns.boxplot(vol_df.BACK_PEAK_HOUR)\n",
    "\n",
    "fig,ax = plt.subplots(figsize = (10,2))\n",
    "sns.boxplot(vol_df.BACK_PEAK_MADT)\n",
    "\n",
    "fig,ax = plt.subplots(figsize = (10,2))\n",
    "sns.boxplot(vol_df.BACK_AADT)\n",
    "\n",
    "fig,ax = plt.subplots(figsize = (10,2))\n",
    "sns.boxplot(vol_df.AHEAD_PEAK_HOUR)\n",
    "\n",
    "fig,ax = plt.subplots(figsize = (10,2))\n",
    "sns.boxplot(vol_df.AHEAD_PEAK_MADT)\n",
    "\n",
    "fig,ax = plt.subplots(figsize = (10,2))\n",
    "sns.boxplot(vol_df.AHEAD_AADT)"
   ]
  },
  {
   "cell_type": "code",
   "execution_count": null,
   "id": "6edd41ce-0700-48d9-99bc-897dbc1a219a",
   "metadata": {},
   "outputs": [],
   "source": []
  },
  {
   "cell_type": "code",
   "execution_count": null,
   "id": "6e4ac56d-bd46-4824-90ee-c25781904342",
   "metadata": {},
   "outputs": [],
   "source": []
  },
  {
   "cell_type": "code",
   "execution_count": null,
   "id": "18c0a9b0-67ec-478e-a544-8d5ddf282669",
   "metadata": {},
   "outputs": [],
   "source": []
  },
  {
   "cell_type": "code",
   "execution_count": null,
   "id": "d3d2ee4f-c708-4bc0-b766-038525dfe4ba",
   "metadata": {},
   "outputs": [],
   "source": []
  },
  {
   "cell_type": "code",
   "execution_count": null,
   "id": "b02b0a22-1ad4-4daf-9706-8918effcb1ec",
   "metadata": {},
   "outputs": [],
   "source": []
  },
  {
   "cell_type": "code",
   "execution_count": null,
   "id": "7bf46515-3a4f-4b5d-a59e-7ae6cce133d2",
   "metadata": {},
   "outputs": [],
   "source": []
  },
  {
   "cell_type": "code",
   "execution_count": null,
   "id": "7aeaf180-ca72-4384-8ee4-834817bbdc8d",
   "metadata": {},
   "outputs": [],
   "source": []
  },
  {
   "cell_type": "code",
   "execution_count": null,
   "id": "113bccff-15f9-45af-9cc0-683ca7c4fde1",
   "metadata": {},
   "outputs": [],
   "source": []
  },
  {
   "cell_type": "code",
   "execution_count": null,
   "id": "adb94449-aae2-4b56-a2bd-75aefce03ae6",
   "metadata": {},
   "outputs": [],
   "source": []
  },
  {
   "cell_type": "code",
   "execution_count": null,
   "id": "b808193c-58ed-45c3-8606-46cf7432e436",
   "metadata": {},
   "outputs": [],
   "source": []
  },
  {
   "cell_type": "code",
   "execution_count": null,
   "id": "965bef23-6b8c-4e61-b9f8-a36b05a70deb",
   "metadata": {},
   "outputs": [],
   "source": []
  },
  {
   "cell_type": "code",
   "execution_count": null,
   "id": "c5685bb8-aa5a-4c25-9a1e-1956ff415e08",
   "metadata": {},
   "outputs": [],
   "source": []
  },
  {
   "cell_type": "code",
   "execution_count": null,
   "id": "3443ffc9-63d5-49f2-91a1-60312680c7b0",
   "metadata": {},
   "outputs": [],
   "source": []
  }
 ],
 "metadata": {
  "availableInstances": [
   {
    "_defaultOrder": 0,
    "_isFastLaunch": true,
    "category": "General purpose",
    "gpuNum": 0,
    "memoryGiB": 4,
    "name": "ml.t3.medium",
    "vcpuNum": 2
   },
   {
    "_defaultOrder": 1,
    "_isFastLaunch": false,
    "category": "General purpose",
    "gpuNum": 0,
    "memoryGiB": 8,
    "name": "ml.t3.large",
    "vcpuNum": 2
   },
   {
    "_defaultOrder": 2,
    "_isFastLaunch": false,
    "category": "General purpose",
    "gpuNum": 0,
    "memoryGiB": 16,
    "name": "ml.t3.xlarge",
    "vcpuNum": 4
   },
   {
    "_defaultOrder": 3,
    "_isFastLaunch": false,
    "category": "General purpose",
    "gpuNum": 0,
    "memoryGiB": 32,
    "name": "ml.t3.2xlarge",
    "vcpuNum": 8
   },
   {
    "_defaultOrder": 4,
    "_isFastLaunch": true,
    "category": "General purpose",
    "gpuNum": 0,
    "memoryGiB": 8,
    "name": "ml.m5.large",
    "vcpuNum": 2
   },
   {
    "_defaultOrder": 5,
    "_isFastLaunch": false,
    "category": "General purpose",
    "gpuNum": 0,
    "memoryGiB": 16,
    "name": "ml.m5.xlarge",
    "vcpuNum": 4
   },
   {
    "_defaultOrder": 6,
    "_isFastLaunch": false,
    "category": "General purpose",
    "gpuNum": 0,
    "memoryGiB": 32,
    "name": "ml.m5.2xlarge",
    "vcpuNum": 8
   },
   {
    "_defaultOrder": 7,
    "_isFastLaunch": false,
    "category": "General purpose",
    "gpuNum": 0,
    "memoryGiB": 64,
    "name": "ml.m5.4xlarge",
    "vcpuNum": 16
   },
   {
    "_defaultOrder": 8,
    "_isFastLaunch": false,
    "category": "General purpose",
    "gpuNum": 0,
    "memoryGiB": 128,
    "name": "ml.m5.8xlarge",
    "vcpuNum": 32
   },
   {
    "_defaultOrder": 9,
    "_isFastLaunch": false,
    "category": "General purpose",
    "gpuNum": 0,
    "memoryGiB": 192,
    "name": "ml.m5.12xlarge",
    "vcpuNum": 48
   },
   {
    "_defaultOrder": 10,
    "_isFastLaunch": false,
    "category": "General purpose",
    "gpuNum": 0,
    "memoryGiB": 256,
    "name": "ml.m5.16xlarge",
    "vcpuNum": 64
   },
   {
    "_defaultOrder": 11,
    "_isFastLaunch": false,
    "category": "General purpose",
    "gpuNum": 0,
    "memoryGiB": 384,
    "name": "ml.m5.24xlarge",
    "vcpuNum": 96
   },
   {
    "_defaultOrder": 12,
    "_isFastLaunch": false,
    "category": "General purpose",
    "gpuNum": 0,
    "memoryGiB": 8,
    "name": "ml.m5d.large",
    "vcpuNum": 2
   },
   {
    "_defaultOrder": 13,
    "_isFastLaunch": false,
    "category": "General purpose",
    "gpuNum": 0,
    "memoryGiB": 16,
    "name": "ml.m5d.xlarge",
    "vcpuNum": 4
   },
   {
    "_defaultOrder": 14,
    "_isFastLaunch": false,
    "category": "General purpose",
    "gpuNum": 0,
    "memoryGiB": 32,
    "name": "ml.m5d.2xlarge",
    "vcpuNum": 8
   },
   {
    "_defaultOrder": 15,
    "_isFastLaunch": false,
    "category": "General purpose",
    "gpuNum": 0,
    "memoryGiB": 64,
    "name": "ml.m5d.4xlarge",
    "vcpuNum": 16
   },
   {
    "_defaultOrder": 16,
    "_isFastLaunch": false,
    "category": "General purpose",
    "gpuNum": 0,
    "memoryGiB": 128,
    "name": "ml.m5d.8xlarge",
    "vcpuNum": 32
   },
   {
    "_defaultOrder": 17,
    "_isFastLaunch": false,
    "category": "General purpose",
    "gpuNum": 0,
    "memoryGiB": 192,
    "name": "ml.m5d.12xlarge",
    "vcpuNum": 48
   },
   {
    "_defaultOrder": 18,
    "_isFastLaunch": false,
    "category": "General purpose",
    "gpuNum": 0,
    "memoryGiB": 256,
    "name": "ml.m5d.16xlarge",
    "vcpuNum": 64
   },
   {
    "_defaultOrder": 19,
    "_isFastLaunch": false,
    "category": "General purpose",
    "gpuNum": 0,
    "memoryGiB": 384,
    "name": "ml.m5d.24xlarge",
    "vcpuNum": 96
   },
   {
    "_defaultOrder": 20,
    "_isFastLaunch": true,
    "category": "Compute optimized",
    "gpuNum": 0,
    "memoryGiB": 4,
    "name": "ml.c5.large",
    "vcpuNum": 2
   },
   {
    "_defaultOrder": 21,
    "_isFastLaunch": false,
    "category": "Compute optimized",
    "gpuNum": 0,
    "memoryGiB": 8,
    "name": "ml.c5.xlarge",
    "vcpuNum": 4
   },
   {
    "_defaultOrder": 22,
    "_isFastLaunch": false,
    "category": "Compute optimized",
    "gpuNum": 0,
    "memoryGiB": 16,
    "name": "ml.c5.2xlarge",
    "vcpuNum": 8
   },
   {
    "_defaultOrder": 23,
    "_isFastLaunch": false,
    "category": "Compute optimized",
    "gpuNum": 0,
    "memoryGiB": 32,
    "name": "ml.c5.4xlarge",
    "vcpuNum": 16
   },
   {
    "_defaultOrder": 24,
    "_isFastLaunch": false,
    "category": "Compute optimized",
    "gpuNum": 0,
    "memoryGiB": 72,
    "name": "ml.c5.9xlarge",
    "vcpuNum": 36
   },
   {
    "_defaultOrder": 25,
    "_isFastLaunch": false,
    "category": "Compute optimized",
    "gpuNum": 0,
    "memoryGiB": 96,
    "name": "ml.c5.12xlarge",
    "vcpuNum": 48
   },
   {
    "_defaultOrder": 26,
    "_isFastLaunch": false,
    "category": "Compute optimized",
    "gpuNum": 0,
    "memoryGiB": 144,
    "name": "ml.c5.18xlarge",
    "vcpuNum": 72
   },
   {
    "_defaultOrder": 27,
    "_isFastLaunch": false,
    "category": "Compute optimized",
    "gpuNum": 0,
    "memoryGiB": 192,
    "name": "ml.c5.24xlarge",
    "vcpuNum": 96
   },
   {
    "_defaultOrder": 28,
    "_isFastLaunch": true,
    "category": "Accelerated computing",
    "gpuNum": 1,
    "memoryGiB": 16,
    "name": "ml.g4dn.xlarge",
    "vcpuNum": 4
   },
   {
    "_defaultOrder": 29,
    "_isFastLaunch": false,
    "category": "Accelerated computing",
    "gpuNum": 1,
    "memoryGiB": 32,
    "name": "ml.g4dn.2xlarge",
    "vcpuNum": 8
   },
   {
    "_defaultOrder": 30,
    "_isFastLaunch": false,
    "category": "Accelerated computing",
    "gpuNum": 1,
    "memoryGiB": 64,
    "name": "ml.g4dn.4xlarge",
    "vcpuNum": 16
   },
   {
    "_defaultOrder": 31,
    "_isFastLaunch": false,
    "category": "Accelerated computing",
    "gpuNum": 1,
    "memoryGiB": 128,
    "name": "ml.g4dn.8xlarge",
    "vcpuNum": 32
   },
   {
    "_defaultOrder": 32,
    "_isFastLaunch": false,
    "category": "Accelerated computing",
    "gpuNum": 4,
    "memoryGiB": 192,
    "name": "ml.g4dn.12xlarge",
    "vcpuNum": 48
   },
   {
    "_defaultOrder": 33,
    "_isFastLaunch": false,
    "category": "Accelerated computing",
    "gpuNum": 1,
    "memoryGiB": 256,
    "name": "ml.g4dn.16xlarge",
    "vcpuNum": 64
   },
   {
    "_defaultOrder": 34,
    "_isFastLaunch": false,
    "category": "Accelerated computing",
    "gpuNum": 1,
    "memoryGiB": 61,
    "name": "ml.p3.2xlarge",
    "vcpuNum": 8
   },
   {
    "_defaultOrder": 35,
    "_isFastLaunch": false,
    "category": "Accelerated computing",
    "gpuNum": 4,
    "memoryGiB": 244,
    "name": "ml.p3.8xlarge",
    "vcpuNum": 32
   },
   {
    "_defaultOrder": 36,
    "_isFastLaunch": false,
    "category": "Accelerated computing",
    "gpuNum": 8,
    "memoryGiB": 488,
    "name": "ml.p3.16xlarge",
    "vcpuNum": 64
   },
   {
    "_defaultOrder": 37,
    "_isFastLaunch": false,
    "category": "Accelerated computing",
    "gpuNum": 8,
    "memoryGiB": 768,
    "name": "ml.p3dn.24xlarge",
    "vcpuNum": 96
   },
   {
    "_defaultOrder": 38,
    "_isFastLaunch": false,
    "category": "Memory Optimized",
    "gpuNum": 0,
    "memoryGiB": 16,
    "name": "ml.r5.large",
    "vcpuNum": 2
   },
   {
    "_defaultOrder": 39,
    "_isFastLaunch": false,
    "category": "Memory Optimized",
    "gpuNum": 0,
    "memoryGiB": 32,
    "name": "ml.r5.xlarge",
    "vcpuNum": 4
   },
   {
    "_defaultOrder": 40,
    "_isFastLaunch": false,
    "category": "Memory Optimized",
    "gpuNum": 0,
    "memoryGiB": 64,
    "name": "ml.r5.2xlarge",
    "vcpuNum": 8
   },
   {
    "_defaultOrder": 41,
    "_isFastLaunch": false,
    "category": "Memory Optimized",
    "gpuNum": 0,
    "memoryGiB": 128,
    "name": "ml.r5.4xlarge",
    "vcpuNum": 16
   },
   {
    "_defaultOrder": 42,
    "_isFastLaunch": false,
    "category": "Memory Optimized",
    "gpuNum": 0,
    "memoryGiB": 256,
    "name": "ml.r5.8xlarge",
    "vcpuNum": 32
   },
   {
    "_defaultOrder": 43,
    "_isFastLaunch": false,
    "category": "Memory Optimized",
    "gpuNum": 0,
    "memoryGiB": 384,
    "name": "ml.r5.12xlarge",
    "vcpuNum": 48
   },
   {
    "_defaultOrder": 44,
    "_isFastLaunch": false,
    "category": "Memory Optimized",
    "gpuNum": 0,
    "memoryGiB": 512,
    "name": "ml.r5.16xlarge",
    "vcpuNum": 64
   },
   {
    "_defaultOrder": 45,
    "_isFastLaunch": false,
    "category": "Memory Optimized",
    "gpuNum": 0,
    "memoryGiB": 768,
    "name": "ml.r5.24xlarge",
    "vcpuNum": 96
   },
   {
    "_defaultOrder": 46,
    "_isFastLaunch": false,
    "category": "Accelerated computing",
    "gpuNum": 1,
    "memoryGiB": 16,
    "name": "ml.g5.xlarge",
    "vcpuNum": 4
   },
   {
    "_defaultOrder": 47,
    "_isFastLaunch": false,
    "category": "Accelerated computing",
    "gpuNum": 1,
    "memoryGiB": 32,
    "name": "ml.g5.2xlarge",
    "vcpuNum": 8
   },
   {
    "_defaultOrder": 48,
    "_isFastLaunch": false,
    "category": "Accelerated computing",
    "gpuNum": 1,
    "memoryGiB": 64,
    "name": "ml.g5.4xlarge",
    "vcpuNum": 16
   },
   {
    "_defaultOrder": 49,
    "_isFastLaunch": false,
    "category": "Accelerated computing",
    "gpuNum": 1,
    "memoryGiB": 128,
    "name": "ml.g5.8xlarge",
    "vcpuNum": 32
   },
   {
    "_defaultOrder": 50,
    "_isFastLaunch": false,
    "category": "Accelerated computing",
    "gpuNum": 1,
    "memoryGiB": 256,
    "name": "ml.g5.16xlarge",
    "vcpuNum": 64
   },
   {
    "_defaultOrder": 51,
    "_isFastLaunch": false,
    "category": "Accelerated computing",
    "gpuNum": 4,
    "memoryGiB": 192,
    "name": "ml.g5.12xlarge",
    "vcpuNum": 48
   },
   {
    "_defaultOrder": 52,
    "_isFastLaunch": false,
    "category": "Accelerated computing",
    "gpuNum": 4,
    "memoryGiB": 384,
    "name": "ml.g5.24xlarge",
    "vcpuNum": 96
   },
   {
    "_defaultOrder": 53,
    "_isFastLaunch": false,
    "category": "Accelerated computing",
    "gpuNum": 8,
    "memoryGiB": 768,
    "name": "ml.g5.48xlarge",
    "vcpuNum": 192
   }
  ],
  "kernelspec": {
   "display_name": "Python 3 (Data Science)",
   "language": "python",
   "name": "python3__SAGEMAKER_INTERNAL__arn:aws:sagemaker:us-east-1:081325390199:image/datascience-1.0"
  },
  "language_info": {
   "codemirror_mode": {
    "name": "ipython",
    "version": 3
   },
   "file_extension": ".py",
   "mimetype": "text/x-python",
   "name": "python",
   "nbconvert_exporter": "python",
   "pygments_lexer": "ipython3",
   "version": "3.7.10"
  }
 },
 "nbformat": 4,
 "nbformat_minor": 5
}
