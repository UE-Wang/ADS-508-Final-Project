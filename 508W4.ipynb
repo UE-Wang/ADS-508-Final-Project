{
 "cells": [
  {
   "cell_type": "markdown",
   "id": "356a24d3-5156-4829-abd8-31ad93ec1e4f",
   "metadata": {},
   "source": [
    "# USADS 508 W4"
   ]
  },
  {
   "cell_type": "code",
   "execution_count": null,
   "id": "6969c169-2e63-4c27-a56c-7d2ea4ec8698",
   "metadata": {
    "tags": []
   },
   "outputs": [],
   "source": [
    "!python --version\n",
    "!pip list\n",
    "# Pip\n",
    "!pip install --disable-pip-version-check -q pip --upgrade > /dev/null\n",
    "!pip install --disable-pip-version-check -q wrapt --upgrade > /dev/null\n",
    "# AWS CLI and AWS Python SDK (boto3)\n",
    "!pip install --disable-pip-version-check -q awscli==1.18.216 boto3==1.16.56 botocore==1.19.56\n",
    "# SageMaker\n",
    "!pip install --disable-pip-version-check -q sagemaker==2.29.0\n",
    "!pip install --disable-pip-version-check -q smdebug==1.0.1\n",
    "!pip install --disable-pip-version-check -q sagemaker-experiments==0.1.26\n",
    "# PyTorch\n",
    "!conda install -y pytorch==1.6.0 -c pytorch\n",
    "# TensorFlow\n",
    "!pip install --disable-pip-version-check -q tensorflow==2.3.1\n",
    "# Hugging Face Transformers (BERT)\n",
    "!pip install --disable-pip-version-check -q transformers==3.5.1\n",
    "# TorchServe\n",
    "!pip install --disable-pip-version-check -q torchserve==0.3.0\n",
    "!pip install --disable-pip-version-check -q torch-model-archiver==0.3.0\n",
    "# PyAthena\n",
    "!pip install --disable-pip-version-check -q PyAthena==2.1.0\n",
    "# Redshift\n",
    "!pip install --disable-pip-version-check -q SQLAlchemy==1.3.22\n",
    "# AWS Data Wrangler\n",
    "!pip install --disable-pip-version-check -q awswrangler==2.3.0\n",
    "# StepFunctions\n",
    "!pip install --disable-pip-version-check -q stepfunctions==2.0.0rc1\n",
    "# Zip\n",
    "!conda install -y zip\n",
    "# Matplotlib\n",
    "!pip install --disable-pip-version-check -q matplotlib==3.1.3\n",
    "# Seaborn\n",
    "!pip install --disable-pip-version-check -q seaborn==0.10.0\n",
    "\n",
    "\n",
    "# Summarize\n",
    "!python --version\n",
    "# !pip list\n",
    "setup_dependencies_passed = True\n",
    "%store setup_dependencies_passed\n",
    "%store"
   ]
  },
  {
   "cell_type": "code",
   "execution_count": 2,
   "id": "bbbe004b-53f2-47d5-8bc4-7ff971217148",
   "metadata": {
    "tags": []
   },
   "outputs": [],
   "source": [
    "import boto3, re, sys, math, json, os, sagemaker, urllib.request\n",
    "import io\n",
    "import sagemaker\n",
    "from sagemaker import get_execution_role\n",
    "from IPython.display import Image\n",
    "from IPython.display import display\n",
    "from time import gmtime, strftime\n",
    "from sagemaker.predictor import csv_serializer\n",
    "from pyathena import connect\n",
    "import pandas as pd\n",
    "import numpy as np\n",
    "import matplotlib.pyplot as plt\n",
    "%matplotlib inline\n",
    "import seaborn as sns\n",
    "from sklearn.decomposition import PCA\n",
    "from sklearn.model_selection import train_test_split, \\\n",
    "RepeatedStratifiedKFold, RandomizedSearchCV\n",
    "from sklearn.metrics import roc_curve, auc, mean_squared_error,\\\n",
    "precision_score, recall_score, f1_score, accuracy_score,\\\n",
    "confusion_matrix, plot_confusion_matrix, classification_report\n",
    "from sagemaker.tuner import HyperparameterTuner\n",
    "from sklearn.linear_model import LogisticRegression\n",
    "from sklearn.ensemble import RandomForestClassifier\n",
    "from scipy.stats import loguniform\n",
    "import warnings\n",
    "warnings.filterwarnings('ignore')"
   ]
  },
  {
   "cell_type": "markdown",
   "id": "d4bb049c-9a85-43cc-9473-fbb2f7c49358",
   "metadata": {},
   "source": [
    "# Section 1: Basic set up"
   ]
  },
  {
   "cell_type": "markdown",
   "id": "c3904e6e-4744-49bc-a75d-1546d525584b",
   "metadata": {},
   "source": [
    "#### Check the Environment was Created Correctly"
   ]
  },
  {
   "cell_type": "code",
   "execution_count": 3,
   "id": "41950d00-e0e9-4d90-a675-a3fb5dbcb2b1",
   "metadata": {
    "tags": []
   },
   "outputs": [],
   "source": [
    "import boto3\n",
    "\n",
    "region = boto3.Session().region_name\n",
    "session = boto3.session.Session()\n",
    "\n",
    "ec2 = boto3.Session().client(service_name=\"ec2\", region_name=region)\n",
    "sm = boto3.Session().client(service_name=\"sagemaker\", region_name=region)"
   ]
  },
  {
   "cell_type": "code",
   "execution_count": 4,
   "id": "1969df2d-aa40-4025-ab69-52ded6282035",
   "metadata": {
    "tags": []
   },
   "outputs": [
    {
     "name": "stdout",
     "output_type": "stream",
     "text": [
      "DomainId: d-7v61k0r2izyh\n",
      "Name: datascience-1-0-ml-t3-medium-1abf3407f667f989be9d86559395\n"
     ]
    }
   ],
   "source": [
    "import json\n",
    "\n",
    "notebook_instance_name = None\n",
    "\n",
    "try:\n",
    "    with open(\"/opt/ml/metadata/resource-metadata.json\") as notebook_info:\n",
    "        data = json.load(notebook_info)\n",
    "        domain_id = data[\"DomainId\"]\n",
    "        resource_arn = data[\"ResourceArn\"]\n",
    "        region = resource_arn.split(\":\")[3]\n",
    "        name = data[\"ResourceName\"]\n",
    "    print(\"DomainId: {}\".format(domain_id))\n",
    "    print(\"Name: {}\".format(name))\n",
    "except:\n",
    "    print(\"+++++++++++++++++++++++++++++++++++++++++\")\n",
    "    print(\"[ERROR]: COULD NOT RETRIEVE THE METADATA.\")\n",
    "    print(\"+++++++++++++++++++++++++++++++++++++++++\")"
   ]
  },
  {
   "cell_type": "code",
   "execution_count": 5,
   "id": "4ca7a9d0-e07b-44d8-b87a-d32a10e086f1",
   "metadata": {
    "tags": []
   },
   "outputs": [
    {
     "name": "stdout",
     "output_type": "stream",
     "text": [
      "InService\n"
     ]
    }
   ],
   "source": [
    "describe_domain_response = sm.describe_domain(DomainId=domain_id)\n",
    "print(describe_domain_response[\"Status\"])"
   ]
  },
  {
   "cell_type": "code",
   "execution_count": 6,
   "id": "c601e344-42ed-454e-814c-9f9e4c255504",
   "metadata": {
    "tags": []
   },
   "outputs": [
    {
     "name": "stdout",
     "output_type": "stream",
     "text": [
      "Enabled\n"
     ]
    }
   ],
   "source": [
    "try:\n",
    "    get_status_response = sm.get_sagemaker_servicecatalog_portfolio_status()\n",
    "    print(get_status_response[\"Status\"])\n",
    "except:\n",
    "    pass"
   ]
  },
  {
   "cell_type": "code",
   "execution_count": 7,
   "id": "23e919f2-1e6a-4080-84c6-0f29edcf50c6",
   "metadata": {
    "tags": []
   },
   "outputs": [
    {
     "name": "stdout",
     "output_type": "stream",
     "text": [
      "[OK] Checks passed!  Great Job!!  Please Continue.\n"
     ]
    }
   ],
   "source": [
    "if (\n",
    "    describe_domain_response[\"Status\"] == \"InService\"\n",
    "    and get_status_response[\"Status\"] == \"Enabled\"\n",
    "    and \"datascience\" in name\n",
    "):\n",
    "    setup_instance_check_passed = True\n",
    "    print(\"[OK] Checks passed!  Great Job!!  Please Continue.\")\n",
    "else:\n",
    "    setup_instance_check_passed = False\n",
    "    print(\"+++++++++++++++++++++++++++++++++++++++++++++++\")\n",
    "    print(\"[ERROR]: WE HAVE IDENTIFIED A MISCONFIGURATION.\")\n",
    "    print(describe_domain_response[\"Status\"])\n",
    "    print(get_status_response[\"Status\"])\n",
    "    print(name)\n",
    "    print(\"+++++++++++++++++++++++++++++++++++++++++++++++\")"
   ]
  },
  {
   "cell_type": "markdown",
   "id": "ab512b00-2e76-48c6-b851-5118f3baf279",
   "metadata": {},
   "source": [
    "#### Update IAM Roles and Policies"
   ]
  },
  {
   "cell_type": "code",
   "execution_count": 8,
   "id": "53927e45-6d05-45c8-a550-ca8a18ae8aef",
   "metadata": {
    "tags": []
   },
   "outputs": [],
   "source": [
    "import boto3\n",
    "import sagemaker\n",
    "import time\n",
    "from time import gmtime, strftime\n",
    "\n",
    "sagemaker_session = sagemaker.Session()\n",
    "role = sagemaker.get_execution_role()\n",
    "bucket = sagemaker_session.default_bucket()\n",
    "region = boto3.Session().region_name\n",
    "\n",
    "from botocore.config import Config\n",
    "\n",
    "config = Config(retries={\"max_attempts\": 10, \"mode\": \"adaptive\"})\n",
    "\n",
    "iam = boto3.client(\"iam\", config=config)"
   ]
  },
  {
   "cell_type": "markdown",
   "id": "49312677-f7f7-446d-ad91-a987a43f69c1",
   "metadata": {},
   "source": [
    "#### Get SageMaker Execution Role Name"
   ]
  },
  {
   "cell_type": "code",
   "execution_count": 9,
   "id": "791efe9a-8145-420c-a41c-2379e48f67e7",
   "metadata": {
    "tags": []
   },
   "outputs": [
    {
     "name": "stdout",
     "output_type": "stream",
     "text": [
      "Role name: LabRole\n"
     ]
    }
   ],
   "source": [
    "role_name = role.split(\"/\")[-1]\n",
    "\n",
    "print(\"Role name: {}\".format(role_name))"
   ]
  },
  {
   "cell_type": "markdown",
   "id": "2bffd4d5-c3a0-4c7e-af8d-59b2ee520823",
   "metadata": {},
   "source": [
    "#### Pre-Requisite: SageMaker notebook instance ExecutionRole contains IAMFullAccess Policy."
   ]
  },
  {
   "cell_type": "code",
   "execution_count": 10,
   "id": "67d2972f-50ab-4b00-9ade-832d00fcd982",
   "metadata": {
    "tags": []
   },
   "outputs": [
    {
     "name": "stdout",
     "output_type": "stream",
     "text": [
      "[OK] You are all set up to continue with this workshop!\n"
     ]
    }
   ],
   "source": [
    "admin = False\n",
    "post_policies = iam.list_attached_role_policies(RoleName=role_name)[\"AttachedPolicies\"]\n",
    "for post_policy in post_policies:\n",
    "    if post_policy[\"PolicyName\"] == \"AdministratorAccess\":\n",
    "        admin = True\n",
    "        break\n",
    "\n",
    "setup_iam_roles_passed = True\n",
    "print(\"[OK] You are all set up to continue with this workshop!\")"
   ]
  },
  {
   "cell_type": "markdown",
   "id": "83a2c1d0-2a7d-4a61-ace0-bc417bbb5950",
   "metadata": {},
   "source": [
    "#### Check Pre-Requisites"
   ]
  },
  {
   "cell_type": "code",
   "execution_count": 11,
   "id": "648f93e3-9f4f-4893-9570-43b1ba73c6d8",
   "metadata": {
    "tags": []
   },
   "outputs": [],
   "source": [
    "if not setup_instance_check_passed:\n",
    "    print(\"+++++++++++++++++++++++++++++++++++++++++++++++++++++++++++++++\")\n",
    "    print(\"[ERROR] YOU HAVE TO RUN ALL NOTEBOOKS IN THE SETUP FOLDER FIRST. You are missing Instance Check.\")\n",
    "    print(\"+++++++++++++++++++++++++++++++++++++++++++++++++++++++++++++++\")\n",
    "if not setup_dependencies_passed:\n",
    "    print(\"+++++++++++++++++++++++++++++++++++++++++++++++++++++++++++++++\")\n",
    "    print(\"[ERROR] YOU HAVE TO RUN ALL NOTEBOOKS IN THE SETUP FOLDER FIRST. You are missing Setup Dependencies.\")\n",
    "    print(\"+++++++++++++++++++++++++++++++++++++++++++++++++++++++++++++++\")\n",
    "if not setup_iam_roles_passed:\n",
    "    print(\"+++++++++++++++++++++++++++++++++++++++++++++++++++++++++++++++\")\n",
    "    print(\"[ERROR] YOU HAVE TO RUN ALL NOTEBOOKS IN THE SETUP FOLDER FIRST. You are missing Setup IAM Roles.\")\n",
    "    print(\"+++++++++++++++++++++++++++++++++++++++++++++++++++++++++++++++\")"
   ]
  },
  {
   "cell_type": "markdown",
   "id": "70326db5-96f7-47c5-a0b0-e1b5be86a2d1",
   "metadata": {},
   "source": [
    "#### Create Athena Database Schema"
   ]
  },
  {
   "cell_type": "code",
   "execution_count": 12,
   "id": "37cbb38a-590c-432a-9385-2567d16968d0",
   "metadata": {
    "tags": []
   },
   "outputs": [],
   "source": [
    "import boto3\n",
    "import sagemaker\n",
    "\n",
    "sess = sagemaker.Session()\n",
    "bucket = 'usd508team2'\n",
    "role = sagemaker.get_execution_role()\n",
    "region = boto3.Session().region_name"
   ]
  },
  {
   "cell_type": "markdown",
   "id": "46c9ebf7-9201-4b38-a3b5-ac9d3b6baaa2",
   "metadata": {},
   "source": [
    "#### Import PyAthena"
   ]
  },
  {
   "cell_type": "code",
   "execution_count": 13,
   "id": "cd07fcca-0656-4b8f-bb45-d68ba3bc6043",
   "metadata": {
    "tags": []
   },
   "outputs": [
    {
     "name": "stdout",
     "output_type": "stream",
     "text": [
      "\u001b[33mWARNING: Running pip as the 'root' user can result in broken permissions and conflicting behaviour with the system package manager. It is recommended to use a virtual environment instead: https://pip.pypa.io/warnings/venv\u001b[0m\u001b[33m\n",
      "\u001b[0m"
     ]
    }
   ],
   "source": [
    "!pip install --disable-pip-version-check -q PyAthena==2.1.0\n",
    "from pyathena import connect"
   ]
  },
  {
   "cell_type": "markdown",
   "id": "a0e9d9e2-c4dc-4a72-ab22-4f82444751e0",
   "metadata": {},
   "source": [
    "#### Create Athena Database"
   ]
  },
  {
   "cell_type": "code",
   "execution_count": 14,
   "id": "678755a8-1b8d-4e43-b177-502c8b9a823f",
   "metadata": {
    "tags": []
   },
   "outputs": [],
   "source": [
    "database_name = \"CA_Traffic\""
   ]
  },
  {
   "cell_type": "code",
   "execution_count": 15,
   "id": "4098a2e1-33b2-4436-a0d3-f582387c49d2",
   "metadata": {
    "tags": []
   },
   "outputs": [],
   "source": [
    "# Set S3 staging directory -- this is a temporary directory used for Athena queries\n",
    "s3_staging_dir = \"s3://{0}/athena/staging\".format(bucket)"
   ]
  },
  {
   "cell_type": "code",
   "execution_count": 16,
   "id": "35dd1337-d984-4382-932c-1fb6edadeb2d",
   "metadata": {
    "tags": []
   },
   "outputs": [],
   "source": [
    "conn = connect(region_name=region, s3_staging_dir=s3_staging_dir)"
   ]
  },
  {
   "cell_type": "code",
   "execution_count": 17,
   "id": "f2fa1ea4-66e6-481b-8a92-467ab300458d",
   "metadata": {
    "tags": []
   },
   "outputs": [
    {
     "name": "stdout",
     "output_type": "stream",
     "text": [
      "CREATE DATABASE IF NOT EXISTS CA_Traffic\n"
     ]
    }
   ],
   "source": [
    "statement = \"CREATE DATABASE IF NOT EXISTS {}\".format(database_name)\n",
    "print(statement)"
   ]
  },
  {
   "cell_type": "code",
   "execution_count": 18,
   "id": "1006b5f8-086c-4879-bd5f-4781e5fa835e",
   "metadata": {
    "tags": []
   },
   "outputs": [
    {
     "data": {
      "text/html": [
       "<div>\n",
       "<style scoped>\n",
       "    .dataframe tbody tr th:only-of-type {\n",
       "        vertical-align: middle;\n",
       "    }\n",
       "\n",
       "    .dataframe tbody tr th {\n",
       "        vertical-align: top;\n",
       "    }\n",
       "\n",
       "    .dataframe thead th {\n",
       "        text-align: right;\n",
       "    }\n",
       "</style>\n",
       "<table border=\"1\" class=\"dataframe\">\n",
       "  <thead>\n",
       "    <tr style=\"text-align: right;\">\n",
       "      <th></th>\n",
       "    </tr>\n",
       "  </thead>\n",
       "  <tbody>\n",
       "  </tbody>\n",
       "</table>\n",
       "</div>"
      ],
      "text/plain": [
       "Empty DataFrame\n",
       "Columns: []\n",
       "Index: []"
      ]
     },
     "execution_count": 18,
     "metadata": {},
     "output_type": "execute_result"
    }
   ],
   "source": [
    "import pandas as pd\n",
    "\n",
    "pd.read_sql(statement, conn)"
   ]
  },
  {
   "cell_type": "markdown",
   "id": "ed0539f7-6266-44eb-a66b-b6b8615bdc93",
   "metadata": {
    "tags": []
   },
   "source": [
    "#### Verify The Database Has Been Created Succesfully"
   ]
  },
  {
   "cell_type": "code",
   "execution_count": 19,
   "id": "1060c2ea-009b-4d5e-bbf6-c729fed914db",
   "metadata": {
    "tags": []
   },
   "outputs": [
    {
     "data": {
      "text/html": [
       "<div>\n",
       "<style scoped>\n",
       "    .dataframe tbody tr th:only-of-type {\n",
       "        vertical-align: middle;\n",
       "    }\n",
       "\n",
       "    .dataframe tbody tr th {\n",
       "        vertical-align: top;\n",
       "    }\n",
       "\n",
       "    .dataframe thead th {\n",
       "        text-align: right;\n",
       "    }\n",
       "</style>\n",
       "<table border=\"1\" class=\"dataframe\">\n",
       "  <thead>\n",
       "    <tr style=\"text-align: right;\">\n",
       "      <th></th>\n",
       "      <th>database_name</th>\n",
       "    </tr>\n",
       "  </thead>\n",
       "  <tbody>\n",
       "    <tr>\n",
       "      <th>0</th>\n",
       "      <td>ca_traffic</td>\n",
       "    </tr>\n",
       "    <tr>\n",
       "      <th>1</th>\n",
       "      <td>default</td>\n",
       "    </tr>\n",
       "  </tbody>\n",
       "</table>\n",
       "</div>"
      ],
      "text/plain": [
       "  database_name\n",
       "0    ca_traffic\n",
       "1       default"
      ]
     },
     "execution_count": 19,
     "metadata": {},
     "output_type": "execute_result"
    }
   ],
   "source": [
    "statement = \"SHOW DATABASES\"\n",
    "\n",
    "df_show = pd.read_sql(statement, conn)\n",
    "df_show.head(5)"
   ]
  },
  {
   "cell_type": "code",
   "execution_count": 20,
   "id": "218b5fef-b3f1-4ae3-bc8c-114654ef4d50",
   "metadata": {
    "tags": []
   },
   "outputs": [],
   "source": [
    "if database_name in df_show.values:\n",
    "    ingest_create_athena_db_passed = True"
   ]
  },
  {
   "cell_type": "markdown",
   "id": "55caf157-5107-48c2-bf55-7cc88fc7eb5b",
   "metadata": {},
   "source": [
    "#### Create Athena Table"
   ]
  },
  {
   "cell_type": "code",
   "execution_count": 21,
   "id": "2ecb575a-2b8d-4081-8e78-8682d38868dd",
   "metadata": {
    "tags": []
   },
   "outputs": [],
   "source": [
    "# Set Athena parameters\n",
    "database_name = \"ca_traffic\"\n",
    "Ex_Ln_table = \"Ex_Ln\"\n",
    "HOV_table = \"HOV\"\n",
    "vol_table = \"vol\"\n",
    "Route77_table = 'Route77'\n",
    "s3_path_Ex_Ln = \"s3://{}/Express_Lanes.csv\".format(bucket)\n",
    "s3_path_HOV = \"s3://{}/HOV.csv\".format(bucket)\n",
    "s3_path_vol = \"s3://{}/Traffic_Volumes_AADT.csv\".format(bucket)\n",
    "s3_path_Route77 = \"s3://{}/Route_77.csv\".format(bucket)"
   ]
  },
  {
   "cell_type": "code",
   "execution_count": 22,
   "id": "1e6a7f72-9a8b-4ed7-ba80-404f7bad4066",
   "metadata": {
    "tags": []
   },
   "outputs": [
    {
     "data": {
      "text/html": [
       "<div>\n",
       "<style scoped>\n",
       "    .dataframe tbody tr th:only-of-type {\n",
       "        vertical-align: middle;\n",
       "    }\n",
       "\n",
       "    .dataframe tbody tr th {\n",
       "        vertical-align: top;\n",
       "    }\n",
       "\n",
       "    .dataframe thead th {\n",
       "        text-align: right;\n",
       "    }\n",
       "</style>\n",
       "<table border=\"1\" class=\"dataframe\">\n",
       "  <thead>\n",
       "    <tr style=\"text-align: right;\">\n",
       "      <th></th>\n",
       "    </tr>\n",
       "  </thead>\n",
       "  <tbody>\n",
       "  </tbody>\n",
       "</table>\n",
       "</div>"
      ],
      "text/plain": [
       "Empty DataFrame\n",
       "Columns: []\n",
       "Index: []"
      ]
     },
     "execution_count": 22,
     "metadata": {},
     "output_type": "execute_result"
    }
   ],
   "source": [
    "statement1 = \"\"\"CREATE EXTERNAL TABLE IF NOT EXISTS {}.{}(\n",
    "         OBJECTID int,\n",
    "         District int,\n",
    "         Route string,\n",
    "         Direction string,\n",
    "         Begin_County string,\n",
    "         Begin_Post_Mile string,\n",
    "         End_County string,\n",
    "         End_Post_Mile string,\n",
    "         Begin_Abs_Post_Mile int,\n",
    "         End_Abs_Post_Mile int,\n",
    "         Description string,\n",
    "         Length__Lane_Miles_ int,\n",
    "         Opening_Date string,\n",
    "         Occupancy_Requirement_for_Toll_ string,\n",
    "         Hours_of_Operation string,\n",
    "         Comments string,\n",
    "         Shape_Length int\n",
    ") ROW FORMAT DELIMITED FIELDS TERMINATED BY ',' LINES TERMINATED BY '\\\\n' LOCATION '{}'\n",
    "TBLPROPERTIES ('skip.header.line.count'='1')\"\"\".format(\n",
    "    database_name, Ex_Ln_table, s3_path_Ex_Ln\n",
    ")\n",
    "\n",
    "pd.read_sql(statement1, conn)"
   ]
  },
  {
   "cell_type": "code",
   "execution_count": 23,
   "id": "c132aa26-6fa4-427b-ab8f-b62d146903b8",
   "metadata": {
    "tags": []
   },
   "outputs": [
    {
     "data": {
      "text/html": [
       "<div>\n",
       "<style scoped>\n",
       "    .dataframe tbody tr th:only-of-type {\n",
       "        vertical-align: middle;\n",
       "    }\n",
       "\n",
       "    .dataframe tbody tr th {\n",
       "        vertical-align: top;\n",
       "    }\n",
       "\n",
       "    .dataframe thead th {\n",
       "        text-align: right;\n",
       "    }\n",
       "</style>\n",
       "<table border=\"1\" class=\"dataframe\">\n",
       "  <thead>\n",
       "    <tr style=\"text-align: right;\">\n",
       "      <th></th>\n",
       "    </tr>\n",
       "  </thead>\n",
       "  <tbody>\n",
       "  </tbody>\n",
       "</table>\n",
       "</div>"
      ],
      "text/plain": [
       "Empty DataFrame\n",
       "Columns: []\n",
       "Index: []"
      ]
     },
     "execution_count": 23,
     "metadata": {},
     "output_type": "execute_result"
    }
   ],
   "source": [
    "statement2 = \"\"\"CREATE EXTERNAL TABLE IF NOT EXISTS {}.{}(\n",
    "         OBJECTID int,\n",
    "         District int,\n",
    "         Route string,\n",
    "         Direction string,\n",
    "         Begin_County string,\n",
    "         Begin_Post_Mile string,\n",
    "         End_County string,\n",
    "         End_Post_Mile string,\n",
    "         Begin_Abs_Post_Mile int,\n",
    "         End_Abs_Post_Mile int,\n",
    "         Description string,\n",
    "         Length__Lane_Miles_ int,\n",
    "         Occupancy_Requirement string,\n",
    "         Hours_of_Operation string,\n",
    "         Segment_Opening_Date string,\n",
    "         Comments string,\n",
    "         Shape_Length int\n",
    ") ROW FORMAT DELIMITED FIELDS TERMINATED BY ',' LINES TERMINATED BY '\\\\n' LOCATION '{}'\n",
    "TBLPROPERTIES ('skip.header.line.count'='1')\"\"\".format(\n",
    "    database_name, HOV_table, s3_path_HOV\n",
    ")\n",
    "\n",
    "pd.read_sql(statement2, conn)"
   ]
  },
  {
   "cell_type": "code",
   "execution_count": 24,
   "id": "14f7b314-1214-42a1-be44-0b9e354a0016",
   "metadata": {
    "tags": []
   },
   "outputs": [
    {
     "data": {
      "text/html": [
       "<div>\n",
       "<style scoped>\n",
       "    .dataframe tbody tr th:only-of-type {\n",
       "        vertical-align: middle;\n",
       "    }\n",
       "\n",
       "    .dataframe tbody tr th {\n",
       "        vertical-align: top;\n",
       "    }\n",
       "\n",
       "    .dataframe thead th {\n",
       "        text-align: right;\n",
       "    }\n",
       "</style>\n",
       "<table border=\"1\" class=\"dataframe\">\n",
       "  <thead>\n",
       "    <tr style=\"text-align: right;\">\n",
       "      <th></th>\n",
       "    </tr>\n",
       "  </thead>\n",
       "  <tbody>\n",
       "  </tbody>\n",
       "</table>\n",
       "</div>"
      ],
      "text/plain": [
       "Empty DataFrame\n",
       "Columns: []\n",
       "Index: []"
      ]
     },
     "execution_count": 24,
     "metadata": {},
     "output_type": "execute_result"
    }
   ],
   "source": [
    "statement3 = \"\"\"CREATE EXTERNAL TABLE IF NOT EXISTS {}.{}(\n",
    "         OBJECTID int,\n",
    "         District int,\n",
    "         Route int,       \n",
    "         RTE_SFX string,      \n",
    "         COUNTY string,\n",
    "         PM_PFX string, \n",
    "         PM int,\n",
    "         PM_SFX string,\n",
    "         DESCRIPTION string,\n",
    "         BACK_PEAK_HOUR int,\n",
    "         BACK_PEAK_MADT int,\n",
    "         BACK_AADT int,\n",
    "         AHEAD_PEAK_HOUR int,\n",
    "         AHEAD_PEAK_MADT int,\n",
    "         AHEAD_AADT int   \n",
    ") ROW FORMAT DELIMITED FIELDS TERMINATED BY ',' LINES TERMINATED BY '\\\\n' LOCATION '{}'\n",
    "TBLPROPERTIES ('skip.header.line.count'='1')\"\"\".format(\n",
    "    database_name, vol_table, s3_path_vol\n",
    ")\n",
    "\n",
    "pd.read_sql(statement3, conn)"
   ]
  },
  {
   "cell_type": "code",
   "execution_count": 25,
   "id": "8f24268d-8134-4051-bba8-bd1848fbf9ac",
   "metadata": {},
   "outputs": [
    {
     "data": {
      "text/html": [
       "<div>\n",
       "<style scoped>\n",
       "    .dataframe tbody tr th:only-of-type {\n",
       "        vertical-align: middle;\n",
       "    }\n",
       "\n",
       "    .dataframe tbody tr th {\n",
       "        vertical-align: top;\n",
       "    }\n",
       "\n",
       "    .dataframe thead th {\n",
       "        text-align: right;\n",
       "    }\n",
       "</style>\n",
       "<table border=\"1\" class=\"dataframe\">\n",
       "  <thead>\n",
       "    <tr style=\"text-align: right;\">\n",
       "      <th></th>\n",
       "    </tr>\n",
       "  </thead>\n",
       "  <tbody>\n",
       "  </tbody>\n",
       "</table>\n",
       "</div>"
      ],
      "text/plain": [
       "Empty DataFrame\n",
       "Columns: []\n",
       "Index: []"
      ]
     },
     "execution_count": 25,
     "metadata": {},
     "output_type": "execute_result"
    }
   ],
   "source": [
    "statement4 = \"\"\"CREATE EXTERNAL TABLE IF NOT EXISTS {}.{}(\n",
    "         Date DATE,\n",
    "         Day string,\n",
    "         Lane string,\n",
    "         Date_Time TIMESTAMP,\n",
    "         Time TIMESTAMP,      \n",
    "         Minimum int,\n",
    "         Mean int, \n",
    "         Maximum int,\n",
    "         Lane_Pts_num int,\n",
    "         Oberserved_percent int\n",
    ") ROW FORMAT DELIMITED FIELDS TERMINATED BY ',' LINES TERMINATED BY '\\\\n' LOCATION '{}'\n",
    "TBLPROPERTIES ('skip.header.line.count'='1')\"\"\".format(\n",
    "    database_name, Route77_table, s3_path_Route77\n",
    ")\n",
    "\n",
    "pd.read_sql(statement4, conn)"
   ]
  },
  {
   "cell_type": "markdown",
   "id": "9914af4b-6dca-42e6-a086-4182668af320",
   "metadata": {},
   "source": [
    "#### check if all the table been created succeffully "
   ]
  },
  {
   "cell_type": "code",
   "execution_count": 26,
   "id": "a1163945-2093-47b0-99eb-c4e2b6970f7d",
   "metadata": {
    "tags": []
   },
   "outputs": [
    {
     "data": {
      "text/html": [
       "<div>\n",
       "<style scoped>\n",
       "    .dataframe tbody tr th:only-of-type {\n",
       "        vertical-align: middle;\n",
       "    }\n",
       "\n",
       "    .dataframe tbody tr th {\n",
       "        vertical-align: top;\n",
       "    }\n",
       "\n",
       "    .dataframe thead th {\n",
       "        text-align: right;\n",
       "    }\n",
       "</style>\n",
       "<table border=\"1\" class=\"dataframe\">\n",
       "  <thead>\n",
       "    <tr style=\"text-align: right;\">\n",
       "      <th></th>\n",
       "      <th>tab_name</th>\n",
       "    </tr>\n",
       "  </thead>\n",
       "  <tbody>\n",
       "    <tr>\n",
       "      <th>0</th>\n",
       "      <td>ex_ln</td>\n",
       "    </tr>\n",
       "    <tr>\n",
       "      <th>1</th>\n",
       "      <td>hov</td>\n",
       "    </tr>\n",
       "    <tr>\n",
       "      <th>2</th>\n",
       "      <td>route77</td>\n",
       "    </tr>\n",
       "    <tr>\n",
       "      <th>3</th>\n",
       "      <td>traffic_volumes_aadt</td>\n",
       "    </tr>\n",
       "    <tr>\n",
       "      <th>4</th>\n",
       "      <td>vol</td>\n",
       "    </tr>\n",
       "  </tbody>\n",
       "</table>\n",
       "</div>"
      ],
      "text/plain": [
       "               tab_name\n",
       "0                 ex_ln\n",
       "1                   hov\n",
       "2               route77\n",
       "3  traffic_volumes_aadt\n",
       "4                   vol"
      ]
     },
     "execution_count": 26,
     "metadata": {},
     "output_type": "execute_result"
    }
   ],
   "source": [
    "statement = \"SHOW TABLES in {}\".format(database_name)\n",
    "\n",
    "df_show = pd.read_sql(statement, conn)\n",
    "df_show.head(5)"
   ]
  },
  {
   "cell_type": "markdown",
   "id": "2b3f506b-2869-4947-aa6d-847ec5e1f731",
   "metadata": {},
   "source": [
    "# Section 2: Exploratory Data Analysis (EDA)"
   ]
  },
  {
   "cell_type": "markdown",
   "id": "1b28afb7-8f04-48c1-8978-a8b8fdca4e4a",
   "metadata": {},
   "source": [
    "#### Ex_Ln Table:"
   ]
  },
  {
   "cell_type": "code",
   "execution_count": 27,
   "id": "dea5c3a9-661d-424d-9a95-f7deb8005b18",
   "metadata": {
    "tags": []
   },
   "outputs": [
    {
     "name": "stdout",
     "output_type": "stream",
     "text": [
      "<class 'pandas.core.frame.DataFrame'>\n",
      "RangeIndex: 27 entries, 0 to 26\n",
      "Data columns (total 17 columns):\n",
      " #   Column                           Non-Null Count  Dtype  \n",
      "---  ------                           --------------  -----  \n",
      " 0   OBJECTID                         27 non-null     int64  \n",
      " 1   District                         27 non-null     int64  \n",
      " 2   Route                            27 non-null     object \n",
      " 3   Direction                        27 non-null     object \n",
      " 4   Begin_County                     27 non-null     object \n",
      " 5   Begin_Post_Mile                  27 non-null     object \n",
      " 6   End_County                       27 non-null     object \n",
      " 7   End_Post_Mile                    27 non-null     object \n",
      " 8   Begin_Abs_Post_Mile              27 non-null     float64\n",
      " 9   End_Abs_Post_Mile                27 non-null     float64\n",
      " 10  Description                      27 non-null     object \n",
      " 11  Length__Lane_Miles_              27 non-null     float64\n",
      " 12  Opening_Date                     27 non-null     object \n",
      " 13  Occupancy_Requirement_for_Toll_  27 non-null     object \n",
      " 14  Hours_of_Operation               27 non-null     object \n",
      " 15  Comments                         26 non-null     object \n",
      " 16  Shape_Length                     27 non-null     float64\n",
      "dtypes: float64(4), int64(2), object(11)\n",
      "memory usage: 3.7+ KB\n"
     ]
    },
    {
     "data": {
      "text/html": [
       "<div>\n",
       "<style scoped>\n",
       "    .dataframe tbody tr th:only-of-type {\n",
       "        vertical-align: middle;\n",
       "    }\n",
       "\n",
       "    .dataframe tbody tr th {\n",
       "        vertical-align: top;\n",
       "    }\n",
       "\n",
       "    .dataframe thead th {\n",
       "        text-align: right;\n",
       "    }\n",
       "</style>\n",
       "<table border=\"1\" class=\"dataframe\">\n",
       "  <thead>\n",
       "    <tr style=\"text-align: right;\">\n",
       "      <th></th>\n",
       "      <th>OBJECTID</th>\n",
       "      <th>District</th>\n",
       "      <th>Route</th>\n",
       "      <th>Direction</th>\n",
       "      <th>Begin_County</th>\n",
       "      <th>Begin_Post_Mile</th>\n",
       "      <th>End_County</th>\n",
       "      <th>End_Post_Mile</th>\n",
       "      <th>Begin_Abs_Post_Mile</th>\n",
       "      <th>End_Abs_Post_Mile</th>\n",
       "      <th>Description</th>\n",
       "      <th>Length__Lane_Miles_</th>\n",
       "      <th>Opening_Date</th>\n",
       "      <th>Occupancy_Requirement_for_Toll_</th>\n",
       "      <th>Hours_of_Operation</th>\n",
       "      <th>Comments</th>\n",
       "      <th>Shape_Length</th>\n",
       "    </tr>\n",
       "  </thead>\n",
       "  <tbody>\n",
       "    <tr>\n",
       "      <th>0</th>\n",
       "      <td>1</td>\n",
       "      <td>4</td>\n",
       "      <td>237</td>\n",
       "      <td>EB</td>\n",
       "      <td>SCL</td>\n",
       "      <td>R3.343</td>\n",
       "      <td>SCL</td>\n",
       "      <td>R9.164R</td>\n",
       "      <td>3.400</td>\n",
       "      <td>9.216</td>\n",
       "      <td>Mathilda Avenue to I-880</td>\n",
       "      <td>7.316</td>\n",
       "      <td>Mathilda Ave. to Zanker Rd. - 11/15/2019; Zank...</td>\n",
       "      <td>3+</td>\n",
       "      <td>M-F; 05:00-20:00</td>\n",
       "      <td>Conversion from HOV to Express Lane. ; Mileage...</td>\n",
       "      <td>11502.249796</td>\n",
       "    </tr>\n",
       "    <tr>\n",
       "      <th>1</th>\n",
       "      <td>2</td>\n",
       "      <td>4</td>\n",
       "      <td>580</td>\n",
       "      <td>EB</td>\n",
       "      <td>ALA</td>\n",
       "      <td>18.913</td>\n",
       "      <td>ALA</td>\n",
       "      <td>R8.762</td>\n",
       "      <td>35.097</td>\n",
       "      <td>24.916</td>\n",
       "      <td>Hacienda Rd to Greenville Rd</td>\n",
       "      <td>17.041</td>\n",
       "      <td>2/19/2016</td>\n",
       "      <td>2+</td>\n",
       "      <td>M-F; 05:00-20:00</td>\n",
       "      <td>Converted from HOV lane. Includes dual lane se...</td>\n",
       "      <td>20683.777789</td>\n",
       "    </tr>\n",
       "    <tr>\n",
       "      <th>2</th>\n",
       "      <td>3</td>\n",
       "      <td>7</td>\n",
       "      <td>10S</td>\n",
       "      <td>EB</td>\n",
       "      <td>LA</td>\n",
       "      <td>16.968</td>\n",
       "      <td>LA</td>\n",
       "      <td>27.96</td>\n",
       "      <td>0.000</td>\n",
       "      <td>10.992</td>\n",
       "      <td>Alameda St to Baldwin Ave</td>\n",
       "      <td>17.022</td>\n",
       "      <td>Alameda St to Mission Rd - Apr 1990; Mission R...</td>\n",
       "      <td>3+ 5:00-9:00 am M-F; 3+ 4:00-7:00 pm M-F; 2+ A...</td>\n",
       "      <td>24 hrs</td>\n",
       "      <td>Mileage includes dual lane segment from PM 22....</td>\n",
       "      <td>21359.741104</td>\n",
       "    </tr>\n",
       "    <tr>\n",
       "      <th>3</th>\n",
       "      <td>4</td>\n",
       "      <td>7</td>\n",
       "      <td>10</td>\n",
       "      <td>EB</td>\n",
       "      <td>LA</td>\n",
       "      <td>27.963</td>\n",
       "      <td>LA</td>\n",
       "      <td>30.995</td>\n",
       "      <td>26.463</td>\n",
       "      <td>29.495</td>\n",
       "      <td>Baldwin Ave to I-605</td>\n",
       "      <td>5.273</td>\n",
       "      <td>Baldwin Ave to Rte 605 � Feb 2005; Converted t...</td>\n",
       "      <td>3+ 5:00-9:00 am M-F; 3+ 4:00-7:00 pm M-F; 2+ A...</td>\n",
       "      <td>24 hrs</td>\n",
       "      <td>Mileage includes dual lane segment from PM 27....</td>\n",
       "      <td>5877.568529</td>\n",
       "    </tr>\n",
       "    <tr>\n",
       "      <th>4</th>\n",
       "      <td>5</td>\n",
       "      <td>8</td>\n",
       "      <td>91</td>\n",
       "      <td>EB</td>\n",
       "      <td>RIV</td>\n",
       "      <td>R0.000</td>\n",
       "      <td>RIV</td>\n",
       "      <td>7.514</td>\n",
       "      <td>37.232</td>\n",
       "      <td>44.858</td>\n",
       "      <td>Orange County Line to I-15</td>\n",
       "      <td>16.524</td>\n",
       "      <td>Converted from single lane HOV lane to dual Ex...</td>\n",
       "      <td>3+; (Pay 50% discounted toll Monday thru Frida...</td>\n",
       "      <td>24 hrs</td>\n",
       "      <td>; Dual lane facility from PM R0.000 to PM 6.41...</td>\n",
       "      <td>14765.391421</td>\n",
       "    </tr>\n",
       "  </tbody>\n",
       "</table>\n",
       "</div>"
      ],
      "text/plain": [
       "   OBJECTID  District Route Direction Begin_County Begin_Post_Mile End_County  \\\n",
       "0         1         4   237        EB          SCL          R3.343        SCL   \n",
       "1         2         4   580        EB          ALA          18.913        ALA   \n",
       "2         3         7   10S        EB           LA          16.968         LA   \n",
       "3         4         7    10        EB           LA          27.963         LA   \n",
       "4         5         8    91        EB          RIV          R0.000        RIV   \n",
       "\n",
       "  End_Post_Mile  Begin_Abs_Post_Mile  End_Abs_Post_Mile  \\\n",
       "0       R9.164R                3.400              9.216   \n",
       "1        R8.762               35.097             24.916   \n",
       "2         27.96                0.000             10.992   \n",
       "3        30.995               26.463             29.495   \n",
       "4         7.514               37.232             44.858   \n",
       "\n",
       "                    Description  Length__Lane_Miles_  \\\n",
       "0      Mathilda Avenue to I-880                7.316   \n",
       "1  Hacienda Rd to Greenville Rd               17.041   \n",
       "2     Alameda St to Baldwin Ave               17.022   \n",
       "3          Baldwin Ave to I-605                5.273   \n",
       "4    Orange County Line to I-15               16.524   \n",
       "\n",
       "                                        Opening_Date  \\\n",
       "0  Mathilda Ave. to Zanker Rd. - 11/15/2019; Zank...   \n",
       "1                                          2/19/2016   \n",
       "2  Alameda St to Mission Rd - Apr 1990; Mission R...   \n",
       "3  Baldwin Ave to Rte 605 � Feb 2005; Converted t...   \n",
       "4  Converted from single lane HOV lane to dual Ex...   \n",
       "\n",
       "                     Occupancy_Requirement_for_Toll_ Hours_of_Operation  \\\n",
       "0                                                 3+   M-F; 05:00-20:00   \n",
       "1                                                 2+   M-F; 05:00-20:00   \n",
       "2  3+ 5:00-9:00 am M-F; 3+ 4:00-7:00 pm M-F; 2+ A...             24 hrs   \n",
       "3  3+ 5:00-9:00 am M-F; 3+ 4:00-7:00 pm M-F; 2+ A...             24 hrs   \n",
       "4  3+; (Pay 50% discounted toll Monday thru Frida...             24 hrs   \n",
       "\n",
       "                                            Comments  Shape_Length  \n",
       "0  Conversion from HOV to Express Lane. ; Mileage...  11502.249796  \n",
       "1  Converted from HOV lane. Includes dual lane se...  20683.777789  \n",
       "2  Mileage includes dual lane segment from PM 22....  21359.741104  \n",
       "3  Mileage includes dual lane segment from PM 27....   5877.568529  \n",
       "4  ; Dual lane facility from PM R0.000 to PM 6.41...  14765.391421  "
      ]
     },
     "execution_count": 27,
     "metadata": {},
     "output_type": "execute_result"
    }
   ],
   "source": [
    "Ex_Ln_df = pd.read_csv(s3_path_Ex_Ln)\n",
    "Ex_Ln_df.info()\n",
    "Ex_Ln_df.head(5)"
   ]
  },
  {
   "cell_type": "code",
   "execution_count": 28,
   "id": "f57a5890-e202-4fc3-9bfb-be71d6411dac",
   "metadata": {
    "tags": []
   },
   "outputs": [
    {
     "data": {
      "image/png": "[encoded data removed]",
      "text/plain": [
       "<Figure size 640x480 with 4 Axes>"
      ]
     },
     "metadata": {},
     "output_type": "display_data"
    }
   ],
   "source": [
    "n_bins = 10\n",
    "fig, ((ax0, ax1), (ax2, ax3)) = plt.subplots(nrows=2, ncols=2)\n",
    "\n",
    "ax0.hist(Ex_Ln_df['District'], n_bins, density=True, histtype='bar', stacked = True)\n",
    "ax0.set_title('District')\n",
    "\n",
    "ax1.hist(Ex_Ln_df['Begin_Abs_Post_Mile'], n_bins, density=True, histtype='bar', stacked=True)\n",
    "ax1.set_title('Begin_Abs_Post_Mile')\n",
    "\n",
    "ax2.hist(Ex_Ln_df['End_Abs_Post_Mile'], n_bins, histtype='bar', stacked=True)\n",
    "ax2.set_title('End_Abs_Post_Mile')\n",
    "\n",
    "ax3.hist(Ex_Ln_df['Length__Lane_Miles_'], n_bins, histtype='bar', stacked=True)\n",
    "ax3.set_title('Day Length__Lane_Miles_')\n",
    "\n",
    "\n",
    "fig.tight_layout()\n",
    "plt.show()"
   ]
  },
  {
   "cell_type": "code",
   "execution_count": 29,
   "id": "f87c7384-2cba-4725-b3a4-ca5d12065e15",
   "metadata": {
    "tags": []
   },
   "outputs": [
    {
     "data": {
      "image/png": "[encoded data removed]",
      "text/plain": [
       "<Figure size 1274.24x600 with 1 Axes>"
      ]
     },
     "metadata": {},
     "output_type": "display_data"
    }
   ],
   "source": [
    "# Create a grouped bar chart using seaborn\n",
    "sns.set_style(\"whitegrid\")\n",
    "sns.set_palette(\"husl\", 2)\n",
    "ax = sns.catplot(x='Route', y='Length__Lane_Miles_', hue='Direction', \n",
    "                 kind='bar', data=Ex_Ln_df, height = 6, aspect=2)\n",
    "\n",
    "# Set the axis labels and title\n",
    "ax.set_xlabels('Freeway Route Number')\n",
    "ax.set_ylabels('Freeway Length (Miles)')\n",
    "ax.set(title='Freeway Length by Route Number and Direction')\n",
    "\n",
    "# Show the plot\n",
    "plt.show()"
   ]
  },
  {
   "cell_type": "code",
   "execution_count": 30,
   "id": "a4fe2cb2-ea54-4cfa-9fac-fd2e2d81191c",
   "metadata": {
    "tags": []
   },
   "outputs": [
    {
     "data": {
      "image/png": "[encoded data removed]",
      "text/plain": [
       "<Figure size 1000x700 with 1 Axes>"
      ]
     },
     "metadata": {},
     "output_type": "display_data"
    }
   ],
   "source": [
    "# Group the data by county and sum the lane miles\n",
    "grouped_data = Ex_Ln_df.groupby(['Begin_County', 'End_County']).agg({'Length__Lane_Miles_': 'sum'}).reset_index()\n",
    "\n",
    "# Create a horizontal bar chart\n",
    "fig, ax = plt.subplots(figsize=(10, 7))\n",
    "bars = ax.barh(y=grouped_data['Begin_County'] + ' - ' + grouped_data['End_County'], width=grouped_data['Length__Lane_Miles_'], color='navy')\n",
    "\n",
    "# Set the axis labels and title\n",
    "ax.set_xlabel('Lane Miles')\n",
    "ax.set_ylabel('County Range')\n",
    "ax.set_title('Total Lane Miles by County Range')\n",
    "\n",
    "# Add labels to the bars\n",
    "for i, bar in enumerate(bars):\n",
    "    value = bar.get_width()\n",
    "    x_pos = value + 5\n",
    "    y_pos = i\n",
    "    ax.text(x_pos, y_pos, str(round(value)), va='center')\n",
    "\n",
    "# Show the plot\n",
    "plt.show()"
   ]
  },
  {
   "cell_type": "markdown",
   "id": "f90a5c9d-c8d5-4254-820c-912c6d5decf1",
   "metadata": {},
   "source": [
    "#### HOV Dataset:"
   ]
  },
  {
   "cell_type": "code",
   "execution_count": 31,
   "id": "9b04dcf6-9fc3-4cae-8b01-dcc8ab86ec4c",
   "metadata": {
    "tags": []
   },
   "outputs": [
    {
     "name": "stdout",
     "output_type": "stream",
     "text": [
      "<class 'pandas.core.frame.DataFrame'>\n",
      "RangeIndex: 109 entries, 0 to 108\n",
      "Data columns (total 17 columns):\n",
      " #   Column                 Non-Null Count  Dtype  \n",
      "---  ------                 --------------  -----  \n",
      " 0   OBJECTID               109 non-null    int64  \n",
      " 1   District               109 non-null    int64  \n",
      " 2   Route                  109 non-null    object \n",
      " 3   Direction              109 non-null    object \n",
      " 4   Begin_County           109 non-null    object \n",
      " 5   Begin_Post_Mile        109 non-null    object \n",
      " 6   End_County             109 non-null    object \n",
      " 7   End_Post_Mile          109 non-null    object \n",
      " 8   Begin_Abs_Post_Mile    106 non-null    float64\n",
      " 9   End_Abs_Post_Mile      106 non-null    float64\n",
      " 10  Description            109 non-null    object \n",
      " 11  Length__Lane_Miles_    109 non-null    float64\n",
      " 12  Occupancy_Requirement  109 non-null    object \n",
      " 13  Hours_of_Operation     109 non-null    object \n",
      " 14  Segment_Opening_Date   105 non-null    object \n",
      " 15  Comments               83 non-null     object \n",
      " 16  Shape_Length           109 non-null    float64\n",
      "dtypes: float64(4), int64(2), object(11)\n",
      "memory usage: 14.6+ KB\n"
     ]
    },
    {
     "data": {
      "text/html": [
       "<div>\n",
       "<style scoped>\n",
       "    .dataframe tbody tr th:only-of-type {\n",
       "        vertical-align: middle;\n",
       "    }\n",
       "\n",
       "    .dataframe tbody tr th {\n",
       "        vertical-align: top;\n",
       "    }\n",
       "\n",
       "    .dataframe thead th {\n",
       "        text-align: right;\n",
       "    }\n",
       "</style>\n",
       "<table border=\"1\" class=\"dataframe\">\n",
       "  <thead>\n",
       "    <tr style=\"text-align: right;\">\n",
       "      <th></th>\n",
       "      <th>OBJECTID</th>\n",
       "      <th>District</th>\n",
       "      <th>Route</th>\n",
       "      <th>Direction</th>\n",
       "      <th>Begin_County</th>\n",
       "      <th>Begin_Post_Mile</th>\n",
       "      <th>End_County</th>\n",
       "      <th>End_Post_Mile</th>\n",
       "      <th>Begin_Abs_Post_Mile</th>\n",
       "      <th>End_Abs_Post_Mile</th>\n",
       "      <th>Description</th>\n",
       "      <th>Length__Lane_Miles_</th>\n",
       "      <th>Occupancy_Requirement</th>\n",
       "      <th>Hours_of_Operation</th>\n",
       "      <th>Segment_Opening_Date</th>\n",
       "      <th>Comments</th>\n",
       "      <th>Shape_Length</th>\n",
       "    </tr>\n",
       "  </thead>\n",
       "  <tbody>\n",
       "    <tr>\n",
       "      <th>0</th>\n",
       "      <td>1</td>\n",
       "      <td>3</td>\n",
       "      <td>50</td>\n",
       "      <td>EB</td>\n",
       "      <td>SAC</td>\n",
       "      <td>R5.371</td>\n",
       "      <td>ED</td>\n",
       "      <td>5.834</td>\n",
       "      <td>11.005</td>\n",
       "      <td>34.632</td>\n",
       "      <td>Watt Ave to Cameron Park Dr</td>\n",
       "      <td>23.627</td>\n",
       "      <td>2+</td>\n",
       "      <td>M-F 06:00-10:00 and 15:00-19:00</td>\n",
       "      <td>Watt Ave to Sunrise Blvd - Dec 2011; Sunrise B...</td>\n",
       "      <td>NaN</td>\n",
       "      <td>48659.155980</td>\n",
       "    </tr>\n",
       "    <tr>\n",
       "      <th>1</th>\n",
       "      <td>2</td>\n",
       "      <td>3</td>\n",
       "      <td>80</td>\n",
       "      <td>EB</td>\n",
       "      <td>SAC</td>\n",
       "      <td>M0.767</td>\n",
       "      <td>PLA</td>\n",
       "      <td>4.718</td>\n",
       "      <td>84.691</td>\n",
       "      <td>106.237</td>\n",
       "      <td>West El Camino Ave to SR-65</td>\n",
       "      <td>21.546</td>\n",
       "      <td>2+</td>\n",
       "      <td>M-F 06:00-10:00 and 15:00-19:00</td>\n",
       "      <td>Yolo Co Line to Longview Dr - Dec 2016; Longvi...</td>\n",
       "      <td>NaN</td>\n",
       "      <td>44432.185806</td>\n",
       "    </tr>\n",
       "    <tr>\n",
       "      <th>2</th>\n",
       "      <td>3</td>\n",
       "      <td>4</td>\n",
       "      <td>80</td>\n",
       "      <td>EB</td>\n",
       "      <td>SOL</td>\n",
       "      <td>0.504</td>\n",
       "      <td>SOL</td>\n",
       "      <td>0.673</td>\n",
       "      <td>27.995</td>\n",
       "      <td>28.164</td>\n",
       "      <td>Carquinez Bridge Toll Plaza</td>\n",
       "      <td>0.255</td>\n",
       "      <td>3+</td>\n",
       "      <td>M-F 05:00-10:00 and 15:00-19:00</td>\n",
       "      <td>Opened; W/O Toll Plaza to E/O Toll Plaza, 07/3...</td>\n",
       "      <td>2-Seat Vehicles with 2 Persons Permitted; Toll...</td>\n",
       "      <td>348.131415</td>\n",
       "    </tr>\n",
       "    <tr>\n",
       "      <th>3</th>\n",
       "      <td>4</td>\n",
       "      <td>4</td>\n",
       "      <td>80</td>\n",
       "      <td>EB</td>\n",
       "      <td>SOL</td>\n",
       "      <td>R11.485</td>\n",
       "      <td>SOL</td>\n",
       "      <td>19.594</td>\n",
       "      <td>38.976</td>\n",
       "      <td>47.096</td>\n",
       "      <td>Red Top Road to Air Base Pkwy</td>\n",
       "      <td>8.120</td>\n",
       "      <td>2+</td>\n",
       "      <td>M-F 05:00-10:00 and 15:00-19:00</td>\n",
       "      <td>Opened; Red Top Road to E/O Air Base Pkwy., 11...</td>\n",
       "      <td>NaN</td>\n",
       "      <td>16660.846138</td>\n",
       "    </tr>\n",
       "    <tr>\n",
       "      <th>4</th>\n",
       "      <td>5</td>\n",
       "      <td>7</td>\n",
       "      <td>10</td>\n",
       "      <td>EB</td>\n",
       "      <td>LA</td>\n",
       "      <td>30.995</td>\n",
       "      <td>LA</td>\n",
       "      <td>48.265</td>\n",
       "      <td>29.495</td>\n",
       "      <td>46.765</td>\n",
       "      <td>I-605 to San Bernardino County Line</td>\n",
       "      <td>17.270</td>\n",
       "      <td>2+</td>\n",
       "      <td>24 Hr</td>\n",
       "      <td>Rte 605 to 0.6 mi west of Puente Ave (Francisq...</td>\n",
       "      <td>Continues into San Bernardino County</td>\n",
       "      <td>33527.727027</td>\n",
       "    </tr>\n",
       "  </tbody>\n",
       "</table>\n",
       "</div>"
      ],
      "text/plain": [
       "   OBJECTID  District Route Direction Begin_County Begin_Post_Mile End_County  \\\n",
       "0         1         3    50        EB          SAC          R5.371         ED   \n",
       "1         2         3    80        EB          SAC          M0.767        PLA   \n",
       "2         3         4    80        EB          SOL           0.504        SOL   \n",
       "3         4         4    80        EB          SOL         R11.485        SOL   \n",
       "4         5         7    10        EB           LA          30.995         LA   \n",
       "\n",
       "  End_Post_Mile  Begin_Abs_Post_Mile  End_Abs_Post_Mile  \\\n",
       "0         5.834               11.005             34.632   \n",
       "1         4.718               84.691            106.237   \n",
       "2         0.673               27.995             28.164   \n",
       "3        19.594               38.976             47.096   \n",
       "4        48.265               29.495             46.765   \n",
       "\n",
       "                           Description  Length__Lane_Miles_  \\\n",
       "0          Watt Ave to Cameron Park Dr               23.627   \n",
       "1          West El Camino Ave to SR-65               21.546   \n",
       "2          Carquinez Bridge Toll Plaza                0.255   \n",
       "3        Red Top Road to Air Base Pkwy                8.120   \n",
       "4  I-605 to San Bernardino County Line               17.270   \n",
       "\n",
       "  Occupancy_Requirement               Hours_of_Operation  \\\n",
       "0                    2+  M-F 06:00-10:00 and 15:00-19:00   \n",
       "1                    2+  M-F 06:00-10:00 and 15:00-19:00   \n",
       "2                    3+  M-F 05:00-10:00 and 15:00-19:00   \n",
       "3                    2+  M-F 05:00-10:00 and 15:00-19:00   \n",
       "4                    2+                            24 Hr   \n",
       "\n",
       "                                Segment_Opening_Date  \\\n",
       "0  Watt Ave to Sunrise Blvd - Dec 2011; Sunrise B...   \n",
       "1  Yolo Co Line to Longview Dr - Dec 2016; Longvi...   \n",
       "2  Opened; W/O Toll Plaza to E/O Toll Plaza, 07/3...   \n",
       "3  Opened; Red Top Road to E/O Air Base Pkwy., 11...   \n",
       "4  Rte 605 to 0.6 mi west of Puente Ave (Francisq...   \n",
       "\n",
       "                                            Comments  Shape_Length  \n",
       "0                                                NaN  48659.155980  \n",
       "1                                                NaN  44432.185806  \n",
       "2  2-Seat Vehicles with 2 Persons Permitted; Toll...    348.131415  \n",
       "3                                                NaN  16660.846138  \n",
       "4               Continues into San Bernardino County  33527.727027  "
      ]
     },
     "execution_count": 31,
     "metadata": {},
     "output_type": "execute_result"
    }
   ],
   "source": [
    "HOV_df = pd.read_csv(s3_path_HOV)\n",
    "HOV_df.info()\n",
    "HOV_df.head(5)"
   ]
  },
  {
   "cell_type": "code",
   "execution_count": 32,
   "id": "ef7d1331-66b0-4a12-8c91-093beae3cf56",
   "metadata": {
    "tags": []
   },
   "outputs": [
    {
     "data": {
      "image/png": "[encoded data removed]",
      "text/plain": [
       "<Figure size 640x480 with 4 Axes>"
      ]
     },
     "metadata": {},
     "output_type": "display_data"
    }
   ],
   "source": [
    "n_bins = 10\n",
    "fig, ((ax0, ax1), (ax2, ax3)) = plt.subplots(nrows=2, ncols=2)\n",
    "\n",
    "ax0.hist(HOV_df['District'], n_bins, density=True, histtype='bar', stacked = True)\n",
    "ax0.set_title('District')\n",
    "\n",
    "ax1.hist(HOV_df['Begin_Abs_Post_Mile'], n_bins, density=True, histtype='bar', stacked=True)\n",
    "ax1.set_title('Begin_Abs_Post_Mile')\n",
    "\n",
    "ax2.hist(HOV_df['End_Abs_Post_Mile'], n_bins, histtype='bar', stacked=True)\n",
    "ax2.set_title('End_Abs_Post_Mile')\n",
    "\n",
    "ax3.hist(HOV_df['Length__Lane_Miles_'], n_bins, histtype='bar', stacked=True)\n",
    "ax3.set_title('Day Length__Lane_Miles_')\n",
    "\n",
    "fig.tight_layout()\n",
    "plt.show()"
   ]
  },
  {
   "cell_type": "code",
   "execution_count": 33,
   "id": "9d5eb0ef-870c-4427-bf9d-fd0ab49decfc",
   "metadata": {
    "tags": []
   },
   "outputs": [
    {
     "data": {
      "image/png": "[encoded data removed]",
      "text/plain": [
       "<Figure size 1474.24x700 with 1 Axes>"
      ]
     },
     "metadata": {},
     "output_type": "display_data"
    }
   ],
   "source": [
    "# Create a grouped bar chart using seaborn\n",
    "sns.set_style(\"whitegrid\")\n",
    "sns.set_palette(\"husl\", 2)\n",
    "ax = sns.catplot(x='Route', y='Length__Lane_Miles_', hue='Direction', \n",
    "                 kind='bar', data=HOV_df, height = 7, aspect=2)\n",
    "\n",
    "# Set the axis labels and title\n",
    "ax.set_xlabels('Freeway Route Number')\n",
    "ax.set_ylabels('Freeway Length (Miles)')\n",
    "ax.set(title='Freeway Length by Route Number and Direction')\n",
    "\n",
    "# Show the plot\n",
    "plt.show()"
   ]
  },
  {
   "cell_type": "code",
   "execution_count": 34,
   "id": "926cefde-a51d-4449-802b-45908308c3f9",
   "metadata": {
    "tags": []
   },
   "outputs": [
    {
     "data": {
      "image/png": "[encoded data removed]",
      "text/plain": [
       "<Figure size 1000x700 with 1 Axes>"
      ]
     },
     "metadata": {},
     "output_type": "display_data"
    }
   ],
   "source": [
    "# Group the data by county and sum the lane miles\n",
    "grouped_data = HOV_df.groupby(['Begin_County', 'End_County']).agg({'Length__Lane_Miles_': 'sum'}).reset_index()\n",
    "\n",
    "# Create a horizontal bar chart\n",
    "fig, ax = plt.subplots(figsize=(10, 7))\n",
    "bars = ax.barh(y=grouped_data['Begin_County'] + ' - ' + grouped_data['End_County'], width=grouped_data['Length__Lane_Miles_'], color='navy')\n",
    "\n",
    "# Set the axis labels and title\n",
    "ax.set_xlabel('Lane Miles')\n",
    "ax.set_ylabel('County Range')\n",
    "ax.set_title('Total Lane Miles by County Range')\n",
    "\n",
    "# Add labels to the bars\n",
    "for i, bar in enumerate(bars):\n",
    "    value = bar.get_width()\n",
    "    x_pos = value + 5\n",
    "    y_pos = i\n",
    "    ax.text(x_pos, y_pos, str(round(value)), va='center')\n",
    "\n",
    "# Show the plot\n",
    "plt.show()"
   ]
  },
  {
   "cell_type": "markdown",
   "id": "2c1455b8-5eca-450e-87ad-7c5ccc1ccb48",
   "metadata": {},
   "source": [
    "#### Traffic Volumes_AADT table:"
   ]
  },
  {
   "cell_type": "code",
   "execution_count": 35,
   "id": "bb7ef4d5-a674-4b9b-8856-3446f216ca36",
   "metadata": {
    "tags": []
   },
   "outputs": [
    {
     "name": "stdout",
     "output_type": "stream",
     "text": [
      "<class 'pandas.core.frame.DataFrame'>\n",
      "RangeIndex: 7114 entries, 0 to 7113\n",
      "Data columns (total 15 columns):\n",
      " #   Column           Non-Null Count  Dtype  \n",
      "---  ------           --------------  -----  \n",
      " 0   OBJECTID         7114 non-null   int64  \n",
      " 1   DISTRICT         7113 non-null   float64\n",
      " 2   ROUTE            7114 non-null   int64  \n",
      " 3   RTE_SFX          42 non-null     object \n",
      " 4   COUNTY           7114 non-null   object \n",
      " 5   PM_PFX           2367 non-null   object \n",
      " 6   PM               7114 non-null   float64\n",
      " 7   PM_SFX           369 non-null    object \n",
      " 8   DESCRIPTION      7114 non-null   object \n",
      " 9   BACK_PEAK_HOUR   6471 non-null   float64\n",
      " 10  BACK_PEAK_MADT   6471 non-null   float64\n",
      " 11  BACK_AADT        6471 non-null   float64\n",
      " 12  AHEAD_PEAK_HOUR  6483 non-null   float64\n",
      " 13  AHEAD_PEAK_MADT  6483 non-null   float64\n",
      " 14  AHEAD_AADT       6483 non-null   float64\n",
      "dtypes: float64(8), int64(2), object(5)\n",
      "memory usage: 833.8+ KB\n"
     ]
    },
    {
     "data": {
      "text/html": [
       "<div>\n",
       "<style scoped>\n",
       "    .dataframe tbody tr th:only-of-type {\n",
       "        vertical-align: middle;\n",
       "    }\n",
       "\n",
       "    .dataframe tbody tr th {\n",
       "        vertical-align: top;\n",
       "    }\n",
       "\n",
       "    .dataframe thead th {\n",
       "        text-align: right;\n",
       "    }\n",
       "</style>\n",
       "<table border=\"1\" class=\"dataframe\">\n",
       "  <thead>\n",
       "    <tr style=\"text-align: right;\">\n",
       "      <th></th>\n",
       "      <th>OBJECTID</th>\n",
       "      <th>DISTRICT</th>\n",
       "      <th>ROUTE</th>\n",
       "      <th>RTE_SFX</th>\n",
       "      <th>COUNTY</th>\n",
       "      <th>PM_PFX</th>\n",
       "      <th>PM</th>\n",
       "      <th>PM_SFX</th>\n",
       "      <th>DESCRIPTION</th>\n",
       "      <th>BACK_PEAK_HOUR</th>\n",
       "      <th>BACK_PEAK_MADT</th>\n",
       "      <th>BACK_AADT</th>\n",
       "      <th>AHEAD_PEAK_HOUR</th>\n",
       "      <th>AHEAD_PEAK_MADT</th>\n",
       "      <th>AHEAD_AADT</th>\n",
       "    </tr>\n",
       "  </thead>\n",
       "  <tbody>\n",
       "    <tr>\n",
       "      <th>0</th>\n",
       "      <td>1</td>\n",
       "      <td>12.0</td>\n",
       "      <td>1</td>\n",
       "      <td>NaN</td>\n",
       "      <td>ORA</td>\n",
       "      <td>R</td>\n",
       "      <td>0.129</td>\n",
       "      <td>NaN</td>\n",
       "      <td>DANA POINT, JCT. RTE. 5</td>\n",
       "      <td>NaN</td>\n",
       "      <td>NaN</td>\n",
       "      <td>NaN</td>\n",
       "      <td>4250.0</td>\n",
       "      <td>42000.0</td>\n",
       "      <td>38250.0</td>\n",
       "    </tr>\n",
       "    <tr>\n",
       "      <th>1</th>\n",
       "      <td>2</td>\n",
       "      <td>12.0</td>\n",
       "      <td>1</td>\n",
       "      <td>NaN</td>\n",
       "      <td>ORA</td>\n",
       "      <td>R</td>\n",
       "      <td>0.780</td>\n",
       "      <td>NaN</td>\n",
       "      <td>DANA POINT, DOHENY PARK ROAD</td>\n",
       "      <td>4250.0</td>\n",
       "      <td>42000.0</td>\n",
       "      <td>38900.0</td>\n",
       "      <td>4350.0</td>\n",
       "      <td>43500.0</td>\n",
       "      <td>38900.0</td>\n",
       "    </tr>\n",
       "    <tr>\n",
       "      <th>2</th>\n",
       "      <td>3</td>\n",
       "      <td>12.0</td>\n",
       "      <td>1</td>\n",
       "      <td>NaN</td>\n",
       "      <td>ORA</td>\n",
       "      <td>R</td>\n",
       "      <td>1.077</td>\n",
       "      <td>NaN</td>\n",
       "      <td>BREAK IN RTE</td>\n",
       "      <td>NaN</td>\n",
       "      <td>NaN</td>\n",
       "      <td>NaN</td>\n",
       "      <td>NaN</td>\n",
       "      <td>NaN</td>\n",
       "      <td>NaN</td>\n",
       "    </tr>\n",
       "    <tr>\n",
       "      <th>3</th>\n",
       "      <td>4</td>\n",
       "      <td>12.0</td>\n",
       "      <td>1</td>\n",
       "      <td>NaN</td>\n",
       "      <td>ORA</td>\n",
       "      <td>NaN</td>\n",
       "      <td>8.430</td>\n",
       "      <td>NaN</td>\n",
       "      <td>LAGUNA BEACH, MOUNTAIN ROAD</td>\n",
       "      <td>3200.0</td>\n",
       "      <td>40500.0</td>\n",
       "      <td>37900.0</td>\n",
       "      <td>3200.0</td>\n",
       "      <td>40500.0</td>\n",
       "      <td>37900.0</td>\n",
       "    </tr>\n",
       "    <tr>\n",
       "      <th>4</th>\n",
       "      <td>5</td>\n",
       "      <td>12.0</td>\n",
       "      <td>1</td>\n",
       "      <td>NaN</td>\n",
       "      <td>ORA</td>\n",
       "      <td>NaN</td>\n",
       "      <td>9.418</td>\n",
       "      <td>NaN</td>\n",
       "      <td>LAGUNA BEACH, JCT. RTE. 133 NORTH</td>\n",
       "      <td>3400.0</td>\n",
       "      <td>43000.0</td>\n",
       "      <td>38800.0</td>\n",
       "      <td>3850.0</td>\n",
       "      <td>43000.0</td>\n",
       "      <td>38800.0</td>\n",
       "    </tr>\n",
       "  </tbody>\n",
       "</table>\n",
       "</div>"
      ],
      "text/plain": [
       "   OBJECTID  DISTRICT  ROUTE RTE_SFX COUNTY PM_PFX     PM PM_SFX  \\\n",
       "0         1      12.0      1     NaN    ORA      R  0.129    NaN   \n",
       "1         2      12.0      1     NaN    ORA      R  0.780    NaN   \n",
       "2         3      12.0      1     NaN    ORA      R  1.077    NaN   \n",
       "3         4      12.0      1     NaN    ORA    NaN  8.430    NaN   \n",
       "4         5      12.0      1     NaN    ORA    NaN  9.418    NaN   \n",
       "\n",
       "                         DESCRIPTION  BACK_PEAK_HOUR  BACK_PEAK_MADT  \\\n",
       "0            DANA POINT, JCT. RTE. 5             NaN             NaN   \n",
       "1       DANA POINT, DOHENY PARK ROAD          4250.0         42000.0   \n",
       "2                       BREAK IN RTE             NaN             NaN   \n",
       "3        LAGUNA BEACH, MOUNTAIN ROAD          3200.0         40500.0   \n",
       "4  LAGUNA BEACH, JCT. RTE. 133 NORTH          3400.0         43000.0   \n",
       "\n",
       "   BACK_AADT  AHEAD_PEAK_HOUR  AHEAD_PEAK_MADT  AHEAD_AADT  \n",
       "0        NaN           4250.0          42000.0     38250.0  \n",
       "1    38900.0           4350.0          43500.0     38900.0  \n",
       "2        NaN              NaN              NaN         NaN  \n",
       "3    37900.0           3200.0          40500.0     37900.0  \n",
       "4    38800.0           3850.0          43000.0     38800.0  "
      ]
     },
     "execution_count": 35,
     "metadata": {},
     "output_type": "execute_result"
    }
   ],
   "source": [
    "vol_df = pd.read_csv(s3_path_vol)\n",
    "vol_df.info()\n",
    "vol_df.head(5)"
   ]
  },
  {
   "cell_type": "code",
   "execution_count": 36,
   "id": "f465a7fc-fc22-43f4-a321-55fc35a5cca8",
   "metadata": {
    "tags": []
   },
   "outputs": [
    {
     "data": {
      "text/html": [
       "<div>\n",
       "<style scoped>\n",
       "    .dataframe tbody tr th:only-of-type {\n",
       "        vertical-align: middle;\n",
       "    }\n",
       "\n",
       "    .dataframe tbody tr th {\n",
       "        vertical-align: top;\n",
       "    }\n",
       "\n",
       "    .dataframe thead th {\n",
       "        text-align: right;\n",
       "    }\n",
       "</style>\n",
       "<table border=\"1\" class=\"dataframe\">\n",
       "  <thead>\n",
       "    <tr style=\"text-align: right;\">\n",
       "      <th></th>\n",
       "      <th>ROUTE</th>\n",
       "      <th>BACK_PEAK_HOUR</th>\n",
       "      <th>BACK_AADT</th>\n",
       "      <th>Rate</th>\n",
       "    </tr>\n",
       "  </thead>\n",
       "  <tbody>\n",
       "    <tr>\n",
       "      <th>187</th>\n",
       "      <td>220</td>\n",
       "      <td>474.000000</td>\n",
       "      <td>322.000000</td>\n",
       "      <td>147.204969</td>\n",
       "    </tr>\n",
       "    <tr>\n",
       "      <th>178</th>\n",
       "      <td>207</td>\n",
       "      <td>300.000000</td>\n",
       "      <td>740.000000</td>\n",
       "      <td>40.540541</td>\n",
       "    </tr>\n",
       "    <tr>\n",
       "      <th>120</th>\n",
       "      <td>136</td>\n",
       "      <td>80.000000</td>\n",
       "      <td>280.000000</td>\n",
       "      <td>28.571429</td>\n",
       "    </tr>\n",
       "    <tr>\n",
       "      <th>225</th>\n",
       "      <td>284</td>\n",
       "      <td>100.000000</td>\n",
       "      <td>370.000000</td>\n",
       "      <td>27.027027</td>\n",
       "    </tr>\n",
       "    <tr>\n",
       "      <th>217</th>\n",
       "      <td>270</td>\n",
       "      <td>120.000000</td>\n",
       "      <td>450.000000</td>\n",
       "      <td>26.666667</td>\n",
       "    </tr>\n",
       "    <tr>\n",
       "      <th>214</th>\n",
       "      <td>266</td>\n",
       "      <td>40.000000</td>\n",
       "      <td>160.000000</td>\n",
       "      <td>25.000000</td>\n",
       "    </tr>\n",
       "    <tr>\n",
       "      <th>206</th>\n",
       "      <td>254</td>\n",
       "      <td>263.333333</td>\n",
       "      <td>1106.666667</td>\n",
       "      <td>23.795181</td>\n",
       "    </tr>\n",
       "    <tr>\n",
       "      <th>146</th>\n",
       "      <td>167</td>\n",
       "      <td>20.000000</td>\n",
       "      <td>90.000000</td>\n",
       "      <td>22.222222</td>\n",
       "    </tr>\n",
       "    <tr>\n",
       "      <th>131</th>\n",
       "      <td>150</td>\n",
       "      <td>1967.333333</td>\n",
       "      <td>9116.666667</td>\n",
       "      <td>21.579525</td>\n",
       "    </tr>\n",
       "    <tr>\n",
       "      <th>138</th>\n",
       "      <td>158</td>\n",
       "      <td>255.000000</td>\n",
       "      <td>1187.500000</td>\n",
       "      <td>21.473684</td>\n",
       "    </tr>\n",
       "  </tbody>\n",
       "</table>\n",
       "</div>"
      ],
      "text/plain": [
       "     ROUTE  BACK_PEAK_HOUR    BACK_AADT        Rate\n",
       "187    220      474.000000   322.000000  147.204969\n",
       "178    207      300.000000   740.000000   40.540541\n",
       "120    136       80.000000   280.000000   28.571429\n",
       "225    284      100.000000   370.000000   27.027027\n",
       "217    270      120.000000   450.000000   26.666667\n",
       "214    266       40.000000   160.000000   25.000000\n",
       "206    254      263.333333  1106.666667   23.795181\n",
       "146    167       20.000000    90.000000   22.222222\n",
       "131    150     1967.333333  9116.666667   21.579525\n",
       "138    158      255.000000  1187.500000   21.473684"
      ]
     },
     "execution_count": 36,
     "metadata": {},
     "output_type": "execute_result"
    }
   ],
   "source": [
    "grouped_data = vol_df.groupby('ROUTE').mean().reset_index()\n",
    "grouped_data_back = grouped_data[['ROUTE', 'BACK_PEAK_HOUR','BACK_AADT']]\n",
    "grouped_data_back['Rate'] = (grouped_data_back['BACK_PEAK_HOUR'] / grouped_data_back['BACK_AADT']) * 100\n",
    "grouped_data_back = grouped_data_back.sort_values( \"Rate\", ascending = False).head(10)\n",
    "grouped_data_back.style.background_gradient(cmap=\"Blues\")\n",
    "grouped_data_back"
   ]
  },
  {
   "cell_type": "code",
   "execution_count": 37,
   "id": "37d5802b-3f3b-4de8-b042-99a1f8c297bc",
   "metadata": {
    "tags": []
   },
   "outputs": [
    {
     "data": {
      "text/html": [
       "<div>\n",
       "<style scoped>\n",
       "    .dataframe tbody tr th:only-of-type {\n",
       "        vertical-align: middle;\n",
       "    }\n",
       "\n",
       "    .dataframe tbody tr th {\n",
       "        vertical-align: top;\n",
       "    }\n",
       "\n",
       "    .dataframe thead th {\n",
       "        text-align: right;\n",
       "    }\n",
       "</style>\n",
       "<table border=\"1\" class=\"dataframe\">\n",
       "  <thead>\n",
       "    <tr style=\"text-align: right;\">\n",
       "      <th></th>\n",
       "      <th>ROUTE</th>\n",
       "      <th>AHEAD_PEAK_HOUR</th>\n",
       "      <th>AHEAD_AADT</th>\n",
       "      <th>Rate</th>\n",
       "    </tr>\n",
       "  </thead>\n",
       "  <tbody>\n",
       "    <tr>\n",
       "      <th>217</th>\n",
       "      <td>270</td>\n",
       "      <td>90.000000</td>\n",
       "      <td>210.000000</td>\n",
       "      <td>42.857143</td>\n",
       "    </tr>\n",
       "    <tr>\n",
       "      <th>178</th>\n",
       "      <td>207</td>\n",
       "      <td>300.000000</td>\n",
       "      <td>750.000000</td>\n",
       "      <td>40.000000</td>\n",
       "    </tr>\n",
       "    <tr>\n",
       "      <th>192</th>\n",
       "      <td>229</td>\n",
       "      <td>60.000000</td>\n",
       "      <td>170.000000</td>\n",
       "      <td>35.294118</td>\n",
       "    </tr>\n",
       "    <tr>\n",
       "      <th>214</th>\n",
       "      <td>266</td>\n",
       "      <td>75.000000</td>\n",
       "      <td>215.000000</td>\n",
       "      <td>34.883721</td>\n",
       "    </tr>\n",
       "    <tr>\n",
       "      <th>84</th>\n",
       "      <td>95</td>\n",
       "      <td>718.000000</td>\n",
       "      <td>2685.000000</td>\n",
       "      <td>26.741155</td>\n",
       "    </tr>\n",
       "    <tr>\n",
       "      <th>187</th>\n",
       "      <td>220</td>\n",
       "      <td>76.000000</td>\n",
       "      <td>322.000000</td>\n",
       "      <td>23.602484</td>\n",
       "    </tr>\n",
       "    <tr>\n",
       "      <th>85</th>\n",
       "      <td>96</td>\n",
       "      <td>272.727273</td>\n",
       "      <td>1155.681818</td>\n",
       "      <td>23.598820</td>\n",
       "    </tr>\n",
       "    <tr>\n",
       "      <th>138</th>\n",
       "      <td>158</td>\n",
       "      <td>315.000000</td>\n",
       "      <td>1342.500000</td>\n",
       "      <td>23.463687</td>\n",
       "    </tr>\n",
       "    <tr>\n",
       "      <th>225</th>\n",
       "      <td>284</td>\n",
       "      <td>150.000000</td>\n",
       "      <td>660.000000</td>\n",
       "      <td>22.727273</td>\n",
       "    </tr>\n",
       "    <tr>\n",
       "      <th>218</th>\n",
       "      <td>271</td>\n",
       "      <td>51.428571</td>\n",
       "      <td>226.428571</td>\n",
       "      <td>22.712934</td>\n",
       "    </tr>\n",
       "  </tbody>\n",
       "</table>\n",
       "</div>"
      ],
      "text/plain": [
       "     ROUTE  AHEAD_PEAK_HOUR   AHEAD_AADT       Rate\n",
       "217    270        90.000000   210.000000  42.857143\n",
       "178    207       300.000000   750.000000  40.000000\n",
       "192    229        60.000000   170.000000  35.294118\n",
       "214    266        75.000000   215.000000  34.883721\n",
       "84      95       718.000000  2685.000000  26.741155\n",
       "187    220        76.000000   322.000000  23.602484\n",
       "85      96       272.727273  1155.681818  23.598820\n",
       "138    158       315.000000  1342.500000  23.463687\n",
       "225    284       150.000000   660.000000  22.727273\n",
       "218    271        51.428571   226.428571  22.712934"
      ]
     },
     "execution_count": 37,
     "metadata": {},
     "output_type": "execute_result"
    }
   ],
   "source": [
    "grouped_data_ahead = grouped_data[['ROUTE', 'AHEAD_PEAK_HOUR','AHEAD_AADT']]\n",
    "grouped_data_ahead['Rate'] = (grouped_data_ahead['AHEAD_PEAK_HOUR'] / grouped_data_ahead['AHEAD_AADT']) * 100\n",
    "grouped_data_ahead = grouped_data_ahead.sort_values( \"Rate\", ascending = False).head(10)\n",
    "grouped_data_ahead.style.background_gradient(cmap=\"Blues\")\n",
    "grouped_data_ahead"
   ]
  },
  {
   "cell_type": "code",
   "execution_count": 38,
   "id": "0f0f1468-5e34-480e-a52e-0fe07f4d3611",
   "metadata": {
    "tags": []
   },
   "outputs": [
    {
     "data": {
      "text/plain": [
       "<matplotlib.axes._subplots.AxesSubplot at 0x7ff25c331690>"
      ]
     },
     "execution_count": 38,
     "metadata": {},
     "output_type": "execute_result"
    },
    {
     "data": {
      "image/png": "[encoded data removed]",
      "text/plain": [
       "<Figure size 1000x100 with 1 Axes>"
      ]
     },
     "metadata": {},
     "output_type": "display_data"
    },
    {
     "data": {
      "image/png": "[encoded data removed]",
      "text/plain": [
       "<Figure size 1000x100 with 1 Axes>"
      ]
     },
     "metadata": {},
     "output_type": "display_data"
    },
    {
     "data": {
      "image/png": "[encoded data removed]",
      "text/plain": [
       "<Figure size 1000x100 with 1 Axes>"
      ]
     },
     "metadata": {},
     "output_type": "display_data"
    },
    {
     "data": {
      "image/png": "[encoded data removed]",
      "text/plain": [
       "<Figure size 1000x100 with 1 Axes>"
      ]
     },
     "metadata": {},
     "output_type": "display_data"
    },
    {
     "data": {
      "image/png": "[encoded data removed]",
      "text/plain": [
       "<Figure size 1000x100 with 1 Axes>"
      ]
     },
     "metadata": {},
     "output_type": "display_data"
    },
    {
     "data": {
      "image/png": "[encoded data removed]",
      "text/plain": [
       "<Figure size 1000x100 with 1 Axes>"
      ]
     },
     "metadata": {},
     "output_type": "display_data"
    }
   ],
   "source": [
    "fig,ax = plt.subplots(figsize = (10,1))\n",
    "sns.boxplot(vol_df.BACK_PEAK_HOUR)\n",
    "\n",
    "fig,ax = plt.subplots(figsize = (10,1))\n",
    "sns.boxplot(vol_df.BACK_PEAK_MADT)\n",
    "\n",
    "fig,ax = plt.subplots(figsize = (10,1))\n",
    "sns.boxplot(vol_df.BACK_AADT)\n",
    "\n",
    "fig,ax = plt.subplots(figsize = (10,1))\n",
    "sns.boxplot(vol_df.AHEAD_PEAK_HOUR)\n",
    "\n",
    "fig,ax = plt.subplots(figsize = (10,1))\n",
    "sns.boxplot(vol_df.AHEAD_PEAK_MADT)\n",
    "\n",
    "fig,ax = plt.subplots(figsize = (10,1))\n",
    "sns.boxplot(vol_df.AHEAD_AADT)"
   ]
  },
  {
   "cell_type": "markdown",
   "id": "8a4fdcd6-4e3b-4b6c-93bf-a4e5337e784d",
   "metadata": {},
   "source": [
    "#### Route_77 Table"
   ]
  },
  {
   "cell_type": "code",
   "execution_count": 39,
   "id": "6e4ac56d-bd46-4824-90ee-c25781904342",
   "metadata": {},
   "outputs": [
    {
     "name": "stdout",
     "output_type": "stream",
     "text": [
      "<class 'pandas.core.frame.DataFrame'>\n",
      "RangeIndex: 10080 entries, 0 to 10079\n",
      "Data columns (total 10 columns):\n",
      " #   Column              Non-Null Count  Dtype  \n",
      "---  ------              --------------  -----  \n",
      " 0   Date                10080 non-null  object \n",
      " 1   Day                 10080 non-null  object \n",
      " 2   Lane                10080 non-null  object \n",
      " 3   Date_Time           10080 non-null  object \n",
      " 4   Time                10080 non-null  object \n",
      " 5   Minimum             10080 non-null  float64\n",
      " 6   Mean                10080 non-null  float64\n",
      " 7   Maximum             10080 non-null  float64\n",
      " 8   Lane_Pts_num        10080 non-null  int64  \n",
      " 9   Oberserved_percent  10080 non-null  float64\n",
      "dtypes: float64(4), int64(1), object(5)\n",
      "memory usage: 787.6+ KB\n"
     ]
    },
    {
     "data": {
      "text/html": [
       "<div>\n",
       "<style scoped>\n",
       "    .dataframe tbody tr th:only-of-type {\n",
       "        vertical-align: middle;\n",
       "    }\n",
       "\n",
       "    .dataframe tbody tr th {\n",
       "        vertical-align: top;\n",
       "    }\n",
       "\n",
       "    .dataframe thead th {\n",
       "        text-align: right;\n",
       "    }\n",
       "</style>\n",
       "<table border=\"1\" class=\"dataframe\">\n",
       "  <thead>\n",
       "    <tr style=\"text-align: right;\">\n",
       "      <th></th>\n",
       "      <th>Date</th>\n",
       "      <th>Day</th>\n",
       "      <th>Lane</th>\n",
       "      <th>Date_Time</th>\n",
       "      <th>Time</th>\n",
       "      <th>Minimum</th>\n",
       "      <th>Mean</th>\n",
       "      <th>Maximum</th>\n",
       "      <th>Lane_Pts_num</th>\n",
       "      <th>Oberserved_percent</th>\n",
       "    </tr>\n",
       "  </thead>\n",
       "  <tbody>\n",
       "    <tr>\n",
       "      <th>0</th>\n",
       "      <td>3/5/23</td>\n",
       "      <td>Sunday</td>\n",
       "      <td>Lane1</td>\n",
       "      <td>3/5/23 0:00</td>\n",
       "      <td>0:00:00</td>\n",
       "      <td>30.37</td>\n",
       "      <td>30.37</td>\n",
       "      <td>30.37</td>\n",
       "      <td>318</td>\n",
       "      <td>38.7</td>\n",
       "    </tr>\n",
       "    <tr>\n",
       "      <th>1</th>\n",
       "      <td>3/5/23</td>\n",
       "      <td>Sunday</td>\n",
       "      <td>Lane1</td>\n",
       "      <td>3/5/23 0:05</td>\n",
       "      <td>0:05:00</td>\n",
       "      <td>30.40</td>\n",
       "      <td>30.40</td>\n",
       "      <td>30.40</td>\n",
       "      <td>318</td>\n",
       "      <td>39.3</td>\n",
       "    </tr>\n",
       "    <tr>\n",
       "      <th>2</th>\n",
       "      <td>3/5/23</td>\n",
       "      <td>Sunday</td>\n",
       "      <td>Lane1</td>\n",
       "      <td>3/5/23 0:10</td>\n",
       "      <td>0:10:00</td>\n",
       "      <td>30.45</td>\n",
       "      <td>30.45</td>\n",
       "      <td>30.45</td>\n",
       "      <td>317</td>\n",
       "      <td>39.1</td>\n",
       "    </tr>\n",
       "    <tr>\n",
       "      <th>3</th>\n",
       "      <td>3/5/23</td>\n",
       "      <td>Sunday</td>\n",
       "      <td>Lane1</td>\n",
       "      <td>3/5/23 0:15</td>\n",
       "      <td>0:15:00</td>\n",
       "      <td>30.52</td>\n",
       "      <td>30.52</td>\n",
       "      <td>30.52</td>\n",
       "      <td>317</td>\n",
       "      <td>38.8</td>\n",
       "    </tr>\n",
       "    <tr>\n",
       "      <th>4</th>\n",
       "      <td>3/5/23</td>\n",
       "      <td>Sunday</td>\n",
       "      <td>Lane1</td>\n",
       "      <td>3/5/23 0:20</td>\n",
       "      <td>0:20:00</td>\n",
       "      <td>30.40</td>\n",
       "      <td>30.40</td>\n",
       "      <td>30.40</td>\n",
       "      <td>318</td>\n",
       "      <td>39.3</td>\n",
       "    </tr>\n",
       "  </tbody>\n",
       "</table>\n",
       "</div>"
      ],
      "text/plain": [
       "     Date     Day   Lane    Date_Time     Time  Minimum   Mean  Maximum  \\\n",
       "0  3/5/23  Sunday  Lane1  3/5/23 0:00  0:00:00    30.37  30.37    30.37   \n",
       "1  3/5/23  Sunday  Lane1  3/5/23 0:05  0:05:00    30.40  30.40    30.40   \n",
       "2  3/5/23  Sunday  Lane1  3/5/23 0:10  0:10:00    30.45  30.45    30.45   \n",
       "3  3/5/23  Sunday  Lane1  3/5/23 0:15  0:15:00    30.52  30.52    30.52   \n",
       "4  3/5/23  Sunday  Lane1  3/5/23 0:20  0:20:00    30.40  30.40    30.40   \n",
       "\n",
       "   Lane_Pts_num  Oberserved_percent  \n",
       "0           318                38.7  \n",
       "1           318                39.3  \n",
       "2           317                39.1  \n",
       "3           317                38.8  \n",
       "4           318                39.3  "
      ]
     },
     "execution_count": 39,
     "metadata": {},
     "output_type": "execute_result"
    }
   ],
   "source": [
    "route77_df = pd.read_csv(s3_path_Route77)\n",
    "route77_df = pd.DataFrame(route77_df)\n",
    "route77_df.info()\n",
    "route77_df.head(5)"
   ]
  },
  {
   "cell_type": "code",
   "execution_count": 40,
   "id": "42b0b58f-28d5-4505-b5ad-e4458b16319f",
   "metadata": {
    "tags": []
   },
   "outputs": [
    {
     "data": {
      "text/html": [
       "<div>\n",
       "<style scoped>\n",
       "    .dataframe tbody tr th:only-of-type {\n",
       "        vertical-align: middle;\n",
       "    }\n",
       "\n",
       "    .dataframe tbody tr th {\n",
       "        vertical-align: top;\n",
       "    }\n",
       "\n",
       "    .dataframe thead th {\n",
       "        text-align: right;\n",
       "    }\n",
       "</style>\n",
       "<table border=\"1\" class=\"dataframe\">\n",
       "  <thead>\n",
       "    <tr style=\"text-align: right;\">\n",
       "      <th></th>\n",
       "      <th>Date</th>\n",
       "      <th>Day</th>\n",
       "      <th>Lane</th>\n",
       "      <th>Date_Time</th>\n",
       "      <th>Time</th>\n",
       "      <th>Minimum</th>\n",
       "      <th>Mean</th>\n",
       "      <th>Maximum</th>\n",
       "      <th>Lane_Pts_num</th>\n",
       "      <th>Oberserved_percent</th>\n",
       "      <th>dt</th>\n",
       "      <th>time_s</th>\n",
       "    </tr>\n",
       "  </thead>\n",
       "  <tbody>\n",
       "    <tr>\n",
       "      <th>0</th>\n",
       "      <td>3/5/23</td>\n",
       "      <td>Sunday</td>\n",
       "      <td>Lane1</td>\n",
       "      <td>2023-03-05 00:00:00</td>\n",
       "      <td>0:00:00</td>\n",
       "      <td>30.37</td>\n",
       "      <td>30.37</td>\n",
       "      <td>30.37</td>\n",
       "      <td>318</td>\n",
       "      <td>38.7</td>\n",
       "      <td>2023-03-05</td>\n",
       "      <td>00:00:00</td>\n",
       "    </tr>\n",
       "    <tr>\n",
       "      <th>1</th>\n",
       "      <td>3/5/23</td>\n",
       "      <td>Sunday</td>\n",
       "      <td>Lane1</td>\n",
       "      <td>2023-03-05 00:05:00</td>\n",
       "      <td>0:05:00</td>\n",
       "      <td>30.40</td>\n",
       "      <td>30.40</td>\n",
       "      <td>30.40</td>\n",
       "      <td>318</td>\n",
       "      <td>39.3</td>\n",
       "      <td>2023-03-05</td>\n",
       "      <td>00:05:00</td>\n",
       "    </tr>\n",
       "    <tr>\n",
       "      <th>2</th>\n",
       "      <td>3/5/23</td>\n",
       "      <td>Sunday</td>\n",
       "      <td>Lane1</td>\n",
       "      <td>2023-03-05 00:10:00</td>\n",
       "      <td>0:10:00</td>\n",
       "      <td>30.45</td>\n",
       "      <td>30.45</td>\n",
       "      <td>30.45</td>\n",
       "      <td>317</td>\n",
       "      <td>39.1</td>\n",
       "      <td>2023-03-05</td>\n",
       "      <td>00:10:00</td>\n",
       "    </tr>\n",
       "    <tr>\n",
       "      <th>3</th>\n",
       "      <td>3/5/23</td>\n",
       "      <td>Sunday</td>\n",
       "      <td>Lane1</td>\n",
       "      <td>2023-03-05 00:15:00</td>\n",
       "      <td>0:15:00</td>\n",
       "      <td>30.52</td>\n",
       "      <td>30.52</td>\n",
       "      <td>30.52</td>\n",
       "      <td>317</td>\n",
       "      <td>38.8</td>\n",
       "      <td>2023-03-05</td>\n",
       "      <td>00:15:00</td>\n",
       "    </tr>\n",
       "    <tr>\n",
       "      <th>4</th>\n",
       "      <td>3/5/23</td>\n",
       "      <td>Sunday</td>\n",
       "      <td>Lane1</td>\n",
       "      <td>2023-03-05 00:20:00</td>\n",
       "      <td>0:20:00</td>\n",
       "      <td>30.40</td>\n",
       "      <td>30.40</td>\n",
       "      <td>30.40</td>\n",
       "      <td>318</td>\n",
       "      <td>39.3</td>\n",
       "      <td>2023-03-05</td>\n",
       "      <td>00:20:00</td>\n",
       "    </tr>\n",
       "    <tr>\n",
       "      <th>...</th>\n",
       "      <td>...</td>\n",
       "      <td>...</td>\n",
       "      <td>...</td>\n",
       "      <td>...</td>\n",
       "      <td>...</td>\n",
       "      <td>...</td>\n",
       "      <td>...</td>\n",
       "      <td>...</td>\n",
       "      <td>...</td>\n",
       "      <td>...</td>\n",
       "      <td>...</td>\n",
       "      <td>...</td>\n",
       "    </tr>\n",
       "    <tr>\n",
       "      <th>10075</th>\n",
       "      <td>3/11/23</td>\n",
       "      <td>Saturday</td>\n",
       "      <td>HOV</td>\n",
       "      <td>2023-03-11 23:35:00</td>\n",
       "      <td>23:35:00</td>\n",
       "      <td>31.30</td>\n",
       "      <td>31.30</td>\n",
       "      <td>31.30</td>\n",
       "      <td>316</td>\n",
       "      <td>5.1</td>\n",
       "      <td>2023-03-11</td>\n",
       "      <td>23:35:00</td>\n",
       "    </tr>\n",
       "    <tr>\n",
       "      <th>10076</th>\n",
       "      <td>3/11/23</td>\n",
       "      <td>Saturday</td>\n",
       "      <td>HOV</td>\n",
       "      <td>2023-03-11 23:40:00</td>\n",
       "      <td>23:40:00</td>\n",
       "      <td>31.25</td>\n",
       "      <td>31.25</td>\n",
       "      <td>31.25</td>\n",
       "      <td>317</td>\n",
       "      <td>5.0</td>\n",
       "      <td>2023-03-11</td>\n",
       "      <td>23:40:00</td>\n",
       "    </tr>\n",
       "    <tr>\n",
       "      <th>10077</th>\n",
       "      <td>3/11/23</td>\n",
       "      <td>Saturday</td>\n",
       "      <td>HOV</td>\n",
       "      <td>2023-03-11 23:45:00</td>\n",
       "      <td>23:45:00</td>\n",
       "      <td>31.23</td>\n",
       "      <td>31.23</td>\n",
       "      <td>31.23</td>\n",
       "      <td>316</td>\n",
       "      <td>5.1</td>\n",
       "      <td>2023-03-11</td>\n",
       "      <td>23:45:00</td>\n",
       "    </tr>\n",
       "    <tr>\n",
       "      <th>10078</th>\n",
       "      <td>3/11/23</td>\n",
       "      <td>Saturday</td>\n",
       "      <td>HOV</td>\n",
       "      <td>2023-03-11 23:50:00</td>\n",
       "      <td>23:50:00</td>\n",
       "      <td>31.27</td>\n",
       "      <td>31.27</td>\n",
       "      <td>31.27</td>\n",
       "      <td>317</td>\n",
       "      <td>5.0</td>\n",
       "      <td>2023-03-11</td>\n",
       "      <td>23:50:00</td>\n",
       "    </tr>\n",
       "    <tr>\n",
       "      <th>10079</th>\n",
       "      <td>3/11/23</td>\n",
       "      <td>Saturday</td>\n",
       "      <td>HOV</td>\n",
       "      <td>2023-03-11 23:55:00</td>\n",
       "      <td>23:55:00</td>\n",
       "      <td>31.32</td>\n",
       "      <td>31.32</td>\n",
       "      <td>31.32</td>\n",
       "      <td>317</td>\n",
       "      <td>5.0</td>\n",
       "      <td>2023-03-11</td>\n",
       "      <td>23:55:00</td>\n",
       "    </tr>\n",
       "  </tbody>\n",
       "</table>\n",
       "<p>10080 rows × 12 columns</p>\n",
       "</div>"
      ],
      "text/plain": [
       "          Date       Day   Lane           Date_Time      Time  Minimum   Mean  \\\n",
       "0       3/5/23    Sunday  Lane1 2023-03-05 00:00:00   0:00:00    30.37  30.37   \n",
       "1       3/5/23    Sunday  Lane1 2023-03-05 00:05:00   0:05:00    30.40  30.40   \n",
       "2       3/5/23    Sunday  Lane1 2023-03-05 00:10:00   0:10:00    30.45  30.45   \n",
       "3       3/5/23    Sunday  Lane1 2023-03-05 00:15:00   0:15:00    30.52  30.52   \n",
       "4       3/5/23    Sunday  Lane1 2023-03-05 00:20:00   0:20:00    30.40  30.40   \n",
       "...        ...       ...    ...                 ...       ...      ...    ...   \n",
       "10075  3/11/23  Saturday    HOV 2023-03-11 23:35:00  23:35:00    31.30  31.30   \n",
       "10076  3/11/23  Saturday    HOV 2023-03-11 23:40:00  23:40:00    31.25  31.25   \n",
       "10077  3/11/23  Saturday    HOV 2023-03-11 23:45:00  23:45:00    31.23  31.23   \n",
       "10078  3/11/23  Saturday    HOV 2023-03-11 23:50:00  23:50:00    31.27  31.27   \n",
       "10079  3/11/23  Saturday    HOV 2023-03-11 23:55:00  23:55:00    31.32  31.32   \n",
       "\n",
       "       Maximum  Lane_Pts_num  Oberserved_percent          dt    time_s  \n",
       "0        30.37           318                38.7  2023-03-05  00:00:00  \n",
       "1        30.40           318                39.3  2023-03-05  00:05:00  \n",
       "2        30.45           317                39.1  2023-03-05  00:10:00  \n",
       "3        30.52           317                38.8  2023-03-05  00:15:00  \n",
       "4        30.40           318                39.3  2023-03-05  00:20:00  \n",
       "...        ...           ...                 ...         ...       ...  \n",
       "10075    31.30           316                 5.1  2023-03-11  23:35:00  \n",
       "10076    31.25           317                 5.0  2023-03-11  23:40:00  \n",
       "10077    31.23           316                 5.1  2023-03-11  23:45:00  \n",
       "10078    31.27           317                 5.0  2023-03-11  23:50:00  \n",
       "10079    31.32           317                 5.0  2023-03-11  23:55:00  \n",
       "\n",
       "[10080 rows x 12 columns]"
      ]
     },
     "execution_count": 40,
     "metadata": {},
     "output_type": "execute_result"
    }
   ],
   "source": [
    "# Add the needed columns for better visualization, and transform the data type.\n",
    "route77_df['Date_Time'] = pd.to_datetime(route77_df['Date_Time'])\n",
    "route77_df['dt'] = pd.to_datetime(route77_df['Date_Time'])\n",
    "route77_df['dt'] = route77_df['dt'].dt.date\n",
    "route77_df['time_s']  = route77_df['Date_Time'].dt.time\n",
    "route77_df"
   ]
  },
  {
   "cell_type": "code",
   "execution_count": 41,
   "id": "e9a8f973-f132-45ef-8b3e-8044373b9d49",
   "metadata": {
    "tags": []
   },
   "outputs": [
    {
     "name": "stdout",
     "output_type": "stream",
     "text": [
      "<class 'pandas.core.frame.DataFrame'>\n",
      "RangeIndex: 10080 entries, 0 to 10079\n",
      "Data columns (total 12 columns):\n",
      " #   Column              Non-Null Count  Dtype         \n",
      "---  ------              --------------  -----         \n",
      " 0   Date                10080 non-null  object        \n",
      " 1   Day                 10080 non-null  object        \n",
      " 2   Lane                10080 non-null  object        \n",
      " 3   Date_Time           10080 non-null  datetime64[ns]\n",
      " 4   Time                10080 non-null  object        \n",
      " 5   Minimum             10080 non-null  float64       \n",
      " 6   Mean                10080 non-null  float64       \n",
      " 7   Maximum             10080 non-null  float64       \n",
      " 8   Lane_Pts_num        10080 non-null  int64         \n",
      " 9   Oberserved_percent  10080 non-null  float64       \n",
      " 10  dt                  10080 non-null  object        \n",
      " 11  time_s              10080 non-null  object        \n",
      "dtypes: datetime64[ns](1), float64(4), int64(1), object(6)\n",
      "memory usage: 945.1+ KB\n"
     ]
    }
   ],
   "source": [
    "route77_df.info()"
   ]
  },
  {
   "cell_type": "code",
   "execution_count": 42,
   "id": "6e431851-508a-4959-bb63-62ac14f10a04",
   "metadata": {
    "tags": []
   },
   "outputs": [
    {
     "data": {
      "image/png": "[encoded data removed]",
      "text/plain": [
       "<Figure size 1031.25x600 with 1 Axes>"
      ]
     },
     "metadata": {},
     "output_type": "display_data"
    }
   ],
   "source": [
    "import matplotlib.ticker as ticker \n",
    "\n",
    "sns.set_style(\"whitegrid\")\n",
    "g = sns.catplot(x=\"time_s\", y=\"Mean\", hue=\"Day\", data=route77_df, kind=\"point\", height=6, aspect=1.5)\n",
    "\n",
    "g.set_xlabels(\"Time of Day\")\n",
    "g.set_ylabels(\"Average Speed\")\n",
    "plt.xticks(rotation=45)\n",
    "g.fig.suptitle(\"Average Speed by Time of Day for Each Day of the Week\")\n",
    "\n",
    "ax = g.facet_axis(0,0)   \n",
    "every_nth = 12\n",
    "for i, label in enumerate(ax.get_xticklabels()):\n",
    "    if i % every_nth != 0:\n",
    "        label.set_visible(False)    \n",
    "    \n",
    "plt.show()"
   ]
  },
  {
   "cell_type": "markdown",
   "id": "87d68ac5-a8b4-42fc-82cf-2c323ee9946a",
   "metadata": {},
   "source": [
    "# Section 3: Preparation:"
   ]
  },
  {
   "cell_type": "markdown",
   "id": "3d07ca95-47f6-4d94-9ccd-d29b89a78a77",
   "metadata": {},
   "source": [
    "#### Correlation Matrix:"
   ]
  },
  {
   "cell_type": "code",
   "execution_count": 43,
   "id": "7bf46515-3a4f-4b5d-a59e-7ae6cce133d2",
   "metadata": {
    "tags": []
   },
   "outputs": [
    {
     "data": {
      "image/png": "[encoded data removed]",
      "text/plain": [
       "<Figure size 500x500 with 2 Axes>"
      ]
     },
     "metadata": {},
     "output_type": "display_data"
    }
   ],
   "source": [
    "# assign correlation function to new variable\n",
    "corr = route77_df.corr()\n",
    "matrix = np.triu(corr) # for triangular matrix\n",
    "plt.figure(figsize=(5,5))\n",
    "# parse corr variable intro triangular matrix\n",
    "sns.heatmap(route77_df.corr(method='pearson'), \n",
    "            annot=True, linewidths=.5, \n",
    "            cmap=\"coolwarm\", mask=matrix,\n",
    "            square = True, \n",
    "            cbar_kws={'label': 'Correlation Index'}, \n",
    "            vmin=-1, vmax=1)\n",
    "plt.show()"
   ]
  },
  {
   "cell_type": "markdown",
   "id": "4b64a7f3-c656-485d-99c2-86072ea4f43e",
   "metadata": {},
   "source": [
    "##### The min and max values are highly correlated with the mean value; we will remove these two columns for our future analysis.\n",
    "##### The last two columns are not for the speed-overserved rate, which is unrelated as well; we will remove these two as well."
   ]
  },
  {
   "cell_type": "code",
   "execution_count": 44,
   "id": "113bccff-15f9-45af-9cc0-683ca7c4fde1",
   "metadata": {
    "tags": []
   },
   "outputs": [
    {
     "data": {
      "text/html": [
       "<div>\n",
       "<style scoped>\n",
       "    .dataframe tbody tr th:only-of-type {\n",
       "        vertical-align: middle;\n",
       "    }\n",
       "\n",
       "    .dataframe tbody tr th {\n",
       "        vertical-align: top;\n",
       "    }\n",
       "\n",
       "    .dataframe thead th {\n",
       "        text-align: right;\n",
       "    }\n",
       "</style>\n",
       "<table border=\"1\" class=\"dataframe\">\n",
       "  <thead>\n",
       "    <tr style=\"text-align: right;\">\n",
       "      <th></th>\n",
       "      <th>dt</th>\n",
       "      <th>Day</th>\n",
       "      <th>Lane</th>\n",
       "      <th>Mean</th>\n",
       "      <th>time_s</th>\n",
       "    </tr>\n",
       "  </thead>\n",
       "  <tbody>\n",
       "    <tr>\n",
       "      <th>0</th>\n",
       "      <td>2023-03-05</td>\n",
       "      <td>Sunday</td>\n",
       "      <td>Lane1</td>\n",
       "      <td>30.37</td>\n",
       "      <td>00:00:00</td>\n",
       "    </tr>\n",
       "    <tr>\n",
       "      <th>1</th>\n",
       "      <td>2023-03-05</td>\n",
       "      <td>Sunday</td>\n",
       "      <td>Lane1</td>\n",
       "      <td>30.40</td>\n",
       "      <td>00:05:00</td>\n",
       "    </tr>\n",
       "    <tr>\n",
       "      <th>2</th>\n",
       "      <td>2023-03-05</td>\n",
       "      <td>Sunday</td>\n",
       "      <td>Lane1</td>\n",
       "      <td>30.45</td>\n",
       "      <td>00:10:00</td>\n",
       "    </tr>\n",
       "    <tr>\n",
       "      <th>3</th>\n",
       "      <td>2023-03-05</td>\n",
       "      <td>Sunday</td>\n",
       "      <td>Lane1</td>\n",
       "      <td>30.52</td>\n",
       "      <td>00:15:00</td>\n",
       "    </tr>\n",
       "    <tr>\n",
       "      <th>4</th>\n",
       "      <td>2023-03-05</td>\n",
       "      <td>Sunday</td>\n",
       "      <td>Lane1</td>\n",
       "      <td>30.40</td>\n",
       "      <td>00:20:00</td>\n",
       "    </tr>\n",
       "  </tbody>\n",
       "</table>\n",
       "</div>"
      ],
      "text/plain": [
       "           dt     Day   Lane   Mean    time_s\n",
       "0  2023-03-05  Sunday  Lane1  30.37  00:00:00\n",
       "1  2023-03-05  Sunday  Lane1  30.40  00:05:00\n",
       "2  2023-03-05  Sunday  Lane1  30.45  00:10:00\n",
       "3  2023-03-05  Sunday  Lane1  30.52  00:15:00\n",
       "4  2023-03-05  Sunday  Lane1  30.40  00:20:00"
      ]
     },
     "execution_count": 44,
     "metadata": {},
     "output_type": "execute_result"
    }
   ],
   "source": [
    "# create a new table to store the needed data\n",
    "route = pd.DataFrame([route77_df.dt, route77_df.Day,route77_df.Lane,route77_df.Mean,route77_df.time_s]).transpose()\n",
    "route.head(5)"
   ]
  },
  {
   "cell_type": "markdown",
   "id": "d0167b97-dd12-4044-8ad6-0cedfdd571d9",
   "metadata": {},
   "source": [
    "#### Feature Engineering"
   ]
  },
  {
   "cell_type": "code",
   "execution_count": 45,
   "id": "965bef23-6b8c-4e61-b9f8-a36b05a70deb",
   "metadata": {
    "tags": []
   },
   "outputs": [
    {
     "name": "stdout",
     "output_type": "stream",
     "text": [
      "<class 'pandas.core.frame.DataFrame'>\n",
      "RangeIndex: 10080 entries, 0 to 10079\n",
      "Data columns (total 5 columns):\n",
      " #   Column  Non-Null Count  Dtype         \n",
      "---  ------  --------------  -----         \n",
      " 0   dt      10080 non-null  datetime64[ns]\n",
      " 1   Day     10080 non-null  object        \n",
      " 2   Lane    10080 non-null  object        \n",
      " 3   Mean    10080 non-null  object        \n",
      " 4   time_s  10080 non-null  object        \n",
      "dtypes: datetime64[ns](1), object(4)\n",
      "memory usage: 393.9+ KB\n"
     ]
    }
   ],
   "source": [
    "route['dt'] = pd.to_datetime(route['dt'])\n",
    "# route['time_s'] = pd.to_datetime(route['time_s'])\n",
    "route.info()"
   ]
  },
  {
   "cell_type": "code",
   "execution_count": 46,
   "id": "3443ffc9-63d5-49f2-91a1-60312680c7b0",
   "metadata": {
    "tags": []
   },
   "outputs": [
    {
     "data": {
      "image/png": "[encoded data removed]",
      "text/plain": [
       "<Figure size 1000x500 with 1 Axes>"
      ]
     },
     "metadata": {},
     "output_type": "display_data"
    }
   ],
   "source": [
    "plt.figure(figsize=(10,5))\n",
    "sns.countplot(data=route, x=\"Day\", hue=\"Lane\")\n",
    "plt.show()"
   ]
  },
  {
   "cell_type": "markdown",
   "id": "d4a4ef51-db09-425f-b22d-43c75a63ec09",
   "metadata": {
    "tags": []
   },
   "source": [
    "#### There is no need to balance the data at this point"
   ]
  },
  {
   "cell_type": "markdown",
   "id": "d6c49c80-e14f-4839-953e-ec535441f7b9",
   "metadata": {},
   "source": [
    "#### Let's split the HOV data and non-HOV data"
   ]
  },
  {
   "cell_type": "code",
   "execution_count": 47,
   "id": "639675b5-20bd-454b-9726-e24663776939",
   "metadata": {
    "tags": []
   },
   "outputs": [
    {
     "data": {
      "text/html": [
       "<div>\n",
       "<style scoped>\n",
       "    .dataframe tbody tr th:only-of-type {\n",
       "        vertical-align: middle;\n",
       "    }\n",
       "\n",
       "    .dataframe tbody tr th {\n",
       "        vertical-align: top;\n",
       "    }\n",
       "\n",
       "    .dataframe thead th {\n",
       "        text-align: right;\n",
       "    }\n",
       "</style>\n",
       "<table border=\"1\" class=\"dataframe\">\n",
       "  <thead>\n",
       "    <tr style=\"text-align: right;\">\n",
       "      <th></th>\n",
       "      <th>dt</th>\n",
       "      <th>Day</th>\n",
       "      <th>Lane</th>\n",
       "      <th>Mean</th>\n",
       "      <th>time_s</th>\n",
       "    </tr>\n",
       "  </thead>\n",
       "  <tbody>\n",
       "    <tr>\n",
       "      <th>1152</th>\n",
       "      <td>2023-03-05</td>\n",
       "      <td>Sunday</td>\n",
       "      <td>HOV</td>\n",
       "      <td>31.95</td>\n",
       "      <td>00:00:00</td>\n",
       "    </tr>\n",
       "    <tr>\n",
       "      <th>1153</th>\n",
       "      <td>2023-03-05</td>\n",
       "      <td>Sunday</td>\n",
       "      <td>HOV</td>\n",
       "      <td>31.97</td>\n",
       "      <td>00:05:00</td>\n",
       "    </tr>\n",
       "    <tr>\n",
       "      <th>1154</th>\n",
       "      <td>2023-03-05</td>\n",
       "      <td>Sunday</td>\n",
       "      <td>HOV</td>\n",
       "      <td>32.00</td>\n",
       "      <td>00:10:00</td>\n",
       "    </tr>\n",
       "    <tr>\n",
       "      <th>1155</th>\n",
       "      <td>2023-03-05</td>\n",
       "      <td>Sunday</td>\n",
       "      <td>HOV</td>\n",
       "      <td>32.03</td>\n",
       "      <td>00:15:00</td>\n",
       "    </tr>\n",
       "    <tr>\n",
       "      <th>1156</th>\n",
       "      <td>2023-03-05</td>\n",
       "      <td>Sunday</td>\n",
       "      <td>HOV</td>\n",
       "      <td>31.93</td>\n",
       "      <td>00:20:00</td>\n",
       "    </tr>\n",
       "    <tr>\n",
       "      <th>...</th>\n",
       "      <td>...</td>\n",
       "      <td>...</td>\n",
       "      <td>...</td>\n",
       "      <td>...</td>\n",
       "      <td>...</td>\n",
       "    </tr>\n",
       "    <tr>\n",
       "      <th>10075</th>\n",
       "      <td>2023-03-11</td>\n",
       "      <td>Saturday</td>\n",
       "      <td>HOV</td>\n",
       "      <td>31.30</td>\n",
       "      <td>23:35:00</td>\n",
       "    </tr>\n",
       "    <tr>\n",
       "      <th>10076</th>\n",
       "      <td>2023-03-11</td>\n",
       "      <td>Saturday</td>\n",
       "      <td>HOV</td>\n",
       "      <td>31.25</td>\n",
       "      <td>23:40:00</td>\n",
       "    </tr>\n",
       "    <tr>\n",
       "      <th>10077</th>\n",
       "      <td>2023-03-11</td>\n",
       "      <td>Saturday</td>\n",
       "      <td>HOV</td>\n",
       "      <td>31.23</td>\n",
       "      <td>23:45:00</td>\n",
       "    </tr>\n",
       "    <tr>\n",
       "      <th>10078</th>\n",
       "      <td>2023-03-11</td>\n",
       "      <td>Saturday</td>\n",
       "      <td>HOV</td>\n",
       "      <td>31.27</td>\n",
       "      <td>23:50:00</td>\n",
       "    </tr>\n",
       "    <tr>\n",
       "      <th>10079</th>\n",
       "      <td>2023-03-11</td>\n",
       "      <td>Saturday</td>\n",
       "      <td>HOV</td>\n",
       "      <td>31.32</td>\n",
       "      <td>23:55:00</td>\n",
       "    </tr>\n",
       "  </tbody>\n",
       "</table>\n",
       "<p>2016 rows × 5 columns</p>\n",
       "</div>"
      ],
      "text/plain": [
       "              dt       Day Lane   Mean    time_s\n",
       "1152  2023-03-05    Sunday  HOV  31.95  00:00:00\n",
       "1153  2023-03-05    Sunday  HOV  31.97  00:05:00\n",
       "1154  2023-03-05    Sunday  HOV  32.00  00:10:00\n",
       "1155  2023-03-05    Sunday  HOV  32.03  00:15:00\n",
       "1156  2023-03-05    Sunday  HOV  31.93  00:20:00\n",
       "...          ...       ...  ...    ...       ...\n",
       "10075 2023-03-11  Saturday  HOV  31.30  23:35:00\n",
       "10076 2023-03-11  Saturday  HOV  31.25  23:40:00\n",
       "10077 2023-03-11  Saturday  HOV  31.23  23:45:00\n",
       "10078 2023-03-11  Saturday  HOV  31.27  23:50:00\n",
       "10079 2023-03-11  Saturday  HOV  31.32  23:55:00\n",
       "\n",
       "[2016 rows x 5 columns]"
      ]
     },
     "execution_count": 47,
     "metadata": {},
     "output_type": "execute_result"
    }
   ],
   "source": [
    "hov_df = route[route['Lane'] == 'HOV']\n",
    "hov_df"
   ]
  },
  {
   "cell_type": "code",
   "execution_count": 48,
   "id": "9095786f-1fa0-4c99-8ab5-ac73ffd5f4bb",
   "metadata": {
    "tags": []
   },
   "outputs": [
    {
     "data": {
      "text/html": [
       "<div>\n",
       "<style scoped>\n",
       "    .dataframe tbody tr th:only-of-type {\n",
       "        vertical-align: middle;\n",
       "    }\n",
       "\n",
       "    .dataframe tbody tr th {\n",
       "        vertical-align: top;\n",
       "    }\n",
       "\n",
       "    .dataframe thead th {\n",
       "        text-align: right;\n",
       "    }\n",
       "</style>\n",
       "<table border=\"1\" class=\"dataframe\">\n",
       "  <thead>\n",
       "    <tr style=\"text-align: right;\">\n",
       "      <th></th>\n",
       "      <th>dt</th>\n",
       "      <th>Day</th>\n",
       "      <th>Lane</th>\n",
       "      <th>Mean</th>\n",
       "      <th>time_s</th>\n",
       "    </tr>\n",
       "  </thead>\n",
       "  <tbody>\n",
       "    <tr>\n",
       "      <th>0</th>\n",
       "      <td>2023-03-05</td>\n",
       "      <td>Sunday</td>\n",
       "      <td>Lane1</td>\n",
       "      <td>30.37</td>\n",
       "      <td>00:00:00</td>\n",
       "    </tr>\n",
       "    <tr>\n",
       "      <th>1</th>\n",
       "      <td>2023-03-05</td>\n",
       "      <td>Sunday</td>\n",
       "      <td>Lane1</td>\n",
       "      <td>30.40</td>\n",
       "      <td>00:05:00</td>\n",
       "    </tr>\n",
       "    <tr>\n",
       "      <th>2</th>\n",
       "      <td>2023-03-05</td>\n",
       "      <td>Sunday</td>\n",
       "      <td>Lane1</td>\n",
       "      <td>30.45</td>\n",
       "      <td>00:10:00</td>\n",
       "    </tr>\n",
       "    <tr>\n",
       "      <th>3</th>\n",
       "      <td>2023-03-05</td>\n",
       "      <td>Sunday</td>\n",
       "      <td>Lane1</td>\n",
       "      <td>30.52</td>\n",
       "      <td>00:15:00</td>\n",
       "    </tr>\n",
       "    <tr>\n",
       "      <th>4</th>\n",
       "      <td>2023-03-05</td>\n",
       "      <td>Sunday</td>\n",
       "      <td>Lane1</td>\n",
       "      <td>30.40</td>\n",
       "      <td>00:20:00</td>\n",
       "    </tr>\n",
       "    <tr>\n",
       "      <th>...</th>\n",
       "      <td>...</td>\n",
       "      <td>...</td>\n",
       "      <td>...</td>\n",
       "      <td>...</td>\n",
       "      <td>...</td>\n",
       "    </tr>\n",
       "    <tr>\n",
       "      <th>9787</th>\n",
       "      <td>2023-03-11</td>\n",
       "      <td>Saturday</td>\n",
       "      <td>Lane4</td>\n",
       "      <td>34.02</td>\n",
       "      <td>23:35:00</td>\n",
       "    </tr>\n",
       "    <tr>\n",
       "      <th>9788</th>\n",
       "      <td>2023-03-11</td>\n",
       "      <td>Saturday</td>\n",
       "      <td>Lane4</td>\n",
       "      <td>34.05</td>\n",
       "      <td>23:40:00</td>\n",
       "    </tr>\n",
       "    <tr>\n",
       "      <th>9789</th>\n",
       "      <td>2023-03-11</td>\n",
       "      <td>Saturday</td>\n",
       "      <td>Lane4</td>\n",
       "      <td>34.05</td>\n",
       "      <td>23:45:00</td>\n",
       "    </tr>\n",
       "    <tr>\n",
       "      <th>9790</th>\n",
       "      <td>2023-03-11</td>\n",
       "      <td>Saturday</td>\n",
       "      <td>Lane4</td>\n",
       "      <td>34.10</td>\n",
       "      <td>23:50:00</td>\n",
       "    </tr>\n",
       "    <tr>\n",
       "      <th>9791</th>\n",
       "      <td>2023-03-11</td>\n",
       "      <td>Saturday</td>\n",
       "      <td>Lane4</td>\n",
       "      <td>34.28</td>\n",
       "      <td>23:55:00</td>\n",
       "    </tr>\n",
       "  </tbody>\n",
       "</table>\n",
       "<p>8064 rows × 5 columns</p>\n",
       "</div>"
      ],
      "text/plain": [
       "             dt       Day   Lane   Mean    time_s\n",
       "0    2023-03-05    Sunday  Lane1  30.37  00:00:00\n",
       "1    2023-03-05    Sunday  Lane1  30.40  00:05:00\n",
       "2    2023-03-05    Sunday  Lane1  30.45  00:10:00\n",
       "3    2023-03-05    Sunday  Lane1  30.52  00:15:00\n",
       "4    2023-03-05    Sunday  Lane1  30.40  00:20:00\n",
       "...         ...       ...    ...    ...       ...\n",
       "9787 2023-03-11  Saturday  Lane4  34.02  23:35:00\n",
       "9788 2023-03-11  Saturday  Lane4  34.05  23:40:00\n",
       "9789 2023-03-11  Saturday  Lane4  34.05  23:45:00\n",
       "9790 2023-03-11  Saturday  Lane4  34.10  23:50:00\n",
       "9791 2023-03-11  Saturday  Lane4  34.28  23:55:00\n",
       "\n",
       "[8064 rows x 5 columns]"
      ]
     },
     "execution_count": 48,
     "metadata": {},
     "output_type": "execute_result"
    }
   ],
   "source": [
    "lan_df = route[route['Lane'] != 'HOV']\n",
    "lan_df"
   ]
  },
  {
   "cell_type": "markdown",
   "id": "c557c8f3-e26e-4a61-8d19-18f549d0916e",
   "metadata": {},
   "source": [
    "#### HOV data has only 2016 rows, and non-HOV data has 8064 rows. Let's merge them by the 'Day' and 'time_s'"
   ]
  },
  {
   "cell_type": "code",
   "execution_count": 49,
   "id": "6f070b1d-5bee-467f-b616-60cd7fdaf2c2",
   "metadata": {
    "tags": []
   },
   "outputs": [
    {
     "data": {
      "text/html": [
       "<div>\n",
       "<style scoped>\n",
       "    .dataframe tbody tr th:only-of-type {\n",
       "        vertical-align: middle;\n",
       "    }\n",
       "\n",
       "    .dataframe tbody tr th {\n",
       "        vertical-align: top;\n",
       "    }\n",
       "\n",
       "    .dataframe thead th {\n",
       "        text-align: right;\n",
       "    }\n",
       "</style>\n",
       "<table border=\"1\" class=\"dataframe\">\n",
       "  <thead>\n",
       "    <tr style=\"text-align: right;\">\n",
       "      <th></th>\n",
       "      <th>dt_x</th>\n",
       "      <th>Day</th>\n",
       "      <th>Lane_x</th>\n",
       "      <th>Mean_x</th>\n",
       "      <th>time_s</th>\n",
       "      <th>dt_y</th>\n",
       "      <th>Lane_y</th>\n",
       "      <th>Mean_y</th>\n",
       "    </tr>\n",
       "  </thead>\n",
       "  <tbody>\n",
       "    <tr>\n",
       "      <th>0</th>\n",
       "      <td>2023-03-05</td>\n",
       "      <td>Sunday</td>\n",
       "      <td>HOV</td>\n",
       "      <td>31.95</td>\n",
       "      <td>00:00:00</td>\n",
       "      <td>2023-03-05</td>\n",
       "      <td>Lane1</td>\n",
       "      <td>30.37</td>\n",
       "    </tr>\n",
       "    <tr>\n",
       "      <th>1</th>\n",
       "      <td>2023-03-05</td>\n",
       "      <td>Sunday</td>\n",
       "      <td>HOV</td>\n",
       "      <td>31.95</td>\n",
       "      <td>00:00:00</td>\n",
       "      <td>2023-03-05</td>\n",
       "      <td>Lane2</td>\n",
       "      <td>31.43</td>\n",
       "    </tr>\n",
       "    <tr>\n",
       "      <th>2</th>\n",
       "      <td>2023-03-05</td>\n",
       "      <td>Sunday</td>\n",
       "      <td>HOV</td>\n",
       "      <td>31.95</td>\n",
       "      <td>00:00:00</td>\n",
       "      <td>2023-03-05</td>\n",
       "      <td>Lane3</td>\n",
       "      <td>34.08</td>\n",
       "    </tr>\n",
       "    <tr>\n",
       "      <th>3</th>\n",
       "      <td>2023-03-05</td>\n",
       "      <td>Sunday</td>\n",
       "      <td>HOV</td>\n",
       "      <td>31.95</td>\n",
       "      <td>00:00:00</td>\n",
       "      <td>2023-03-05</td>\n",
       "      <td>Lane4</td>\n",
       "      <td>34.85</td>\n",
       "    </tr>\n",
       "    <tr>\n",
       "      <th>4</th>\n",
       "      <td>2023-03-05</td>\n",
       "      <td>Sunday</td>\n",
       "      <td>HOV</td>\n",
       "      <td>31.97</td>\n",
       "      <td>00:05:00</td>\n",
       "      <td>2023-03-05</td>\n",
       "      <td>Lane1</td>\n",
       "      <td>30.40</td>\n",
       "    </tr>\n",
       "    <tr>\n",
       "      <th>...</th>\n",
       "      <td>...</td>\n",
       "      <td>...</td>\n",
       "      <td>...</td>\n",
       "      <td>...</td>\n",
       "      <td>...</td>\n",
       "      <td>...</td>\n",
       "      <td>...</td>\n",
       "      <td>...</td>\n",
       "    </tr>\n",
       "    <tr>\n",
       "      <th>8059</th>\n",
       "      <td>2023-03-11</td>\n",
       "      <td>Saturday</td>\n",
       "      <td>HOV</td>\n",
       "      <td>31.27</td>\n",
       "      <td>23:50:00</td>\n",
       "      <td>2023-03-11</td>\n",
       "      <td>Lane4</td>\n",
       "      <td>34.10</td>\n",
       "    </tr>\n",
       "    <tr>\n",
       "      <th>8060</th>\n",
       "      <td>2023-03-11</td>\n",
       "      <td>Saturday</td>\n",
       "      <td>HOV</td>\n",
       "      <td>31.32</td>\n",
       "      <td>23:55:00</td>\n",
       "      <td>2023-03-11</td>\n",
       "      <td>Lane1</td>\n",
       "      <td>29.60</td>\n",
       "    </tr>\n",
       "    <tr>\n",
       "      <th>8061</th>\n",
       "      <td>2023-03-11</td>\n",
       "      <td>Saturday</td>\n",
       "      <td>HOV</td>\n",
       "      <td>31.32</td>\n",
       "      <td>23:55:00</td>\n",
       "      <td>2023-03-11</td>\n",
       "      <td>Lane2</td>\n",
       "      <td>30.95</td>\n",
       "    </tr>\n",
       "    <tr>\n",
       "      <th>8062</th>\n",
       "      <td>2023-03-11</td>\n",
       "      <td>Saturday</td>\n",
       "      <td>HOV</td>\n",
       "      <td>31.32</td>\n",
       "      <td>23:55:00</td>\n",
       "      <td>2023-03-11</td>\n",
       "      <td>Lane3</td>\n",
       "      <td>32.57</td>\n",
       "    </tr>\n",
       "    <tr>\n",
       "      <th>8063</th>\n",
       "      <td>2023-03-11</td>\n",
       "      <td>Saturday</td>\n",
       "      <td>HOV</td>\n",
       "      <td>31.32</td>\n",
       "      <td>23:55:00</td>\n",
       "      <td>2023-03-11</td>\n",
       "      <td>Lane4</td>\n",
       "      <td>34.28</td>\n",
       "    </tr>\n",
       "  </tbody>\n",
       "</table>\n",
       "<p>8064 rows × 8 columns</p>\n",
       "</div>"
      ],
      "text/plain": [
       "           dt_x       Day Lane_x Mean_x    time_s       dt_y Lane_y Mean_y\n",
       "0    2023-03-05    Sunday    HOV  31.95  00:00:00 2023-03-05  Lane1  30.37\n",
       "1    2023-03-05    Sunday    HOV  31.95  00:00:00 2023-03-05  Lane2  31.43\n",
       "2    2023-03-05    Sunday    HOV  31.95  00:00:00 2023-03-05  Lane3  34.08\n",
       "3    2023-03-05    Sunday    HOV  31.95  00:00:00 2023-03-05  Lane4  34.85\n",
       "4    2023-03-05    Sunday    HOV  31.97  00:05:00 2023-03-05  Lane1  30.40\n",
       "...         ...       ...    ...    ...       ...        ...    ...    ...\n",
       "8059 2023-03-11  Saturday    HOV  31.27  23:50:00 2023-03-11  Lane4  34.10\n",
       "8060 2023-03-11  Saturday    HOV  31.32  23:55:00 2023-03-11  Lane1  29.60\n",
       "8061 2023-03-11  Saturday    HOV  31.32  23:55:00 2023-03-11  Lane2  30.95\n",
       "8062 2023-03-11  Saturday    HOV  31.32  23:55:00 2023-03-11  Lane3  32.57\n",
       "8063 2023-03-11  Saturday    HOV  31.32  23:55:00 2023-03-11  Lane4  34.28\n",
       "\n",
       "[8064 rows x 8 columns]"
      ]
     },
     "execution_count": 49,
     "metadata": {},
     "output_type": "execute_result"
    }
   ],
   "source": [
    "merged_df = pd.merge(hov_df, lan_df, on=[ 'Day','time_s'])\n",
    "merged_df"
   ]
  },
  {
   "cell_type": "markdown",
   "id": "726602ec-9a55-47d5-bb2c-a9c1e61d430f",
   "metadata": {},
   "source": [
    "#### One-Hotot encoding\n",
    "#### Create dummy variable"
   ]
  },
  {
   "cell_type": "code",
   "execution_count": 50,
   "id": "f64dcf7a-b06f-46e3-afd6-de8509556854",
   "metadata": {
    "tags": []
   },
   "outputs": [
    {
     "name": "stdout",
     "output_type": "stream",
     "text": [
      "           dt_x Lane_x Mean_x       dt_y Mean_y  Lane_y_Lane1  Lane_y_Lane2  \\\n",
      "0    2023-03-05    HOV  31.95 2023-03-05  30.37             1             0   \n",
      "1    2023-03-05    HOV  31.95 2023-03-05  31.43             0             1   \n",
      "2    2023-03-05    HOV  31.95 2023-03-05  34.08             0             0   \n",
      "3    2023-03-05    HOV  31.95 2023-03-05  34.85             0             0   \n",
      "4    2023-03-05    HOV  31.97 2023-03-05  30.40             1             0   \n",
      "...         ...    ...    ...        ...    ...           ...           ...   \n",
      "8059 2023-03-11    HOV  31.27 2023-03-11  34.10             0             0   \n",
      "8060 2023-03-11    HOV  31.32 2023-03-11  29.60             1             0   \n",
      "8061 2023-03-11    HOV  31.32 2023-03-11  30.95             0             1   \n",
      "8062 2023-03-11    HOV  31.32 2023-03-11  32.57             0             0   \n",
      "8063 2023-03-11    HOV  31.32 2023-03-11  34.28             0             0   \n",
      "\n",
      "      Lane_y_Lane3  Lane_y_Lane4  Day_Friday  ...  time_s_23:10:00  \\\n",
      "0                0             0           0  ...                0   \n",
      "1                0             0           0  ...                0   \n",
      "2                1             0           0  ...                0   \n",
      "3                0             1           0  ...                0   \n",
      "4                0             0           0  ...                0   \n",
      "...            ...           ...         ...  ...              ...   \n",
      "8059             0             1           0  ...                0   \n",
      "8060             0             0           0  ...                0   \n",
      "8061             0             0           0  ...                0   \n",
      "8062             1             0           0  ...                0   \n",
      "8063             0             1           0  ...                0   \n",
      "\n",
      "      time_s_23:15:00  time_s_23:20:00  time_s_23:25:00  time_s_23:30:00  \\\n",
      "0                   0                0                0                0   \n",
      "1                   0                0                0                0   \n",
      "2                   0                0                0                0   \n",
      "3                   0                0                0                0   \n",
      "4                   0                0                0                0   \n",
      "...               ...              ...              ...              ...   \n",
      "8059                0                0                0                0   \n",
      "8060                0                0                0                0   \n",
      "8061                0                0                0                0   \n",
      "8062                0                0                0                0   \n",
      "8063                0                0                0                0   \n",
      "\n",
      "      time_s_23:35:00  time_s_23:40:00  time_s_23:45:00  time_s_23:50:00  \\\n",
      "0                   0                0                0                0   \n",
      "1                   0                0                0                0   \n",
      "2                   0                0                0                0   \n",
      "3                   0                0                0                0   \n",
      "4                   0                0                0                0   \n",
      "...               ...              ...              ...              ...   \n",
      "8059                0                0                0                1   \n",
      "8060                0                0                0                0   \n",
      "8061                0                0                0                0   \n",
      "8062                0                0                0                0   \n",
      "8063                0                0                0                0   \n",
      "\n",
      "      time_s_23:55:00  \n",
      "0                   0  \n",
      "1                   0  \n",
      "2                   0  \n",
      "3                   0  \n",
      "4                   0  \n",
      "...               ...  \n",
      "8059                0  \n",
      "8060                1  \n",
      "8061                1  \n",
      "8062                1  \n",
      "8063                1  \n",
      "\n",
      "[8064 rows x 304 columns]\n"
     ]
    }
   ],
   "source": [
    "dummies = pd.get_dummies(merged_df[['Lane_y', 'Day', 'time_s']])\n",
    "new_dum = pd.concat([merged_df, dummies], axis=1)\n",
    "\n",
    "# drop the original 'Lane' and 'Day_of_Week' columns\n",
    "new_dum.drop(['Lane_y', 'Day','time_s'], axis=1, inplace=True)\n",
    "\n",
    "# print the resulting dataframe\n",
    "print(new_dum)"
   ]
  },
  {
   "cell_type": "markdown",
   "id": "5d3164b9-227d-427e-9014-d24bcaa632a0",
   "metadata": {},
   "source": [
    "#### new_dum table is what we will use for the modeling, we will store it into the S3 bucket"
   ]
  },
  {
   "cell_type": "code",
   "execution_count": 51,
   "id": "bf53f7b6-6222-4943-9376-13ed92fda497",
   "metadata": {
    "tags": []
   },
   "outputs": [
    {
     "data": {
      "text/plain": [
       "{'ResponseMetadata': {'RequestId': '89A9PF8BX3QB8Q2E',\n",
       "  'HostId': 'p0w7uCel8YU9IwEBgoUdzu7sMohEHBLg2hCWTneYREX7t+7Eo1U5o3cndWS7YqpRuthh3PhGCPg=',\n",
       "  'HTTPStatusCode': 200,\n",
       "  'HTTPHeaders': {'x-amz-id-2': 'p0w7uCel8YU9IwEBgoUdzu7sMohEHBLg2hCWTneYREX7t+7Eo1U5o3cndWS7YqpRuthh3PhGCPg=',\n",
       "   'x-amz-request-id': '89A9PF8BX3QB8Q2E',\n",
       "   'date': 'Mon, 27 Mar 2023 19:53:53 GMT',\n",
       "   'x-amz-version-id': '.Ee30LGqtK.DEYV971TnawOHuqn_KEOQ',\n",
       "   'x-amz-server-side-encryption': 'AES256',\n",
       "   'etag': '\"5c9930e4527720f80841cda986442c58\"',\n",
       "   'server': 'AmazonS3',\n",
       "   'content-length': '0'},\n",
       "  'RetryAttempts': 0},\n",
       " 'ETag': '\"5c9930e4527720f80841cda986442c58\"',\n",
       " 'ServerSideEncryption': 'AES256',\n",
       " 'VersionId': '.Ee30LGqtK.DEYV971TnawOHuqn_KEOQ'}"
      ]
     },
     "execution_count": 51,
     "metadata": {},
     "output_type": "execute_result"
    }
   ],
   "source": [
    "from io import StringIO\n",
    "# Convert the DataFrame to a CSV string\n",
    "csv_buffer = StringIO()\n",
    "new_dum.to_csv(csv_buffer, index=False)\n",
    "\n",
    "# Upload the CSV string to the S3 bucket\n",
    "s3_resource = boto3.resource('s3')\n",
    "bucket_name = 'usd508team2'\n",
    "file_key = 'new_dum.csv'\n",
    "s3_resource.Object(bucket_name, file_key).put(Body=csv_buffer.getvalue())\n"
   ]
  },
  {
   "cell_type": "code",
   "execution_count": 52,
   "id": "d884d0a4-6471-45a2-9093-3a6a75664f0a",
   "metadata": {
    "tags": []
   },
   "outputs": [
    {
     "name": "stdout",
     "output_type": "stream",
     "text": [
      "Express_Lanes.csv\n",
      "HOV.csv\n",
      "Route_77.csv\n",
      "Traffic_Volumes_AADT.csv\n",
      "athena/staging/002c9c1f-9c35-403f-85cb-042ae3aca772.txt\n",
      "athena/staging/002c9c1f-9c35-403f-85cb-042ae3aca772.txt.metadata\n",
      "athena/staging/00663255-087e-4063-a8f0-8f45960d2f7c.txt\n",
      "athena/staging/00663255-087e-4063-a8f0-8f45960d2f7c.txt.metadata\n",
      "athena/staging/034b1420-00e0-418f-b6e4-72cc6a040177.txt\n",
      "athena/staging/034b1420-00e0-418f-b6e4-72cc6a040177.txt.metadata\n",
      "athena/staging/04080688-9f17-45e9-bf31-6824496b3e79.txt\n",
      "athena/staging/06717bf8-c00b-48af-9ff3-d810721cd453.txt\n",
      "athena/staging/06717bf8-c00b-48af-9ff3-d810721cd453.txt.metadata\n",
      "athena/staging/07168bb2-b153-4d16-906d-b23a7e50f636.txt\n",
      "athena/staging/07168bb2-b153-4d16-906d-b23a7e50f636.txt.metadata\n",
      "athena/staging/07b700c4-0c48-4b8c-ac41-82146e86c7df.txt\n",
      "athena/staging/07b700c4-0c48-4b8c-ac41-82146e86c7df.txt.metadata\n",
      "athena/staging/08b0ccd8-3cf2-45f4-aa19-56562e5f5a41.txt\n",
      "athena/staging/08b0ccd8-3cf2-45f4-aa19-56562e5f5a41.txt.metadata\n",
      "athena/staging/0b18c414-f77e-4d71-91bd-92b367a1330e.txt\n",
      "athena/staging/0b18c414-f77e-4d71-91bd-92b367a1330e.txt.metadata\n",
      "athena/staging/0bfc9054-bac3-4fe2-86c8-95ace6a50935.txt\n",
      "athena/staging/0bfc9054-bac3-4fe2-86c8-95ace6a50935.txt.metadata\n",
      "athena/staging/0c133e93-920c-4d45-a832-2b9a62ce78a3.txt\n",
      "athena/staging/0c133e93-920c-4d45-a832-2b9a62ce78a3.txt.metadata\n",
      "athena/staging/0ebb83a2-4425-49e6-9b6e-40aa481767c1.txt\n",
      "athena/staging/0ebb83a2-4425-49e6-9b6e-40aa481767c1.txt.metadata\n",
      "athena/staging/0f02e7a7-9c7d-496a-88c0-7d8a116bc7b6.txt\n",
      "athena/staging/0f02e7a7-9c7d-496a-88c0-7d8a116bc7b6.txt.metadata\n",
      "athena/staging/0fcef588-e241-4e9e-8df3-7f620db98e8a.txt\n",
      "athena/staging/0fcef588-e241-4e9e-8df3-7f620db98e8a.txt.metadata\n",
      "athena/staging/0fde7407-32c3-4dd4-8c7e-7a5e4addf38f.txt\n",
      "athena/staging/0fde7407-32c3-4dd4-8c7e-7a5e4addf38f.txt.metadata\n",
      "athena/staging/1076d98f-e748-47af-bff9-ff8f07d3eaa6.txt\n",
      "athena/staging/10a6f2e5-3fb2-481c-9cb0-1b160d1ecea9.txt\n",
      "athena/staging/10a6f2e5-3fb2-481c-9cb0-1b160d1ecea9.txt.metadata\n",
      "athena/staging/10dfab0f-9e56-485f-9602-3765dde26870.txt\n",
      "athena/staging/10dfab0f-9e56-485f-9602-3765dde26870.txt.metadata\n",
      "athena/staging/10f1d81b-b7cb-4b8a-a793-be511aac40e4.txt\n",
      "athena/staging/1296dbf5-a445-4dd5-915d-8632d0d32624.txt\n",
      "athena/staging/15799f58-b69e-4a9d-aaf4-e6086c84d81d.txt\n",
      "athena/staging/15799f58-b69e-4a9d-aaf4-e6086c84d81d.txt.metadata\n",
      "athena/staging/162c1759-977b-49d7-841c-3c52f486c2e7.txt\n",
      "athena/staging/1742ffc8-98de-4dbd-a38e-58ff8603af19.txt\n",
      "athena/staging/180adbe4-9e5d-48e8-bbef-f742f06006e7.txt\n",
      "athena/staging/180adbe4-9e5d-48e8-bbef-f742f06006e7.txt.metadata\n",
      "athena/staging/184f0175-0f57-4937-b680-7e9410cb72d7.txt\n",
      "athena/staging/184f0175-0f57-4937-b680-7e9410cb72d7.txt.metadata\n",
      "athena/staging/1c304a55-924f-461a-b53f-e861feef2f73.txt\n",
      "athena/staging/1c304a55-924f-461a-b53f-e861feef2f73.txt.metadata\n",
      "athena/staging/1d9665ca-8217-45b6-8f4c-7c02eec57ac1.txt\n",
      "athena/staging/1f7ff0b9-fc26-4755-a16c-1cdd68b3a4b4.txt\n",
      "athena/staging/1f7ff0b9-fc26-4755-a16c-1cdd68b3a4b4.txt.metadata\n",
      "athena/staging/1fb780de-af3d-4757-84ef-3631551f6502.txt\n",
      "athena/staging/1fb780de-af3d-4757-84ef-3631551f6502.txt.metadata\n",
      "athena/staging/23087c47-a16c-4b33-9196-a0356a29e9e1.txt\n",
      "athena/staging/23087c47-a16c-4b33-9196-a0356a29e9e1.txt.metadata\n",
      "athena/staging/236940eb-70e9-4767-a6bd-336a7fc95266.txt\n",
      "athena/staging/23d69e05-915b-4055-ac18-0f59a08c3770.txt\n",
      "athena/staging/23d69e05-915b-4055-ac18-0f59a08c3770.txt.metadata\n",
      "athena/staging/24bc939a-b037-46ca-a78e-4d56b273a33b.txt\n",
      "athena/staging/25084933-ed96-42dd-aa8e-39f9573c5d09.txt\n",
      "athena/staging/25084933-ed96-42dd-aa8e-39f9573c5d09.txt.metadata\n",
      "athena/staging/2621d84b-246a-4ccf-8bb5-afa0279f45d5.txt\n",
      "athena/staging/2621d84b-246a-4ccf-8bb5-afa0279f45d5.txt.metadata\n",
      "athena/staging/28b8bc41-d229-42dc-b896-20c649a02898.txt\n",
      "athena/staging/28b8bc41-d229-42dc-b896-20c649a02898.txt.metadata\n",
      "athena/staging/290c117e-0a3e-4db5-b02f-f0cde514564f.txt\n",
      "athena/staging/290c117e-0a3e-4db5-b02f-f0cde514564f.txt.metadata\n",
      "athena/staging/29fb47d4-34d0-4c5b-965b-0c7f75826548.txt\n",
      "athena/staging/2b23f633-75a0-4eba-9cc5-d765f716544e.txt\n",
      "athena/staging/2b23f633-75a0-4eba-9cc5-d765f716544e.txt.metadata\n",
      "athena/staging/3432f4d7-60b6-4d9b-8675-afec400a4211.txt\n",
      "athena/staging/3432f4d7-60b6-4d9b-8675-afec400a4211.txt.metadata\n",
      "athena/staging/3637a2ce-9e0e-40bb-a3da-06c27e042798.txt\n",
      "athena/staging/3637a2ce-9e0e-40bb-a3da-06c27e042798.txt.metadata\n",
      "athena/staging/369595f7-a277-4ba8-a2e8-e9969d23faff.txt\n",
      "athena/staging/36f2e3c3-850f-4cea-b3a7-88393292bd97.txt\n",
      "athena/staging/36f2e3c3-850f-4cea-b3a7-88393292bd97.txt.metadata\n",
      "athena/staging/37049d97-09d2-44a7-990c-1e48f57db91b.txt\n",
      "athena/staging/37049d97-09d2-44a7-990c-1e48f57db91b.txt.metadata\n",
      "athena/staging/38a2c6e9-5f1a-41d9-add2-120b8f0bbe16.txt\n",
      "athena/staging/38a2c6e9-5f1a-41d9-add2-120b8f0bbe16.txt.metadata\n",
      "athena/staging/399c4a50-80bf-4ce7-b2b8-58eca709e805.txt\n",
      "athena/staging/399c4a50-80bf-4ce7-b2b8-58eca709e805.txt.metadata\n",
      "athena/staging/3c23b92c-ea11-41f0-a5ed-382182c839e8.txt\n",
      "athena/staging/3c23b92c-ea11-41f0-a5ed-382182c839e8.txt.metadata\n",
      "athena/staging/4047c377-d7c0-4755-8624-f61e780d9416.txt\n",
      "athena/staging/4047c377-d7c0-4755-8624-f61e780d9416.txt.metadata\n",
      "athena/staging/41ed8db1-a7cc-4ddf-bdf2-13839e7c2e9c.txt\n",
      "athena/staging/41ed8db1-a7cc-4ddf-bdf2-13839e7c2e9c.txt.metadata\n",
      "athena/staging/446ad165-580b-4619-840f-8a88631e9e43.txt\n",
      "athena/staging/446ad165-580b-4619-840f-8a88631e9e43.txt.metadata\n",
      "athena/staging/45527333-641f-4360-8d97-f86f016659ce.txt\n",
      "athena/staging/45527333-641f-4360-8d97-f86f016659ce.txt.metadata\n",
      "athena/staging/467450d8-a065-4932-b4b3-c45705b2fff4.txt\n",
      "athena/staging/467450d8-a065-4932-b4b3-c45705b2fff4.txt.metadata\n",
      "athena/staging/471be6ea-a476-4d3f-8cce-32e4bcc6aefc.txt\n",
      "athena/staging/4771965d-6aeb-4e31-b7a4-8d5fa6d7bdf2.txt\n",
      "athena/staging/4771965d-6aeb-4e31-b7a4-8d5fa6d7bdf2.txt.metadata\n",
      "athena/staging/4860c34d-cda7-4e9e-be9c-19a6da975c55.txt\n",
      "athena/staging/4860c34d-cda7-4e9e-be9c-19a6da975c55.txt.metadata\n",
      "athena/staging/4a5cbe29-98dd-4e36-ba7c-b8ff76ea4aef.txt\n",
      "athena/staging/4a5cbe29-98dd-4e36-ba7c-b8ff76ea4aef.txt.metadata\n",
      "athena/staging/4d62bc12-fcf7-4641-b06c-658668fb3bf6.txt\n",
      "athena/staging/4d62bc12-fcf7-4641-b06c-658668fb3bf6.txt.metadata\n",
      "athena/staging/504e079a-b556-4c5b-b883-ec4cf090a94b.txt\n",
      "athena/staging/504e079a-b556-4c5b-b883-ec4cf090a94b.txt.metadata\n",
      "athena/staging/50bdfde9-6c3b-4f5a-901e-4de5978debe6.txt\n",
      "athena/staging/50bdfde9-6c3b-4f5a-901e-4de5978debe6.txt.metadata\n",
      "athena/staging/50dcaa20-0b20-4b0e-9936-c1c384743c2d.txt\n",
      "athena/staging/50dcaa20-0b20-4b0e-9936-c1c384743c2d.txt.metadata\n",
      "athena/staging/54dc9c6d-5948-4f7b-bd89-13a0943cd3b7.txt\n",
      "athena/staging/55b3c004-ad2b-4f9d-b197-3dab24618f0f.txt\n",
      "athena/staging/55b3c004-ad2b-4f9d-b197-3dab24618f0f.txt.metadata\n",
      "athena/staging/5884e3d6-5a76-47e6-bf7f-d22d05e81a3f.txt\n",
      "athena/staging/5884e3d6-5a76-47e6-bf7f-d22d05e81a3f.txt.metadata\n",
      "athena/staging/59baea47-f155-46c2-be93-d746bf1f6821.txt\n",
      "athena/staging/59baea47-f155-46c2-be93-d746bf1f6821.txt.metadata\n",
      "athena/staging/5a7b4a1c-c370-442c-851d-d627f1ad855a.txt\n",
      "athena/staging/61a84153-6f32-4678-a7cc-c73b8316669c.txt\n",
      "athena/staging/61a84153-6f32-4678-a7cc-c73b8316669c.txt.metadata\n",
      "athena/staging/627c2764-4fd7-4b6b-8768-be720a682dc1.txt\n",
      "athena/staging/627c2764-4fd7-4b6b-8768-be720a682dc1.txt.metadata\n",
      "athena/staging/63ae113c-e145-4c4e-9f22-ea26699d5c6a.txt\n",
      "athena/staging/63ae113c-e145-4c4e-9f22-ea26699d5c6a.txt.metadata\n",
      "athena/staging/64310cea-f991-43b8-90c2-f0aabd6dc01b.txt\n",
      "athena/staging/64310cea-f991-43b8-90c2-f0aabd6dc01b.txt.metadata\n",
      "athena/staging/665d4e04-929d-4257-a3e5-be4e7d5176a4.txt\n",
      "athena/staging/665d4e04-929d-4257-a3e5-be4e7d5176a4.txt.metadata\n",
      "athena/staging/679c8882-a922-4a8d-a3e9-2114d84283d1.txt\n",
      "athena/staging/687e3260-dd40-482a-ab3d-9e2bb854dbd4.txt\n",
      "athena/staging/687e3260-dd40-482a-ab3d-9e2bb854dbd4.txt.metadata\n",
      "athena/staging/6943eae7-b05b-4fb1-bc55-93664cadbc5b.txt\n",
      "athena/staging/6943eae7-b05b-4fb1-bc55-93664cadbc5b.txt.metadata\n",
      "athena/staging/694e109a-5710-4195-b0b5-c034f9585e01.txt\n",
      "athena/staging/6ae7f832-d515-4677-a824-74c33027a865.txt\n",
      "athena/staging/6ae7f832-d515-4677-a824-74c33027a865.txt.metadata\n",
      "athena/staging/6b2fb3be-cd09-4bd8-9e81-fc0070142245.txt\n",
      "athena/staging/6b2fb3be-cd09-4bd8-9e81-fc0070142245.txt.metadata\n",
      "athena/staging/6b464e79-f9c3-441d-9d07-316270e48262.txt\n",
      "athena/staging/6b464e79-f9c3-441d-9d07-316270e48262.txt.metadata\n",
      "athena/staging/6c38bc0a-15e5-4d05-8157-28c450486253.txt\n",
      "athena/staging/6c38bc0a-15e5-4d05-8157-28c450486253.txt.metadata\n",
      "athena/staging/6cf7f853-49f8-407f-a870-979876b6ac52.txt\n",
      "athena/staging/6cf7f853-49f8-407f-a870-979876b6ac52.txt.metadata\n",
      "athena/staging/6d14a3bd-3324-43ff-8c1f-39f7034fab38.txt\n",
      "athena/staging/6d14a3bd-3324-43ff-8c1f-39f7034fab38.txt.metadata\n",
      "athena/staging/71f77158-3181-42d5-9040-185c80d3d901.txt\n",
      "athena/staging/71f77158-3181-42d5-9040-185c80d3d901.txt.metadata\n",
      "athena/staging/7435a304-c0bb-4927-aa96-6185ac9845c8.txt\n",
      "athena/staging/748706df-0038-4a7c-8a5b-fc0d2d5a49c1.txt\n",
      "athena/staging/748706df-0038-4a7c-8a5b-fc0d2d5a49c1.txt.metadata\n",
      "athena/staging/773295d8-a51f-4d9a-bb46-c4fd93a15f23.txt\n",
      "athena/staging/773295d8-a51f-4d9a-bb46-c4fd93a15f23.txt.metadata\n",
      "athena/staging/7b2a5788-3cdc-4623-8cd2-9bc57b8248ac.txt\n",
      "athena/staging/7b2ccb1b-4d65-404e-8f46-5d46978e26bc.txt\n",
      "athena/staging/7b2ccb1b-4d65-404e-8f46-5d46978e26bc.txt.metadata\n",
      "athena/staging/7df03f84-c984-4a26-bd2b-a8820ee93c2e.txt\n",
      "athena/staging/7df03f84-c984-4a26-bd2b-a8820ee93c2e.txt.metadata\n",
      "athena/staging/7df4c736-85f5-49ea-a71e-2a97dbab53d8.txt\n",
      "athena/staging/7df4c736-85f5-49ea-a71e-2a97dbab53d8.txt.metadata\n",
      "athena/staging/7e05e7ef-cea0-4754-a56e-f0b5d0291604.txt\n",
      "athena/staging/7e05e7ef-cea0-4754-a56e-f0b5d0291604.txt.metadata\n",
      "athena/staging/7eaf0f9a-d5a4-41b8-89f0-64b57f32ca84.txt\n",
      "athena/staging/7eaf0f9a-d5a4-41b8-89f0-64b57f32ca84.txt.metadata\n",
      "athena/staging/7feefb65-f589-47fe-b6b9-95c6d2f55d19.txt\n",
      "athena/staging/7feefb65-f589-47fe-b6b9-95c6d2f55d19.txt.metadata\n",
      "athena/staging/80fa80f2-69a4-4a3e-a70a-f961f9192fee.txt\n",
      "athena/staging/80fa80f2-69a4-4a3e-a70a-f961f9192fee.txt.metadata\n",
      "athena/staging/812884ca-161c-436e-80ea-b78a6017935f.txt\n",
      "athena/staging/812884ca-161c-436e-80ea-b78a6017935f.txt.metadata\n",
      "athena/staging/81c0beef-23a2-4da8-9f68-3f90d5d304e2.txt\n",
      "athena/staging/81c0beef-23a2-4da8-9f68-3f90d5d304e2.txt.metadata\n",
      "athena/staging/84e7d677-39a2-491b-a5d1-3ad88e8b9960.txt\n",
      "athena/staging/84e7d677-39a2-491b-a5d1-3ad88e8b9960.txt.metadata\n",
      "athena/staging/851d7d8a-a3ae-477c-865e-c55b47973368.txt\n",
      "athena/staging/851d7d8a-a3ae-477c-865e-c55b47973368.txt.metadata\n",
      "athena/staging/88a15bee-04eb-484f-8719-b91682de612c.txt\n",
      "athena/staging/88c093d2-15d1-4642-9b62-376955b66b25.txt\n",
      "athena/staging/88c093d2-15d1-4642-9b62-376955b66b25.txt.metadata\n",
      "athena/staging/8bdda52b-b13d-470a-98d2-2f6d058510e0.txt\n",
      "athena/staging/8bdda52b-b13d-470a-98d2-2f6d058510e0.txt.metadata\n",
      "athena/staging/8be23eb5-4399-4176-ad73-e69f89afca83.txt\n",
      "athena/staging/8be23eb5-4399-4176-ad73-e69f89afca83.txt.metadata\n",
      "athena/staging/8cc2a2f9-f633-4c34-83bf-609e2af725c5.txt\n",
      "athena/staging/8cc2a2f9-f633-4c34-83bf-609e2af725c5.txt.metadata\n",
      "athena/staging/8f56efaa-0d5a-4d5e-87cf-984b045f26e3.txt\n",
      "athena/staging/8f56efaa-0d5a-4d5e-87cf-984b045f26e3.txt.metadata\n",
      "athena/staging/931b0855-f9e8-478e-9163-42fd14262794.txt\n",
      "athena/staging/931b0855-f9e8-478e-9163-42fd14262794.txt.metadata\n",
      "athena/staging/957a1328-43bc-4bb9-9c69-602126b03536.txt\n",
      "athena/staging/957a1328-43bc-4bb9-9c69-602126b03536.txt.metadata\n",
      "athena/staging/96c7aefe-c657-461f-9f82-3616226ccccb.txt\n",
      "athena/staging/96c7aefe-c657-461f-9f82-3616226ccccb.txt.metadata\n",
      "athena/staging/a2715c6f-1c52-44ae-b032-dc1853ae10f4.txt\n",
      "athena/staging/a2715c6f-1c52-44ae-b032-dc1853ae10f4.txt.metadata\n",
      "athena/staging/a28c7f3e-b5f8-44a0-930e-0377be4ea9ae.txt\n",
      "athena/staging/a28c7f3e-b5f8-44a0-930e-0377be4ea9ae.txt.metadata\n",
      "athena/staging/a29e42ee-5eae-4957-b586-82c9d82c4bf3.txt\n",
      "athena/staging/a29e42ee-5eae-4957-b586-82c9d82c4bf3.txt.metadata\n",
      "athena/staging/a51ceee0-0a97-4216-89f7-9d66b4e00157.txt\n",
      "athena/staging/a51ceee0-0a97-4216-89f7-9d66b4e00157.txt.metadata\n",
      "athena/staging/a6234094-e8f9-4ee4-874e-673b541cefbb.txt\n",
      "athena/staging/a6234094-e8f9-4ee4-874e-673b541cefbb.txt.metadata\n",
      "athena/staging/a6ab92a8-0f94-40f8-a896-8bbf3940aff4.txt\n",
      "athena/staging/a6ab92a8-0f94-40f8-a896-8bbf3940aff4.txt.metadata\n",
      "athena/staging/ab45970f-69a9-43fd-bd71-0b15c3601e4d.txt\n",
      "athena/staging/ab45970f-69a9-43fd-bd71-0b15c3601e4d.txt.metadata\n",
      "athena/staging/ac821a67-b5ec-4019-8230-3af9d9a149b8.txt\n",
      "athena/staging/ae8de3ce-5a8f-44d1-b26c-962dae151f23.txt\n",
      "athena/staging/ae8de3ce-5a8f-44d1-b26c-962dae151f23.txt.metadata\n",
      "athena/staging/afa0ff53-69ec-4ab0-a23f-6ca72d53f6bf.txt\n",
      "athena/staging/afa0ff53-69ec-4ab0-a23f-6ca72d53f6bf.txt.metadata\n",
      "athena/staging/afc3db1c-055e-468d-ae19-93cbf5912047.txt\n",
      "athena/staging/afc3db1c-055e-468d-ae19-93cbf5912047.txt.metadata\n",
      "athena/staging/b11e4714-58b1-40bf-8261-32663af5b91a.txt\n",
      "athena/staging/b11e4714-58b1-40bf-8261-32663af5b91a.txt.metadata\n",
      "athena/staging/b1ccf9ba-a2ff-43ff-b155-4ca0ddc17db4.txt\n",
      "athena/staging/b1ccf9ba-a2ff-43ff-b155-4ca0ddc17db4.txt.metadata\n",
      "athena/staging/b2a73c8b-6db9-491b-b32e-e89c46bd7821.txt\n",
      "athena/staging/b2a73c8b-6db9-491b-b32e-e89c46bd7821.txt.metadata\n",
      "athena/staging/b701ab22-5b7d-4e53-9262-dbf8e40f709e.txt\n",
      "athena/staging/b701ab22-5b7d-4e53-9262-dbf8e40f709e.txt.metadata\n",
      "athena/staging/bc5a744e-8fa4-4732-afac-b397cd83b0fe.txt\n",
      "athena/staging/bc5a744e-8fa4-4732-afac-b397cd83b0fe.txt.metadata\n",
      "athena/staging/c08099af-60c6-4990-96c8-8b37bf9eee5a.txt\n",
      "athena/staging/c08099af-60c6-4990-96c8-8b37bf9eee5a.txt.metadata\n",
      "athena/staging/c1538966-98c5-4d4f-a2a5-306a209b968b.txt\n",
      "athena/staging/c1538966-98c5-4d4f-a2a5-306a209b968b.txt.metadata\n",
      "athena/staging/c16ad62e-76b1-4c52-b82b-b234d045d45a.txt\n",
      "athena/staging/c16ad62e-76b1-4c52-b82b-b234d045d45a.txt.metadata\n",
      "athena/staging/c48c2f57-3312-426c-bc98-42dc8f109ba0.txt\n",
      "athena/staging/c4dbc1b4-e945-48e7-a65d-3c0576666165.txt\n",
      "athena/staging/c4dbc1b4-e945-48e7-a65d-3c0576666165.txt.metadata\n",
      "athena/staging/c6166939-08af-4dd0-8602-c100e2f0035e.txt\n",
      "athena/staging/c8047eff-48b4-4291-b232-58aa43d235d1.txt\n",
      "athena/staging/c8047eff-48b4-4291-b232-58aa43d235d1.txt.metadata\n",
      "athena/staging/c82aebc6-ba4e-49b0-bbc0-89960ffcd528.txt\n",
      "athena/staging/c82aebc6-ba4e-49b0-bbc0-89960ffcd528.txt.metadata\n",
      "athena/staging/c97f5d69-6298-4733-a3eb-45c2edb9a5f1.txt\n",
      "athena/staging/c97f5d69-6298-4733-a3eb-45c2edb9a5f1.txt.metadata\n",
      "athena/staging/c9eb853b-443f-4688-860b-ac545205b0e9.txt\n",
      "athena/staging/ca5107f8-89a8-4c1f-b739-98c595e2d2f7.txt\n",
      "athena/staging/ca5107f8-89a8-4c1f-b739-98c595e2d2f7.txt.metadata\n",
      "athena/staging/ca69612d-5488-4f8d-be33-e7e9e2e16337.txt\n",
      "athena/staging/ca69612d-5488-4f8d-be33-e7e9e2e16337.txt.metadata\n",
      "athena/staging/cad6aad0-e017-4a37-b201-dd395992f178.txt\n",
      "athena/staging/cf878cf4-5dd0-451d-8a28-00b155fe4da4.txt\n",
      "athena/staging/cf878cf4-5dd0-451d-8a28-00b155fe4da4.txt.metadata\n",
      "athena/staging/d2c9397b-6682-4d55-b5eb-96fbae83f1f0.txt\n",
      "athena/staging/d2c9397b-6682-4d55-b5eb-96fbae83f1f0.txt.metadata\n",
      "athena/staging/d4941691-c6fc-48ad-baf6-9d2283dd0164.txt\n",
      "athena/staging/d4941691-c6fc-48ad-baf6-9d2283dd0164.txt.metadata\n",
      "athena/staging/d88ee90f-7793-41c7-80bf-157d4344ad49.txt\n",
      "athena/staging/d88ee90f-7793-41c7-80bf-157d4344ad49.txt.metadata\n",
      "athena/staging/d89f9bdd-d2bd-463c-81c2-62ca64512a6f.txt\n",
      "athena/staging/d89f9bdd-d2bd-463c-81c2-62ca64512a6f.txt.metadata\n",
      "athena/staging/d9ff2016-92be-4639-9446-2b88d02f726b.txt\n",
      "athena/staging/d9ff2016-92be-4639-9446-2b88d02f726b.txt.metadata\n",
      "athena/staging/da7ad73a-21d3-41fb-bdac-3664fce1088e.txt\n",
      "athena/staging/dbb0baea-37d3-44fb-871b-e8e52cc871ed.txt\n",
      "athena/staging/dbb0baea-37d3-44fb-871b-e8e52cc871ed.txt.metadata\n",
      "athena/staging/ddfe510a-9c11-4344-86c5-658914082e81.txt\n",
      "athena/staging/de401828-a54d-4595-87cc-895fd197643f.txt\n",
      "athena/staging/de401828-a54d-4595-87cc-895fd197643f.txt.metadata\n",
      "athena/staging/df024a18-d9be-4325-b4be-d19ce0b651b6.txt\n",
      "athena/staging/df024a18-d9be-4325-b4be-d19ce0b651b6.txt.metadata\n",
      "athena/staging/df7325f3-cf5c-4458-8171-bd58dc871ee0.txt\n",
      "athena/staging/df7325f3-cf5c-4458-8171-bd58dc871ee0.txt.metadata\n",
      "athena/staging/e5da339c-d074-426e-8a2a-9ae3657c9a97.txt\n",
      "athena/staging/e5da339c-d074-426e-8a2a-9ae3657c9a97.txt.metadata\n",
      "athena/staging/e6499a68-1b6b-4965-9a07-9e8f9a68bb32.txt\n",
      "athena/staging/e6499a68-1b6b-4965-9a07-9e8f9a68bb32.txt.metadata\n",
      "athena/staging/e85f4e2c-eb5e-44a2-a7a2-f3509fcfb20b.txt\n",
      "athena/staging/e85f4e2c-eb5e-44a2-a7a2-f3509fcfb20b.txt.metadata\n",
      "athena/staging/eca82e42-770e-47e3-b42d-646fcddfb30b.txt\n",
      "athena/staging/eca82e42-770e-47e3-b42d-646fcddfb30b.txt.metadata\n",
      "athena/staging/ed294906-69f5-4f63-8c8a-0a2547089d3f.txt\n",
      "athena/staging/ed294906-69f5-4f63-8c8a-0a2547089d3f.txt.metadata\n",
      "athena/staging/eda37495-c6ae-4394-b1f5-fef6cc608791.txt\n",
      "athena/staging/eda37495-c6ae-4394-b1f5-fef6cc608791.txt.metadata\n",
      "athena/staging/ee4f7c75-5e49-4f64-9152-c347a13435ec.txt\n",
      "athena/staging/ee4f7c75-5e49-4f64-9152-c347a13435ec.txt.metadata\n",
      "athena/staging/ef3b6f51-7080-464d-93a9-faa7f0c6bce6.txt\n",
      "athena/staging/ef3b6f51-7080-464d-93a9-faa7f0c6bce6.txt.metadata\n",
      "athena/staging/f0183dbf-11c7-4c4f-9953-b08fc16387c5.txt\n",
      "athena/staging/f0183dbf-11c7-4c4f-9953-b08fc16387c5.txt.metadata\n",
      "athena/staging/f1978063-1fde-4e6c-9f62-ac920a4634b1.txt\n",
      "athena/staging/f21688f9-428e-4077-b2b3-4bcd5de54119.txt\n",
      "athena/staging/f21688f9-428e-4077-b2b3-4bcd5de54119.txt.metadata\n",
      "athena/staging/f4ec347a-2fc9-4fe9-80f2-39924ea22d80.txt\n",
      "athena/staging/f4ec347a-2fc9-4fe9-80f2-39924ea22d80.txt.metadata\n",
      "athena/staging/f57624fd-84b0-43e4-8675-efa15eda3718.txt\n",
      "athena/staging/f57624fd-84b0-43e4-8675-efa15eda3718.txt.metadata\n",
      "athena/staging/f5949f34-7c2b-4bd4-998a-413239776981.txt\n",
      "athena/staging/f5949f34-7c2b-4bd4-998a-413239776981.txt.metadata\n",
      "athena/staging/f6990cdd-aedc-46fc-8fb2-e52debc083ab.txt\n",
      "athena/staging/f6990cdd-aedc-46fc-8fb2-e52debc083ab.txt.metadata\n",
      "athena/staging/f6a53fe9-966b-4e3f-a230-1f829961d52d.txt\n",
      "athena/staging/f6a53fe9-966b-4e3f-a230-1f829961d52d.txt.metadata\n",
      "athena/staging/f7845b49-c320-40e9-b2f2-1fe3272e6c05.txt\n",
      "athena/staging/f7845b49-c320-40e9-b2f2-1fe3272e6c05.txt.metadata\n",
      "athena/staging/f7a434ed-9d80-43a8-b12e-f574f2cbb9dd.txt\n",
      "athena/staging/f7a434ed-9d80-43a8-b12e-f574f2cbb9dd.txt.metadata\n",
      "athena/staging/f8a06a5a-d794-477b-870a-4baa9020cd57.txt\n",
      "athena/staging/f8a06a5a-d794-477b-870a-4baa9020cd57.txt.metadata\n",
      "athena/staging/f8d9c0cc-a66f-42dd-9217-7e6fafe1700e.txt\n",
      "athena/staging/f8d9c0cc-a66f-42dd-9217-7e6fafe1700e.txt.metadata\n",
      "athena/staging/f912fcfd-9074-44b1-af59-0cc04c10cb29.txt\n",
      "athena/staging/f912fcfd-9074-44b1-af59-0cc04c10cb29.txt.metadata\n",
      "athena/staging/f9b3568b-f900-4730-941a-457e40b86880.txt\n",
      "athena/staging/f9b3568b-f900-4730-941a-457e40b86880.txt.metadata\n",
      "athena/staging/fc7b31c5-144e-456c-8a04-4297a16a37f5.txt\n",
      "athena/staging/fc7b31c5-144e-456c-8a04-4297a16a37f5.txt.metadata\n",
      "athena/staging/fe47624b-a585-422a-b88e-304c49debde7.txt\n",
      "athena/staging/fe832ed6-a991-4284-be02-33d5de6cda75.txt\n",
      "athena/staging/fe832ed6-a991-4284-be02-33d5de6cda75.txt.metadata\n",
      "athena/staging/fe87bb74-db3e-47f5-9270-c70a5b70f0b2.txt\n",
      "athena/staging/fe87bb74-db3e-47f5-9270-c70a5b70f0b2.txt.metadata\n",
      "athena/staging/fe9aa103-d8ea-40f3-b9cf-0e28f29ef694.txt\n",
      "athena/staging/fe9aa103-d8ea-40f3-b9cf-0e28f29ef694.txt.metadata\n",
      "new_dum.csv\n"
     ]
    }
   ],
   "source": [
    "CA_dir = 's3://usd508team2/'\n",
    "s3_client = boto3.client(\"s3\")\n",
    "BUCKET='usd508team2'\n",
    "# List all objects in the bucket\n",
    "response = s3_client.list_objects(Bucket=BUCKET)\n",
    "\n",
    "# Print the key names\n",
    "for obj in response['Contents']:\n",
    "    print(obj['Key'])"
   ]
  },
  {
   "cell_type": "markdown",
   "id": "01f3fb90-227e-4028-9769-9044219eaebd",
   "metadata": {},
   "source": [
    "#### Now, the 'new_dum.csv' is in our S3 bucket"
   ]
  },
  {
   "cell_type": "markdown",
   "id": "3c880843-b31a-4cd9-8740-b7d4270fb9fa",
   "metadata": {},
   "source": [
    "# Section 4: Modeling"
   ]
  },
  {
   "cell_type": "code",
   "execution_count": 53,
   "id": "1fc30286-df2e-4a5d-a5d2-24e2018b676c",
   "metadata": {
    "tags": []
   },
   "outputs": [
    {
     "name": "stdout",
     "output_type": "stream",
     "text": [
      "['Mean_y', 'Lane_y_Lane1', 'Lane_y_Lane2', 'Lane_y_Lane3', 'Lane_y_Lane4', 'Day_Friday', 'Day_Monday', 'Day_Saturday', 'Day_Sunday', 'Day_Thursday', 'Day_Tuesday', 'Day_Wednesday', 'time_s_00:00:00', 'time_s_00:05:00', 'time_s_00:10:00', 'time_s_00:15:00', 'time_s_00:20:00', 'time_s_00:25:00', 'time_s_00:30:00', 'time_s_00:35:00', 'time_s_00:40:00', 'time_s_00:45:00', 'time_s_00:50:00', 'time_s_00:55:00', 'time_s_01:00:00', 'time_s_01:05:00', 'time_s_01:10:00', 'time_s_01:15:00', 'time_s_01:20:00', 'time_s_01:25:00', 'time_s_01:30:00', 'time_s_01:35:00', 'time_s_01:40:00', 'time_s_01:45:00', 'time_s_01:50:00', 'time_s_01:55:00', 'time_s_02:00:00', 'time_s_02:05:00', 'time_s_02:10:00', 'time_s_02:15:00', 'time_s_02:20:00', 'time_s_02:25:00', 'time_s_02:30:00', 'time_s_02:35:00', 'time_s_02:40:00', 'time_s_02:45:00', 'time_s_02:50:00', 'time_s_02:55:00', 'time_s_03:00:00', 'time_s_03:05:00', 'time_s_03:10:00', 'time_s_03:15:00', 'time_s_03:20:00', 'time_s_03:25:00', 'time_s_03:30:00', 'time_s_03:35:00', 'time_s_03:40:00', 'time_s_03:45:00', 'time_s_03:50:00', 'time_s_03:55:00', 'time_s_04:00:00', 'time_s_04:05:00', 'time_s_04:10:00', 'time_s_04:15:00', 'time_s_04:20:00', 'time_s_04:25:00', 'time_s_04:30:00', 'time_s_04:35:00', 'time_s_04:40:00', 'time_s_04:45:00', 'time_s_04:50:00', 'time_s_04:55:00', 'time_s_05:00:00', 'time_s_05:05:00', 'time_s_05:10:00', 'time_s_05:15:00', 'time_s_05:20:00', 'time_s_05:25:00', 'time_s_05:30:00', 'time_s_05:35:00', 'time_s_05:40:00', 'time_s_05:45:00', 'time_s_05:50:00', 'time_s_05:55:00', 'time_s_06:00:00', 'time_s_06:05:00', 'time_s_06:10:00', 'time_s_06:15:00', 'time_s_06:20:00', 'time_s_06:25:00', 'time_s_06:30:00', 'time_s_06:35:00', 'time_s_06:40:00', 'time_s_06:45:00', 'time_s_06:50:00', 'time_s_06:55:00', 'time_s_07:00:00', 'time_s_07:05:00', 'time_s_07:10:00', 'time_s_07:15:00', 'time_s_07:20:00', 'time_s_07:25:00', 'time_s_07:30:00', 'time_s_07:35:00', 'time_s_07:40:00', 'time_s_07:45:00', 'time_s_07:50:00', 'time_s_07:55:00', 'time_s_08:00:00', 'time_s_08:05:00', 'time_s_08:10:00', 'time_s_08:15:00', 'time_s_08:20:00', 'time_s_08:25:00', 'time_s_08:30:00', 'time_s_08:35:00', 'time_s_08:40:00', 'time_s_08:45:00', 'time_s_08:50:00', 'time_s_08:55:00', 'time_s_09:00:00', 'time_s_09:05:00', 'time_s_09:10:00', 'time_s_09:15:00', 'time_s_09:20:00', 'time_s_09:25:00', 'time_s_09:30:00', 'time_s_09:35:00', 'time_s_09:40:00', 'time_s_09:45:00', 'time_s_09:50:00', 'time_s_09:55:00', 'time_s_10:00:00', 'time_s_10:05:00', 'time_s_10:10:00', 'time_s_10:15:00', 'time_s_10:20:00', 'time_s_10:25:00', 'time_s_10:30:00', 'time_s_10:35:00', 'time_s_10:40:00', 'time_s_10:45:00', 'time_s_10:50:00', 'time_s_10:55:00', 'time_s_11:00:00', 'time_s_11:05:00', 'time_s_11:10:00', 'time_s_11:15:00', 'time_s_11:20:00', 'time_s_11:25:00', 'time_s_11:30:00', 'time_s_11:35:00', 'time_s_11:40:00', 'time_s_11:45:00', 'time_s_11:50:00', 'time_s_11:55:00', 'time_s_12:00:00', 'time_s_12:05:00', 'time_s_12:10:00', 'time_s_12:15:00', 'time_s_12:20:00', 'time_s_12:25:00', 'time_s_12:30:00', 'time_s_12:35:00', 'time_s_12:40:00', 'time_s_12:45:00', 'time_s_12:50:00', 'time_s_12:55:00', 'time_s_13:00:00', 'time_s_13:05:00', 'time_s_13:10:00', 'time_s_13:15:00', 'time_s_13:20:00', 'time_s_13:25:00', 'time_s_13:30:00', 'time_s_13:35:00', 'time_s_13:40:00', 'time_s_13:45:00', 'time_s_13:50:00', 'time_s_13:55:00', 'time_s_14:00:00', 'time_s_14:05:00', 'time_s_14:10:00', 'time_s_14:15:00', 'time_s_14:20:00', 'time_s_14:25:00', 'time_s_14:30:00', 'time_s_14:35:00', 'time_s_14:40:00', 'time_s_14:45:00', 'time_s_14:50:00', 'time_s_14:55:00', 'time_s_15:00:00', 'time_s_15:05:00', 'time_s_15:10:00', 'time_s_15:15:00', 'time_s_15:20:00', 'time_s_15:25:00', 'time_s_15:30:00', 'time_s_15:35:00', 'time_s_15:40:00', 'time_s_15:45:00', 'time_s_15:50:00', 'time_s_15:55:00', 'time_s_16:00:00', 'time_s_16:05:00', 'time_s_16:10:00', 'time_s_16:15:00', 'time_s_16:20:00', 'time_s_16:25:00', 'time_s_16:30:00', 'time_s_16:35:00', 'time_s_16:40:00', 'time_s_16:45:00', 'time_s_16:50:00', 'time_s_16:55:00', 'time_s_17:00:00', 'time_s_17:05:00', 'time_s_17:10:00', 'time_s_17:15:00', 'time_s_17:20:00', 'time_s_17:25:00', 'time_s_17:30:00', 'time_s_17:35:00', 'time_s_17:40:00', 'time_s_17:45:00', 'time_s_17:50:00', 'time_s_17:55:00', 'time_s_18:00:00', 'time_s_18:05:00', 'time_s_18:10:00', 'time_s_18:15:00', 'time_s_18:20:00', 'time_s_18:25:00', 'time_s_18:30:00', 'time_s_18:35:00', 'time_s_18:40:00', 'time_s_18:45:00', 'time_s_18:50:00', 'time_s_18:55:00', 'time_s_19:00:00', 'time_s_19:05:00', 'time_s_19:10:00', 'time_s_19:15:00', 'time_s_19:20:00', 'time_s_19:25:00', 'time_s_19:30:00', 'time_s_19:35:00', 'time_s_19:40:00', 'time_s_19:45:00', 'time_s_19:50:00', 'time_s_19:55:00', 'time_s_20:00:00', 'time_s_20:05:00', 'time_s_20:10:00', 'time_s_20:15:00', 'time_s_20:20:00', 'time_s_20:25:00', 'time_s_20:30:00', 'time_s_20:35:00', 'time_s_20:40:00', 'time_s_20:45:00', 'time_s_20:50:00', 'time_s_20:55:00', 'time_s_21:00:00', 'time_s_21:05:00', 'time_s_21:10:00', 'time_s_21:15:00', 'time_s_21:20:00', 'time_s_21:25:00', 'time_s_21:30:00', 'time_s_21:35:00', 'time_s_21:40:00', 'time_s_21:45:00', 'time_s_21:50:00', 'time_s_21:55:00', 'time_s_22:00:00', 'time_s_22:05:00', 'time_s_22:10:00', 'time_s_22:15:00', 'time_s_22:20:00', 'time_s_22:25:00', 'time_s_22:30:00', 'time_s_22:35:00', 'time_s_22:40:00', 'time_s_22:45:00', 'time_s_22:50:00', 'time_s_22:55:00', 'time_s_23:00:00', 'time_s_23:05:00', 'time_s_23:10:00', 'time_s_23:15:00', 'time_s_23:20:00', 'time_s_23:25:00', 'time_s_23:30:00', 'time_s_23:35:00', 'time_s_23:40:00', 'time_s_23:45:00', 'time_s_23:50:00', 'time_s_23:55:00']\n"
     ]
    }
   ],
   "source": [
    "# Get the variable list and remove the target variable and irrelevant columns\n",
    "column_names = list(new_dum.columns)\n",
    "column_names.remove('dt_x')\n",
    "column_names.remove('Lane_x')\n",
    "column_names.remove('Mean_x')\n",
    "column_names.remove('dt_y')\n",
    "# Print the list of column names\n",
    "print(column_names)"
   ]
  },
  {
   "cell_type": "code",
   "execution_count": 54,
   "id": "75e88ccd-58be-4eb2-9ba1-cd9025161ce8",
   "metadata": {
    "tags": []
   },
   "outputs": [],
   "source": [
    "from sklearn.preprocessing import StandardScaler,PolynomialFeatures\n",
    "\n",
    "X = new_dum[column_names]\n",
    "Y = new_dum['Mean_x']\n",
    "x_train, x_test, y_train, y_test = train_test_split(X, Y, test_size=0.2, random_state=0)\n",
    "\n",
    "sc = StandardScaler()\n",
    "x_train = sc.fit_transform(x_train)\n",
    "x_test = sc.transform(x_test)"
   ]
  },
  {
   "cell_type": "code",
   "execution_count": 55,
   "id": "7c2a12c6-3937-472d-8f03-a1cac4ebb984",
   "metadata": {
    "tags": []
   },
   "outputs": [
    {
     "name": "stdout",
     "output_type": "stream",
     "text": [
      "x_train: (6451, 300)\n",
      "x_test: (1613, 300)\n",
      "y_train: 6451\n",
      "y_test: 1613\n"
     ]
    }
   ],
   "source": [
    "print(\"x_train:\",x_train.shape)\n",
    "print(\"x_test:\",x_test.shape)\n",
    "print(\"y_train:\",y_train.shape[0])\n",
    "print(\"y_test:\",y_test.shape[0])"
   ]
  },
  {
   "cell_type": "markdown",
   "id": "8bdd0e3e-5c3f-4953-bfc8-c176ebb2f68d",
   "metadata": {},
   "source": [
    "#### LinearRegression model prediction"
   ]
  },
  {
   "cell_type": "code",
   "execution_count": 56,
   "id": "bb5aec41-f35a-4f24-8799-a91cf732e21b",
   "metadata": {
    "tags": []
   },
   "outputs": [
    {
     "name": "stdout",
     "output_type": "stream",
     "text": [
      "RMSE: 0.8525872352074951\n"
     ]
    }
   ],
   "source": [
    "from sklearn.linear_model import LinearRegression\n",
    "# Train a linear regression model on the training set\n",
    "regressor = LinearRegression()\n",
    "# Fit the regressor with the training data\n",
    "regressor.fit(x_train, y_train)\n",
    "# Predict the values for the test set\n",
    "y_pred = regressor.predict(x_test)\n",
    "\n",
    "rmse = np.sqrt(mean_squared_error(y_test, y_pred))\n",
    "print(\"RMSE:\", rmse)"
   ]
  },
  {
   "cell_type": "code",
   "execution_count": 58,
   "id": "53e59bc3-29f9-4a15-8c8e-d707053b677d",
   "metadata": {
    "tags": []
   },
   "outputs": [
    {
     "name": "stdout",
     "output_type": "stream",
     "text": [
      " Accuracy of the model is 97.51\n"
     ]
    }
   ],
   "source": [
    "from sklearn.metrics import r2_score\n",
    "Accuracy_lr=r2_score(y_test,y_pred)*100\n",
    "print(\" Accuracy of the model is %.2f\" %Accuracy_lr)"
   ]
  },
  {
   "cell_type": "code",
   "execution_count": 59,
   "id": "30b23129-e53a-4044-9d14-fb2ecae5351a",
   "metadata": {
    "tags": []
   },
   "outputs": [
    {
     "data": {
      "image/png": "[encoded data removed]",
      "text/plain": [
       "<Figure size 640x480 with 1 Axes>"
      ]
     },
     "metadata": {},
     "output_type": "display_data"
    }
   ],
   "source": [
    "# Plot the actual values\n",
    "plt.scatter(y_test, y_test, color='blue', label='Actual')\n",
    "\n",
    "# Plot the predicted values\n",
    "plt.scatter(y_test, y_pred, color='red', label='Predicted')\n",
    "\n",
    "# Set the axis labels and legend\n",
    "plt.xlabel('Actual HOV Speed')\n",
    "plt.ylabel('Predicted HOV Speed')\n",
    "plt.legend()\n",
    "\n",
    "# Show the plot\n",
    "plt.show()"
   ]
  },
  {
   "cell_type": "code",
   "execution_count": 60,
   "id": "71c5c14d-c57c-42cb-81c2-a89fa04bc105",
   "metadata": {
    "tags": []
   },
   "outputs": [
    {
     "data": {
      "image/png": "[encoded data removed]",
      "text/plain": [
       "<Figure size 2000x1000 with 1 Axes>"
      ]
     },
     "metadata": {},
     "output_type": "display_data"
    }
   ],
   "source": [
    "f, ax = plt.subplots(figsize=(20, 10)) \n",
    "sns.distplot(y_test, hist=True, label=\"Actual HOV Speed\")\n",
    "sns.distplot(y_pred, hist=True, label=\"Predicted HOV Speed\")\n",
    "plt.xlabel(\"HOV Speed\")\n",
    "plt.legend()\n",
    "plt.show()"
   ]
  },
  {
   "cell_type": "markdown",
   "id": "b6dc6c46-f95b-4546-8e10-23ca67893f3d",
   "metadata": {},
   "source": [
    "#### RandomForest model prediction"
   ]
  },
  {
   "cell_type": "code",
   "execution_count": 61,
   "id": "011dcc6e-2f7c-475e-9157-1d6dd2132336",
   "metadata": {
    "tags": []
   },
   "outputs": [
    {
     "name": "stdout",
     "output_type": "stream",
     "text": [
      " Accuracy of the model is 98.37\n"
     ]
    }
   ],
   "source": [
    "from sklearn.ensemble import RandomForestRegressor\n",
    "regressor_rf = RandomForestRegressor(n_estimators=250, random_state=0)\n",
    "regressor_rf.fit(x_train, y_train)\n",
    "y_pred = regressor_rf.predict(x_test)\n",
    "Accuracy_rf=r2_score(y_test,y_pred)*100\n",
    "print(\" Accuracy of the model is %.2f\" %Accuracy_rf)"
   ]
  },
  {
   "cell_type": "code",
   "execution_count": 63,
   "id": "4a509624-f696-41ae-875b-ab20021a4c50",
   "metadata": {
    "tags": []
   },
   "outputs": [
    {
     "data": {
      "image/png": "[encoded data removed]",
      "text/plain": [
       "<Figure size 2000x1000 with 1 Axes>"
      ]
     },
     "metadata": {},
     "output_type": "display_data"
    }
   ],
   "source": [
    "f, ax = plt.subplots(figsize=(20, 10)) \n",
    "sns.distplot(y_test, hist=True, label=\"Actual HOV Speed\")\n",
    "sns.distplot(y_pred, hist=True, label=\"Predicted HOV Speed\")\n",
    "plt.xlabel(\"HOV Speed\")\n",
    "plt.legend()\n",
    "plt.show()"
   ]
  },
  {
   "cell_type": "code",
   "execution_count": null,
   "id": "46051aae-1604-4233-b6fb-c861a8955894",
   "metadata": {},
   "outputs": [],
   "source": []
  }
 ],
 "metadata": {
  "availableInstances": [
   {
    "_defaultOrder": 0,
    "_isFastLaunch": true,
    "category": "General purpose",
    "gpuNum": 0,
    "hideHardwareSpecs": false,
    "memoryGiB": 4,
    "name": "ml.t3.medium",
    "vcpuNum": 2
   },
   {
    "_defaultOrder": 1,
    "_isFastLaunch": false,
    "category": "General purpose",
    "gpuNum": 0,
    "hideHardwareSpecs": false,
    "memoryGiB": 8,
    "name": "ml.t3.large",
    "vcpuNum": 2
   },
   {
    "_defaultOrder": 2,
    "_isFastLaunch": false,
    "category": "General purpose",
    "gpuNum": 0,
    "hideHardwareSpecs": false,
    "memoryGiB": 16,
    "name": "ml.t3.xlarge",
    "vcpuNum": 4
   },
   {
    "_defaultOrder": 3,
    "_isFastLaunch": false,
    "category": "General purpose",
    "gpuNum": 0,
    "hideHardwareSpecs": false,
    "memoryGiB": 32,
    "name": "ml.t3.2xlarge",
    "vcpuNum": 8
   },
   {
    "_defaultOrder": 4,
    "_isFastLaunch": true,
    "category": "General purpose",
    "gpuNum": 0,
    "hideHardwareSpecs": false,
    "memoryGiB": 8,
    "name": "ml.m5.large",
    "vcpuNum": 2
   },
   {
    "_defaultOrder": 5,
    "_isFastLaunch": false,
    "category": "General purpose",
    "gpuNum": 0,
    "hideHardwareSpecs": false,
    "memoryGiB": 16,
    "name": "ml.m5.xlarge",
    "vcpuNum": 4
   },
   {
    "_defaultOrder": 6,
    "_isFastLaunch": false,
    "category": "General purpose",
    "gpuNum": 0,
    "hideHardwareSpecs": false,
    "memoryGiB": 32,
    "name": "ml.m5.2xlarge",
    "vcpuNum": 8
   },
   {
    "_defaultOrder": 7,
    "_isFastLaunch": false,
    "category": "General purpose",
    "gpuNum": 0,
    "hideHardwareSpecs": false,
    "memoryGiB": 64,
    "name": "ml.m5.4xlarge",
    "vcpuNum": 16
   },
   {
    "_defaultOrder": 8,
    "_isFastLaunch": false,
    "category": "General purpose",
    "gpuNum": 0,
    "hideHardwareSpecs": false,
    "memoryGiB": 128,
    "name": "ml.m5.8xlarge",
    "vcpuNum": 32
   },
   {
    "_defaultOrder": 9,
    "_isFastLaunch": false,
    "category": "General purpose",
    "gpuNum": 0,
    "hideHardwareSpecs": false,
    "memoryGiB": 192,
    "name": "ml.m5.12xlarge",
    "vcpuNum": 48
   },
   {
    "_defaultOrder": 10,
    "_isFastLaunch": false,
    "category": "General purpose",
    "gpuNum": 0,
    "hideHardwareSpecs": false,
    "memoryGiB": 256,
    "name": "ml.m5.16xlarge",
    "vcpuNum": 64
   },
   {
    "_defaultOrder": 11,
    "_isFastLaunch": false,
    "category": "General purpose",
    "gpuNum": 0,
    "hideHardwareSpecs": false,
    "memoryGiB": 384,
    "name": "ml.m5.24xlarge",
    "vcpuNum": 96
   },
   {
    "_defaultOrder": 12,
    "_isFastLaunch": false,
    "category": "General purpose",
    "gpuNum": 0,
    "hideHardwareSpecs": false,
    "memoryGiB": 8,
    "name": "ml.m5d.large",
    "vcpuNum": 2
   },
   {
    "_defaultOrder": 13,
    "_isFastLaunch": false,
    "category": "General purpose",
    "gpuNum": 0,
    "hideHardwareSpecs": false,
    "memoryGiB": 16,
    "name": "ml.m5d.xlarge",
    "vcpuNum": 4
   },
   {
    "_defaultOrder": 14,
    "_isFastLaunch": false,
    "category": "General purpose",
    "gpuNum": 0,
    "hideHardwareSpecs": false,
    "memoryGiB": 32,
    "name": "ml.m5d.2xlarge",
    "vcpuNum": 8
   },
   {
    "_defaultOrder": 15,
    "_isFastLaunch": false,
    "category": "General purpose",
    "gpuNum": 0,
    "hideHardwareSpecs": false,
    "memoryGiB": 64,
    "name": "ml.m5d.4xlarge",
    "vcpuNum": 16
   },
   {
    "_defaultOrder": 16,
    "_isFastLaunch": false,
    "category": "General purpose",
    "gpuNum": 0,
    "hideHardwareSpecs": false,
    "memoryGiB": 128,
    "name": "ml.m5d.8xlarge",
    "vcpuNum": 32
   },
   {
    "_defaultOrder": 17,
    "_isFastLaunch": false,
    "category": "General purpose",
    "gpuNum": 0,
    "hideHardwareSpecs": false,
    "memoryGiB": 192,
    "name": "ml.m5d.12xlarge",
    "vcpuNum": 48
   },
   {
    "_defaultOrder": 18,
    "_isFastLaunch": false,
    "category": "General purpose",
    "gpuNum": 0,
    "hideHardwareSpecs": false,
    "memoryGiB": 256,
    "name": "ml.m5d.16xlarge",
    "vcpuNum": 64
   },
   {
    "_defaultOrder": 19,
    "_isFastLaunch": false,
    "category": "General purpose",
    "gpuNum": 0,
    "hideHardwareSpecs": false,
    "memoryGiB": 384,
    "name": "ml.m5d.24xlarge",
    "vcpuNum": 96
   },
   {
    "_defaultOrder": 20,
    "_isFastLaunch": false,
    "category": "General purpose",
    "gpuNum": 0,
    "hideHardwareSpecs": true,
    "memoryGiB": 0,
    "name": "ml.geospatial.interactive",
    "supportedImageNames": [
     "sagemaker-geospatial-v1-0"
    ],
    "vcpuNum": 0
   },
   {
    "_defaultOrder": 21,
    "_isFastLaunch": true,
    "category": "Compute optimized",
    "gpuNum": 0,
    "hideHardwareSpecs": false,
    "memoryGiB": 4,
    "name": "ml.c5.large",
    "vcpuNum": 2
   },
   {
    "_defaultOrder": 22,
    "_isFastLaunch": false,
    "category": "Compute optimized",
    "gpuNum": 0,
    "hideHardwareSpecs": false,
    "memoryGiB": 8,
    "name": "ml.c5.xlarge",
    "vcpuNum": 4
   },
   {
    "_defaultOrder": 23,
    "_isFastLaunch": false,
    "category": "Compute optimized",
    "gpuNum": 0,
    "hideHardwareSpecs": false,
    "memoryGiB": 16,
    "name": "ml.c5.2xlarge",
    "vcpuNum": 8
   },
   {
    "_defaultOrder": 24,
    "_isFastLaunch": false,
    "category": "Compute optimized",
    "gpuNum": 0,
    "hideHardwareSpecs": false,
    "memoryGiB": 32,
    "name": "ml.c5.4xlarge",
    "vcpuNum": 16
   },
   {
    "_defaultOrder": 25,
    "_isFastLaunch": false,
    "category": "Compute optimized",
    "gpuNum": 0,
    "hideHardwareSpecs": false,
    "memoryGiB": 72,
    "name": "ml.c5.9xlarge",
    "vcpuNum": 36
   },
   {
    "_defaultOrder": 26,
    "_isFastLaunch": false,
    "category": "Compute optimized",
    "gpuNum": 0,
    "hideHardwareSpecs": false,
    "memoryGiB": 96,
    "name": "ml.c5.12xlarge",
    "vcpuNum": 48
   },
   {
    "_defaultOrder": 27,
    "_isFastLaunch": false,
    "category": "Compute optimized",
    "gpuNum": 0,
    "hideHardwareSpecs": false,
    "memoryGiB": 144,
    "name": "ml.c5.18xlarge",
    "vcpuNum": 72
   },
   {
    "_defaultOrder": 28,
    "_isFastLaunch": false,
    "category": "Compute optimized",
    "gpuNum": 0,
    "hideHardwareSpecs": false,
    "memoryGiB": 192,
    "name": "ml.c5.24xlarge",
    "vcpuNum": 96
   },
   {
    "_defaultOrder": 29,
    "_isFastLaunch": true,
    "category": "Accelerated computing",
    "gpuNum": 1,
    "hideHardwareSpecs": false,
    "memoryGiB": 16,
    "name": "ml.g4dn.xlarge",
    "vcpuNum": 4
   },
   {
    "_defaultOrder": 30,
    "_isFastLaunch": false,
    "category": "Accelerated computing",
    "gpuNum": 1,
    "hideHardwareSpecs": false,
    "memoryGiB": 32,
    "name": "ml.g4dn.2xlarge",
    "vcpuNum": 8
   },
   {
    "_defaultOrder": 31,
    "_isFastLaunch": false,
    "category": "Accelerated computing",
    "gpuNum": 1,
    "hideHardwareSpecs": false,
    "memoryGiB": 64,
    "name": "ml.g4dn.4xlarge",
    "vcpuNum": 16
   },
   {
    "_defaultOrder": 32,
    "_isFastLaunch": false,
    "category": "Accelerated computing",
    "gpuNum": 1,
    "hideHardwareSpecs": false,
    "memoryGiB": 128,
    "name": "ml.g4dn.8xlarge",
    "vcpuNum": 32
   },
   {
    "_defaultOrder": 33,
    "_isFastLaunch": false,
    "category": "Accelerated computing",
    "gpuNum": 4,
    "hideHardwareSpecs": false,
    "memoryGiB": 192,
    "name": "ml.g4dn.12xlarge",
    "vcpuNum": 48
   },
   {
    "_defaultOrder": 34,
    "_isFastLaunch": false,
    "category": "Accelerated computing",
    "gpuNum": 1,
    "hideHardwareSpecs": false,
    "memoryGiB": 256,
    "name": "ml.g4dn.16xlarge",
    "vcpuNum": 64
   },
   {
    "_defaultOrder": 35,
    "_isFastLaunch": false,
    "category": "Accelerated computing",
    "gpuNum": 1,
    "hideHardwareSpecs": false,
    "memoryGiB": 61,
    "name": "ml.p3.2xlarge",
    "vcpuNum": 8
   },
   {
    "_defaultOrder": 36,
    "_isFastLaunch": false,
    "category": "Accelerated computing",
    "gpuNum": 4,
    "hideHardwareSpecs": false,
    "memoryGiB": 244,
    "name": "ml.p3.8xlarge",
    "vcpuNum": 32
   },
   {
    "_defaultOrder": 37,
    "_isFastLaunch": false,
    "category": "Accelerated computing",
    "gpuNum": 8,
    "hideHardwareSpecs": false,
    "memoryGiB": 488,
    "name": "ml.p3.16xlarge",
    "vcpuNum": 64
   },
   {
    "_defaultOrder": 38,
    "_isFastLaunch": false,
    "category": "Accelerated computing",
    "gpuNum": 8,
    "hideHardwareSpecs": false,
    "memoryGiB": 768,
    "name": "ml.p3dn.24xlarge",
    "vcpuNum": 96
   },
   {
    "_defaultOrder": 39,
    "_isFastLaunch": false,
    "category": "Memory Optimized",
    "gpuNum": 0,
    "hideHardwareSpecs": false,
    "memoryGiB": 16,
    "name": "ml.r5.large",
    "vcpuNum": 2
   },
   {
    "_defaultOrder": 40,
    "_isFastLaunch": false,
    "category": "Memory Optimized",
    "gpuNum": 0,
    "hideHardwareSpecs": false,
    "memoryGiB": 32,
    "name": "ml.r5.xlarge",
    "vcpuNum": 4
   },
   {
    "_defaultOrder": 41,
    "_isFastLaunch": false,
    "category": "Memory Optimized",
    "gpuNum": 0,
    "hideHardwareSpecs": false,
    "memoryGiB": 64,
    "name": "ml.r5.2xlarge",
    "vcpuNum": 8
   },
   {
    "_defaultOrder": 42,
    "_isFastLaunch": false,
    "category": "Memory Optimized",
    "gpuNum": 0,
    "hideHardwareSpecs": false,
    "memoryGiB": 128,
    "name": "ml.r5.4xlarge",
    "vcpuNum": 16
   },
   {
    "_defaultOrder": 43,
    "_isFastLaunch": false,
    "category": "Memory Optimized",
    "gpuNum": 0,
    "hideHardwareSpecs": false,
    "memoryGiB": 256,
    "name": "ml.r5.8xlarge",
    "vcpuNum": 32
   },
   {
    "_defaultOrder": 44,
    "_isFastLaunch": false,
    "category": "Memory Optimized",
    "gpuNum": 0,
    "hideHardwareSpecs": false,
    "memoryGiB": 384,
    "name": "ml.r5.12xlarge",
    "vcpuNum": 48
   },
   {
    "_defaultOrder": 45,
    "_isFastLaunch": false,
    "category": "Memory Optimized",
    "gpuNum": 0,
    "hideHardwareSpecs": false,
    "memoryGiB": 512,
    "name": "ml.r5.16xlarge",
    "vcpuNum": 64
   },
   {
    "_defaultOrder": 46,
    "_isFastLaunch": false,
    "category": "Memory Optimized",
    "gpuNum": 0,
    "hideHardwareSpecs": false,
    "memoryGiB": 768,
    "name": "ml.r5.24xlarge",
    "vcpuNum": 96
   },
   {
    "_defaultOrder": 47,
    "_isFastLaunch": false,
    "category": "Accelerated computing",
    "gpuNum": 1,
    "hideHardwareSpecs": false,
    "memoryGiB": 16,
    "name": "ml.g5.xlarge",
    "vcpuNum": 4
   },
   {
    "_defaultOrder": 48,
    "_isFastLaunch": false,
    "category": "Accelerated computing",
    "gpuNum": 1,
    "hideHardwareSpecs": false,
    "memoryGiB": 32,
    "name": "ml.g5.2xlarge",
    "vcpuNum": 8
   },
   {
    "_defaultOrder": 49,
    "_isFastLaunch": false,
    "category": "Accelerated computing",
    "gpuNum": 1,
    "hideHardwareSpecs": false,
    "memoryGiB": 64,
    "name": "ml.g5.4xlarge",
    "vcpuNum": 16
   },
   {
    "_defaultOrder": 50,
    "_isFastLaunch": false,
    "category": "Accelerated computing",
    "gpuNum": 1,
    "hideHardwareSpecs": false,
    "memoryGiB": 128,
    "name": "ml.g5.8xlarge",
    "vcpuNum": 32
   },
   {
    "_defaultOrder": 51,
    "_isFastLaunch": false,
    "category": "Accelerated computing",
    "gpuNum": 1,
    "hideHardwareSpecs": false,
    "memoryGiB": 256,
    "name": "ml.g5.16xlarge",
    "vcpuNum": 64
   },
   {
    "_defaultOrder": 52,
    "_isFastLaunch": false,
    "category": "Accelerated computing",
    "gpuNum": 4,
    "hideHardwareSpecs": false,
    "memoryGiB": 192,
    "name": "ml.g5.12xlarge",
    "vcpuNum": 48
   },
   {
    "_defaultOrder": 53,
    "_isFastLaunch": false,
    "category": "Accelerated computing",
    "gpuNum": 4,
    "hideHardwareSpecs": false,
    "memoryGiB": 384,
    "name": "ml.g5.24xlarge",
    "vcpuNum": 96
   },
   {
    "_defaultOrder": 54,
    "_isFastLaunch": false,
    "category": "Accelerated computing",
    "gpuNum": 8,
    "hideHardwareSpecs": false,
    "memoryGiB": 768,
    "name": "ml.g5.48xlarge",
    "vcpuNum": 192
   }
  ],
  "instance_type": "ml.t3.medium",
  "kernelspec": {
   "display_name": "Python 3 (Data Science)",
   "language": "python",
   "name": "python3__SAGEMAKER_INTERNAL__arn:aws:sagemaker:us-east-1:081325390199:image/datascience-1.0"
  },
  "language_info": {
   "codemirror_mode": {
    "name": "ipython",
    "version": 3
   },
   "file_extension": ".py",
   "mimetype": "text/x-python",
   "name": "python",
   "nbconvert_exporter": "python",
   "pygments_lexer": "ipython3",
   "version": "3.7.10"
  }
 },
 "nbformat": 4,
 "nbformat_minor": 5
}
