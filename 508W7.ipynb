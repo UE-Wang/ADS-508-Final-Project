{
 "cells": [
  {
   "cell_type": "markdown",
   "id": "356a24d3-5156-4829-abd8-31ad93ec1e4f",
   "metadata": {},
   "source": [
    "# USADS 508 W5"
   ]
  },
  {
   "cell_type": "code",
   "execution_count": null,
   "id": "6969c169-2e63-4c27-a56c-7d2ea4ec8698",
   "metadata": {
    "tags": []
   },
   "outputs": [],
   "source": [
    "!python --version\n",
    "!pip list\n",
    "# Pip\n",
    "!pip install --disable-pip-version-check -q pip --upgrade > /dev/null\n",
    "!pip install --disable-pip-version-check -q wrapt --upgrade > /dev/null\n",
    "# AWS CLI and AWS Python SDK (boto3)\n",
    "!pip install --disable-pip-version-check -q awscli==1.18.216 boto3==1.16.56 botocore==1.19.56\n",
    "# SageMaker\n",
    "!pip install --disable-pip-version-check -q sagemaker==2.29.0\n",
    "!pip install --disable-pip-version-check -q smdebug==1.0.1\n",
    "!pip install --disable-pip-version-check -q sagemaker-experiments==0.1.26\n",
    "# PyTorch\n",
    "!conda install -y pytorch==1.6.0 -c pytorch\n",
    "# TensorFlow\n",
    "!pip install --disable-pip-version-check -q tensorflow==2.3.1\n",
    "# Hugging Face Transformers (BERT)\n",
    "!pip install --disable-pip-version-check -q transformers==3.5.1\n",
    "# TorchServe\n",
    "!pip install --disable-pip-version-check -q torchserve==0.3.0\n",
    "!pip install --disable-pip-version-check -q torch-model-archiver==0.3.0\n",
    "# PyAthena\n",
    "!pip install --disable-pip-version-check -q PyAthena==2.1.0\n",
    "# Redshift\n",
    "!pip install --disable-pip-version-check -q SQLAlchemy==1.3.22\n",
    "# AWS Data Wrangler\n",
    "!pip install --disable-pip-version-check -q awswrangler==2.3.0\n",
    "# StepFunctions\n",
    "!pip install --disable-pip-version-check -q stepfunctions==2.0.0rc1\n",
    "# Zip\n",
    "!conda install -y zip\n",
    "# Matplotlib\n",
    "!pip install --disable-pip-version-check -q matplotlib==3.1.3\n",
    "# Seaborn\n",
    "!pip install --disable-pip-version-check -q seaborn==0.10.0\n",
    "\n",
    "!pip install -U sagemaker\n",
    "! pip install xgboost\n",
    "! pip install pymc3\n",
    "# Summarize\n",
    "!python --version\n",
    "# !pip list\n",
    "setup_dependencies_passed = True\n",
    "%store setup_dependencies_passed\n",
    "%store"
   ]
  },
  {
   "cell_type": "code",
   "execution_count": 2,
   "id": "bbbe004b-53f2-47d5-8bc4-7ff971217148",
   "metadata": {
    "tags": []
   },
   "outputs": [],
   "source": [
    "import boto3, re, sys, math, json, os, sagemaker, urllib.request\n",
    "import io\n",
    "import sagemaker\n",
    "from sagemaker import get_execution_role\n",
    "from IPython.display import Image\n",
    "from IPython.display import display\n",
    "from time import gmtime, strftime\n",
    "from sagemaker.predictor import csv_serializer\n",
    "from pyathena import connect\n",
    "import pandas as pd\n",
    "import numpy as np\n",
    "import matplotlib.pyplot as plt\n",
    "%matplotlib inline\n",
    "import seaborn as sns\n",
    "from sklearn.decomposition import PCA\n",
    "from sklearn.model_selection import train_test_split, \\\n",
    "RepeatedStratifiedKFold, RandomizedSearchCV\n",
    "from sklearn.metrics import roc_curve, auc, mean_squared_error,\\\n",
    "precision_score, recall_score, f1_score, accuracy_score,\\\n",
    "confusion_matrix, plot_confusion_matrix, classification_report\n",
    "from sagemaker.tuner import HyperparameterTuner\n",
    "from sklearn.linear_model import LogisticRegression\n",
    "from sklearn.ensemble import RandomForestClassifier\n",
    "from scipy.stats import loguniform\n",
    "import warnings\n",
    "warnings.filterwarnings('ignore')"
   ]
  },
  {
   "cell_type": "markdown",
   "id": "d4bb049c-9a85-43cc-9473-fbb2f7c49358",
   "metadata": {},
   "source": [
    "# Section 1: Basic set up"
   ]
  },
  {
   "cell_type": "markdown",
   "id": "c3904e6e-4744-49bc-a75d-1546d525584b",
   "metadata": {},
   "source": [
    "#### Check the Environment was Created Correctly"
   ]
  },
  {
   "cell_type": "code",
   "execution_count": 3,
   "id": "41950d00-e0e9-4d90-a675-a3fb5dbcb2b1",
   "metadata": {
    "tags": []
   },
   "outputs": [],
   "source": [
    "import boto3\n",
    "\n",
    "region = boto3.Session().region_name\n",
    "session = boto3.session.Session()\n",
    "\n",
    "ec2 = boto3.Session().client(service_name=\"ec2\", region_name=region)\n",
    "sm = boto3.Session().client(service_name=\"sagemaker\", region_name=region)"
   ]
  },
  {
   "cell_type": "code",
   "execution_count": 4,
   "id": "1969df2d-aa40-4025-ab69-52ded6282035",
   "metadata": {
    "tags": []
   },
   "outputs": [
    {
     "name": "stdout",
     "output_type": "stream",
     "text": [
      "DomainId: d-buwmoyrsbhdf\n",
      "Name: datascience-1-0-ml-t3-medium-1abf3407f667f989be9d86559395\n"
     ]
    }
   ],
   "source": [
    "import json\n",
    "\n",
    "notebook_instance_name = None\n",
    "\n",
    "try:\n",
    "    with open(\"/opt/ml/metadata/resource-metadata.json\") as notebook_info:\n",
    "        data = json.load(notebook_info)\n",
    "        domain_id = data[\"DomainId\"]\n",
    "        resource_arn = data[\"ResourceArn\"]\n",
    "        region = resource_arn.split(\":\")[3]\n",
    "        name = data[\"ResourceName\"]\n",
    "    print(\"DomainId: {}\".format(domain_id))\n",
    "    print(\"Name: {}\".format(name))\n",
    "except:\n",
    "    print(\"+++++++++++++++++++++++++++++++++++++++++\")\n",
    "    print(\"[ERROR]: COULD NOT RETRIEVE THE METADATA.\")\n",
    "    print(\"+++++++++++++++++++++++++++++++++++++++++\")"
   ]
  },
  {
   "cell_type": "code",
   "execution_count": 5,
   "id": "4ca7a9d0-e07b-44d8-b87a-d32a10e086f1",
   "metadata": {
    "tags": []
   },
   "outputs": [
    {
     "name": "stdout",
     "output_type": "stream",
     "text": [
      "InService\n"
     ]
    }
   ],
   "source": [
    "describe_domain_response = sm.describe_domain(DomainId=domain_id)\n",
    "print(describe_domain_response[\"Status\"])"
   ]
  },
  {
   "cell_type": "code",
   "execution_count": 6,
   "id": "c601e344-42ed-454e-814c-9f9e4c255504",
   "metadata": {
    "tags": []
   },
   "outputs": [
    {
     "name": "stdout",
     "output_type": "stream",
     "text": [
      "Enabled\n"
     ]
    }
   ],
   "source": [
    "try:\n",
    "    get_status_response = sm.get_sagemaker_servicecatalog_portfolio_status()\n",
    "    print(get_status_response[\"Status\"])\n",
    "except:\n",
    "    pass"
   ]
  },
  {
   "cell_type": "code",
   "execution_count": 7,
   "id": "23e919f2-1e6a-4080-84c6-0f29edcf50c6",
   "metadata": {
    "tags": []
   },
   "outputs": [
    {
     "name": "stdout",
     "output_type": "stream",
     "text": [
      "[OK] Checks passed!  Great Job!!  Please Continue.\n"
     ]
    }
   ],
   "source": [
    "if (\n",
    "    describe_domain_response[\"Status\"] == \"InService\"\n",
    "    and get_status_response[\"Status\"] == \"Enabled\"\n",
    "    and \"datascience\" in name\n",
    "):\n",
    "    setup_instance_check_passed = True\n",
    "    print(\"[OK] Checks passed!  Great Job!!  Please Continue.\")\n",
    "else:\n",
    "    setup_instance_check_passed = False\n",
    "    print(\"+++++++++++++++++++++++++++++++++++++++++++++++\")\n",
    "    print(\"[ERROR]: WE HAVE IDENTIFIED A MISCONFIGURATION.\")\n",
    "    print(describe_domain_response[\"Status\"])\n",
    "    print(get_status_response[\"Status\"])\n",
    "    print(name)\n",
    "    print(\"+++++++++++++++++++++++++++++++++++++++++++++++\")"
   ]
  },
  {
   "cell_type": "markdown",
   "id": "ab512b00-2e76-48c6-b851-5118f3baf279",
   "metadata": {},
   "source": [
    "#### Update IAM Roles and Policies"
   ]
  },
  {
   "cell_type": "code",
   "execution_count": 8,
   "id": "53927e45-6d05-45c8-a550-ca8a18ae8aef",
   "metadata": {
    "tags": []
   },
   "outputs": [],
   "source": [
    "import boto3\n",
    "import sagemaker\n",
    "import time\n",
    "from time import gmtime, strftime\n",
    "\n",
    "sagemaker_session = sagemaker.Session()\n",
    "role = sagemaker.get_execution_role()\n",
    "bucket = sagemaker_session.default_bucket()\n",
    "region = boto3.Session().region_name\n",
    "\n",
    "from botocore.config import Config\n",
    "\n",
    "config = Config(retries={\"max_attempts\": 10, \"mode\": \"adaptive\"})\n",
    "\n",
    "iam = boto3.client(\"iam\", config=config)"
   ]
  },
  {
   "cell_type": "markdown",
   "id": "49312677-f7f7-446d-ad91-a987a43f69c1",
   "metadata": {},
   "source": [
    "#### Get SageMaker Execution Role Name"
   ]
  },
  {
   "cell_type": "code",
   "execution_count": 9,
   "id": "791efe9a-8145-420c-a41c-2379e48f67e7",
   "metadata": {
    "tags": []
   },
   "outputs": [
    {
     "name": "stdout",
     "output_type": "stream",
     "text": [
      "Role name: LabRole\n"
     ]
    }
   ],
   "source": [
    "role_name = role.split(\"/\")[-1]\n",
    "\n",
    "print(\"Role name: {}\".format(role_name))"
   ]
  },
  {
   "cell_type": "markdown",
   "id": "2bffd4d5-c3a0-4c7e-af8d-59b2ee520823",
   "metadata": {},
   "source": [
    "#### Pre-Requisite: SageMaker notebook instance ExecutionRole contains IAMFullAccess Policy."
   ]
  },
  {
   "cell_type": "code",
   "execution_count": 10,
   "id": "67d2972f-50ab-4b00-9ade-832d00fcd982",
   "metadata": {
    "tags": []
   },
   "outputs": [
    {
     "name": "stdout",
     "output_type": "stream",
     "text": [
      "[OK] You are all set up to continue with this workshop!\n"
     ]
    }
   ],
   "source": [
    "admin = False\n",
    "post_policies = iam.list_attached_role_policies(RoleName=role_name)[\"AttachedPolicies\"]\n",
    "for post_policy in post_policies:\n",
    "    if post_policy[\"PolicyName\"] == \"AdministratorAccess\":\n",
    "        admin = True\n",
    "        break\n",
    "\n",
    "setup_iam_roles_passed = True\n",
    "print(\"[OK] You are all set up to continue with this workshop!\")"
   ]
  },
  {
   "cell_type": "markdown",
   "id": "83a2c1d0-2a7d-4a61-ace0-bc417bbb5950",
   "metadata": {},
   "source": [
    "#### Check Pre-Requisites"
   ]
  },
  {
   "cell_type": "code",
   "execution_count": 11,
   "id": "648f93e3-9f4f-4893-9570-43b1ba73c6d8",
   "metadata": {
    "tags": []
   },
   "outputs": [],
   "source": [
    "if not setup_instance_check_passed:\n",
    "    print(\"+++++++++++++++++++++++++++++++++++++++++++++++++++++++++++++++\")\n",
    "    print(\"[ERROR] YOU HAVE TO RUN ALL NOTEBOOKS IN THE SETUP FOLDER FIRST. You are missing Instance Check.\")\n",
    "    print(\"+++++++++++++++++++++++++++++++++++++++++++++++++++++++++++++++\")\n",
    "if not setup_dependencies_passed:\n",
    "    print(\"+++++++++++++++++++++++++++++++++++++++++++++++++++++++++++++++\")\n",
    "    print(\"[ERROR] YOU HAVE TO RUN ALL NOTEBOOKS IN THE SETUP FOLDER FIRST. You are missing Setup Dependencies.\")\n",
    "    print(\"+++++++++++++++++++++++++++++++++++++++++++++++++++++++++++++++\")\n",
    "if not setup_iam_roles_passed:\n",
    "    print(\"+++++++++++++++++++++++++++++++++++++++++++++++++++++++++++++++\")\n",
    "    print(\"[ERROR] YOU HAVE TO RUN ALL NOTEBOOKS IN THE SETUP FOLDER FIRST. You are missing Setup IAM Roles.\")\n",
    "    print(\"+++++++++++++++++++++++++++++++++++++++++++++++++++++++++++++++\")"
   ]
  },
  {
   "cell_type": "markdown",
   "id": "70326db5-96f7-47c5-a0b0-e1b5be86a2d1",
   "metadata": {},
   "source": [
    "#### Create Athena Database Schema"
   ]
  },
  {
   "cell_type": "code",
   "execution_count": 12,
   "id": "37cbb38a-590c-432a-9385-2567d16968d0",
   "metadata": {
    "tags": []
   },
   "outputs": [],
   "source": [
    "import boto3\n",
    "import sagemaker\n",
    "\n",
    "sess = sagemaker.Session()\n",
    "bucket = 'usd508finalprojectteam2'\n",
    "role = sagemaker.get_execution_role()\n",
    "region = boto3.Session().region_name"
   ]
  },
  {
   "cell_type": "markdown",
   "id": "46c9ebf7-9201-4b38-a3b5-ac9d3b6baaa2",
   "metadata": {},
   "source": [
    "#### Import PyAthena"
   ]
  },
  {
   "cell_type": "code",
   "execution_count": 13,
   "id": "cd07fcca-0656-4b8f-bb45-d68ba3bc6043",
   "metadata": {
    "tags": []
   },
   "outputs": [
    {
     "name": "stdout",
     "output_type": "stream",
     "text": [
      "\u001b[33mWARNING: Running pip as the 'root' user can result in broken permissions and conflicting behaviour with the system package manager. It is recommended to use a virtual environment instead: https://pip.pypa.io/warnings/venv\u001b[0m\u001b[33m\n",
      "\u001b[0m"
     ]
    }
   ],
   "source": [
    "!pip install --disable-pip-version-check -q PyAthena==2.1.0\n",
    "from pyathena import connect"
   ]
  },
  {
   "cell_type": "markdown",
   "id": "a0e9d9e2-c4dc-4a72-ab22-4f82444751e0",
   "metadata": {},
   "source": [
    "#### Create Athena Database"
   ]
  },
  {
   "cell_type": "code",
   "execution_count": 14,
   "id": "678755a8-1b8d-4e43-b177-502c8b9a823f",
   "metadata": {
    "tags": []
   },
   "outputs": [],
   "source": [
    "database_name = \"CA_Traffic\""
   ]
  },
  {
   "cell_type": "code",
   "execution_count": 15,
   "id": "4098a2e1-33b2-4436-a0d3-f582387c49d2",
   "metadata": {
    "tags": []
   },
   "outputs": [],
   "source": [
    "# Set S3 staging directory -- this is a temporary directory used for Athena queries\n",
    "s3_staging_dir = \"s3://{0}/athena/staging\".format(bucket)"
   ]
  },
  {
   "cell_type": "code",
   "execution_count": 16,
   "id": "35dd1337-d984-4382-932c-1fb6edadeb2d",
   "metadata": {
    "tags": []
   },
   "outputs": [],
   "source": [
    "conn = connect(region_name=region, s3_staging_dir=s3_staging_dir)"
   ]
  },
  {
   "cell_type": "code",
   "execution_count": 17,
   "id": "f2fa1ea4-66e6-481b-8a92-467ab300458d",
   "metadata": {
    "tags": []
   },
   "outputs": [
    {
     "name": "stdout",
     "output_type": "stream",
     "text": [
      "CREATE DATABASE IF NOT EXISTS CA_Traffic\n"
     ]
    }
   ],
   "source": [
    "statement = \"CREATE DATABASE IF NOT EXISTS {}\".format(database_name)\n",
    "print(statement)"
   ]
  },
  {
   "cell_type": "code",
   "execution_count": 18,
   "id": "1006b5f8-086c-4879-bd5f-4781e5fa835e",
   "metadata": {
    "tags": []
   },
   "outputs": [
    {
     "data": {
      "text/html": [
       "<div>\n",
       "<style scoped>\n",
       "    .dataframe tbody tr th:only-of-type {\n",
       "        vertical-align: middle;\n",
       "    }\n",
       "\n",
       "    .dataframe tbody tr th {\n",
       "        vertical-align: top;\n",
       "    }\n",
       "\n",
       "    .dataframe thead th {\n",
       "        text-align: right;\n",
       "    }\n",
       "</style>\n",
       "<table border=\"1\" class=\"dataframe\">\n",
       "  <thead>\n",
       "    <tr style=\"text-align: right;\">\n",
       "      <th></th>\n",
       "    </tr>\n",
       "  </thead>\n",
       "  <tbody>\n",
       "  </tbody>\n",
       "</table>\n",
       "</div>"
      ],
      "text/plain": [
       "Empty DataFrame\n",
       "Columns: []\n",
       "Index: []"
      ]
     },
     "execution_count": 18,
     "metadata": {},
     "output_type": "execute_result"
    }
   ],
   "source": [
    "import pandas as pd\n",
    "\n",
    "pd.read_sql(statement, conn)"
   ]
  },
  {
   "cell_type": "markdown",
   "id": "ed0539f7-6266-44eb-a66b-b6b8615bdc93",
   "metadata": {
    "tags": []
   },
   "source": [
    "#### Verify The Database Has Been Created Succesfully"
   ]
  },
  {
   "cell_type": "code",
   "execution_count": 19,
   "id": "1060c2ea-009b-4d5e-bbf6-c729fed914db",
   "metadata": {
    "tags": []
   },
   "outputs": [
    {
     "data": {
      "text/html": [
       "<div>\n",
       "<style scoped>\n",
       "    .dataframe tbody tr th:only-of-type {\n",
       "        vertical-align: middle;\n",
       "    }\n",
       "\n",
       "    .dataframe tbody tr th {\n",
       "        vertical-align: top;\n",
       "    }\n",
       "\n",
       "    .dataframe thead th {\n",
       "        text-align: right;\n",
       "    }\n",
       "</style>\n",
       "<table border=\"1\" class=\"dataframe\">\n",
       "  <thead>\n",
       "    <tr style=\"text-align: right;\">\n",
       "      <th></th>\n",
       "      <th>database_name</th>\n",
       "    </tr>\n",
       "  </thead>\n",
       "  <tbody>\n",
       "    <tr>\n",
       "      <th>0</th>\n",
       "      <td>ca_traffic</td>\n",
       "    </tr>\n",
       "    <tr>\n",
       "      <th>1</th>\n",
       "      <td>default</td>\n",
       "    </tr>\n",
       "  </tbody>\n",
       "</table>\n",
       "</div>"
      ],
      "text/plain": [
       "  database_name\n",
       "0    ca_traffic\n",
       "1       default"
      ]
     },
     "execution_count": 19,
     "metadata": {},
     "output_type": "execute_result"
    }
   ],
   "source": [
    "statement = \"SHOW DATABASES\"\n",
    "\n",
    "df_show = pd.read_sql(statement, conn)\n",
    "df_show.head(5)"
   ]
  },
  {
   "cell_type": "code",
   "execution_count": 20,
   "id": "218b5fef-b3f1-4ae3-bc8c-114654ef4d50",
   "metadata": {
    "tags": []
   },
   "outputs": [],
   "source": [
    "if database_name in df_show.values:\n",
    "    ingest_create_athena_db_passed = True"
   ]
  },
  {
   "cell_type": "markdown",
   "id": "55caf157-5107-48c2-bf55-7cc88fc7eb5b",
   "metadata": {},
   "source": [
    "#### Create Athena Table"
   ]
  },
  {
   "cell_type": "code",
   "execution_count": 21,
   "id": "2ecb575a-2b8d-4081-8e78-8682d38868dd",
   "metadata": {
    "tags": []
   },
   "outputs": [],
   "source": [
    "# Set Athena parameters\n",
    "database_name = \"ca_traffic\"\n",
    "Ex_Ln_table = \"Ex_Ln\"\n",
    "HOV_table = \"HOV\"\n",
    "vol_table = \"vol\"\n",
    "Route77_table = 'Route77'\n",
    "s3_path_Ex_Ln = \"s3://{}/Express_Lanes.csv\".format(bucket)\n",
    "s3_path_HOV = \"s3://{}/HOV.csv\".format(bucket)\n",
    "s3_path_vol = \"s3://{}/Traffic_Volumes_AADT.csv\".format(bucket)\n",
    "s3_path_Route77 = \"s3://{}/Route_77.csv\".format(bucket)"
   ]
  },
  {
   "cell_type": "code",
   "execution_count": 22,
   "id": "1e6a7f72-9a8b-4ed7-ba80-404f7bad4066",
   "metadata": {
    "tags": []
   },
   "outputs": [
    {
     "data": {
      "text/html": [
       "<div>\n",
       "<style scoped>\n",
       "    .dataframe tbody tr th:only-of-type {\n",
       "        vertical-align: middle;\n",
       "    }\n",
       "\n",
       "    .dataframe tbody tr th {\n",
       "        vertical-align: top;\n",
       "    }\n",
       "\n",
       "    .dataframe thead th {\n",
       "        text-align: right;\n",
       "    }\n",
       "</style>\n",
       "<table border=\"1\" class=\"dataframe\">\n",
       "  <thead>\n",
       "    <tr style=\"text-align: right;\">\n",
       "      <th></th>\n",
       "    </tr>\n",
       "  </thead>\n",
       "  <tbody>\n",
       "  </tbody>\n",
       "</table>\n",
       "</div>"
      ],
      "text/plain": [
       "Empty DataFrame\n",
       "Columns: []\n",
       "Index: []"
      ]
     },
     "execution_count": 22,
     "metadata": {},
     "output_type": "execute_result"
    }
   ],
   "source": [
    "statement1 = \"\"\"CREATE EXTERNAL TABLE IF NOT EXISTS {}.{}(\n",
    "         OBJECTID int,\n",
    "         District int,\n",
    "         Route string,\n",
    "         Direction string,\n",
    "         Begin_County string,\n",
    "         Begin_Post_Mile string,\n",
    "         End_County string,\n",
    "         End_Post_Mile string,\n",
    "         Begin_Abs_Post_Mile int,\n",
    "         End_Abs_Post_Mile int,\n",
    "         Description string,\n",
    "         Length__Lane_Miles_ int,\n",
    "         Opening_Date string,\n",
    "         Occupancy_Requirement_for_Toll_ string,\n",
    "         Hours_of_Operation string,\n",
    "         Comments string,\n",
    "         Shape_Length int\n",
    ") ROW FORMAT DELIMITED FIELDS TERMINATED BY ',' LINES TERMINATED BY '\\\\n' LOCATION '{}'\n",
    "TBLPROPERTIES ('skip.header.line.count'='1')\"\"\".format(\n",
    "    database_name, Ex_Ln_table, s3_path_Ex_Ln\n",
    ")\n",
    "\n",
    "pd.read_sql(statement1, conn)"
   ]
  },
  {
   "cell_type": "code",
   "execution_count": 23,
   "id": "c132aa26-6fa4-427b-ab8f-b62d146903b8",
   "metadata": {
    "tags": []
   },
   "outputs": [
    {
     "data": {
      "text/html": [
       "<div>\n",
       "<style scoped>\n",
       "    .dataframe tbody tr th:only-of-type {\n",
       "        vertical-align: middle;\n",
       "    }\n",
       "\n",
       "    .dataframe tbody tr th {\n",
       "        vertical-align: top;\n",
       "    }\n",
       "\n",
       "    .dataframe thead th {\n",
       "        text-align: right;\n",
       "    }\n",
       "</style>\n",
       "<table border=\"1\" class=\"dataframe\">\n",
       "  <thead>\n",
       "    <tr style=\"text-align: right;\">\n",
       "      <th></th>\n",
       "    </tr>\n",
       "  </thead>\n",
       "  <tbody>\n",
       "  </tbody>\n",
       "</table>\n",
       "</div>"
      ],
      "text/plain": [
       "Empty DataFrame\n",
       "Columns: []\n",
       "Index: []"
      ]
     },
     "execution_count": 23,
     "metadata": {},
     "output_type": "execute_result"
    }
   ],
   "source": [
    "statement2 = \"\"\"CREATE EXTERNAL TABLE IF NOT EXISTS {}.{}(\n",
    "         OBJECTID int,\n",
    "         District int,\n",
    "         Route string,\n",
    "         Direction string,\n",
    "         Begin_County string,\n",
    "         Begin_Post_Mile string,\n",
    "         End_County string,\n",
    "         End_Post_Mile string,\n",
    "         Begin_Abs_Post_Mile int,\n",
    "         End_Abs_Post_Mile int,\n",
    "         Description string,\n",
    "         Length__Lane_Miles_ int,\n",
    "         Occupancy_Requirement string,\n",
    "         Hours_of_Operation string,\n",
    "         Segment_Opening_Date string,\n",
    "         Comments string,\n",
    "         Shape_Length int\n",
    ") ROW FORMAT DELIMITED FIELDS TERMINATED BY ',' LINES TERMINATED BY '\\\\n' LOCATION '{}'\n",
    "TBLPROPERTIES ('skip.header.line.count'='1')\"\"\".format(\n",
    "    database_name, HOV_table, s3_path_HOV\n",
    ")\n",
    "\n",
    "pd.read_sql(statement2, conn)"
   ]
  },
  {
   "cell_type": "code",
   "execution_count": 24,
   "id": "14f7b314-1214-42a1-be44-0b9e354a0016",
   "metadata": {
    "tags": []
   },
   "outputs": [
    {
     "data": {
      "text/html": [
       "<div>\n",
       "<style scoped>\n",
       "    .dataframe tbody tr th:only-of-type {\n",
       "        vertical-align: middle;\n",
       "    }\n",
       "\n",
       "    .dataframe tbody tr th {\n",
       "        vertical-align: top;\n",
       "    }\n",
       "\n",
       "    .dataframe thead th {\n",
       "        text-align: right;\n",
       "    }\n",
       "</style>\n",
       "<table border=\"1\" class=\"dataframe\">\n",
       "  <thead>\n",
       "    <tr style=\"text-align: right;\">\n",
       "      <th></th>\n",
       "    </tr>\n",
       "  </thead>\n",
       "  <tbody>\n",
       "  </tbody>\n",
       "</table>\n",
       "</div>"
      ],
      "text/plain": [
       "Empty DataFrame\n",
       "Columns: []\n",
       "Index: []"
      ]
     },
     "execution_count": 24,
     "metadata": {},
     "output_type": "execute_result"
    }
   ],
   "source": [
    "statement3 = \"\"\"CREATE EXTERNAL TABLE IF NOT EXISTS {}.{}(\n",
    "         OBJECTID int,\n",
    "         District int,\n",
    "         Route int,       \n",
    "         RTE_SFX string,      \n",
    "         COUNTY string,\n",
    "         PM_PFX string, \n",
    "         PM int,\n",
    "         PM_SFX string,\n",
    "         DESCRIPTION string,\n",
    "         BACK_PEAK_HOUR int,\n",
    "         BACK_PEAK_MADT int,\n",
    "         BACK_AADT int,\n",
    "         AHEAD_PEAK_HOUR int,\n",
    "         AHEAD_PEAK_MADT int,\n",
    "         AHEAD_AADT int   \n",
    ") ROW FORMAT DELIMITED FIELDS TERMINATED BY ',' LINES TERMINATED BY '\\\\n' LOCATION '{}'\n",
    "TBLPROPERTIES ('skip.header.line.count'='1')\"\"\".format(\n",
    "    database_name, vol_table, s3_path_vol\n",
    ")\n",
    "\n",
    "pd.read_sql(statement3, conn)"
   ]
  },
  {
   "cell_type": "code",
   "execution_count": 25,
   "id": "8f24268d-8134-4051-bba8-bd1848fbf9ac",
   "metadata": {},
   "outputs": [
    {
     "data": {
      "text/html": [
       "<div>\n",
       "<style scoped>\n",
       "    .dataframe tbody tr th:only-of-type {\n",
       "        vertical-align: middle;\n",
       "    }\n",
       "\n",
       "    .dataframe tbody tr th {\n",
       "        vertical-align: top;\n",
       "    }\n",
       "\n",
       "    .dataframe thead th {\n",
       "        text-align: right;\n",
       "    }\n",
       "</style>\n",
       "<table border=\"1\" class=\"dataframe\">\n",
       "  <thead>\n",
       "    <tr style=\"text-align: right;\">\n",
       "      <th></th>\n",
       "    </tr>\n",
       "  </thead>\n",
       "  <tbody>\n",
       "  </tbody>\n",
       "</table>\n",
       "</div>"
      ],
      "text/plain": [
       "Empty DataFrame\n",
       "Columns: []\n",
       "Index: []"
      ]
     },
     "execution_count": 25,
     "metadata": {},
     "output_type": "execute_result"
    }
   ],
   "source": [
    "statement4 = \"\"\"CREATE EXTERNAL TABLE IF NOT EXISTS {}.{}(\n",
    "         Date DATE,\n",
    "         Day string,\n",
    "         Lane string,\n",
    "         Date_Time TIMESTAMP,\n",
    "         Time TIMESTAMP,      \n",
    "         Minimum int,\n",
    "         Mean int, \n",
    "         Maximum int,\n",
    "         Lane_Pts_num int,\n",
    "         Oberserved_percent int\n",
    ") ROW FORMAT DELIMITED FIELDS TERMINATED BY ',' LINES TERMINATED BY '\\\\n' LOCATION '{}'\n",
    "TBLPROPERTIES ('skip.header.line.count'='1')\"\"\".format(\n",
    "    database_name, Route77_table, s3_path_Route77\n",
    ")\n",
    "\n",
    "pd.read_sql(statement4, conn)"
   ]
  },
  {
   "cell_type": "markdown",
   "id": "9914af4b-6dca-42e6-a086-4182668af320",
   "metadata": {},
   "source": [
    "#### check if all the table been created succeffully "
   ]
  },
  {
   "cell_type": "code",
   "execution_count": 26,
   "id": "a1163945-2093-47b0-99eb-c4e2b6970f7d",
   "metadata": {
    "tags": []
   },
   "outputs": [
    {
     "data": {
      "text/html": [
       "<div>\n",
       "<style scoped>\n",
       "    .dataframe tbody tr th:only-of-type {\n",
       "        vertical-align: middle;\n",
       "    }\n",
       "\n",
       "    .dataframe tbody tr th {\n",
       "        vertical-align: top;\n",
       "    }\n",
       "\n",
       "    .dataframe thead th {\n",
       "        text-align: right;\n",
       "    }\n",
       "</style>\n",
       "<table border=\"1\" class=\"dataframe\">\n",
       "  <thead>\n",
       "    <tr style=\"text-align: right;\">\n",
       "      <th></th>\n",
       "      <th>tab_name</th>\n",
       "    </tr>\n",
       "  </thead>\n",
       "  <tbody>\n",
       "    <tr>\n",
       "      <th>0</th>\n",
       "      <td>ex_ln</td>\n",
       "    </tr>\n",
       "    <tr>\n",
       "      <th>1</th>\n",
       "      <td>hov</td>\n",
       "    </tr>\n",
       "    <tr>\n",
       "      <th>2</th>\n",
       "      <td>route77</td>\n",
       "    </tr>\n",
       "    <tr>\n",
       "      <th>3</th>\n",
       "      <td>vol</td>\n",
       "    </tr>\n",
       "  </tbody>\n",
       "</table>\n",
       "</div>"
      ],
      "text/plain": [
       "  tab_name\n",
       "0    ex_ln\n",
       "1      hov\n",
       "2  route77\n",
       "3      vol"
      ]
     },
     "execution_count": 26,
     "metadata": {},
     "output_type": "execute_result"
    }
   ],
   "source": [
    "statement = \"SHOW TABLES in {}\".format(database_name)\n",
    "\n",
    "df_show = pd.read_sql(statement, conn)\n",
    "df_show.head(5)"
   ]
  },
  {
   "cell_type": "markdown",
   "id": "2b3f506b-2869-4947-aa6d-847ec5e1f731",
   "metadata": {},
   "source": [
    "# Section 2: Exploratory Data Analysis (EDA)"
   ]
  },
  {
   "cell_type": "markdown",
   "id": "1b28afb7-8f04-48c1-8978-a8b8fdca4e4a",
   "metadata": {},
   "source": [
    "#### Ex_Ln Table:"
   ]
  },
  {
   "cell_type": "code",
   "execution_count": 27,
   "id": "dea5c3a9-661d-424d-9a95-f7deb8005b18",
   "metadata": {
    "tags": []
   },
   "outputs": [
    {
     "name": "stdout",
     "output_type": "stream",
     "text": [
      "<class 'pandas.core.frame.DataFrame'>\n",
      "RangeIndex: 27 entries, 0 to 26\n",
      "Data columns (total 17 columns):\n",
      " #   Column                           Non-Null Count  Dtype  \n",
      "---  ------                           --------------  -----  \n",
      " 0   OBJECTID                         27 non-null     int64  \n",
      " 1   District                         27 non-null     int64  \n",
      " 2   Route                            27 non-null     object \n",
      " 3   Direction                        27 non-null     object \n",
      " 4   Begin_County                     27 non-null     object \n",
      " 5   Begin_Post_Mile                  27 non-null     object \n",
      " 6   End_County                       27 non-null     object \n",
      " 7   End_Post_Mile                    27 non-null     object \n",
      " 8   Begin_Abs_Post_Mile              27 non-null     float64\n",
      " 9   End_Abs_Post_Mile                27 non-null     float64\n",
      " 10  Description                      27 non-null     object \n",
      " 11  Length__Lane_Miles_              27 non-null     float64\n",
      " 12  Opening_Date                     27 non-null     object \n",
      " 13  Occupancy_Requirement_for_Toll_  27 non-null     object \n",
      " 14  Hours_of_Operation               27 non-null     object \n",
      " 15  Comments                         26 non-null     object \n",
      " 16  Shape_Length                     27 non-null     float64\n",
      "dtypes: float64(4), int64(2), object(11)\n",
      "memory usage: 3.7+ KB\n"
     ]
    },
    {
     "data": {
      "text/html": [
       "<div>\n",
       "<style scoped>\n",
       "    .dataframe tbody tr th:only-of-type {\n",
       "        vertical-align: middle;\n",
       "    }\n",
       "\n",
       "    .dataframe tbody tr th {\n",
       "        vertical-align: top;\n",
       "    }\n",
       "\n",
       "    .dataframe thead th {\n",
       "        text-align: right;\n",
       "    }\n",
       "</style>\n",
       "<table border=\"1\" class=\"dataframe\">\n",
       "  <thead>\n",
       "    <tr style=\"text-align: right;\">\n",
       "      <th></th>\n",
       "      <th>OBJECTID</th>\n",
       "      <th>District</th>\n",
       "      <th>Route</th>\n",
       "      <th>Direction</th>\n",
       "      <th>Begin_County</th>\n",
       "      <th>Begin_Post_Mile</th>\n",
       "      <th>End_County</th>\n",
       "      <th>End_Post_Mile</th>\n",
       "      <th>Begin_Abs_Post_Mile</th>\n",
       "      <th>End_Abs_Post_Mile</th>\n",
       "      <th>Description</th>\n",
       "      <th>Length__Lane_Miles_</th>\n",
       "      <th>Opening_Date</th>\n",
       "      <th>Occupancy_Requirement_for_Toll_</th>\n",
       "      <th>Hours_of_Operation</th>\n",
       "      <th>Comments</th>\n",
       "      <th>Shape_Length</th>\n",
       "    </tr>\n",
       "  </thead>\n",
       "  <tbody>\n",
       "    <tr>\n",
       "      <th>0</th>\n",
       "      <td>1</td>\n",
       "      <td>4</td>\n",
       "      <td>237</td>\n",
       "      <td>EB</td>\n",
       "      <td>SCL</td>\n",
       "      <td>R3.343</td>\n",
       "      <td>SCL</td>\n",
       "      <td>R9.164R</td>\n",
       "      <td>3.400</td>\n",
       "      <td>9.216</td>\n",
       "      <td>Mathilda Avenue to I-880</td>\n",
       "      <td>7.316</td>\n",
       "      <td>Mathilda Ave. to Zanker Rd. - 11/15/2019; Zank...</td>\n",
       "      <td>3+</td>\n",
       "      <td>M-F; 05:00-20:00</td>\n",
       "      <td>Conversion from HOV to Express Lane. ; Mileage...</td>\n",
       "      <td>11502.249796</td>\n",
       "    </tr>\n",
       "    <tr>\n",
       "      <th>1</th>\n",
       "      <td>2</td>\n",
       "      <td>4</td>\n",
       "      <td>580</td>\n",
       "      <td>EB</td>\n",
       "      <td>ALA</td>\n",
       "      <td>18.913</td>\n",
       "      <td>ALA</td>\n",
       "      <td>R8.762</td>\n",
       "      <td>35.097</td>\n",
       "      <td>24.916</td>\n",
       "      <td>Hacienda Rd to Greenville Rd</td>\n",
       "      <td>17.041</td>\n",
       "      <td>2/19/2016</td>\n",
       "      <td>2+</td>\n",
       "      <td>M-F; 05:00-20:00</td>\n",
       "      <td>Converted from HOV lane. Includes dual lane se...</td>\n",
       "      <td>20683.777789</td>\n",
       "    </tr>\n",
       "    <tr>\n",
       "      <th>2</th>\n",
       "      <td>3</td>\n",
       "      <td>7</td>\n",
       "      <td>10S</td>\n",
       "      <td>EB</td>\n",
       "      <td>LA</td>\n",
       "      <td>16.968</td>\n",
       "      <td>LA</td>\n",
       "      <td>27.96</td>\n",
       "      <td>0.000</td>\n",
       "      <td>10.992</td>\n",
       "      <td>Alameda St to Baldwin Ave</td>\n",
       "      <td>17.022</td>\n",
       "      <td>Alameda St to Mission Rd - Apr 1990; Mission R...</td>\n",
       "      <td>3+ 5:00-9:00 am M-F; 3+ 4:00-7:00 pm M-F; 2+ A...</td>\n",
       "      <td>24 hrs</td>\n",
       "      <td>Mileage includes dual lane segment from PM 22....</td>\n",
       "      <td>21359.741104</td>\n",
       "    </tr>\n",
       "    <tr>\n",
       "      <th>3</th>\n",
       "      <td>4</td>\n",
       "      <td>7</td>\n",
       "      <td>10</td>\n",
       "      <td>EB</td>\n",
       "      <td>LA</td>\n",
       "      <td>27.963</td>\n",
       "      <td>LA</td>\n",
       "      <td>30.995</td>\n",
       "      <td>26.463</td>\n",
       "      <td>29.495</td>\n",
       "      <td>Baldwin Ave to I-605</td>\n",
       "      <td>5.273</td>\n",
       "      <td>Baldwin Ave to Rte 605 � Feb 2005; Converted t...</td>\n",
       "      <td>3+ 5:00-9:00 am M-F; 3+ 4:00-7:00 pm M-F; 2+ A...</td>\n",
       "      <td>24 hrs</td>\n",
       "      <td>Mileage includes dual lane segment from PM 27....</td>\n",
       "      <td>5877.568529</td>\n",
       "    </tr>\n",
       "    <tr>\n",
       "      <th>4</th>\n",
       "      <td>5</td>\n",
       "      <td>8</td>\n",
       "      <td>91</td>\n",
       "      <td>EB</td>\n",
       "      <td>RIV</td>\n",
       "      <td>R0.000</td>\n",
       "      <td>RIV</td>\n",
       "      <td>7.514</td>\n",
       "      <td>37.232</td>\n",
       "      <td>44.858</td>\n",
       "      <td>Orange County Line to I-15</td>\n",
       "      <td>16.524</td>\n",
       "      <td>Converted from single lane HOV lane to dual Ex...</td>\n",
       "      <td>3+; (Pay 50% discounted toll Monday thru Frida...</td>\n",
       "      <td>24 hrs</td>\n",
       "      <td>; Dual lane facility from PM R0.000 to PM 6.41...</td>\n",
       "      <td>14765.391421</td>\n",
       "    </tr>\n",
       "  </tbody>\n",
       "</table>\n",
       "</div>"
      ],
      "text/plain": [
       "   OBJECTID  District Route Direction Begin_County Begin_Post_Mile End_County  \\\n",
       "0         1         4   237        EB          SCL          R3.343        SCL   \n",
       "1         2         4   580        EB          ALA          18.913        ALA   \n",
       "2         3         7   10S        EB           LA          16.968         LA   \n",
       "3         4         7    10        EB           LA          27.963         LA   \n",
       "4         5         8    91        EB          RIV          R0.000        RIV   \n",
       "\n",
       "  End_Post_Mile  Begin_Abs_Post_Mile  End_Abs_Post_Mile  \\\n",
       "0       R9.164R                3.400              9.216   \n",
       "1        R8.762               35.097             24.916   \n",
       "2         27.96                0.000             10.992   \n",
       "3        30.995               26.463             29.495   \n",
       "4         7.514               37.232             44.858   \n",
       "\n",
       "                    Description  Length__Lane_Miles_  \\\n",
       "0      Mathilda Avenue to I-880                7.316   \n",
       "1  Hacienda Rd to Greenville Rd               17.041   \n",
       "2     Alameda St to Baldwin Ave               17.022   \n",
       "3          Baldwin Ave to I-605                5.273   \n",
       "4    Orange County Line to I-15               16.524   \n",
       "\n",
       "                                        Opening_Date  \\\n",
       "0  Mathilda Ave. to Zanker Rd. - 11/15/2019; Zank...   \n",
       "1                                          2/19/2016   \n",
       "2  Alameda St to Mission Rd - Apr 1990; Mission R...   \n",
       "3  Baldwin Ave to Rte 605 � Feb 2005; Converted t...   \n",
       "4  Converted from single lane HOV lane to dual Ex...   \n",
       "\n",
       "                     Occupancy_Requirement_for_Toll_ Hours_of_Operation  \\\n",
       "0                                                 3+   M-F; 05:00-20:00   \n",
       "1                                                 2+   M-F; 05:00-20:00   \n",
       "2  3+ 5:00-9:00 am M-F; 3+ 4:00-7:00 pm M-F; 2+ A...             24 hrs   \n",
       "3  3+ 5:00-9:00 am M-F; 3+ 4:00-7:00 pm M-F; 2+ A...             24 hrs   \n",
       "4  3+; (Pay 50% discounted toll Monday thru Frida...             24 hrs   \n",
       "\n",
       "                                            Comments  Shape_Length  \n",
       "0  Conversion from HOV to Express Lane. ; Mileage...  11502.249796  \n",
       "1  Converted from HOV lane. Includes dual lane se...  20683.777789  \n",
       "2  Mileage includes dual lane segment from PM 22....  21359.741104  \n",
       "3  Mileage includes dual lane segment from PM 27....   5877.568529  \n",
       "4  ; Dual lane facility from PM R0.000 to PM 6.41...  14765.391421  "
      ]
     },
     "execution_count": 27,
     "metadata": {},
     "output_type": "execute_result"
    }
   ],
   "source": [
    "Ex_Ln_df = pd.read_csv(s3_path_Ex_Ln)\n",
    "Ex_Ln_df.info()\n",
    "Ex_Ln_df.head(5)"
   ]
  },
  {
   "cell_type": "code",
   "execution_count": 28,
   "id": "f57a5890-e202-4fc3-9bfb-be71d6411dac",
   "metadata": {
    "tags": []
   },
   "outputs": [
    {
     "data": {
      "image/png": "[encoded data removed]",
      "text/plain": [
       "<Figure size 640x480 with 4 Axes>"
      ]
     },
     "metadata": {},
     "output_type": "display_data"
    }
   ],
   "source": [
    "n_bins = 10\n",
    "fig, ((ax0, ax1), (ax2, ax3)) = plt.subplots(nrows=2, ncols=2)\n",
    "\n",
    "ax0.hist(Ex_Ln_df['District'], n_bins, density=True, histtype='bar', stacked = True)\n",
    "ax0.set_title('District')\n",
    "\n",
    "ax1.hist(Ex_Ln_df['Begin_Abs_Post_Mile'], n_bins, density=True, histtype='bar', stacked=True)\n",
    "ax1.set_title('Begin_Abs_Post_Mile')\n",
    "\n",
    "ax2.hist(Ex_Ln_df['End_Abs_Post_Mile'], n_bins, histtype='bar', stacked=True)\n",
    "ax2.set_title('End_Abs_Post_Mile')\n",
    "\n",
    "ax3.hist(Ex_Ln_df['Length__Lane_Miles_'], n_bins, histtype='bar', stacked=True)\n",
    "ax3.set_title('Day Length__Lane_Miles_')\n",
    "\n",
    "\n",
    "fig.tight_layout()\n",
    "plt.show()"
   ]
  },
  {
   "cell_type": "code",
   "execution_count": 29,
   "id": "f87c7384-2cba-4725-b3a4-ca5d12065e15",
   "metadata": {
    "tags": []
   },
   "outputs": [
    {
     "data": {
      "image/png": "[encoded data removed]",
      "text/plain": [
       "<Figure size 1274.24x600 with 1 Axes>"
      ]
     },
     "metadata": {},
     "output_type": "display_data"
    }
   ],
   "source": [
    "# Create a grouped bar chart using seaborn\n",
    "sns.set_style(\"whitegrid\")\n",
    "sns.set_palette(\"husl\", 2)\n",
    "ax = sns.catplot(x='Route', y='Length__Lane_Miles_', hue='Direction', \n",
    "                 kind='bar', data=Ex_Ln_df, height = 6, aspect=2)\n",
    "\n",
    "# Set the axis labels and title\n",
    "ax.set_xlabels('Freeway Route Number')\n",
    "ax.set_ylabels('Freeway Length (Miles)')\n",
    "ax.set(title='Freeway Length by Route Number and Direction')\n",
    "\n",
    "# Show the plot\n",
    "plt.show()"
   ]
  },
  {
   "cell_type": "code",
   "execution_count": 30,
   "id": "a4fe2cb2-ea54-4cfa-9fac-fd2e2d81191c",
   "metadata": {
    "tags": []
   },
   "outputs": [
    {
     "data": {
      "image/png": "[encoded data removed]",
      "text/plain": [
       "<Figure size 1000x700 with 1 Axes>"
      ]
     },
     "metadata": {},
     "output_type": "display_data"
    }
   ],
   "source": [
    "# Group the data by county and sum the lane miles\n",
    "grouped_data = Ex_Ln_df.groupby(['Begin_County', 'End_County']).agg({'Length__Lane_Miles_': 'sum'}).reset_index()\n",
    "\n",
    "# Create a horizontal bar chart\n",
    "fig, ax = plt.subplots(figsize=(10, 7))\n",
    "bars = ax.barh(y=grouped_data['Begin_County'] + ' - ' + grouped_data['End_County'], width=grouped_data['Length__Lane_Miles_'], color='navy')\n",
    "\n",
    "# Set the axis labels and title\n",
    "ax.set_xlabel('Lane Miles')\n",
    "ax.set_ylabel('County Range')\n",
    "ax.set_title('Total Lane Miles by County Range')\n",
    "\n",
    "# Add labels to the bars\n",
    "for i, bar in enumerate(bars):\n",
    "    value = bar.get_width()\n",
    "    x_pos = value + 5\n",
    "    y_pos = i\n",
    "    ax.text(x_pos, y_pos, str(round(value)), va='center')\n",
    "\n",
    "# Show the plot\n",
    "plt.show()"
   ]
  },
  {
   "cell_type": "markdown",
   "id": "f90a5c9d-c8d5-4254-820c-912c6d5decf1",
   "metadata": {},
   "source": [
    "#### HOV Dataset:"
   ]
  },
  {
   "cell_type": "code",
   "execution_count": 31,
   "id": "9b04dcf6-9fc3-4cae-8b01-dcc8ab86ec4c",
   "metadata": {
    "tags": []
   },
   "outputs": [
    {
     "name": "stdout",
     "output_type": "stream",
     "text": [
      "<class 'pandas.core.frame.DataFrame'>\n",
      "RangeIndex: 109 entries, 0 to 108\n",
      "Data columns (total 17 columns):\n",
      " #   Column                 Non-Null Count  Dtype  \n",
      "---  ------                 --------------  -----  \n",
      " 0   OBJECTID               109 non-null    int64  \n",
      " 1   District               109 non-null    int64  \n",
      " 2   Route                  109 non-null    object \n",
      " 3   Direction              109 non-null    object \n",
      " 4   Begin_County           109 non-null    object \n",
      " 5   Begin_Post_Mile        109 non-null    object \n",
      " 6   End_County             109 non-null    object \n",
      " 7   End_Post_Mile          109 non-null    object \n",
      " 8   Begin_Abs_Post_Mile    106 non-null    float64\n",
      " 9   End_Abs_Post_Mile      106 non-null    float64\n",
      " 10  Description            109 non-null    object \n",
      " 11  Length__Lane_Miles_    109 non-null    float64\n",
      " 12  Occupancy_Requirement  109 non-null    object \n",
      " 13  Hours_of_Operation     109 non-null    object \n",
      " 14  Segment_Opening_Date   105 non-null    object \n",
      " 15  Comments               83 non-null     object \n",
      " 16  Shape_Length           109 non-null    float64\n",
      "dtypes: float64(4), int64(2), object(11)\n",
      "memory usage: 14.6+ KB\n"
     ]
    },
    {
     "data": {
      "text/html": [
       "<div>\n",
       "<style scoped>\n",
       "    .dataframe tbody tr th:only-of-type {\n",
       "        vertical-align: middle;\n",
       "    }\n",
       "\n",
       "    .dataframe tbody tr th {\n",
       "        vertical-align: top;\n",
       "    }\n",
       "\n",
       "    .dataframe thead th {\n",
       "        text-align: right;\n",
       "    }\n",
       "</style>\n",
       "<table border=\"1\" class=\"dataframe\">\n",
       "  <thead>\n",
       "    <tr style=\"text-align: right;\">\n",
       "      <th></th>\n",
       "      <th>OBJECTID</th>\n",
       "      <th>District</th>\n",
       "      <th>Route</th>\n",
       "      <th>Direction</th>\n",
       "      <th>Begin_County</th>\n",
       "      <th>Begin_Post_Mile</th>\n",
       "      <th>End_County</th>\n",
       "      <th>End_Post_Mile</th>\n",
       "      <th>Begin_Abs_Post_Mile</th>\n",
       "      <th>End_Abs_Post_Mile</th>\n",
       "      <th>Description</th>\n",
       "      <th>Length__Lane_Miles_</th>\n",
       "      <th>Occupancy_Requirement</th>\n",
       "      <th>Hours_of_Operation</th>\n",
       "      <th>Segment_Opening_Date</th>\n",
       "      <th>Comments</th>\n",
       "      <th>Shape_Length</th>\n",
       "    </tr>\n",
       "  </thead>\n",
       "  <tbody>\n",
       "    <tr>\n",
       "      <th>0</th>\n",
       "      <td>1</td>\n",
       "      <td>3</td>\n",
       "      <td>50</td>\n",
       "      <td>EB</td>\n",
       "      <td>SAC</td>\n",
       "      <td>R5.371</td>\n",
       "      <td>ED</td>\n",
       "      <td>5.834</td>\n",
       "      <td>11.005</td>\n",
       "      <td>34.632</td>\n",
       "      <td>Watt Ave to Cameron Park Dr</td>\n",
       "      <td>23.627</td>\n",
       "      <td>2+</td>\n",
       "      <td>M-F 06:00-10:00 and 15:00-19:00</td>\n",
       "      <td>Watt Ave to Sunrise Blvd - Dec 2011; Sunrise B...</td>\n",
       "      <td>NaN</td>\n",
       "      <td>48659.155980</td>\n",
       "    </tr>\n",
       "    <tr>\n",
       "      <th>1</th>\n",
       "      <td>2</td>\n",
       "      <td>3</td>\n",
       "      <td>80</td>\n",
       "      <td>EB</td>\n",
       "      <td>SAC</td>\n",
       "      <td>M0.767</td>\n",
       "      <td>PLA</td>\n",
       "      <td>4.718</td>\n",
       "      <td>84.691</td>\n",
       "      <td>106.237</td>\n",
       "      <td>West El Camino Ave to SR-65</td>\n",
       "      <td>21.546</td>\n",
       "      <td>2+</td>\n",
       "      <td>M-F 06:00-10:00 and 15:00-19:00</td>\n",
       "      <td>Yolo Co Line to Longview Dr - Dec 2016; Longvi...</td>\n",
       "      <td>NaN</td>\n",
       "      <td>44432.185806</td>\n",
       "    </tr>\n",
       "    <tr>\n",
       "      <th>2</th>\n",
       "      <td>3</td>\n",
       "      <td>4</td>\n",
       "      <td>80</td>\n",
       "      <td>EB</td>\n",
       "      <td>SOL</td>\n",
       "      <td>0.504</td>\n",
       "      <td>SOL</td>\n",
       "      <td>0.673</td>\n",
       "      <td>27.995</td>\n",
       "      <td>28.164</td>\n",
       "      <td>Carquinez Bridge Toll Plaza</td>\n",
       "      <td>0.255</td>\n",
       "      <td>3+</td>\n",
       "      <td>M-F 05:00-10:00 and 15:00-19:00</td>\n",
       "      <td>Opened; W/O Toll Plaza to E/O Toll Plaza, 07/3...</td>\n",
       "      <td>2-Seat Vehicles with 2 Persons Permitted; Toll...</td>\n",
       "      <td>348.131415</td>\n",
       "    </tr>\n",
       "    <tr>\n",
       "      <th>3</th>\n",
       "      <td>4</td>\n",
       "      <td>4</td>\n",
       "      <td>80</td>\n",
       "      <td>EB</td>\n",
       "      <td>SOL</td>\n",
       "      <td>R11.485</td>\n",
       "      <td>SOL</td>\n",
       "      <td>19.594</td>\n",
       "      <td>38.976</td>\n",
       "      <td>47.096</td>\n",
       "      <td>Red Top Road to Air Base Pkwy</td>\n",
       "      <td>8.120</td>\n",
       "      <td>2+</td>\n",
       "      <td>M-F 05:00-10:00 and 15:00-19:00</td>\n",
       "      <td>Opened; Red Top Road to E/O Air Base Pkwy., 11...</td>\n",
       "      <td>NaN</td>\n",
       "      <td>16660.846138</td>\n",
       "    </tr>\n",
       "    <tr>\n",
       "      <th>4</th>\n",
       "      <td>5</td>\n",
       "      <td>7</td>\n",
       "      <td>10</td>\n",
       "      <td>EB</td>\n",
       "      <td>LA</td>\n",
       "      <td>30.995</td>\n",
       "      <td>LA</td>\n",
       "      <td>48.265</td>\n",
       "      <td>29.495</td>\n",
       "      <td>46.765</td>\n",
       "      <td>I-605 to San Bernardino County Line</td>\n",
       "      <td>17.270</td>\n",
       "      <td>2+</td>\n",
       "      <td>24 Hr</td>\n",
       "      <td>Rte 605 to 0.6 mi west of Puente Ave (Francisq...</td>\n",
       "      <td>Continues into San Bernardino County</td>\n",
       "      <td>33527.727027</td>\n",
       "    </tr>\n",
       "  </tbody>\n",
       "</table>\n",
       "</div>"
      ],
      "text/plain": [
       "   OBJECTID  District Route Direction Begin_County Begin_Post_Mile End_County  \\\n",
       "0         1         3    50        EB          SAC          R5.371         ED   \n",
       "1         2         3    80        EB          SAC          M0.767        PLA   \n",
       "2         3         4    80        EB          SOL           0.504        SOL   \n",
       "3         4         4    80        EB          SOL         R11.485        SOL   \n",
       "4         5         7    10        EB           LA          30.995         LA   \n",
       "\n",
       "  End_Post_Mile  Begin_Abs_Post_Mile  End_Abs_Post_Mile  \\\n",
       "0         5.834               11.005             34.632   \n",
       "1         4.718               84.691            106.237   \n",
       "2         0.673               27.995             28.164   \n",
       "3        19.594               38.976             47.096   \n",
       "4        48.265               29.495             46.765   \n",
       "\n",
       "                           Description  Length__Lane_Miles_  \\\n",
       "0          Watt Ave to Cameron Park Dr               23.627   \n",
       "1          West El Camino Ave to SR-65               21.546   \n",
       "2          Carquinez Bridge Toll Plaza                0.255   \n",
       "3        Red Top Road to Air Base Pkwy                8.120   \n",
       "4  I-605 to San Bernardino County Line               17.270   \n",
       "\n",
       "  Occupancy_Requirement               Hours_of_Operation  \\\n",
       "0                    2+  M-F 06:00-10:00 and 15:00-19:00   \n",
       "1                    2+  M-F 06:00-10:00 and 15:00-19:00   \n",
       "2                    3+  M-F 05:00-10:00 and 15:00-19:00   \n",
       "3                    2+  M-F 05:00-10:00 and 15:00-19:00   \n",
       "4                    2+                            24 Hr   \n",
       "\n",
       "                                Segment_Opening_Date  \\\n",
       "0  Watt Ave to Sunrise Blvd - Dec 2011; Sunrise B...   \n",
       "1  Yolo Co Line to Longview Dr - Dec 2016; Longvi...   \n",
       "2  Opened; W/O Toll Plaza to E/O Toll Plaza, 07/3...   \n",
       "3  Opened; Red Top Road to E/O Air Base Pkwy., 11...   \n",
       "4  Rte 605 to 0.6 mi west of Puente Ave (Francisq...   \n",
       "\n",
       "                                            Comments  Shape_Length  \n",
       "0                                                NaN  48659.155980  \n",
       "1                                                NaN  44432.185806  \n",
       "2  2-Seat Vehicles with 2 Persons Permitted; Toll...    348.131415  \n",
       "3                                                NaN  16660.846138  \n",
       "4               Continues into San Bernardino County  33527.727027  "
      ]
     },
     "execution_count": 31,
     "metadata": {},
     "output_type": "execute_result"
    }
   ],
   "source": [
    "HOV_df = pd.read_csv(s3_path_HOV)\n",
    "HOV_df.info()\n",
    "HOV_df.head(5)"
   ]
  },
  {
   "cell_type": "code",
   "execution_count": 32,
   "id": "ef7d1331-66b0-4a12-8c91-093beae3cf56",
   "metadata": {
    "tags": []
   },
   "outputs": [
    {
     "data": {
      "image/png": "[encoded data removed]",
      "text/plain": [
       "<Figure size 640x480 with 4 Axes>"
      ]
     },
     "metadata": {},
     "output_type": "display_data"
    }
   ],
   "source": [
    "n_bins = 10\n",
    "fig, ((ax0, ax1), (ax2, ax3)) = plt.subplots(nrows=2, ncols=2)\n",
    "\n",
    "ax0.hist(HOV_df['District'], n_bins, density=True, histtype='bar', stacked = True)\n",
    "ax0.set_title('District')\n",
    "\n",
    "ax1.hist(HOV_df['Begin_Abs_Post_Mile'], n_bins, density=True, histtype='bar', stacked=True)\n",
    "ax1.set_title('Begin_Abs_Post_Mile')\n",
    "\n",
    "ax2.hist(HOV_df['End_Abs_Post_Mile'], n_bins, histtype='bar', stacked=True)\n",
    "ax2.set_title('End_Abs_Post_Mile')\n",
    "\n",
    "ax3.hist(HOV_df['Length__Lane_Miles_'], n_bins, histtype='bar', stacked=True)\n",
    "ax3.set_title('Day Length__Lane_Miles_')\n",
    "\n",
    "fig.tight_layout()\n",
    "plt.show()"
   ]
  },
  {
   "cell_type": "code",
   "execution_count": 33,
   "id": "9d5eb0ef-870c-4427-bf9d-fd0ab49decfc",
   "metadata": {
    "tags": []
   },
   "outputs": [
    {
     "data": {
      "image/png": "[encoded data removed]",
      "text/plain": [
       "<Figure size 1474.24x700 with 1 Axes>"
      ]
     },
     "metadata": {},
     "output_type": "display_data"
    }
   ],
   "source": [
    "# Create a grouped bar chart using seaborn\n",
    "sns.set_style(\"whitegrid\")\n",
    "sns.set_palette(\"husl\", 2)\n",
    "ax = sns.catplot(x='Route', y='Length__Lane_Miles_', hue='Direction', \n",
    "                 kind='bar', data=HOV_df, height = 7, aspect=2)\n",
    "\n",
    "# Set the axis labels and title\n",
    "ax.set_xlabels('Freeway Route Number')\n",
    "ax.set_ylabels('Freeway Length (Miles)')\n",
    "ax.set(title='Freeway Length by Route Number and Direction')\n",
    "\n",
    "# Show the plot\n",
    "plt.show()"
   ]
  },
  {
   "cell_type": "code",
   "execution_count": 34,
   "id": "926cefde-a51d-4449-802b-45908308c3f9",
   "metadata": {
    "tags": []
   },
   "outputs": [
    {
     "data": {
      "image/png": "[encoded data removed]",
      "text/plain": [
       "<Figure size 1000x700 with 1 Axes>"
      ]
     },
     "metadata": {},
     "output_type": "display_data"
    }
   ],
   "source": [
    "# Group the data by county and sum the lane miles\n",
    "grouped_data = HOV_df.groupby(['Begin_County', 'End_County']).agg({'Length__Lane_Miles_': 'sum'}).reset_index()\n",
    "\n",
    "# Create a horizontal bar chart\n",
    "fig, ax = plt.subplots(figsize=(10, 7))\n",
    "bars = ax.barh(y=grouped_data['Begin_County'] + ' - ' + grouped_data['End_County'], width=grouped_data['Length__Lane_Miles_'], color='navy')\n",
    "\n",
    "# Set the axis labels and title\n",
    "ax.set_xlabel('Lane Miles')\n",
    "ax.set_ylabel('County Range')\n",
    "ax.set_title('Total Lane Miles by County Range')\n",
    "\n",
    "# Add labels to the bars\n",
    "for i, bar in enumerate(bars):\n",
    "    value = bar.get_width()\n",
    "    x_pos = value + 5\n",
    "    y_pos = i\n",
    "    ax.text(x_pos, y_pos, str(round(value)), va='center')\n",
    "\n",
    "# Show the plot\n",
    "plt.show()"
   ]
  },
  {
   "cell_type": "markdown",
   "id": "2c1455b8-5eca-450e-87ad-7c5ccc1ccb48",
   "metadata": {},
   "source": [
    "#### Traffic Volumes_AADT table:"
   ]
  },
  {
   "cell_type": "code",
   "execution_count": 35,
   "id": "bb7ef4d5-a674-4b9b-8856-3446f216ca36",
   "metadata": {
    "tags": []
   },
   "outputs": [
    {
     "name": "stdout",
     "output_type": "stream",
     "text": [
      "<class 'pandas.core.frame.DataFrame'>\n",
      "RangeIndex: 7114 entries, 0 to 7113\n",
      "Data columns (total 15 columns):\n",
      " #   Column           Non-Null Count  Dtype  \n",
      "---  ------           --------------  -----  \n",
      " 0   OBJECTID         7114 non-null   int64  \n",
      " 1   DISTRICT         7113 non-null   float64\n",
      " 2   ROUTE            7114 non-null   int64  \n",
      " 3   RTE_SFX          42 non-null     object \n",
      " 4   COUNTY           7114 non-null   object \n",
      " 5   PM_PFX           2367 non-null   object \n",
      " 6   PM               7114 non-null   float64\n",
      " 7   PM_SFX           369 non-null    object \n",
      " 8   DESCRIPTION      7114 non-null   object \n",
      " 9   BACK_PEAK_HOUR   6471 non-null   float64\n",
      " 10  BACK_PEAK_MADT   6471 non-null   float64\n",
      " 11  BACK_AADT        6471 non-null   float64\n",
      " 12  AHEAD_PEAK_HOUR  6483 non-null   float64\n",
      " 13  AHEAD_PEAK_MADT  6483 non-null   float64\n",
      " 14  AHEAD_AADT       6483 non-null   float64\n",
      "dtypes: float64(8), int64(2), object(5)\n",
      "memory usage: 833.8+ KB\n"
     ]
    },
    {
     "data": {
      "text/html": [
       "<div>\n",
       "<style scoped>\n",
       "    .dataframe tbody tr th:only-of-type {\n",
       "        vertical-align: middle;\n",
       "    }\n",
       "\n",
       "    .dataframe tbody tr th {\n",
       "        vertical-align: top;\n",
       "    }\n",
       "\n",
       "    .dataframe thead th {\n",
       "        text-align: right;\n",
       "    }\n",
       "</style>\n",
       "<table border=\"1\" class=\"dataframe\">\n",
       "  <thead>\n",
       "    <tr style=\"text-align: right;\">\n",
       "      <th></th>\n",
       "      <th>OBJECTID</th>\n",
       "      <th>DISTRICT</th>\n",
       "      <th>ROUTE</th>\n",
       "      <th>RTE_SFX</th>\n",
       "      <th>COUNTY</th>\n",
       "      <th>PM_PFX</th>\n",
       "      <th>PM</th>\n",
       "      <th>PM_SFX</th>\n",
       "      <th>DESCRIPTION</th>\n",
       "      <th>BACK_PEAK_HOUR</th>\n",
       "      <th>BACK_PEAK_MADT</th>\n",
       "      <th>BACK_AADT</th>\n",
       "      <th>AHEAD_PEAK_HOUR</th>\n",
       "      <th>AHEAD_PEAK_MADT</th>\n",
       "      <th>AHEAD_AADT</th>\n",
       "    </tr>\n",
       "  </thead>\n",
       "  <tbody>\n",
       "    <tr>\n",
       "      <th>0</th>\n",
       "      <td>1</td>\n",
       "      <td>12.0</td>\n",
       "      <td>1</td>\n",
       "      <td>NaN</td>\n",
       "      <td>ORA</td>\n",
       "      <td>R</td>\n",
       "      <td>0.129</td>\n",
       "      <td>NaN</td>\n",
       "      <td>DANA POINT, JCT. RTE. 5</td>\n",
       "      <td>NaN</td>\n",
       "      <td>NaN</td>\n",
       "      <td>NaN</td>\n",
       "      <td>4250.0</td>\n",
       "      <td>42000.0</td>\n",
       "      <td>38250.0</td>\n",
       "    </tr>\n",
       "    <tr>\n",
       "      <th>1</th>\n",
       "      <td>2</td>\n",
       "      <td>12.0</td>\n",
       "      <td>1</td>\n",
       "      <td>NaN</td>\n",
       "      <td>ORA</td>\n",
       "      <td>R</td>\n",
       "      <td>0.780</td>\n",
       "      <td>NaN</td>\n",
       "      <td>DANA POINT, DOHENY PARK ROAD</td>\n",
       "      <td>4250.0</td>\n",
       "      <td>42000.0</td>\n",
       "      <td>38900.0</td>\n",
       "      <td>4350.0</td>\n",
       "      <td>43500.0</td>\n",
       "      <td>38900.0</td>\n",
       "    </tr>\n",
       "    <tr>\n",
       "      <th>2</th>\n",
       "      <td>3</td>\n",
       "      <td>12.0</td>\n",
       "      <td>1</td>\n",
       "      <td>NaN</td>\n",
       "      <td>ORA</td>\n",
       "      <td>R</td>\n",
       "      <td>1.077</td>\n",
       "      <td>NaN</td>\n",
       "      <td>BREAK IN RTE</td>\n",
       "      <td>NaN</td>\n",
       "      <td>NaN</td>\n",
       "      <td>NaN</td>\n",
       "      <td>NaN</td>\n",
       "      <td>NaN</td>\n",
       "      <td>NaN</td>\n",
       "    </tr>\n",
       "    <tr>\n",
       "      <th>3</th>\n",
       "      <td>4</td>\n",
       "      <td>12.0</td>\n",
       "      <td>1</td>\n",
       "      <td>NaN</td>\n",
       "      <td>ORA</td>\n",
       "      <td>NaN</td>\n",
       "      <td>8.430</td>\n",
       "      <td>NaN</td>\n",
       "      <td>LAGUNA BEACH, MOUNTAIN ROAD</td>\n",
       "      <td>3200.0</td>\n",
       "      <td>40500.0</td>\n",
       "      <td>37900.0</td>\n",
       "      <td>3200.0</td>\n",
       "      <td>40500.0</td>\n",
       "      <td>37900.0</td>\n",
       "    </tr>\n",
       "    <tr>\n",
       "      <th>4</th>\n",
       "      <td>5</td>\n",
       "      <td>12.0</td>\n",
       "      <td>1</td>\n",
       "      <td>NaN</td>\n",
       "      <td>ORA</td>\n",
       "      <td>NaN</td>\n",
       "      <td>9.418</td>\n",
       "      <td>NaN</td>\n",
       "      <td>LAGUNA BEACH, JCT. RTE. 133 NORTH</td>\n",
       "      <td>3400.0</td>\n",
       "      <td>43000.0</td>\n",
       "      <td>38800.0</td>\n",
       "      <td>3850.0</td>\n",
       "      <td>43000.0</td>\n",
       "      <td>38800.0</td>\n",
       "    </tr>\n",
       "  </tbody>\n",
       "</table>\n",
       "</div>"
      ],
      "text/plain": [
       "   OBJECTID  DISTRICT  ROUTE RTE_SFX COUNTY PM_PFX     PM PM_SFX  \\\n",
       "0         1      12.0      1     NaN    ORA      R  0.129    NaN   \n",
       "1         2      12.0      1     NaN    ORA      R  0.780    NaN   \n",
       "2         3      12.0      1     NaN    ORA      R  1.077    NaN   \n",
       "3         4      12.0      1     NaN    ORA    NaN  8.430    NaN   \n",
       "4         5      12.0      1     NaN    ORA    NaN  9.418    NaN   \n",
       "\n",
       "                         DESCRIPTION  BACK_PEAK_HOUR  BACK_PEAK_MADT  \\\n",
       "0            DANA POINT, JCT. RTE. 5             NaN             NaN   \n",
       "1       DANA POINT, DOHENY PARK ROAD          4250.0         42000.0   \n",
       "2                       BREAK IN RTE             NaN             NaN   \n",
       "3        LAGUNA BEACH, MOUNTAIN ROAD          3200.0         40500.0   \n",
       "4  LAGUNA BEACH, JCT. RTE. 133 NORTH          3400.0         43000.0   \n",
       "\n",
       "   BACK_AADT  AHEAD_PEAK_HOUR  AHEAD_PEAK_MADT  AHEAD_AADT  \n",
       "0        NaN           4250.0          42000.0     38250.0  \n",
       "1    38900.0           4350.0          43500.0     38900.0  \n",
       "2        NaN              NaN              NaN         NaN  \n",
       "3    37900.0           3200.0          40500.0     37900.0  \n",
       "4    38800.0           3850.0          43000.0     38800.0  "
      ]
     },
     "execution_count": 35,
     "metadata": {},
     "output_type": "execute_result"
    }
   ],
   "source": [
    "vol_df = pd.read_csv(s3_path_vol)\n",
    "vol_df.info()\n",
    "vol_df.head(5)"
   ]
  },
  {
   "cell_type": "code",
   "execution_count": 36,
   "id": "f465a7fc-fc22-43f4-a321-55fc35a5cca8",
   "metadata": {
    "tags": []
   },
   "outputs": [
    {
     "data": {
      "text/html": [
       "<div>\n",
       "<style scoped>\n",
       "    .dataframe tbody tr th:only-of-type {\n",
       "        vertical-align: middle;\n",
       "    }\n",
       "\n",
       "    .dataframe tbody tr th {\n",
       "        vertical-align: top;\n",
       "    }\n",
       "\n",
       "    .dataframe thead th {\n",
       "        text-align: right;\n",
       "    }\n",
       "</style>\n",
       "<table border=\"1\" class=\"dataframe\">\n",
       "  <thead>\n",
       "    <tr style=\"text-align: right;\">\n",
       "      <th></th>\n",
       "      <th>ROUTE</th>\n",
       "      <th>BACK_PEAK_HOUR</th>\n",
       "      <th>BACK_AADT</th>\n",
       "      <th>Rate</th>\n",
       "    </tr>\n",
       "  </thead>\n",
       "  <tbody>\n",
       "    <tr>\n",
       "      <th>187</th>\n",
       "      <td>220</td>\n",
       "      <td>474.000000</td>\n",
       "      <td>322.000000</td>\n",
       "      <td>147.204969</td>\n",
       "    </tr>\n",
       "    <tr>\n",
       "      <th>178</th>\n",
       "      <td>207</td>\n",
       "      <td>300.000000</td>\n",
       "      <td>740.000000</td>\n",
       "      <td>40.540541</td>\n",
       "    </tr>\n",
       "    <tr>\n",
       "      <th>120</th>\n",
       "      <td>136</td>\n",
       "      <td>80.000000</td>\n",
       "      <td>280.000000</td>\n",
       "      <td>28.571429</td>\n",
       "    </tr>\n",
       "    <tr>\n",
       "      <th>225</th>\n",
       "      <td>284</td>\n",
       "      <td>100.000000</td>\n",
       "      <td>370.000000</td>\n",
       "      <td>27.027027</td>\n",
       "    </tr>\n",
       "    <tr>\n",
       "      <th>217</th>\n",
       "      <td>270</td>\n",
       "      <td>120.000000</td>\n",
       "      <td>450.000000</td>\n",
       "      <td>26.666667</td>\n",
       "    </tr>\n",
       "    <tr>\n",
       "      <th>214</th>\n",
       "      <td>266</td>\n",
       "      <td>40.000000</td>\n",
       "      <td>160.000000</td>\n",
       "      <td>25.000000</td>\n",
       "    </tr>\n",
       "    <tr>\n",
       "      <th>206</th>\n",
       "      <td>254</td>\n",
       "      <td>263.333333</td>\n",
       "      <td>1106.666667</td>\n",
       "      <td>23.795181</td>\n",
       "    </tr>\n",
       "    <tr>\n",
       "      <th>146</th>\n",
       "      <td>167</td>\n",
       "      <td>20.000000</td>\n",
       "      <td>90.000000</td>\n",
       "      <td>22.222222</td>\n",
       "    </tr>\n",
       "    <tr>\n",
       "      <th>131</th>\n",
       "      <td>150</td>\n",
       "      <td>1967.333333</td>\n",
       "      <td>9116.666667</td>\n",
       "      <td>21.579525</td>\n",
       "    </tr>\n",
       "    <tr>\n",
       "      <th>138</th>\n",
       "      <td>158</td>\n",
       "      <td>255.000000</td>\n",
       "      <td>1187.500000</td>\n",
       "      <td>21.473684</td>\n",
       "    </tr>\n",
       "  </tbody>\n",
       "</table>\n",
       "</div>"
      ],
      "text/plain": [
       "     ROUTE  BACK_PEAK_HOUR    BACK_AADT        Rate\n",
       "187    220      474.000000   322.000000  147.204969\n",
       "178    207      300.000000   740.000000   40.540541\n",
       "120    136       80.000000   280.000000   28.571429\n",
       "225    284      100.000000   370.000000   27.027027\n",
       "217    270      120.000000   450.000000   26.666667\n",
       "214    266       40.000000   160.000000   25.000000\n",
       "206    254      263.333333  1106.666667   23.795181\n",
       "146    167       20.000000    90.000000   22.222222\n",
       "131    150     1967.333333  9116.666667   21.579525\n",
       "138    158      255.000000  1187.500000   21.473684"
      ]
     },
     "execution_count": 36,
     "metadata": {},
     "output_type": "execute_result"
    }
   ],
   "source": [
    "grouped_data = vol_df.groupby('ROUTE').mean().reset_index()\n",
    "grouped_data_back = grouped_data[['ROUTE', 'BACK_PEAK_HOUR','BACK_AADT']]\n",
    "grouped_data_back['Rate'] = (grouped_data_back['BACK_PEAK_HOUR'] / grouped_data_back['BACK_AADT']) * 100\n",
    "grouped_data_back = grouped_data_back.sort_values( \"Rate\", ascending = False).head(10)\n",
    "grouped_data_back.style.background_gradient(cmap=\"Blues\")\n",
    "grouped_data_back"
   ]
  },
  {
   "cell_type": "code",
   "execution_count": 37,
   "id": "37d5802b-3f3b-4de8-b042-99a1f8c297bc",
   "metadata": {
    "tags": []
   },
   "outputs": [
    {
     "data": {
      "text/html": [
       "<div>\n",
       "<style scoped>\n",
       "    .dataframe tbody tr th:only-of-type {\n",
       "        vertical-align: middle;\n",
       "    }\n",
       "\n",
       "    .dataframe tbody tr th {\n",
       "        vertical-align: top;\n",
       "    }\n",
       "\n",
       "    .dataframe thead th {\n",
       "        text-align: right;\n",
       "    }\n",
       "</style>\n",
       "<table border=\"1\" class=\"dataframe\">\n",
       "  <thead>\n",
       "    <tr style=\"text-align: right;\">\n",
       "      <th></th>\n",
       "      <th>ROUTE</th>\n",
       "      <th>AHEAD_PEAK_HOUR</th>\n",
       "      <th>AHEAD_AADT</th>\n",
       "      <th>Rate</th>\n",
       "    </tr>\n",
       "  </thead>\n",
       "  <tbody>\n",
       "    <tr>\n",
       "      <th>217</th>\n",
       "      <td>270</td>\n",
       "      <td>90.000000</td>\n",
       "      <td>210.000000</td>\n",
       "      <td>42.857143</td>\n",
       "    </tr>\n",
       "    <tr>\n",
       "      <th>178</th>\n",
       "      <td>207</td>\n",
       "      <td>300.000000</td>\n",
       "      <td>750.000000</td>\n",
       "      <td>40.000000</td>\n",
       "    </tr>\n",
       "    <tr>\n",
       "      <th>192</th>\n",
       "      <td>229</td>\n",
       "      <td>60.000000</td>\n",
       "      <td>170.000000</td>\n",
       "      <td>35.294118</td>\n",
       "    </tr>\n",
       "    <tr>\n",
       "      <th>214</th>\n",
       "      <td>266</td>\n",
       "      <td>75.000000</td>\n",
       "      <td>215.000000</td>\n",
       "      <td>34.883721</td>\n",
       "    </tr>\n",
       "    <tr>\n",
       "      <th>84</th>\n",
       "      <td>95</td>\n",
       "      <td>718.000000</td>\n",
       "      <td>2685.000000</td>\n",
       "      <td>26.741155</td>\n",
       "    </tr>\n",
       "    <tr>\n",
       "      <th>187</th>\n",
       "      <td>220</td>\n",
       "      <td>76.000000</td>\n",
       "      <td>322.000000</td>\n",
       "      <td>23.602484</td>\n",
       "    </tr>\n",
       "    <tr>\n",
       "      <th>85</th>\n",
       "      <td>96</td>\n",
       "      <td>272.727273</td>\n",
       "      <td>1155.681818</td>\n",
       "      <td>23.598820</td>\n",
       "    </tr>\n",
       "    <tr>\n",
       "      <th>138</th>\n",
       "      <td>158</td>\n",
       "      <td>315.000000</td>\n",
       "      <td>1342.500000</td>\n",
       "      <td>23.463687</td>\n",
       "    </tr>\n",
       "    <tr>\n",
       "      <th>225</th>\n",
       "      <td>284</td>\n",
       "      <td>150.000000</td>\n",
       "      <td>660.000000</td>\n",
       "      <td>22.727273</td>\n",
       "    </tr>\n",
       "    <tr>\n",
       "      <th>218</th>\n",
       "      <td>271</td>\n",
       "      <td>51.428571</td>\n",
       "      <td>226.428571</td>\n",
       "      <td>22.712934</td>\n",
       "    </tr>\n",
       "  </tbody>\n",
       "</table>\n",
       "</div>"
      ],
      "text/plain": [
       "     ROUTE  AHEAD_PEAK_HOUR   AHEAD_AADT       Rate\n",
       "217    270        90.000000   210.000000  42.857143\n",
       "178    207       300.000000   750.000000  40.000000\n",
       "192    229        60.000000   170.000000  35.294118\n",
       "214    266        75.000000   215.000000  34.883721\n",
       "84      95       718.000000  2685.000000  26.741155\n",
       "187    220        76.000000   322.000000  23.602484\n",
       "85      96       272.727273  1155.681818  23.598820\n",
       "138    158       315.000000  1342.500000  23.463687\n",
       "225    284       150.000000   660.000000  22.727273\n",
       "218    271        51.428571   226.428571  22.712934"
      ]
     },
     "execution_count": 37,
     "metadata": {},
     "output_type": "execute_result"
    }
   ],
   "source": [
    "grouped_data_ahead = grouped_data[['ROUTE', 'AHEAD_PEAK_HOUR','AHEAD_AADT']]\n",
    "grouped_data_ahead['Rate'] = (grouped_data_ahead['AHEAD_PEAK_HOUR'] / grouped_data_ahead['AHEAD_AADT']) * 100\n",
    "grouped_data_ahead = grouped_data_ahead.sort_values( \"Rate\", ascending = False).head(10)\n",
    "grouped_data_ahead.style.background_gradient(cmap=\"Blues\")\n",
    "grouped_data_ahead"
   ]
  },
  {
   "cell_type": "code",
   "execution_count": 38,
   "id": "0f0f1468-5e34-480e-a52e-0fe07f4d3611",
   "metadata": {
    "tags": []
   },
   "outputs": [
    {
     "data": {
      "text/plain": [
       "<matplotlib.axes._subplots.AxesSubplot at 0x7fbb8a93a190>"
      ]
     },
     "execution_count": 38,
     "metadata": {},
     "output_type": "execute_result"
    },
    {
     "data": {
      "image/png": "[encoded data removed]",
      "text/plain": [
       "<Figure size 1000x100 with 1 Axes>"
      ]
     },
     "metadata": {},
     "output_type": "display_data"
    },
    {
     "data": {
      "image/png": "[encoded data removed]",
      "text/plain": [
       "<Figure size 1000x100 with 1 Axes>"
      ]
     },
     "metadata": {},
     "output_type": "display_data"
    },
    {
     "data": {
      "image/png": "[encoded data removed]",
      "text/plain": [
       "<Figure size 1000x100 with 1 Axes>"
      ]
     },
     "metadata": {},
     "output_type": "display_data"
    },
    {
     "data": {
      "image/png": "[encoded data removed]",
      "text/plain": [
       "<Figure size 1000x100 with 1 Axes>"
      ]
     },
     "metadata": {},
     "output_type": "display_data"
    },
    {
     "data": {
      "image/png": "[encoded data removed]",
      "text/plain": [
       "<Figure size 1000x100 with 1 Axes>"
      ]
     },
     "metadata": {},
     "output_type": "display_data"
    },
    {
     "data": {
      "image/png": "[encoded data removed]",
      "text/plain": [
       "<Figure size 1000x100 with 1 Axes>"
      ]
     },
     "metadata": {},
     "output_type": "display_data"
    }
   ],
   "source": [
    "fig,ax = plt.subplots(figsize = (10,1))\n",
    "sns.boxplot(vol_df.BACK_PEAK_HOUR)\n",
    "\n",
    "fig,ax = plt.subplots(figsize = (10,1))\n",
    "sns.boxplot(vol_df.BACK_PEAK_MADT)\n",
    "\n",
    "fig,ax = plt.subplots(figsize = (10,1))\n",
    "sns.boxplot(vol_df.BACK_AADT)\n",
    "\n",
    "fig,ax = plt.subplots(figsize = (10,1))\n",
    "sns.boxplot(vol_df.AHEAD_PEAK_HOUR)\n",
    "\n",
    "fig,ax = plt.subplots(figsize = (10,1))\n",
    "sns.boxplot(vol_df.AHEAD_PEAK_MADT)\n",
    "\n",
    "fig,ax = plt.subplots(figsize = (10,1))\n",
    "sns.boxplot(vol_df.AHEAD_AADT)"
   ]
  },
  {
   "cell_type": "markdown",
   "id": "8a4fdcd6-4e3b-4b6c-93bf-a4e5337e784d",
   "metadata": {},
   "source": [
    "#### Route_77 Table"
   ]
  },
  {
   "cell_type": "code",
   "execution_count": 39,
   "id": "6e4ac56d-bd46-4824-90ee-c25781904342",
   "metadata": {},
   "outputs": [
    {
     "name": "stdout",
     "output_type": "stream",
     "text": [
      "<class 'pandas.core.frame.DataFrame'>\n",
      "RangeIndex: 10080 entries, 0 to 10079\n",
      "Data columns (total 10 columns):\n",
      " #   Column              Non-Null Count  Dtype  \n",
      "---  ------              --------------  -----  \n",
      " 0   Date                10080 non-null  object \n",
      " 1   Day                 10080 non-null  object \n",
      " 2   Lane                10080 non-null  object \n",
      " 3   Date_Time           10080 non-null  object \n",
      " 4   Time                10080 non-null  object \n",
      " 5   Minimum             10080 non-null  float64\n",
      " 6   Mean                10080 non-null  float64\n",
      " 7   Maximum             10080 non-null  float64\n",
      " 8   Lane_Pts_num        10080 non-null  int64  \n",
      " 9   Oberserved_percent  10080 non-null  float64\n",
      "dtypes: float64(4), int64(1), object(5)\n",
      "memory usage: 787.6+ KB\n"
     ]
    },
    {
     "data": {
      "text/html": [
       "<div>\n",
       "<style scoped>\n",
       "    .dataframe tbody tr th:only-of-type {\n",
       "        vertical-align: middle;\n",
       "    }\n",
       "\n",
       "    .dataframe tbody tr th {\n",
       "        vertical-align: top;\n",
       "    }\n",
       "\n",
       "    .dataframe thead th {\n",
       "        text-align: right;\n",
       "    }\n",
       "</style>\n",
       "<table border=\"1\" class=\"dataframe\">\n",
       "  <thead>\n",
       "    <tr style=\"text-align: right;\">\n",
       "      <th></th>\n",
       "      <th>Date</th>\n",
       "      <th>Day</th>\n",
       "      <th>Lane</th>\n",
       "      <th>Date_Time</th>\n",
       "      <th>Time</th>\n",
       "      <th>Minimum</th>\n",
       "      <th>Mean</th>\n",
       "      <th>Maximum</th>\n",
       "      <th>Lane_Pts_num</th>\n",
       "      <th>Oberserved_percent</th>\n",
       "    </tr>\n",
       "  </thead>\n",
       "  <tbody>\n",
       "    <tr>\n",
       "      <th>0</th>\n",
       "      <td>3/5/23</td>\n",
       "      <td>Sunday</td>\n",
       "      <td>Lane1</td>\n",
       "      <td>3/5/23 0:00</td>\n",
       "      <td>0:00:00</td>\n",
       "      <td>30.37</td>\n",
       "      <td>30.37</td>\n",
       "      <td>30.37</td>\n",
       "      <td>318</td>\n",
       "      <td>38.7</td>\n",
       "    </tr>\n",
       "    <tr>\n",
       "      <th>1</th>\n",
       "      <td>3/5/23</td>\n",
       "      <td>Sunday</td>\n",
       "      <td>Lane1</td>\n",
       "      <td>3/5/23 0:05</td>\n",
       "      <td>0:05:00</td>\n",
       "      <td>30.40</td>\n",
       "      <td>30.40</td>\n",
       "      <td>30.40</td>\n",
       "      <td>318</td>\n",
       "      <td>39.3</td>\n",
       "    </tr>\n",
       "    <tr>\n",
       "      <th>2</th>\n",
       "      <td>3/5/23</td>\n",
       "      <td>Sunday</td>\n",
       "      <td>Lane1</td>\n",
       "      <td>3/5/23 0:10</td>\n",
       "      <td>0:10:00</td>\n",
       "      <td>30.45</td>\n",
       "      <td>30.45</td>\n",
       "      <td>30.45</td>\n",
       "      <td>317</td>\n",
       "      <td>39.1</td>\n",
       "    </tr>\n",
       "    <tr>\n",
       "      <th>3</th>\n",
       "      <td>3/5/23</td>\n",
       "      <td>Sunday</td>\n",
       "      <td>Lane1</td>\n",
       "      <td>3/5/23 0:15</td>\n",
       "      <td>0:15:00</td>\n",
       "      <td>30.52</td>\n",
       "      <td>30.52</td>\n",
       "      <td>30.52</td>\n",
       "      <td>317</td>\n",
       "      <td>38.8</td>\n",
       "    </tr>\n",
       "    <tr>\n",
       "      <th>4</th>\n",
       "      <td>3/5/23</td>\n",
       "      <td>Sunday</td>\n",
       "      <td>Lane1</td>\n",
       "      <td>3/5/23 0:20</td>\n",
       "      <td>0:20:00</td>\n",
       "      <td>30.40</td>\n",
       "      <td>30.40</td>\n",
       "      <td>30.40</td>\n",
       "      <td>318</td>\n",
       "      <td>39.3</td>\n",
       "    </tr>\n",
       "  </tbody>\n",
       "</table>\n",
       "</div>"
      ],
      "text/plain": [
       "     Date     Day   Lane    Date_Time     Time  Minimum   Mean  Maximum  \\\n",
       "0  3/5/23  Sunday  Lane1  3/5/23 0:00  0:00:00    30.37  30.37    30.37   \n",
       "1  3/5/23  Sunday  Lane1  3/5/23 0:05  0:05:00    30.40  30.40    30.40   \n",
       "2  3/5/23  Sunday  Lane1  3/5/23 0:10  0:10:00    30.45  30.45    30.45   \n",
       "3  3/5/23  Sunday  Lane1  3/5/23 0:15  0:15:00    30.52  30.52    30.52   \n",
       "4  3/5/23  Sunday  Lane1  3/5/23 0:20  0:20:00    30.40  30.40    30.40   \n",
       "\n",
       "   Lane_Pts_num  Oberserved_percent  \n",
       "0           318                38.7  \n",
       "1           318                39.3  \n",
       "2           317                39.1  \n",
       "3           317                38.8  \n",
       "4           318                39.3  "
      ]
     },
     "execution_count": 39,
     "metadata": {},
     "output_type": "execute_result"
    }
   ],
   "source": [
    "route77_df = pd.read_csv(s3_path_Route77)\n",
    "route77_df = pd.DataFrame(route77_df)\n",
    "route77_df.info()\n",
    "route77_df.head(5)"
   ]
  },
  {
   "cell_type": "code",
   "execution_count": 40,
   "id": "42b0b58f-28d5-4505-b5ad-e4458b16319f",
   "metadata": {
    "tags": []
   },
   "outputs": [
    {
     "data": {
      "text/html": [
       "<div>\n",
       "<style scoped>\n",
       "    .dataframe tbody tr th:only-of-type {\n",
       "        vertical-align: middle;\n",
       "    }\n",
       "\n",
       "    .dataframe tbody tr th {\n",
       "        vertical-align: top;\n",
       "    }\n",
       "\n",
       "    .dataframe thead th {\n",
       "        text-align: right;\n",
       "    }\n",
       "</style>\n",
       "<table border=\"1\" class=\"dataframe\">\n",
       "  <thead>\n",
       "    <tr style=\"text-align: right;\">\n",
       "      <th></th>\n",
       "      <th>Date</th>\n",
       "      <th>Day</th>\n",
       "      <th>Lane</th>\n",
       "      <th>Date_Time</th>\n",
       "      <th>Time</th>\n",
       "      <th>Minimum</th>\n",
       "      <th>Mean</th>\n",
       "      <th>Maximum</th>\n",
       "      <th>Lane_Pts_num</th>\n",
       "      <th>Oberserved_percent</th>\n",
       "      <th>dt</th>\n",
       "      <th>time_s</th>\n",
       "    </tr>\n",
       "  </thead>\n",
       "  <tbody>\n",
       "    <tr>\n",
       "      <th>0</th>\n",
       "      <td>3/5/23</td>\n",
       "      <td>Sunday</td>\n",
       "      <td>Lane1</td>\n",
       "      <td>2023-03-05 00:00:00</td>\n",
       "      <td>0:00:00</td>\n",
       "      <td>30.37</td>\n",
       "      <td>30.37</td>\n",
       "      <td>30.37</td>\n",
       "      <td>318</td>\n",
       "      <td>38.7</td>\n",
       "      <td>2023-03-05</td>\n",
       "      <td>00:00:00</td>\n",
       "    </tr>\n",
       "    <tr>\n",
       "      <th>1</th>\n",
       "      <td>3/5/23</td>\n",
       "      <td>Sunday</td>\n",
       "      <td>Lane1</td>\n",
       "      <td>2023-03-05 00:05:00</td>\n",
       "      <td>0:05:00</td>\n",
       "      <td>30.40</td>\n",
       "      <td>30.40</td>\n",
       "      <td>30.40</td>\n",
       "      <td>318</td>\n",
       "      <td>39.3</td>\n",
       "      <td>2023-03-05</td>\n",
       "      <td>00:05:00</td>\n",
       "    </tr>\n",
       "    <tr>\n",
       "      <th>2</th>\n",
       "      <td>3/5/23</td>\n",
       "      <td>Sunday</td>\n",
       "      <td>Lane1</td>\n",
       "      <td>2023-03-05 00:10:00</td>\n",
       "      <td>0:10:00</td>\n",
       "      <td>30.45</td>\n",
       "      <td>30.45</td>\n",
       "      <td>30.45</td>\n",
       "      <td>317</td>\n",
       "      <td>39.1</td>\n",
       "      <td>2023-03-05</td>\n",
       "      <td>00:10:00</td>\n",
       "    </tr>\n",
       "    <tr>\n",
       "      <th>3</th>\n",
       "      <td>3/5/23</td>\n",
       "      <td>Sunday</td>\n",
       "      <td>Lane1</td>\n",
       "      <td>2023-03-05 00:15:00</td>\n",
       "      <td>0:15:00</td>\n",
       "      <td>30.52</td>\n",
       "      <td>30.52</td>\n",
       "      <td>30.52</td>\n",
       "      <td>317</td>\n",
       "      <td>38.8</td>\n",
       "      <td>2023-03-05</td>\n",
       "      <td>00:15:00</td>\n",
       "    </tr>\n",
       "    <tr>\n",
       "      <th>4</th>\n",
       "      <td>3/5/23</td>\n",
       "      <td>Sunday</td>\n",
       "      <td>Lane1</td>\n",
       "      <td>2023-03-05 00:20:00</td>\n",
       "      <td>0:20:00</td>\n",
       "      <td>30.40</td>\n",
       "      <td>30.40</td>\n",
       "      <td>30.40</td>\n",
       "      <td>318</td>\n",
       "      <td>39.3</td>\n",
       "      <td>2023-03-05</td>\n",
       "      <td>00:20:00</td>\n",
       "    </tr>\n",
       "    <tr>\n",
       "      <th>...</th>\n",
       "      <td>...</td>\n",
       "      <td>...</td>\n",
       "      <td>...</td>\n",
       "      <td>...</td>\n",
       "      <td>...</td>\n",
       "      <td>...</td>\n",
       "      <td>...</td>\n",
       "      <td>...</td>\n",
       "      <td>...</td>\n",
       "      <td>...</td>\n",
       "      <td>...</td>\n",
       "      <td>...</td>\n",
       "    </tr>\n",
       "    <tr>\n",
       "      <th>10075</th>\n",
       "      <td>3/11/23</td>\n",
       "      <td>Saturday</td>\n",
       "      <td>HOV</td>\n",
       "      <td>2023-03-11 23:35:00</td>\n",
       "      <td>23:35:00</td>\n",
       "      <td>31.30</td>\n",
       "      <td>31.30</td>\n",
       "      <td>31.30</td>\n",
       "      <td>316</td>\n",
       "      <td>5.1</td>\n",
       "      <td>2023-03-11</td>\n",
       "      <td>23:35:00</td>\n",
       "    </tr>\n",
       "    <tr>\n",
       "      <th>10076</th>\n",
       "      <td>3/11/23</td>\n",
       "      <td>Saturday</td>\n",
       "      <td>HOV</td>\n",
       "      <td>2023-03-11 23:40:00</td>\n",
       "      <td>23:40:00</td>\n",
       "      <td>31.25</td>\n",
       "      <td>31.25</td>\n",
       "      <td>31.25</td>\n",
       "      <td>317</td>\n",
       "      <td>5.0</td>\n",
       "      <td>2023-03-11</td>\n",
       "      <td>23:40:00</td>\n",
       "    </tr>\n",
       "    <tr>\n",
       "      <th>10077</th>\n",
       "      <td>3/11/23</td>\n",
       "      <td>Saturday</td>\n",
       "      <td>HOV</td>\n",
       "      <td>2023-03-11 23:45:00</td>\n",
       "      <td>23:45:00</td>\n",
       "      <td>31.23</td>\n",
       "      <td>31.23</td>\n",
       "      <td>31.23</td>\n",
       "      <td>316</td>\n",
       "      <td>5.1</td>\n",
       "      <td>2023-03-11</td>\n",
       "      <td>23:45:00</td>\n",
       "    </tr>\n",
       "    <tr>\n",
       "      <th>10078</th>\n",
       "      <td>3/11/23</td>\n",
       "      <td>Saturday</td>\n",
       "      <td>HOV</td>\n",
       "      <td>2023-03-11 23:50:00</td>\n",
       "      <td>23:50:00</td>\n",
       "      <td>31.27</td>\n",
       "      <td>31.27</td>\n",
       "      <td>31.27</td>\n",
       "      <td>317</td>\n",
       "      <td>5.0</td>\n",
       "      <td>2023-03-11</td>\n",
       "      <td>23:50:00</td>\n",
       "    </tr>\n",
       "    <tr>\n",
       "      <th>10079</th>\n",
       "      <td>3/11/23</td>\n",
       "      <td>Saturday</td>\n",
       "      <td>HOV</td>\n",
       "      <td>2023-03-11 23:55:00</td>\n",
       "      <td>23:55:00</td>\n",
       "      <td>31.32</td>\n",
       "      <td>31.32</td>\n",
       "      <td>31.32</td>\n",
       "      <td>317</td>\n",
       "      <td>5.0</td>\n",
       "      <td>2023-03-11</td>\n",
       "      <td>23:55:00</td>\n",
       "    </tr>\n",
       "  </tbody>\n",
       "</table>\n",
       "<p>10080 rows × 12 columns</p>\n",
       "</div>"
      ],
      "text/plain": [
       "          Date       Day   Lane           Date_Time      Time  Minimum   Mean  \\\n",
       "0       3/5/23    Sunday  Lane1 2023-03-05 00:00:00   0:00:00    30.37  30.37   \n",
       "1       3/5/23    Sunday  Lane1 2023-03-05 00:05:00   0:05:00    30.40  30.40   \n",
       "2       3/5/23    Sunday  Lane1 2023-03-05 00:10:00   0:10:00    30.45  30.45   \n",
       "3       3/5/23    Sunday  Lane1 2023-03-05 00:15:00   0:15:00    30.52  30.52   \n",
       "4       3/5/23    Sunday  Lane1 2023-03-05 00:20:00   0:20:00    30.40  30.40   \n",
       "...        ...       ...    ...                 ...       ...      ...    ...   \n",
       "10075  3/11/23  Saturday    HOV 2023-03-11 23:35:00  23:35:00    31.30  31.30   \n",
       "10076  3/11/23  Saturday    HOV 2023-03-11 23:40:00  23:40:00    31.25  31.25   \n",
       "10077  3/11/23  Saturday    HOV 2023-03-11 23:45:00  23:45:00    31.23  31.23   \n",
       "10078  3/11/23  Saturday    HOV 2023-03-11 23:50:00  23:50:00    31.27  31.27   \n",
       "10079  3/11/23  Saturday    HOV 2023-03-11 23:55:00  23:55:00    31.32  31.32   \n",
       "\n",
       "       Maximum  Lane_Pts_num  Oberserved_percent          dt    time_s  \n",
       "0        30.37           318                38.7  2023-03-05  00:00:00  \n",
       "1        30.40           318                39.3  2023-03-05  00:05:00  \n",
       "2        30.45           317                39.1  2023-03-05  00:10:00  \n",
       "3        30.52           317                38.8  2023-03-05  00:15:00  \n",
       "4        30.40           318                39.3  2023-03-05  00:20:00  \n",
       "...        ...           ...                 ...         ...       ...  \n",
       "10075    31.30           316                 5.1  2023-03-11  23:35:00  \n",
       "10076    31.25           317                 5.0  2023-03-11  23:40:00  \n",
       "10077    31.23           316                 5.1  2023-03-11  23:45:00  \n",
       "10078    31.27           317                 5.0  2023-03-11  23:50:00  \n",
       "10079    31.32           317                 5.0  2023-03-11  23:55:00  \n",
       "\n",
       "[10080 rows x 12 columns]"
      ]
     },
     "execution_count": 40,
     "metadata": {},
     "output_type": "execute_result"
    }
   ],
   "source": [
    "# Add the needed columns for better visualization, and transform the data type.\n",
    "route77_df['Date_Time'] = pd.to_datetime(route77_df['Date_Time'])\n",
    "route77_df['dt'] = pd.to_datetime(route77_df['Date_Time'])\n",
    "route77_df['dt'] = route77_df['dt'].dt.date\n",
    "route77_df['time_s']  = route77_df['Date_Time'].dt.time\n",
    "route77_df"
   ]
  },
  {
   "cell_type": "code",
   "execution_count": 41,
   "id": "e9a8f973-f132-45ef-8b3e-8044373b9d49",
   "metadata": {
    "tags": []
   },
   "outputs": [
    {
     "name": "stdout",
     "output_type": "stream",
     "text": [
      "<class 'pandas.core.frame.DataFrame'>\n",
      "RangeIndex: 10080 entries, 0 to 10079\n",
      "Data columns (total 12 columns):\n",
      " #   Column              Non-Null Count  Dtype         \n",
      "---  ------              --------------  -----         \n",
      " 0   Date                10080 non-null  object        \n",
      " 1   Day                 10080 non-null  object        \n",
      " 2   Lane                10080 non-null  object        \n",
      " 3   Date_Time           10080 non-null  datetime64[ns]\n",
      " 4   Time                10080 non-null  object        \n",
      " 5   Minimum             10080 non-null  float64       \n",
      " 6   Mean                10080 non-null  float64       \n",
      " 7   Maximum             10080 non-null  float64       \n",
      " 8   Lane_Pts_num        10080 non-null  int64         \n",
      " 9   Oberserved_percent  10080 non-null  float64       \n",
      " 10  dt                  10080 non-null  object        \n",
      " 11  time_s              10080 non-null  object        \n",
      "dtypes: datetime64[ns](1), float64(4), int64(1), object(6)\n",
      "memory usage: 945.1+ KB\n"
     ]
    }
   ],
   "source": [
    "route77_df.info()"
   ]
  },
  {
   "cell_type": "code",
   "execution_count": 42,
   "id": "6e431851-508a-4959-bb63-62ac14f10a04",
   "metadata": {
    "tags": []
   },
   "outputs": [
    {
     "data": {
      "image/png": "[encoded data removed]",
      "text/plain": [
       "<Figure size 1031.25x600 with 1 Axes>"
      ]
     },
     "metadata": {},
     "output_type": "display_data"
    }
   ],
   "source": [
    "import matplotlib.ticker as ticker \n",
    "\n",
    "sns.set_style(\"whitegrid\")\n",
    "g = sns.catplot(x=\"time_s\", y=\"Mean\", hue=\"Day\", data=route77_df, kind=\"point\", height=6, aspect=1.5)\n",
    "\n",
    "g.set_xlabels(\"Time of Day\")\n",
    "g.set_ylabels(\"Average Speed\")\n",
    "plt.xticks(rotation=45)\n",
    "g.fig.suptitle(\"Average Speed by Time of Day for Each Day of the Week\")\n",
    "\n",
    "ax = g.facet_axis(0,0)   \n",
    "every_nth = 12\n",
    "for i, label in enumerate(ax.get_xticklabels()):\n",
    "    if i % every_nth != 0:\n",
    "        label.set_visible(False)    \n",
    "    \n",
    "plt.show()"
   ]
  },
  {
   "cell_type": "markdown",
   "id": "87d68ac5-a8b4-42fc-82cf-2c323ee9946a",
   "metadata": {},
   "source": [
    "# Section 3: Preparation:"
   ]
  },
  {
   "cell_type": "markdown",
   "id": "3d07ca95-47f6-4d94-9ccd-d29b89a78a77",
   "metadata": {},
   "source": [
    "#### Correlation Matrix:"
   ]
  },
  {
   "cell_type": "code",
   "execution_count": 43,
   "id": "7bf46515-3a4f-4b5d-a59e-7ae6cce133d2",
   "metadata": {
    "tags": []
   },
   "outputs": [
    {
     "data": {
      "image/png": "[encoded data removed]",
      "text/plain": [
       "<Figure size 500x500 with 2 Axes>"
      ]
     },
     "metadata": {},
     "output_type": "display_data"
    }
   ],
   "source": [
    "# assign correlation function to new variable\n",
    "corr = route77_df.corr()\n",
    "matrix = np.triu(corr) # for triangular matrix\n",
    "plt.figure(figsize=(5,5))\n",
    "# parse corr variable intro triangular matrix\n",
    "sns.heatmap(route77_df.corr(method='pearson'), \n",
    "            annot=True, linewidths=.5, \n",
    "            cmap=\"coolwarm\", mask=matrix,\n",
    "            square = True, \n",
    "            cbar_kws={'label': 'Correlation Index'}, \n",
    "            vmin=-1, vmax=1)\n",
    "plt.show()"
   ]
  },
  {
   "cell_type": "markdown",
   "id": "4b64a7f3-c656-485d-99c2-86072ea4f43e",
   "metadata": {},
   "source": [
    "##### The min and max values are highly correlated with the mean value; we will remove these two columns for our future analysis.\n",
    "##### The last two columns are not for the speed-overserved rate, which is unrelated as well; we will remove these two as well."
   ]
  },
  {
   "cell_type": "code",
   "execution_count": 44,
   "id": "113bccff-15f9-45af-9cc0-683ca7c4fde1",
   "metadata": {
    "tags": []
   },
   "outputs": [
    {
     "data": {
      "text/html": [
       "<div>\n",
       "<style scoped>\n",
       "    .dataframe tbody tr th:only-of-type {\n",
       "        vertical-align: middle;\n",
       "    }\n",
       "\n",
       "    .dataframe tbody tr th {\n",
       "        vertical-align: top;\n",
       "    }\n",
       "\n",
       "    .dataframe thead th {\n",
       "        text-align: right;\n",
       "    }\n",
       "</style>\n",
       "<table border=\"1\" class=\"dataframe\">\n",
       "  <thead>\n",
       "    <tr style=\"text-align: right;\">\n",
       "      <th></th>\n",
       "      <th>dt</th>\n",
       "      <th>Day</th>\n",
       "      <th>Lane</th>\n",
       "      <th>Mean</th>\n",
       "      <th>time_s</th>\n",
       "    </tr>\n",
       "  </thead>\n",
       "  <tbody>\n",
       "    <tr>\n",
       "      <th>0</th>\n",
       "      <td>2023-03-05</td>\n",
       "      <td>Sunday</td>\n",
       "      <td>Lane1</td>\n",
       "      <td>30.37</td>\n",
       "      <td>00:00:00</td>\n",
       "    </tr>\n",
       "    <tr>\n",
       "      <th>1</th>\n",
       "      <td>2023-03-05</td>\n",
       "      <td>Sunday</td>\n",
       "      <td>Lane1</td>\n",
       "      <td>30.40</td>\n",
       "      <td>00:05:00</td>\n",
       "    </tr>\n",
       "    <tr>\n",
       "      <th>2</th>\n",
       "      <td>2023-03-05</td>\n",
       "      <td>Sunday</td>\n",
       "      <td>Lane1</td>\n",
       "      <td>30.45</td>\n",
       "      <td>00:10:00</td>\n",
       "    </tr>\n",
       "    <tr>\n",
       "      <th>3</th>\n",
       "      <td>2023-03-05</td>\n",
       "      <td>Sunday</td>\n",
       "      <td>Lane1</td>\n",
       "      <td>30.52</td>\n",
       "      <td>00:15:00</td>\n",
       "    </tr>\n",
       "    <tr>\n",
       "      <th>4</th>\n",
       "      <td>2023-03-05</td>\n",
       "      <td>Sunday</td>\n",
       "      <td>Lane1</td>\n",
       "      <td>30.40</td>\n",
       "      <td>00:20:00</td>\n",
       "    </tr>\n",
       "  </tbody>\n",
       "</table>\n",
       "</div>"
      ],
      "text/plain": [
       "           dt     Day   Lane   Mean    time_s\n",
       "0  2023-03-05  Sunday  Lane1  30.37  00:00:00\n",
       "1  2023-03-05  Sunday  Lane1  30.40  00:05:00\n",
       "2  2023-03-05  Sunday  Lane1  30.45  00:10:00\n",
       "3  2023-03-05  Sunday  Lane1  30.52  00:15:00\n",
       "4  2023-03-05  Sunday  Lane1  30.40  00:20:00"
      ]
     },
     "execution_count": 44,
     "metadata": {},
     "output_type": "execute_result"
    }
   ],
   "source": [
    "# create a new table to store the needed data\n",
    "route = pd.DataFrame([route77_df.dt, route77_df.Day,route77_df.Lane,route77_df.Mean,route77_df.time_s]).transpose()\n",
    "route.head(5)"
   ]
  },
  {
   "cell_type": "markdown",
   "id": "d0167b97-dd12-4044-8ad6-0cedfdd571d9",
   "metadata": {},
   "source": [
    "#### Feature Engineering"
   ]
  },
  {
   "cell_type": "code",
   "execution_count": 45,
   "id": "965bef23-6b8c-4e61-b9f8-a36b05a70deb",
   "metadata": {
    "tags": []
   },
   "outputs": [
    {
     "name": "stdout",
     "output_type": "stream",
     "text": [
      "<class 'pandas.core.frame.DataFrame'>\n",
      "RangeIndex: 10080 entries, 0 to 10079\n",
      "Data columns (total 5 columns):\n",
      " #   Column  Non-Null Count  Dtype         \n",
      "---  ------  --------------  -----         \n",
      " 0   dt      10080 non-null  datetime64[ns]\n",
      " 1   Day     10080 non-null  object        \n",
      " 2   Lane    10080 non-null  object        \n",
      " 3   Mean    10080 non-null  object        \n",
      " 4   time_s  10080 non-null  object        \n",
      "dtypes: datetime64[ns](1), object(4)\n",
      "memory usage: 393.9+ KB\n"
     ]
    }
   ],
   "source": [
    "route['dt'] = pd.to_datetime(route['dt'])\n",
    "# route['time_s'] = pd.to_datetime(route['time_s'])\n",
    "route.info()"
   ]
  },
  {
   "cell_type": "code",
   "execution_count": 46,
   "id": "3443ffc9-63d5-49f2-91a1-60312680c7b0",
   "metadata": {
    "tags": []
   },
   "outputs": [
    {
     "data": {
      "image/png": "[encoded data removed]",
      "text/plain": [
       "<Figure size 1000x500 with 1 Axes>"
      ]
     },
     "metadata": {},
     "output_type": "display_data"
    }
   ],
   "source": [
    "plt.figure(figsize=(10,5))\n",
    "sns.countplot(data=route, x=\"Day\", hue=\"Lane\")\n",
    "plt.show()"
   ]
  },
  {
   "cell_type": "markdown",
   "id": "d4a4ef51-db09-425f-b22d-43c75a63ec09",
   "metadata": {
    "tags": []
   },
   "source": [
    "#### There is no need to balance the data at this point"
   ]
  },
  {
   "cell_type": "markdown",
   "id": "d6c49c80-e14f-4839-953e-ec535441f7b9",
   "metadata": {},
   "source": [
    "#### Let's split the HOV data and non-HOV data"
   ]
  },
  {
   "cell_type": "code",
   "execution_count": 47,
   "id": "639675b5-20bd-454b-9726-e24663776939",
   "metadata": {
    "tags": []
   },
   "outputs": [
    {
     "data": {
      "text/html": [
       "<div>\n",
       "<style scoped>\n",
       "    .dataframe tbody tr th:only-of-type {\n",
       "        vertical-align: middle;\n",
       "    }\n",
       "\n",
       "    .dataframe tbody tr th {\n",
       "        vertical-align: top;\n",
       "    }\n",
       "\n",
       "    .dataframe thead th {\n",
       "        text-align: right;\n",
       "    }\n",
       "</style>\n",
       "<table border=\"1\" class=\"dataframe\">\n",
       "  <thead>\n",
       "    <tr style=\"text-align: right;\">\n",
       "      <th></th>\n",
       "      <th>dt</th>\n",
       "      <th>Day</th>\n",
       "      <th>Lane</th>\n",
       "      <th>Mean</th>\n",
       "      <th>time_s</th>\n",
       "    </tr>\n",
       "  </thead>\n",
       "  <tbody>\n",
       "    <tr>\n",
       "      <th>1152</th>\n",
       "      <td>2023-03-05</td>\n",
       "      <td>Sunday</td>\n",
       "      <td>HOV</td>\n",
       "      <td>31.95</td>\n",
       "      <td>00:00:00</td>\n",
       "    </tr>\n",
       "    <tr>\n",
       "      <th>1153</th>\n",
       "      <td>2023-03-05</td>\n",
       "      <td>Sunday</td>\n",
       "      <td>HOV</td>\n",
       "      <td>31.97</td>\n",
       "      <td>00:05:00</td>\n",
       "    </tr>\n",
       "    <tr>\n",
       "      <th>1154</th>\n",
       "      <td>2023-03-05</td>\n",
       "      <td>Sunday</td>\n",
       "      <td>HOV</td>\n",
       "      <td>32.00</td>\n",
       "      <td>00:10:00</td>\n",
       "    </tr>\n",
       "    <tr>\n",
       "      <th>1155</th>\n",
       "      <td>2023-03-05</td>\n",
       "      <td>Sunday</td>\n",
       "      <td>HOV</td>\n",
       "      <td>32.03</td>\n",
       "      <td>00:15:00</td>\n",
       "    </tr>\n",
       "    <tr>\n",
       "      <th>1156</th>\n",
       "      <td>2023-03-05</td>\n",
       "      <td>Sunday</td>\n",
       "      <td>HOV</td>\n",
       "      <td>31.93</td>\n",
       "      <td>00:20:00</td>\n",
       "    </tr>\n",
       "    <tr>\n",
       "      <th>...</th>\n",
       "      <td>...</td>\n",
       "      <td>...</td>\n",
       "      <td>...</td>\n",
       "      <td>...</td>\n",
       "      <td>...</td>\n",
       "    </tr>\n",
       "    <tr>\n",
       "      <th>10075</th>\n",
       "      <td>2023-03-11</td>\n",
       "      <td>Saturday</td>\n",
       "      <td>HOV</td>\n",
       "      <td>31.30</td>\n",
       "      <td>23:35:00</td>\n",
       "    </tr>\n",
       "    <tr>\n",
       "      <th>10076</th>\n",
       "      <td>2023-03-11</td>\n",
       "      <td>Saturday</td>\n",
       "      <td>HOV</td>\n",
       "      <td>31.25</td>\n",
       "      <td>23:40:00</td>\n",
       "    </tr>\n",
       "    <tr>\n",
       "      <th>10077</th>\n",
       "      <td>2023-03-11</td>\n",
       "      <td>Saturday</td>\n",
       "      <td>HOV</td>\n",
       "      <td>31.23</td>\n",
       "      <td>23:45:00</td>\n",
       "    </tr>\n",
       "    <tr>\n",
       "      <th>10078</th>\n",
       "      <td>2023-03-11</td>\n",
       "      <td>Saturday</td>\n",
       "      <td>HOV</td>\n",
       "      <td>31.27</td>\n",
       "      <td>23:50:00</td>\n",
       "    </tr>\n",
       "    <tr>\n",
       "      <th>10079</th>\n",
       "      <td>2023-03-11</td>\n",
       "      <td>Saturday</td>\n",
       "      <td>HOV</td>\n",
       "      <td>31.32</td>\n",
       "      <td>23:55:00</td>\n",
       "    </tr>\n",
       "  </tbody>\n",
       "</table>\n",
       "<p>2016 rows × 5 columns</p>\n",
       "</div>"
      ],
      "text/plain": [
       "              dt       Day Lane   Mean    time_s\n",
       "1152  2023-03-05    Sunday  HOV  31.95  00:00:00\n",
       "1153  2023-03-05    Sunday  HOV  31.97  00:05:00\n",
       "1154  2023-03-05    Sunday  HOV  32.00  00:10:00\n",
       "1155  2023-03-05    Sunday  HOV  32.03  00:15:00\n",
       "1156  2023-03-05    Sunday  HOV  31.93  00:20:00\n",
       "...          ...       ...  ...    ...       ...\n",
       "10075 2023-03-11  Saturday  HOV  31.30  23:35:00\n",
       "10076 2023-03-11  Saturday  HOV  31.25  23:40:00\n",
       "10077 2023-03-11  Saturday  HOV  31.23  23:45:00\n",
       "10078 2023-03-11  Saturday  HOV  31.27  23:50:00\n",
       "10079 2023-03-11  Saturday  HOV  31.32  23:55:00\n",
       "\n",
       "[2016 rows x 5 columns]"
      ]
     },
     "execution_count": 47,
     "metadata": {},
     "output_type": "execute_result"
    }
   ],
   "source": [
    "hov_df = route[route['Lane'] == 'HOV']\n",
    "hov_df"
   ]
  },
  {
   "cell_type": "code",
   "execution_count": 48,
   "id": "9095786f-1fa0-4c99-8ab5-ac73ffd5f4bb",
   "metadata": {
    "tags": []
   },
   "outputs": [
    {
     "data": {
      "text/html": [
       "<div>\n",
       "<style scoped>\n",
       "    .dataframe tbody tr th:only-of-type {\n",
       "        vertical-align: middle;\n",
       "    }\n",
       "\n",
       "    .dataframe tbody tr th {\n",
       "        vertical-align: top;\n",
       "    }\n",
       "\n",
       "    .dataframe thead th {\n",
       "        text-align: right;\n",
       "    }\n",
       "</style>\n",
       "<table border=\"1\" class=\"dataframe\">\n",
       "  <thead>\n",
       "    <tr style=\"text-align: right;\">\n",
       "      <th></th>\n",
       "      <th>dt</th>\n",
       "      <th>Day</th>\n",
       "      <th>Lane</th>\n",
       "      <th>Mean</th>\n",
       "      <th>time_s</th>\n",
       "    </tr>\n",
       "  </thead>\n",
       "  <tbody>\n",
       "    <tr>\n",
       "      <th>0</th>\n",
       "      <td>2023-03-05</td>\n",
       "      <td>Sunday</td>\n",
       "      <td>Lane1</td>\n",
       "      <td>30.37</td>\n",
       "      <td>00:00:00</td>\n",
       "    </tr>\n",
       "    <tr>\n",
       "      <th>1</th>\n",
       "      <td>2023-03-05</td>\n",
       "      <td>Sunday</td>\n",
       "      <td>Lane1</td>\n",
       "      <td>30.40</td>\n",
       "      <td>00:05:00</td>\n",
       "    </tr>\n",
       "    <tr>\n",
       "      <th>2</th>\n",
       "      <td>2023-03-05</td>\n",
       "      <td>Sunday</td>\n",
       "      <td>Lane1</td>\n",
       "      <td>30.45</td>\n",
       "      <td>00:10:00</td>\n",
       "    </tr>\n",
       "    <tr>\n",
       "      <th>3</th>\n",
       "      <td>2023-03-05</td>\n",
       "      <td>Sunday</td>\n",
       "      <td>Lane1</td>\n",
       "      <td>30.52</td>\n",
       "      <td>00:15:00</td>\n",
       "    </tr>\n",
       "    <tr>\n",
       "      <th>4</th>\n",
       "      <td>2023-03-05</td>\n",
       "      <td>Sunday</td>\n",
       "      <td>Lane1</td>\n",
       "      <td>30.40</td>\n",
       "      <td>00:20:00</td>\n",
       "    </tr>\n",
       "    <tr>\n",
       "      <th>...</th>\n",
       "      <td>...</td>\n",
       "      <td>...</td>\n",
       "      <td>...</td>\n",
       "      <td>...</td>\n",
       "      <td>...</td>\n",
       "    </tr>\n",
       "    <tr>\n",
       "      <th>9787</th>\n",
       "      <td>2023-03-11</td>\n",
       "      <td>Saturday</td>\n",
       "      <td>Lane4</td>\n",
       "      <td>34.02</td>\n",
       "      <td>23:35:00</td>\n",
       "    </tr>\n",
       "    <tr>\n",
       "      <th>9788</th>\n",
       "      <td>2023-03-11</td>\n",
       "      <td>Saturday</td>\n",
       "      <td>Lane4</td>\n",
       "      <td>34.05</td>\n",
       "      <td>23:40:00</td>\n",
       "    </tr>\n",
       "    <tr>\n",
       "      <th>9789</th>\n",
       "      <td>2023-03-11</td>\n",
       "      <td>Saturday</td>\n",
       "      <td>Lane4</td>\n",
       "      <td>34.05</td>\n",
       "      <td>23:45:00</td>\n",
       "    </tr>\n",
       "    <tr>\n",
       "      <th>9790</th>\n",
       "      <td>2023-03-11</td>\n",
       "      <td>Saturday</td>\n",
       "      <td>Lane4</td>\n",
       "      <td>34.10</td>\n",
       "      <td>23:50:00</td>\n",
       "    </tr>\n",
       "    <tr>\n",
       "      <th>9791</th>\n",
       "      <td>2023-03-11</td>\n",
       "      <td>Saturday</td>\n",
       "      <td>Lane4</td>\n",
       "      <td>34.28</td>\n",
       "      <td>23:55:00</td>\n",
       "    </tr>\n",
       "  </tbody>\n",
       "</table>\n",
       "<p>8064 rows × 5 columns</p>\n",
       "</div>"
      ],
      "text/plain": [
       "             dt       Day   Lane   Mean    time_s\n",
       "0    2023-03-05    Sunday  Lane1  30.37  00:00:00\n",
       "1    2023-03-05    Sunday  Lane1  30.40  00:05:00\n",
       "2    2023-03-05    Sunday  Lane1  30.45  00:10:00\n",
       "3    2023-03-05    Sunday  Lane1  30.52  00:15:00\n",
       "4    2023-03-05    Sunday  Lane1  30.40  00:20:00\n",
       "...         ...       ...    ...    ...       ...\n",
       "9787 2023-03-11  Saturday  Lane4  34.02  23:35:00\n",
       "9788 2023-03-11  Saturday  Lane4  34.05  23:40:00\n",
       "9789 2023-03-11  Saturday  Lane4  34.05  23:45:00\n",
       "9790 2023-03-11  Saturday  Lane4  34.10  23:50:00\n",
       "9791 2023-03-11  Saturday  Lane4  34.28  23:55:00\n",
       "\n",
       "[8064 rows x 5 columns]"
      ]
     },
     "execution_count": 48,
     "metadata": {},
     "output_type": "execute_result"
    }
   ],
   "source": [
    "lan_df = route[route['Lane'] != 'HOV']\n",
    "lan_df"
   ]
  },
  {
   "cell_type": "markdown",
   "id": "c557c8f3-e26e-4a61-8d19-18f549d0916e",
   "metadata": {},
   "source": [
    "#### HOV data has only 2016 rows, and non-HOV data has 8064 rows. Let's merge them by the 'Day' and 'time_s'"
   ]
  },
  {
   "cell_type": "code",
   "execution_count": 49,
   "id": "6f070b1d-5bee-467f-b616-60cd7fdaf2c2",
   "metadata": {
    "tags": []
   },
   "outputs": [
    {
     "data": {
      "text/html": [
       "<div>\n",
       "<style scoped>\n",
       "    .dataframe tbody tr th:only-of-type {\n",
       "        vertical-align: middle;\n",
       "    }\n",
       "\n",
       "    .dataframe tbody tr th {\n",
       "        vertical-align: top;\n",
       "    }\n",
       "\n",
       "    .dataframe thead th {\n",
       "        text-align: right;\n",
       "    }\n",
       "</style>\n",
       "<table border=\"1\" class=\"dataframe\">\n",
       "  <thead>\n",
       "    <tr style=\"text-align: right;\">\n",
       "      <th></th>\n",
       "      <th>dt_x</th>\n",
       "      <th>Day</th>\n",
       "      <th>Lane_x</th>\n",
       "      <th>Mean_x</th>\n",
       "      <th>time_s</th>\n",
       "      <th>dt_y</th>\n",
       "      <th>Lane_y</th>\n",
       "      <th>Mean_y</th>\n",
       "    </tr>\n",
       "  </thead>\n",
       "  <tbody>\n",
       "    <tr>\n",
       "      <th>0</th>\n",
       "      <td>2023-03-05</td>\n",
       "      <td>Sunday</td>\n",
       "      <td>HOV</td>\n",
       "      <td>31.95</td>\n",
       "      <td>00:00:00</td>\n",
       "      <td>2023-03-05</td>\n",
       "      <td>Lane1</td>\n",
       "      <td>30.37</td>\n",
       "    </tr>\n",
       "    <tr>\n",
       "      <th>1</th>\n",
       "      <td>2023-03-05</td>\n",
       "      <td>Sunday</td>\n",
       "      <td>HOV</td>\n",
       "      <td>31.95</td>\n",
       "      <td>00:00:00</td>\n",
       "      <td>2023-03-05</td>\n",
       "      <td>Lane2</td>\n",
       "      <td>31.43</td>\n",
       "    </tr>\n",
       "    <tr>\n",
       "      <th>2</th>\n",
       "      <td>2023-03-05</td>\n",
       "      <td>Sunday</td>\n",
       "      <td>HOV</td>\n",
       "      <td>31.95</td>\n",
       "      <td>00:00:00</td>\n",
       "      <td>2023-03-05</td>\n",
       "      <td>Lane3</td>\n",
       "      <td>34.08</td>\n",
       "    </tr>\n",
       "    <tr>\n",
       "      <th>3</th>\n",
       "      <td>2023-03-05</td>\n",
       "      <td>Sunday</td>\n",
       "      <td>HOV</td>\n",
       "      <td>31.95</td>\n",
       "      <td>00:00:00</td>\n",
       "      <td>2023-03-05</td>\n",
       "      <td>Lane4</td>\n",
       "      <td>34.85</td>\n",
       "    </tr>\n",
       "    <tr>\n",
       "      <th>4</th>\n",
       "      <td>2023-03-05</td>\n",
       "      <td>Sunday</td>\n",
       "      <td>HOV</td>\n",
       "      <td>31.97</td>\n",
       "      <td>00:05:00</td>\n",
       "      <td>2023-03-05</td>\n",
       "      <td>Lane1</td>\n",
       "      <td>30.40</td>\n",
       "    </tr>\n",
       "    <tr>\n",
       "      <th>...</th>\n",
       "      <td>...</td>\n",
       "      <td>...</td>\n",
       "      <td>...</td>\n",
       "      <td>...</td>\n",
       "      <td>...</td>\n",
       "      <td>...</td>\n",
       "      <td>...</td>\n",
       "      <td>...</td>\n",
       "    </tr>\n",
       "    <tr>\n",
       "      <th>8059</th>\n",
       "      <td>2023-03-11</td>\n",
       "      <td>Saturday</td>\n",
       "      <td>HOV</td>\n",
       "      <td>31.27</td>\n",
       "      <td>23:50:00</td>\n",
       "      <td>2023-03-11</td>\n",
       "      <td>Lane4</td>\n",
       "      <td>34.10</td>\n",
       "    </tr>\n",
       "    <tr>\n",
       "      <th>8060</th>\n",
       "      <td>2023-03-11</td>\n",
       "      <td>Saturday</td>\n",
       "      <td>HOV</td>\n",
       "      <td>31.32</td>\n",
       "      <td>23:55:00</td>\n",
       "      <td>2023-03-11</td>\n",
       "      <td>Lane1</td>\n",
       "      <td>29.60</td>\n",
       "    </tr>\n",
       "    <tr>\n",
       "      <th>8061</th>\n",
       "      <td>2023-03-11</td>\n",
       "      <td>Saturday</td>\n",
       "      <td>HOV</td>\n",
       "      <td>31.32</td>\n",
       "      <td>23:55:00</td>\n",
       "      <td>2023-03-11</td>\n",
       "      <td>Lane2</td>\n",
       "      <td>30.95</td>\n",
       "    </tr>\n",
       "    <tr>\n",
       "      <th>8062</th>\n",
       "      <td>2023-03-11</td>\n",
       "      <td>Saturday</td>\n",
       "      <td>HOV</td>\n",
       "      <td>31.32</td>\n",
       "      <td>23:55:00</td>\n",
       "      <td>2023-03-11</td>\n",
       "      <td>Lane3</td>\n",
       "      <td>32.57</td>\n",
       "    </tr>\n",
       "    <tr>\n",
       "      <th>8063</th>\n",
       "      <td>2023-03-11</td>\n",
       "      <td>Saturday</td>\n",
       "      <td>HOV</td>\n",
       "      <td>31.32</td>\n",
       "      <td>23:55:00</td>\n",
       "      <td>2023-03-11</td>\n",
       "      <td>Lane4</td>\n",
       "      <td>34.28</td>\n",
       "    </tr>\n",
       "  </tbody>\n",
       "</table>\n",
       "<p>8064 rows × 8 columns</p>\n",
       "</div>"
      ],
      "text/plain": [
       "           dt_x       Day Lane_x Mean_x    time_s       dt_y Lane_y Mean_y\n",
       "0    2023-03-05    Sunday    HOV  31.95  00:00:00 2023-03-05  Lane1  30.37\n",
       "1    2023-03-05    Sunday    HOV  31.95  00:00:00 2023-03-05  Lane2  31.43\n",
       "2    2023-03-05    Sunday    HOV  31.95  00:00:00 2023-03-05  Lane3  34.08\n",
       "3    2023-03-05    Sunday    HOV  31.95  00:00:00 2023-03-05  Lane4  34.85\n",
       "4    2023-03-05    Sunday    HOV  31.97  00:05:00 2023-03-05  Lane1  30.40\n",
       "...         ...       ...    ...    ...       ...        ...    ...    ...\n",
       "8059 2023-03-11  Saturday    HOV  31.27  23:50:00 2023-03-11  Lane4  34.10\n",
       "8060 2023-03-11  Saturday    HOV  31.32  23:55:00 2023-03-11  Lane1  29.60\n",
       "8061 2023-03-11  Saturday    HOV  31.32  23:55:00 2023-03-11  Lane2  30.95\n",
       "8062 2023-03-11  Saturday    HOV  31.32  23:55:00 2023-03-11  Lane3  32.57\n",
       "8063 2023-03-11  Saturday    HOV  31.32  23:55:00 2023-03-11  Lane4  34.28\n",
       "\n",
       "[8064 rows x 8 columns]"
      ]
     },
     "execution_count": 49,
     "metadata": {},
     "output_type": "execute_result"
    }
   ],
   "source": [
    "merged_df = pd.merge(hov_df, lan_df, on=[ 'Day','time_s'])\n",
    "merged_df"
   ]
  },
  {
   "cell_type": "markdown",
   "id": "726602ec-9a55-47d5-bb2c-a9c1e61d430f",
   "metadata": {},
   "source": [
    "#### One-Hotot encoding\n",
    "#### Create dummy variable"
   ]
  },
  {
   "cell_type": "code",
   "execution_count": 50,
   "id": "f64dcf7a-b06f-46e3-afd6-de8509556854",
   "metadata": {
    "tags": []
   },
   "outputs": [
    {
     "name": "stdout",
     "output_type": "stream",
     "text": [
      "     Mean_x Mean_y  Lane_y_Lane1  Lane_y_Lane2  Lane_y_Lane3  Lane_y_Lane4  \\\n",
      "0     31.95  30.37             1             0             0             0   \n",
      "1     31.95  31.43             0             1             0             0   \n",
      "2     31.95  34.08             0             0             1             0   \n",
      "3     31.95  34.85             0             0             0             1   \n",
      "4     31.97  30.40             1             0             0             0   \n",
      "...     ...    ...           ...           ...           ...           ...   \n",
      "8059  31.27  34.10             0             0             0             1   \n",
      "8060  31.32  29.60             1             0             0             0   \n",
      "8061  31.32  30.95             0             1             0             0   \n",
      "8062  31.32  32.57             0             0             1             0   \n",
      "8063  31.32  34.28             0             0             0             1   \n",
      "\n",
      "      Day_Friday  Day_Monday  Day_Saturday  Day_Sunday  ...  time_s_23:10:00  \\\n",
      "0              0           0             0           1  ...                0   \n",
      "1              0           0             0           1  ...                0   \n",
      "2              0           0             0           1  ...                0   \n",
      "3              0           0             0           1  ...                0   \n",
      "4              0           0             0           1  ...                0   \n",
      "...          ...         ...           ...         ...  ...              ...   \n",
      "8059           0           0             1           0  ...                0   \n",
      "8060           0           0             1           0  ...                0   \n",
      "8061           0           0             1           0  ...                0   \n",
      "8062           0           0             1           0  ...                0   \n",
      "8063           0           0             1           0  ...                0   \n",
      "\n",
      "      time_s_23:15:00  time_s_23:20:00  time_s_23:25:00  time_s_23:30:00  \\\n",
      "0                   0                0                0                0   \n",
      "1                   0                0                0                0   \n",
      "2                   0                0                0                0   \n",
      "3                   0                0                0                0   \n",
      "4                   0                0                0                0   \n",
      "...               ...              ...              ...              ...   \n",
      "8059                0                0                0                0   \n",
      "8060                0                0                0                0   \n",
      "8061                0                0                0                0   \n",
      "8062                0                0                0                0   \n",
      "8063                0                0                0                0   \n",
      "\n",
      "      time_s_23:35:00  time_s_23:40:00  time_s_23:45:00  time_s_23:50:00  \\\n",
      "0                   0                0                0                0   \n",
      "1                   0                0                0                0   \n",
      "2                   0                0                0                0   \n",
      "3                   0                0                0                0   \n",
      "4                   0                0                0                0   \n",
      "...               ...              ...              ...              ...   \n",
      "8059                0                0                0                1   \n",
      "8060                0                0                0                0   \n",
      "8061                0                0                0                0   \n",
      "8062                0                0                0                0   \n",
      "8063                0                0                0                0   \n",
      "\n",
      "      time_s_23:55:00  \n",
      "0                   0  \n",
      "1                   0  \n",
      "2                   0  \n",
      "3                   0  \n",
      "4                   0  \n",
      "...               ...  \n",
      "8059                0  \n",
      "8060                1  \n",
      "8061                1  \n",
      "8062                1  \n",
      "8063                1  \n",
      "\n",
      "[8064 rows x 301 columns]\n"
     ]
    }
   ],
   "source": [
    "dummies = pd.get_dummies(merged_df[['Lane_y', 'Day', 'time_s']])\n",
    "new_dum = pd.concat([merged_df, dummies], axis=1)\n",
    "\n",
    "# drop the original 'Lane' and 'Day_of_Week' columns\n",
    "new_dum.drop(['Lane_y', 'Day','time_s','dt_x', 'Lane_x', 'dt_y'], axis=1, inplace=True)\n",
    "\n",
    "# print the resulting dataframe\n",
    "print(new_dum)"
   ]
  },
  {
   "cell_type": "markdown",
   "id": "5d3164b9-227d-427e-9014-d24bcaa632a0",
   "metadata": {},
   "source": [
    "#### new_dum table is what we will use for the modeling, we will store it into the S3 bucket"
   ]
  },
  {
   "cell_type": "code",
   "execution_count": 51,
   "id": "bf53f7b6-6222-4943-9376-13ed92fda497",
   "metadata": {
    "tags": []
   },
   "outputs": [
    {
     "data": {
      "text/plain": [
       "{'ResponseMetadata': {'RequestId': 'VQ7AXREJ71B7YES0',\n",
       "  'HostId': '0DFd6PhrsRtjd9L0yngbv+ysf2R+6rOdphyUpZRBoZIc64nMKUOHILOFyvjxxH+KpyQyuJd71YA=',\n",
       "  'HTTPStatusCode': 200,\n",
       "  'HTTPHeaders': {'x-amz-id-2': '0DFd6PhrsRtjd9L0yngbv+ysf2R+6rOdphyUpZRBoZIc64nMKUOHILOFyvjxxH+KpyQyuJd71YA=',\n",
       "   'x-amz-request-id': 'VQ7AXREJ71B7YES0',\n",
       "   'date': 'Tue, 04 Apr 2023 03:35:11 GMT',\n",
       "   'x-amz-version-id': 'XQ7sTVJ4JGIEmF_Si4x9tj2.MoGWKDBp',\n",
       "   'x-amz-server-side-encryption': 'AES256',\n",
       "   'etag': '\"577cd8f36c5dd6c70d9c1028872c979f\"',\n",
       "   'server': 'AmazonS3',\n",
       "   'content-length': '0'},\n",
       "  'RetryAttempts': 0},\n",
       " 'ETag': '\"577cd8f36c5dd6c70d9c1028872c979f\"',\n",
       " 'ServerSideEncryption': 'AES256',\n",
       " 'VersionId': 'XQ7sTVJ4JGIEmF_Si4x9tj2.MoGWKDBp'}"
      ]
     },
     "execution_count": 51,
     "metadata": {},
     "output_type": "execute_result"
    }
   ],
   "source": [
    "from io import StringIO\n",
    "\n",
    "# Convert the DataFrame to a CSV string\n",
    "csv_buffer = StringIO()\n",
    "new_dum.to_csv(csv_buffer, index=False)\n",
    "\n",
    "# Upload the CSV string to the S3 bucket\n",
    "s3_resource = boto3.resource('s3')\n",
    "bucket_name = 'usd508finalprojectteam2'\n",
    "file_key = 'new_dum.csv'\n",
    "s3_resource.Object(bucket_name, file_key).put(Body=csv_buffer.getvalue())\n"
   ]
  },
  {
   "cell_type": "code",
   "execution_count": 52,
   "id": "d884d0a4-6471-45a2-9093-3a6a75664f0a",
   "metadata": {
    "tags": []
   },
   "outputs": [
    {
     "name": "stdout",
     "output_type": "stream",
     "text": [
      "Express_Lanes.csv\n",
      "HOV.csv\n",
      "Route_77.csv\n",
      "Traffic_Volumes_AADT.csv\n",
      "athena/staging/07ec4efc-8814-4b4e-8a8b-dc37978a2023.txt\n",
      "athena/staging/07ec4efc-8814-4b4e-8a8b-dc37978a2023.txt.metadata\n",
      "athena/staging/0b536a1c-8625-40be-a76b-15253e425659.txt\n",
      "athena/staging/0b536a1c-8625-40be-a76b-15253e425659.txt.metadata\n",
      "athena/staging/0e83abe1-8c34-43c3-9eed-2d3f8f2ba827.txt\n",
      "athena/staging/0e83abe1-8c34-43c3-9eed-2d3f8f2ba827.txt.metadata\n",
      "athena/staging/1c933cec-03dd-4191-9ef2-539a0767cb3a.txt\n",
      "athena/staging/1c933cec-03dd-4191-9ef2-539a0767cb3a.txt.metadata\n",
      "athena/staging/2bef4a3d-b224-4b94-bf8c-6aa585b51745.txt\n",
      "athena/staging/34804551-cf15-43f1-84fe-d86b32d9a546.txt\n",
      "athena/staging/34804551-cf15-43f1-84fe-d86b32d9a546.txt.metadata\n",
      "athena/staging/367a7051-1398-4233-9afa-7af24e0c839a.txt\n",
      "athena/staging/367a7051-1398-4233-9afa-7af24e0c839a.txt.metadata\n",
      "athena/staging/38de0771-ba47-4755-82d8-4753ffd88b7c.txt\n",
      "athena/staging/38de0771-ba47-4755-82d8-4753ffd88b7c.txt.metadata\n",
      "athena/staging/393de1a2-385a-4891-bf03-988b76a38568.txt\n",
      "athena/staging/393de1a2-385a-4891-bf03-988b76a38568.txt.metadata\n",
      "athena/staging/3cd1e875-b575-423b-bd50-986182436c09.txt\n",
      "athena/staging/3cd1e875-b575-423b-bd50-986182436c09.txt.metadata\n",
      "athena/staging/45387bc6-fdcf-4453-96eb-5ee7ddd0918e.txt\n",
      "athena/staging/45387bc6-fdcf-4453-96eb-5ee7ddd0918e.txt.metadata\n",
      "athena/staging/46d4dab9-6eca-467e-acb1-dd9fb93e3684.txt\n",
      "athena/staging/46d4dab9-6eca-467e-acb1-dd9fb93e3684.txt.metadata\n",
      "athena/staging/54679b5c-c63c-44fe-b1d5-8eb47f7f4d5c.txt\n",
      "athena/staging/54679b5c-c63c-44fe-b1d5-8eb47f7f4d5c.txt.metadata\n",
      "athena/staging/6964da4d-c926-4592-a48e-6a960f9604d3.txt\n",
      "athena/staging/6964da4d-c926-4592-a48e-6a960f9604d3.txt.metadata\n",
      "athena/staging/6b155da6-7508-4d58-9153-24e666ed4507.txt\n",
      "athena/staging/6b155da6-7508-4d58-9153-24e666ed4507.txt.metadata\n",
      "athena/staging/7a9d0a54-f889-4a8b-810c-d83f3983e9fa.txt\n",
      "athena/staging/7a9d0a54-f889-4a8b-810c-d83f3983e9fa.txt.metadata\n",
      "athena/staging/7bbfefaf-e894-494c-9cdd-f99d3aac6416.txt\n",
      "athena/staging/7bbfefaf-e894-494c-9cdd-f99d3aac6416.txt.metadata\n",
      "athena/staging/7c0c8f1f-71a6-49a8-88f3-abaacc31eb10.txt\n",
      "athena/staging/81d4002a-3a6a-412e-aada-d4bf7792056d.txt\n",
      "athena/staging/81d4002a-3a6a-412e-aada-d4bf7792056d.txt.metadata\n",
      "athena/staging/876bab86-5563-4631-a623-31372b15e99e.txt\n",
      "athena/staging/876bab86-5563-4631-a623-31372b15e99e.txt.metadata\n",
      "athena/staging/896e503f-c400-46bf-83a7-85d4d69ca059.txt\n",
      "athena/staging/896e503f-c400-46bf-83a7-85d4d69ca059.txt.metadata\n",
      "athena/staging/8cc240e5-b1c3-44b2-9958-0b04c2d6042a.txt\n",
      "athena/staging/a595748b-a104-486c-a537-a354f1112d17.txt\n",
      "athena/staging/a595748b-a104-486c-a537-a354f1112d17.txt.metadata\n",
      "athena/staging/a9faafde-071e-4b92-8420-bc3e1f21bcb9.txt\n",
      "athena/staging/a9faafde-071e-4b92-8420-bc3e1f21bcb9.txt.metadata\n",
      "athena/staging/b206aff5-9412-4f6f-b6db-beedb9d2857f.txt\n",
      "athena/staging/c18030e8-4325-4841-b3cb-25c3adb279b1.txt\n",
      "athena/staging/c18030e8-4325-4841-b3cb-25c3adb279b1.txt.metadata\n",
      "athena/staging/c8f7b303-ad4c-49cf-9069-489be47e101e.txt\n",
      "athena/staging/c8f7b303-ad4c-49cf-9069-489be47e101e.txt.metadata\n",
      "athena/staging/d2ef04f6-2850-42f5-a54e-862b807f9fe8.txt\n",
      "athena/staging/d2ef04f6-2850-42f5-a54e-862b807f9fe8.txt.metadata\n",
      "athena/staging/d751013f-9d18-4123-9384-c9c78f098ad0.txt\n",
      "athena/staging/d751013f-9d18-4123-9384-c9c78f098ad0.txt.metadata\n",
      "athena/staging/d7972327-0849-4cdf-800a-1f1dd9adf58c.txt\n",
      "athena/staging/d7972327-0849-4cdf-800a-1f1dd9adf58c.txt.metadata\n",
      "athena/staging/dcccbc6c-f09c-415a-b2dd-0d34e7e18363.txt\n",
      "athena/staging/dcccbc6c-f09c-415a-b2dd-0d34e7e18363.txt.metadata\n",
      "athena/staging/ea1e4ba8-0a02-48fc-9381-fa4c9cc470cc.txt\n",
      "athena/staging/ecf42829-f839-4a16-a275-d36c8c24782a.txt\n",
      "athena/staging/ecf42829-f839-4a16-a275-d36c8c24782a.txt.metadata\n",
      "athena/staging/f0d7f4ce-d47a-4ab8-93e5-4ec8ffd3dd5a.txt\n",
      "athena/staging/f0d7f4ce-d47a-4ab8-93e5-4ec8ffd3dd5a.txt.metadata\n",
      "athena/staging/f969adc0-649f-4ae2-90d1-48e60c320191.txt\n",
      "athena/staging/f969adc0-649f-4ae2-90d1-48e60c320191.txt.metadata\n",
      "new_dum.csv\n"
     ]
    }
   ],
   "source": [
    "CA_dir = 's3://usd508finalprojectteam2/'\n",
    "s3_client = boto3.client(\"s3\")\n",
    "BUCKET='usd508finalprojectteam2'\n",
    "# List all objects in the bucket\n",
    "response = s3_client.list_objects(Bucket=BUCKET)\n",
    "\n",
    "# Print the key names\n",
    "for obj in response['Contents']:\n",
    "    print(obj['Key'])"
   ]
  },
  {
   "cell_type": "markdown",
   "id": "01f3fb90-227e-4028-9769-9044219eaebd",
   "metadata": {},
   "source": [
    "#### Now, the 'new_dum.csv' is in our S3 bucket"
   ]
  },
  {
   "cell_type": "markdown",
   "id": "3c880843-b31a-4cd9-8740-b7d4270fb9fa",
   "metadata": {},
   "source": [
    "# Section 4: Modeling"
   ]
  },
  {
   "cell_type": "code",
   "execution_count": 53,
   "id": "d217dfa4-e56a-4531-820c-e7e74f8246bc",
   "metadata": {},
   "outputs": [
    {
     "data": {
      "text/html": [
       "<div>\n",
       "<style scoped>\n",
       "    .dataframe tbody tr th:only-of-type {\n",
       "        vertical-align: middle;\n",
       "    }\n",
       "\n",
       "    .dataframe tbody tr th {\n",
       "        vertical-align: top;\n",
       "    }\n",
       "\n",
       "    .dataframe thead th {\n",
       "        text-align: right;\n",
       "    }\n",
       "</style>\n",
       "<table border=\"1\" class=\"dataframe\">\n",
       "  <thead>\n",
       "    <tr style=\"text-align: right;\">\n",
       "      <th></th>\n",
       "      <th>Mean_x</th>\n",
       "      <th>Mean_y</th>\n",
       "      <th>Lane_y_Lane1</th>\n",
       "      <th>Lane_y_Lane2</th>\n",
       "      <th>Lane_y_Lane3</th>\n",
       "      <th>Lane_y_Lane4</th>\n",
       "      <th>Day_Friday</th>\n",
       "      <th>Day_Monday</th>\n",
       "      <th>Day_Saturday</th>\n",
       "      <th>Day_Sunday</th>\n",
       "      <th>...</th>\n",
       "      <th>time_s_23:10:00</th>\n",
       "      <th>time_s_23:15:00</th>\n",
       "      <th>time_s_23:20:00</th>\n",
       "      <th>time_s_23:25:00</th>\n",
       "      <th>time_s_23:30:00</th>\n",
       "      <th>time_s_23:35:00</th>\n",
       "      <th>time_s_23:40:00</th>\n",
       "      <th>time_s_23:45:00</th>\n",
       "      <th>time_s_23:50:00</th>\n",
       "      <th>time_s_23:55:00</th>\n",
       "    </tr>\n",
       "  </thead>\n",
       "  <tbody>\n",
       "    <tr>\n",
       "      <th>0</th>\n",
       "      <td>31.95</td>\n",
       "      <td>30.37</td>\n",
       "      <td>1</td>\n",
       "      <td>0</td>\n",
       "      <td>0</td>\n",
       "      <td>0</td>\n",
       "      <td>0</td>\n",
       "      <td>0</td>\n",
       "      <td>0</td>\n",
       "      <td>1</td>\n",
       "      <td>...</td>\n",
       "      <td>0</td>\n",
       "      <td>0</td>\n",
       "      <td>0</td>\n",
       "      <td>0</td>\n",
       "      <td>0</td>\n",
       "      <td>0</td>\n",
       "      <td>0</td>\n",
       "      <td>0</td>\n",
       "      <td>0</td>\n",
       "      <td>0</td>\n",
       "    </tr>\n",
       "    <tr>\n",
       "      <th>1</th>\n",
       "      <td>31.95</td>\n",
       "      <td>31.43</td>\n",
       "      <td>0</td>\n",
       "      <td>1</td>\n",
       "      <td>0</td>\n",
       "      <td>0</td>\n",
       "      <td>0</td>\n",
       "      <td>0</td>\n",
       "      <td>0</td>\n",
       "      <td>1</td>\n",
       "      <td>...</td>\n",
       "      <td>0</td>\n",
       "      <td>0</td>\n",
       "      <td>0</td>\n",
       "      <td>0</td>\n",
       "      <td>0</td>\n",
       "      <td>0</td>\n",
       "      <td>0</td>\n",
       "      <td>0</td>\n",
       "      <td>0</td>\n",
       "      <td>0</td>\n",
       "    </tr>\n",
       "    <tr>\n",
       "      <th>2</th>\n",
       "      <td>31.95</td>\n",
       "      <td>34.08</td>\n",
       "      <td>0</td>\n",
       "      <td>0</td>\n",
       "      <td>1</td>\n",
       "      <td>0</td>\n",
       "      <td>0</td>\n",
       "      <td>0</td>\n",
       "      <td>0</td>\n",
       "      <td>1</td>\n",
       "      <td>...</td>\n",
       "      <td>0</td>\n",
       "      <td>0</td>\n",
       "      <td>0</td>\n",
       "      <td>0</td>\n",
       "      <td>0</td>\n",
       "      <td>0</td>\n",
       "      <td>0</td>\n",
       "      <td>0</td>\n",
       "      <td>0</td>\n",
       "      <td>0</td>\n",
       "    </tr>\n",
       "    <tr>\n",
       "      <th>3</th>\n",
       "      <td>31.95</td>\n",
       "      <td>34.85</td>\n",
       "      <td>0</td>\n",
       "      <td>0</td>\n",
       "      <td>0</td>\n",
       "      <td>1</td>\n",
       "      <td>0</td>\n",
       "      <td>0</td>\n",
       "      <td>0</td>\n",
       "      <td>1</td>\n",
       "      <td>...</td>\n",
       "      <td>0</td>\n",
       "      <td>0</td>\n",
       "      <td>0</td>\n",
       "      <td>0</td>\n",
       "      <td>0</td>\n",
       "      <td>0</td>\n",
       "      <td>0</td>\n",
       "      <td>0</td>\n",
       "      <td>0</td>\n",
       "      <td>0</td>\n",
       "    </tr>\n",
       "    <tr>\n",
       "      <th>4</th>\n",
       "      <td>31.97</td>\n",
       "      <td>30.40</td>\n",
       "      <td>1</td>\n",
       "      <td>0</td>\n",
       "      <td>0</td>\n",
       "      <td>0</td>\n",
       "      <td>0</td>\n",
       "      <td>0</td>\n",
       "      <td>0</td>\n",
       "      <td>1</td>\n",
       "      <td>...</td>\n",
       "      <td>0</td>\n",
       "      <td>0</td>\n",
       "      <td>0</td>\n",
       "      <td>0</td>\n",
       "      <td>0</td>\n",
       "      <td>0</td>\n",
       "      <td>0</td>\n",
       "      <td>0</td>\n",
       "      <td>0</td>\n",
       "      <td>0</td>\n",
       "    </tr>\n",
       "  </tbody>\n",
       "</table>\n",
       "<p>5 rows × 301 columns</p>\n",
       "</div>"
      ],
      "text/plain": [
       "  Mean_x Mean_y  Lane_y_Lane1  Lane_y_Lane2  Lane_y_Lane3  Lane_y_Lane4  \\\n",
       "0  31.95  30.37             1             0             0             0   \n",
       "1  31.95  31.43             0             1             0             0   \n",
       "2  31.95  34.08             0             0             1             0   \n",
       "3  31.95  34.85             0             0             0             1   \n",
       "4  31.97  30.40             1             0             0             0   \n",
       "\n",
       "   Day_Friday  Day_Monday  Day_Saturday  Day_Sunday  ...  time_s_23:10:00  \\\n",
       "0           0           0             0           1  ...                0   \n",
       "1           0           0             0           1  ...                0   \n",
       "2           0           0             0           1  ...                0   \n",
       "3           0           0             0           1  ...                0   \n",
       "4           0           0             0           1  ...                0   \n",
       "\n",
       "   time_s_23:15:00  time_s_23:20:00  time_s_23:25:00  time_s_23:30:00  \\\n",
       "0                0                0                0                0   \n",
       "1                0                0                0                0   \n",
       "2                0                0                0                0   \n",
       "3                0                0                0                0   \n",
       "4                0                0                0                0   \n",
       "\n",
       "   time_s_23:35:00  time_s_23:40:00  time_s_23:45:00  time_s_23:50:00  \\\n",
       "0                0                0                0                0   \n",
       "1                0                0                0                0   \n",
       "2                0                0                0                0   \n",
       "3                0                0                0                0   \n",
       "4                0                0                0                0   \n",
       "\n",
       "   time_s_23:55:00  \n",
       "0                0  \n",
       "1                0  \n",
       "2                0  \n",
       "3                0  \n",
       "4                0  \n",
       "\n",
       "[5 rows x 301 columns]"
      ]
     },
     "execution_count": 53,
     "metadata": {},
     "output_type": "execute_result"
    }
   ],
   "source": [
    "new_dum.head(5)"
   ]
  },
  {
   "cell_type": "code",
   "execution_count": 54,
   "id": "b0a3021b-8158-48d6-8559-822c847a9ba0",
   "metadata": {
    "tags": []
   },
   "outputs": [
    {
     "data": {
      "text/html": [
       "<div>\n",
       "<style scoped>\n",
       "    .dataframe tbody tr th:only-of-type {\n",
       "        vertical-align: middle;\n",
       "    }\n",
       "\n",
       "    .dataframe tbody tr th {\n",
       "        vertical-align: top;\n",
       "    }\n",
       "\n",
       "    .dataframe thead th {\n",
       "        text-align: right;\n",
       "    }\n",
       "</style>\n",
       "<table border=\"1\" class=\"dataframe\">\n",
       "  <thead>\n",
       "    <tr style=\"text-align: right;\">\n",
       "      <th></th>\n",
       "      <th>HOV_Speed</th>\n",
       "      <th>non_HOV_Speed</th>\n",
       "      <th>Lane_y_Lane1</th>\n",
       "      <th>Lane_y_Lane2</th>\n",
       "      <th>Lane_y_Lane3</th>\n",
       "      <th>Lane_y_Lane4</th>\n",
       "      <th>Day_Friday</th>\n",
       "      <th>Day_Monday</th>\n",
       "      <th>Day_Saturday</th>\n",
       "      <th>Day_Sunday</th>\n",
       "      <th>...</th>\n",
       "      <th>time_s_23:10:00</th>\n",
       "      <th>time_s_23:15:00</th>\n",
       "      <th>time_s_23:20:00</th>\n",
       "      <th>time_s_23:25:00</th>\n",
       "      <th>time_s_23:30:00</th>\n",
       "      <th>time_s_23:35:00</th>\n",
       "      <th>time_s_23:40:00</th>\n",
       "      <th>time_s_23:45:00</th>\n",
       "      <th>time_s_23:50:00</th>\n",
       "      <th>time_s_23:55:00</th>\n",
       "    </tr>\n",
       "  </thead>\n",
       "  <tbody>\n",
       "    <tr>\n",
       "      <th>0</th>\n",
       "      <td>31.95</td>\n",
       "      <td>30.37</td>\n",
       "      <td>1</td>\n",
       "      <td>0</td>\n",
       "      <td>0</td>\n",
       "      <td>0</td>\n",
       "      <td>0</td>\n",
       "      <td>0</td>\n",
       "      <td>0</td>\n",
       "      <td>1</td>\n",
       "      <td>...</td>\n",
       "      <td>0</td>\n",
       "      <td>0</td>\n",
       "      <td>0</td>\n",
       "      <td>0</td>\n",
       "      <td>0</td>\n",
       "      <td>0</td>\n",
       "      <td>0</td>\n",
       "      <td>0</td>\n",
       "      <td>0</td>\n",
       "      <td>0</td>\n",
       "    </tr>\n",
       "    <tr>\n",
       "      <th>1</th>\n",
       "      <td>31.95</td>\n",
       "      <td>31.43</td>\n",
       "      <td>0</td>\n",
       "      <td>1</td>\n",
       "      <td>0</td>\n",
       "      <td>0</td>\n",
       "      <td>0</td>\n",
       "      <td>0</td>\n",
       "      <td>0</td>\n",
       "      <td>1</td>\n",
       "      <td>...</td>\n",
       "      <td>0</td>\n",
       "      <td>0</td>\n",
       "      <td>0</td>\n",
       "      <td>0</td>\n",
       "      <td>0</td>\n",
       "      <td>0</td>\n",
       "      <td>0</td>\n",
       "      <td>0</td>\n",
       "      <td>0</td>\n",
       "      <td>0</td>\n",
       "    </tr>\n",
       "    <tr>\n",
       "      <th>2</th>\n",
       "      <td>31.95</td>\n",
       "      <td>34.08</td>\n",
       "      <td>0</td>\n",
       "      <td>0</td>\n",
       "      <td>1</td>\n",
       "      <td>0</td>\n",
       "      <td>0</td>\n",
       "      <td>0</td>\n",
       "      <td>0</td>\n",
       "      <td>1</td>\n",
       "      <td>...</td>\n",
       "      <td>0</td>\n",
       "      <td>0</td>\n",
       "      <td>0</td>\n",
       "      <td>0</td>\n",
       "      <td>0</td>\n",
       "      <td>0</td>\n",
       "      <td>0</td>\n",
       "      <td>0</td>\n",
       "      <td>0</td>\n",
       "      <td>0</td>\n",
       "    </tr>\n",
       "    <tr>\n",
       "      <th>3</th>\n",
       "      <td>31.95</td>\n",
       "      <td>34.85</td>\n",
       "      <td>0</td>\n",
       "      <td>0</td>\n",
       "      <td>0</td>\n",
       "      <td>1</td>\n",
       "      <td>0</td>\n",
       "      <td>0</td>\n",
       "      <td>0</td>\n",
       "      <td>1</td>\n",
       "      <td>...</td>\n",
       "      <td>0</td>\n",
       "      <td>0</td>\n",
       "      <td>0</td>\n",
       "      <td>0</td>\n",
       "      <td>0</td>\n",
       "      <td>0</td>\n",
       "      <td>0</td>\n",
       "      <td>0</td>\n",
       "      <td>0</td>\n",
       "      <td>0</td>\n",
       "    </tr>\n",
       "    <tr>\n",
       "      <th>4</th>\n",
       "      <td>31.97</td>\n",
       "      <td>30.40</td>\n",
       "      <td>1</td>\n",
       "      <td>0</td>\n",
       "      <td>0</td>\n",
       "      <td>0</td>\n",
       "      <td>0</td>\n",
       "      <td>0</td>\n",
       "      <td>0</td>\n",
       "      <td>1</td>\n",
       "      <td>...</td>\n",
       "      <td>0</td>\n",
       "      <td>0</td>\n",
       "      <td>0</td>\n",
       "      <td>0</td>\n",
       "      <td>0</td>\n",
       "      <td>0</td>\n",
       "      <td>0</td>\n",
       "      <td>0</td>\n",
       "      <td>0</td>\n",
       "      <td>0</td>\n",
       "    </tr>\n",
       "  </tbody>\n",
       "</table>\n",
       "<p>5 rows × 301 columns</p>\n",
       "</div>"
      ],
      "text/plain": [
       "  HOV_Speed non_HOV_Speed  Lane_y_Lane1  Lane_y_Lane2  Lane_y_Lane3  \\\n",
       "0     31.95         30.37             1             0             0   \n",
       "1     31.95         31.43             0             1             0   \n",
       "2     31.95         34.08             0             0             1   \n",
       "3     31.95         34.85             0             0             0   \n",
       "4     31.97         30.40             1             0             0   \n",
       "\n",
       "   Lane_y_Lane4  Day_Friday  Day_Monday  Day_Saturday  Day_Sunday  ...  \\\n",
       "0             0           0           0             0           1  ...   \n",
       "1             0           0           0             0           1  ...   \n",
       "2             0           0           0             0           1  ...   \n",
       "3             1           0           0             0           1  ...   \n",
       "4             0           0           0             0           1  ...   \n",
       "\n",
       "   time_s_23:10:00  time_s_23:15:00  time_s_23:20:00  time_s_23:25:00  \\\n",
       "0                0                0                0                0   \n",
       "1                0                0                0                0   \n",
       "2                0                0                0                0   \n",
       "3                0                0                0                0   \n",
       "4                0                0                0                0   \n",
       "\n",
       "   time_s_23:30:00  time_s_23:35:00  time_s_23:40:00  time_s_23:45:00  \\\n",
       "0                0                0                0                0   \n",
       "1                0                0                0                0   \n",
       "2                0                0                0                0   \n",
       "3                0                0                0                0   \n",
       "4                0                0                0                0   \n",
       "\n",
       "   time_s_23:50:00  time_s_23:55:00  \n",
       "0                0                0  \n",
       "1                0                0  \n",
       "2                0                0  \n",
       "3                0                0  \n",
       "4                0                0  \n",
       "\n",
       "[5 rows x 301 columns]"
      ]
     },
     "execution_count": 54,
     "metadata": {},
     "output_type": "execute_result"
    }
   ],
   "source": [
    "new_dum = new_dum.rename({'Mean_x': 'HOV_Speed', 'Mean_y': 'non_HOV_Speed'}, axis=1) \n",
    "new_dum.head(5)"
   ]
  },
  {
   "cell_type": "code",
   "execution_count": 55,
   "id": "1fc30286-df2e-4a5d-a5d2-24e2018b676c",
   "metadata": {
    "tags": []
   },
   "outputs": [
    {
     "name": "stdout",
     "output_type": "stream",
     "text": [
      "['HOV_Speed', 'non_HOV_Speed', 'Lane_y_Lane1', 'Lane_y_Lane2', 'Lane_y_Lane3', 'Lane_y_Lane4', 'Day_Friday', 'Day_Monday', 'Day_Saturday', 'Day_Sunday', 'Day_Thursday', 'Day_Tuesday', 'Day_Wednesday', 'time_s_00:00:00', 'time_s_00:05:00', 'time_s_00:10:00', 'time_s_00:15:00', 'time_s_00:20:00', 'time_s_00:25:00', 'time_s_00:30:00', 'time_s_00:35:00', 'time_s_00:40:00', 'time_s_00:45:00', 'time_s_00:50:00', 'time_s_00:55:00', 'time_s_01:00:00', 'time_s_01:05:00', 'time_s_01:10:00', 'time_s_01:15:00', 'time_s_01:20:00', 'time_s_01:25:00', 'time_s_01:30:00', 'time_s_01:35:00', 'time_s_01:40:00', 'time_s_01:45:00', 'time_s_01:50:00', 'time_s_01:55:00', 'time_s_02:00:00', 'time_s_02:05:00', 'time_s_02:10:00', 'time_s_02:15:00', 'time_s_02:20:00', 'time_s_02:25:00', 'time_s_02:30:00', 'time_s_02:35:00', 'time_s_02:40:00', 'time_s_02:45:00', 'time_s_02:50:00', 'time_s_02:55:00', 'time_s_03:00:00', 'time_s_03:05:00', 'time_s_03:10:00', 'time_s_03:15:00', 'time_s_03:20:00', 'time_s_03:25:00', 'time_s_03:30:00', 'time_s_03:35:00', 'time_s_03:40:00', 'time_s_03:45:00', 'time_s_03:50:00', 'time_s_03:55:00', 'time_s_04:00:00', 'time_s_04:05:00', 'time_s_04:10:00', 'time_s_04:15:00', 'time_s_04:20:00', 'time_s_04:25:00', 'time_s_04:30:00', 'time_s_04:35:00', 'time_s_04:40:00', 'time_s_04:45:00', 'time_s_04:50:00', 'time_s_04:55:00', 'time_s_05:00:00', 'time_s_05:05:00', 'time_s_05:10:00', 'time_s_05:15:00', 'time_s_05:20:00', 'time_s_05:25:00', 'time_s_05:30:00', 'time_s_05:35:00', 'time_s_05:40:00', 'time_s_05:45:00', 'time_s_05:50:00', 'time_s_05:55:00', 'time_s_06:00:00', 'time_s_06:05:00', 'time_s_06:10:00', 'time_s_06:15:00', 'time_s_06:20:00', 'time_s_06:25:00', 'time_s_06:30:00', 'time_s_06:35:00', 'time_s_06:40:00', 'time_s_06:45:00', 'time_s_06:50:00', 'time_s_06:55:00', 'time_s_07:00:00', 'time_s_07:05:00', 'time_s_07:10:00', 'time_s_07:15:00', 'time_s_07:20:00', 'time_s_07:25:00', 'time_s_07:30:00', 'time_s_07:35:00', 'time_s_07:40:00', 'time_s_07:45:00', 'time_s_07:50:00', 'time_s_07:55:00', 'time_s_08:00:00', 'time_s_08:05:00', 'time_s_08:10:00', 'time_s_08:15:00', 'time_s_08:20:00', 'time_s_08:25:00', 'time_s_08:30:00', 'time_s_08:35:00', 'time_s_08:40:00', 'time_s_08:45:00', 'time_s_08:50:00', 'time_s_08:55:00', 'time_s_09:00:00', 'time_s_09:05:00', 'time_s_09:10:00', 'time_s_09:15:00', 'time_s_09:20:00', 'time_s_09:25:00', 'time_s_09:30:00', 'time_s_09:35:00', 'time_s_09:40:00', 'time_s_09:45:00', 'time_s_09:50:00', 'time_s_09:55:00', 'time_s_10:00:00', 'time_s_10:05:00', 'time_s_10:10:00', 'time_s_10:15:00', 'time_s_10:20:00', 'time_s_10:25:00', 'time_s_10:30:00', 'time_s_10:35:00', 'time_s_10:40:00', 'time_s_10:45:00', 'time_s_10:50:00', 'time_s_10:55:00', 'time_s_11:00:00', 'time_s_11:05:00', 'time_s_11:10:00', 'time_s_11:15:00', 'time_s_11:20:00', 'time_s_11:25:00', 'time_s_11:30:00', 'time_s_11:35:00', 'time_s_11:40:00', 'time_s_11:45:00', 'time_s_11:50:00', 'time_s_11:55:00', 'time_s_12:00:00', 'time_s_12:05:00', 'time_s_12:10:00', 'time_s_12:15:00', 'time_s_12:20:00', 'time_s_12:25:00', 'time_s_12:30:00', 'time_s_12:35:00', 'time_s_12:40:00', 'time_s_12:45:00', 'time_s_12:50:00', 'time_s_12:55:00', 'time_s_13:00:00', 'time_s_13:05:00', 'time_s_13:10:00', 'time_s_13:15:00', 'time_s_13:20:00', 'time_s_13:25:00', 'time_s_13:30:00', 'time_s_13:35:00', 'time_s_13:40:00', 'time_s_13:45:00', 'time_s_13:50:00', 'time_s_13:55:00', 'time_s_14:00:00', 'time_s_14:05:00', 'time_s_14:10:00', 'time_s_14:15:00', 'time_s_14:20:00', 'time_s_14:25:00', 'time_s_14:30:00', 'time_s_14:35:00', 'time_s_14:40:00', 'time_s_14:45:00', 'time_s_14:50:00', 'time_s_14:55:00', 'time_s_15:00:00', 'time_s_15:05:00', 'time_s_15:10:00', 'time_s_15:15:00', 'time_s_15:20:00', 'time_s_15:25:00', 'time_s_15:30:00', 'time_s_15:35:00', 'time_s_15:40:00', 'time_s_15:45:00', 'time_s_15:50:00', 'time_s_15:55:00', 'time_s_16:00:00', 'time_s_16:05:00', 'time_s_16:10:00', 'time_s_16:15:00', 'time_s_16:20:00', 'time_s_16:25:00', 'time_s_16:30:00', 'time_s_16:35:00', 'time_s_16:40:00', 'time_s_16:45:00', 'time_s_16:50:00', 'time_s_16:55:00', 'time_s_17:00:00', 'time_s_17:05:00', 'time_s_17:10:00', 'time_s_17:15:00', 'time_s_17:20:00', 'time_s_17:25:00', 'time_s_17:30:00', 'time_s_17:35:00', 'time_s_17:40:00', 'time_s_17:45:00', 'time_s_17:50:00', 'time_s_17:55:00', 'time_s_18:00:00', 'time_s_18:05:00', 'time_s_18:10:00', 'time_s_18:15:00', 'time_s_18:20:00', 'time_s_18:25:00', 'time_s_18:30:00', 'time_s_18:35:00', 'time_s_18:40:00', 'time_s_18:45:00', 'time_s_18:50:00', 'time_s_18:55:00', 'time_s_19:00:00', 'time_s_19:05:00', 'time_s_19:10:00', 'time_s_19:15:00', 'time_s_19:20:00', 'time_s_19:25:00', 'time_s_19:30:00', 'time_s_19:35:00', 'time_s_19:40:00', 'time_s_19:45:00', 'time_s_19:50:00', 'time_s_19:55:00', 'time_s_20:00:00', 'time_s_20:05:00', 'time_s_20:10:00', 'time_s_20:15:00', 'time_s_20:20:00', 'time_s_20:25:00', 'time_s_20:30:00', 'time_s_20:35:00', 'time_s_20:40:00', 'time_s_20:45:00', 'time_s_20:50:00', 'time_s_20:55:00', 'time_s_21:00:00', 'time_s_21:05:00', 'time_s_21:10:00', 'time_s_21:15:00', 'time_s_21:20:00', 'time_s_21:25:00', 'time_s_21:30:00', 'time_s_21:35:00', 'time_s_21:40:00', 'time_s_21:45:00', 'time_s_21:50:00', 'time_s_21:55:00', 'time_s_22:00:00', 'time_s_22:05:00', 'time_s_22:10:00', 'time_s_22:15:00', 'time_s_22:20:00', 'time_s_22:25:00', 'time_s_22:30:00', 'time_s_22:35:00', 'time_s_22:40:00', 'time_s_22:45:00', 'time_s_22:50:00', 'time_s_22:55:00', 'time_s_23:00:00', 'time_s_23:05:00', 'time_s_23:10:00', 'time_s_23:15:00', 'time_s_23:20:00', 'time_s_23:25:00', 'time_s_23:30:00', 'time_s_23:35:00', 'time_s_23:40:00', 'time_s_23:45:00', 'time_s_23:50:00', 'time_s_23:55:00']\n"
     ]
    }
   ],
   "source": [
    "# Get the variable list and remove the target variable and irrelevant columns\n",
    "column_names = list(new_dum.columns)\n",
    "# Print the list of column names\n",
    "print(column_names)"
   ]
  },
  {
   "cell_type": "markdown",
   "id": "508abd29-063a-4794-84f3-d5ac921795c4",
   "metadata": {},
   "source": [
    "#### AWS - Split the dataset into training, validation, and testing data:"
   ]
  },
  {
   "cell_type": "code",
   "execution_count": 56,
   "id": "dc653169-61b0-42be-8c12-de71300e4afa",
   "metadata": {
    "tags": []
   },
   "outputs": [],
   "source": [
    "from sklearn.model_selection import train_test_split\n",
    "train_data, val_data = train_test_split(new_dum, test_size=0.2, random_state=42)\n",
    "val_data, test_data = train_test_split(val_data, test_size=0.5, random_state=42)"
   ]
  },
  {
   "cell_type": "code",
   "execution_count": 57,
   "id": "7f59438d-26db-4087-a3a1-f2fffdd5cbb9",
   "metadata": {
    "tags": []
   },
   "outputs": [],
   "source": [
    "# define (list) the features\n",
    "X_var = list(new_dum.columns)\n",
    "\n",
    "# define the target\n",
    "target ='HOV_Speed'\n",
    "X_var.remove(target)\n",
    "X_train = train_data[X_var]\n",
    "y_train = train_data[target]\n",
    "X_test = test_data[X_var] \n",
    "y_test = test_data[target]\n",
    "X_valid = val_data[X_var]\n",
    "y_valid = val_data[target]"
   ]
  },
  {
   "cell_type": "code",
   "execution_count": 58,
   "id": "7c2a12c6-3937-472d-8f03-a1cac4ebb984",
   "metadata": {
    "tags": []
   },
   "outputs": [
    {
     "name": "stdout",
     "output_type": "stream",
     "text": [
      "X_train: (6451, 300)\n",
      "X_test: (807, 300)\n",
      "y_train: 6451\n",
      "y_test: 807\n"
     ]
    }
   ],
   "source": [
    "print(\"X_train:\",X_train.shape)\n",
    "print(\"X_test:\",X_test.shape)\n",
    "print(\"y_train:\",y_train.shape[0])\n",
    "print(\"y_test:\",y_test.shape[0])"
   ]
  },
  {
   "cell_type": "markdown",
   "id": "8bdd0e3e-5c3f-4953-bfc8-c176ebb2f68d",
   "metadata": {},
   "source": [
    "#### LinearRegression model prediction"
   ]
  },
  {
   "cell_type": "code",
   "execution_count": 59,
   "id": "bb5aec41-f35a-4f24-8799-a91cf732e21b",
   "metadata": {
    "tags": []
   },
   "outputs": [
    {
     "name": "stdout",
     "output_type": "stream",
     "text": [
      "RMSE: 0.8633202387822869\n"
     ]
    }
   ],
   "source": [
    "from sklearn.linear_model import LinearRegression\n",
    "# Train a linear regression model on the training set\n",
    "regressor = LinearRegression()\n",
    "# Fit the regressor with the training data\n",
    "regressor.fit(X_train, y_train)\n",
    "# Predict the values for the test set\n",
    "y_pred = regressor.predict(X_test)\n",
    "\n",
    "rmse = np.sqrt(mean_squared_error(y_test, y_pred))\n",
    "print(\"RMSE:\", rmse)"
   ]
  },
  {
   "cell_type": "code",
   "execution_count": 60,
   "id": "53e59bc3-29f9-4a15-8c8e-d707053b677d",
   "metadata": {
    "tags": []
   },
   "outputs": [
    {
     "name": "stdout",
     "output_type": "stream",
     "text": [
      " Accuracy of the model is 97.47\n"
     ]
    }
   ],
   "source": [
    "from sklearn.metrics import r2_score\n",
    "Accuracy_lr=r2_score(y_test,y_pred)*100\n",
    "print(\" Accuracy of the model is %.2f\" %Accuracy_lr)"
   ]
  },
  {
   "cell_type": "code",
   "execution_count": 61,
   "id": "30b23129-e53a-4044-9d14-fb2ecae5351a",
   "metadata": {
    "tags": []
   },
   "outputs": [
    {
     "data": {
      "image/png": "[encoded data removed]",
      "text/plain": [
       "<Figure size 640x480 with 1 Axes>"
      ]
     },
     "metadata": {},
     "output_type": "display_data"
    }
   ],
   "source": [
    "# Plot the actual values\n",
    "plt.scatter(y_test, y_test, color='blue', label='Actual')\n",
    "\n",
    "# Plot the predicted values\n",
    "plt.scatter(y_test, y_pred, color='red', label='Predicted')\n",
    "\n",
    "# Set the axis labels and legend\n",
    "plt.xlabel('Actual HOV Speed')\n",
    "plt.ylabel('Predicted HOV Speed')\n",
    "plt.legend()\n",
    "\n",
    "# Show the plot\n",
    "plt.show()"
   ]
  },
  {
   "cell_type": "code",
   "execution_count": 62,
   "id": "71c5c14d-c57c-42cb-81c2-a89fa04bc105",
   "metadata": {
    "tags": []
   },
   "outputs": [
    {
     "data": {
      "image/png": "[encoded data removed]",
      "text/plain": [
       "<Figure size 2000x1000 with 1 Axes>"
      ]
     },
     "metadata": {},
     "output_type": "display_data"
    }
   ],
   "source": [
    "f, ax = plt.subplots(figsize=(20, 10)) \n",
    "sns.distplot(y_test, hist=True, label=\"Actual HOV Speed\")\n",
    "sns.distplot(y_pred, hist=True, label=\"Predicted HOV Speed\")\n",
    "plt.xlabel(\"HOV Speed\")\n",
    "plt.legend()\n",
    "plt.show()"
   ]
  },
  {
   "cell_type": "markdown",
   "id": "b6dc6c46-f95b-4546-8e10-23ca67893f3d",
   "metadata": {},
   "source": [
    "#### RandomForest model prediction"
   ]
  },
  {
   "cell_type": "code",
   "execution_count": 63,
   "id": "011dcc6e-2f7c-475e-9157-1d6dd2132336",
   "metadata": {
    "tags": []
   },
   "outputs": [
    {
     "name": "stdout",
     "output_type": "stream",
     "text": [
      " Accuracy of the model is 98.25\n"
     ]
    }
   ],
   "source": [
    "from sklearn.ensemble import RandomForestRegressor\n",
    "regressor_rf = RandomForestRegressor(n_estimators=250, random_state=0)\n",
    "regressor_rf.fit(X_train, y_train)\n",
    "y_pred = regressor_rf.predict(X_test)\n",
    "Accuracy_rf=r2_score(y_test,y_pred)*100\n",
    "print(\" Accuracy of the model is %.2f\" %Accuracy_rf)"
   ]
  },
  {
   "cell_type": "code",
   "execution_count": 64,
   "id": "4a509624-f696-41ae-875b-ab20021a4c50",
   "metadata": {
    "tags": []
   },
   "outputs": [
    {
     "data": {
      "image/png": "[encoded data removed]",
      "text/plain": [
       "<Figure size 2000x1000 with 1 Axes>"
      ]
     },
     "metadata": {},
     "output_type": "display_data"
    }
   ],
   "source": [
    "f, ax = plt.subplots(figsize=(20, 10)) \n",
    "sns.distplot(y_test, hist=True, label=\"Actual HOV Speed\")\n",
    "sns.distplot(y_pred, hist=True, label=\"Predicted HOV Speed\")\n",
    "plt.xlabel(\"HOV Speed\")\n",
    "plt.legend()\n",
    "plt.show()"
   ]
  },
  {
   "cell_type": "code",
   "execution_count": 65,
   "id": "5916eea1-445c-47c3-9f20-a48c3946705d",
   "metadata": {},
   "outputs": [],
   "source": [
    "# Train, test, and deploy the XGBoost model using Amazon SageMaker.\n",
    "import sagemaker\n",
    "from sagemaker import get_execution_role\n",
    "from sagemaker.xgboost.estimator import XGBoost\n",
    "from sagemaker.estimator import Estimator\n",
    "from sagemaker import get_execution_role\n",
    "from sagemaker.amazon.amazon_estimator import get_image_uri\n",
    "from sklearn.linear_model import BayesianRidge\n",
    "from sklearn.pipeline import Pipeline\n",
    "from sklearn.preprocessing import StandardScaler"
   ]
  },
  {
   "cell_type": "code",
   "execution_count": 66,
   "id": "46051aae-1604-4233-b6fb-c861a8955894",
   "metadata": {
    "tags": []
   },
   "outputs": [
    {
     "data": {
      "text/html": [
       "<div>\n",
       "<style scoped>\n",
       "    .dataframe tbody tr th:only-of-type {\n",
       "        vertical-align: middle;\n",
       "    }\n",
       "\n",
       "    .dataframe tbody tr th {\n",
       "        vertical-align: top;\n",
       "    }\n",
       "\n",
       "    .dataframe thead th {\n",
       "        text-align: right;\n",
       "    }\n",
       "</style>\n",
       "<table border=\"1\" class=\"dataframe\">\n",
       "  <thead>\n",
       "    <tr style=\"text-align: right;\">\n",
       "      <th></th>\n",
       "      <th>HOV_Speed</th>\n",
       "      <th>non_HOV_Speed</th>\n",
       "      <th>Lane_y_Lane1</th>\n",
       "      <th>Lane_y_Lane2</th>\n",
       "      <th>Lane_y_Lane3</th>\n",
       "      <th>Lane_y_Lane4</th>\n",
       "      <th>Day_Friday</th>\n",
       "      <th>Day_Monday</th>\n",
       "      <th>Day_Saturday</th>\n",
       "      <th>Day_Sunday</th>\n",
       "      <th>...</th>\n",
       "      <th>time_s_23:10:00</th>\n",
       "      <th>time_s_23:15:00</th>\n",
       "      <th>time_s_23:20:00</th>\n",
       "      <th>time_s_23:25:00</th>\n",
       "      <th>time_s_23:30:00</th>\n",
       "      <th>time_s_23:35:00</th>\n",
       "      <th>time_s_23:40:00</th>\n",
       "      <th>time_s_23:45:00</th>\n",
       "      <th>time_s_23:50:00</th>\n",
       "      <th>time_s_23:55:00</th>\n",
       "    </tr>\n",
       "  </thead>\n",
       "  <tbody>\n",
       "    <tr>\n",
       "      <th>2142</th>\n",
       "      <td>32.45</td>\n",
       "      <td>32.30</td>\n",
       "      <td>0</td>\n",
       "      <td>0</td>\n",
       "      <td>1</td>\n",
       "      <td>0</td>\n",
       "      <td>0</td>\n",
       "      <td>1</td>\n",
       "      <td>0</td>\n",
       "      <td>0</td>\n",
       "      <td>...</td>\n",
       "      <td>0</td>\n",
       "      <td>0</td>\n",
       "      <td>0</td>\n",
       "      <td>0</td>\n",
       "      <td>0</td>\n",
       "      <td>0</td>\n",
       "      <td>0</td>\n",
       "      <td>0</td>\n",
       "      <td>0</td>\n",
       "      <td>0</td>\n",
       "    </tr>\n",
       "    <tr>\n",
       "      <th>1699</th>\n",
       "      <td>35.67</td>\n",
       "      <td>40.98</td>\n",
       "      <td>0</td>\n",
       "      <td>0</td>\n",
       "      <td>0</td>\n",
       "      <td>1</td>\n",
       "      <td>0</td>\n",
       "      <td>1</td>\n",
       "      <td>0</td>\n",
       "      <td>0</td>\n",
       "      <td>...</td>\n",
       "      <td>0</td>\n",
       "      <td>0</td>\n",
       "      <td>0</td>\n",
       "      <td>0</td>\n",
       "      <td>0</td>\n",
       "      <td>0</td>\n",
       "      <td>0</td>\n",
       "      <td>0</td>\n",
       "      <td>0</td>\n",
       "      <td>0</td>\n",
       "    </tr>\n",
       "    <tr>\n",
       "      <th>1393</th>\n",
       "      <td>31.65</td>\n",
       "      <td>31.35</td>\n",
       "      <td>0</td>\n",
       "      <td>1</td>\n",
       "      <td>0</td>\n",
       "      <td>0</td>\n",
       "      <td>0</td>\n",
       "      <td>1</td>\n",
       "      <td>0</td>\n",
       "      <td>0</td>\n",
       "      <td>...</td>\n",
       "      <td>0</td>\n",
       "      <td>0</td>\n",
       "      <td>0</td>\n",
       "      <td>0</td>\n",
       "      <td>0</td>\n",
       "      <td>0</td>\n",
       "      <td>0</td>\n",
       "      <td>0</td>\n",
       "      <td>0</td>\n",
       "      <td>0</td>\n",
       "    </tr>\n",
       "    <tr>\n",
       "      <th>812</th>\n",
       "      <td>36.75</td>\n",
       "      <td>35.47</td>\n",
       "      <td>1</td>\n",
       "      <td>0</td>\n",
       "      <td>0</td>\n",
       "      <td>0</td>\n",
       "      <td>0</td>\n",
       "      <td>0</td>\n",
       "      <td>0</td>\n",
       "      <td>1</td>\n",
       "      <td>...</td>\n",
       "      <td>0</td>\n",
       "      <td>0</td>\n",
       "      <td>0</td>\n",
       "      <td>0</td>\n",
       "      <td>0</td>\n",
       "      <td>0</td>\n",
       "      <td>0</td>\n",
       "      <td>0</td>\n",
       "      <td>0</td>\n",
       "      <td>0</td>\n",
       "    </tr>\n",
       "    <tr>\n",
       "      <th>3720</th>\n",
       "      <td>31.90</td>\n",
       "      <td>30.42</td>\n",
       "      <td>1</td>\n",
       "      <td>0</td>\n",
       "      <td>0</td>\n",
       "      <td>0</td>\n",
       "      <td>0</td>\n",
       "      <td>0</td>\n",
       "      <td>0</td>\n",
       "      <td>0</td>\n",
       "      <td>...</td>\n",
       "      <td>0</td>\n",
       "      <td>0</td>\n",
       "      <td>0</td>\n",
       "      <td>0</td>\n",
       "      <td>0</td>\n",
       "      <td>0</td>\n",
       "      <td>0</td>\n",
       "      <td>0</td>\n",
       "      <td>0</td>\n",
       "      <td>0</td>\n",
       "    </tr>\n",
       "  </tbody>\n",
       "</table>\n",
       "<p>5 rows × 301 columns</p>\n",
       "</div>"
      ],
      "text/plain": [
       "     HOV_Speed non_HOV_Speed  Lane_y_Lane1  Lane_y_Lane2  Lane_y_Lane3  \\\n",
       "2142     32.45         32.30             0             0             1   \n",
       "1699     35.67         40.98             0             0             0   \n",
       "1393     31.65         31.35             0             1             0   \n",
       "812      36.75         35.47             1             0             0   \n",
       "3720     31.90         30.42             1             0             0   \n",
       "\n",
       "      Lane_y_Lane4  Day_Friday  Day_Monday  Day_Saturday  Day_Sunday  ...  \\\n",
       "2142             0           0           1             0           0  ...   \n",
       "1699             1           0           1             0           0  ...   \n",
       "1393             0           0           1             0           0  ...   \n",
       "812              0           0           0             0           1  ...   \n",
       "3720             0           0           0             0           0  ...   \n",
       "\n",
       "      time_s_23:10:00  time_s_23:15:00  time_s_23:20:00  time_s_23:25:00  \\\n",
       "2142                0                0                0                0   \n",
       "1699                0                0                0                0   \n",
       "1393                0                0                0                0   \n",
       "812                 0                0                0                0   \n",
       "3720                0                0                0                0   \n",
       "\n",
       "      time_s_23:30:00  time_s_23:35:00  time_s_23:40:00  time_s_23:45:00  \\\n",
       "2142                0                0                0                0   \n",
       "1699                0                0                0                0   \n",
       "1393                0                0                0                0   \n",
       "812                 0                0                0                0   \n",
       "3720                0                0                0                0   \n",
       "\n",
       "      time_s_23:50:00  time_s_23:55:00  \n",
       "2142                0                0  \n",
       "1699                0                0  \n",
       "1393                0                0  \n",
       "812                 0                0  \n",
       "3720                0                0  \n",
       "\n",
       "[5 rows x 301 columns]"
      ]
     },
     "execution_count": 66,
     "metadata": {},
     "output_type": "execute_result"
    }
   ],
   "source": [
    "train_data.head(5)"
   ]
  },
  {
   "cell_type": "code",
   "execution_count": 67,
   "id": "197e7f26-7953-420b-9c17-e6864adbad12",
   "metadata": {
    "tags": []
   },
   "outputs": [
    {
     "name": "stdout",
     "output_type": "stream",
     "text": [
      "train data: (6451, 301) validation data: (806, 301) test data: (807, 301)\n"
     ]
    }
   ],
   "source": [
    "print(\"train data:\" , train_data.shape , \"validation data:\" , val_data.shape , \"test data:\" ,  test_data.shape )"
   ]
  },
  {
   "cell_type": "markdown",
   "id": "27153fc1-5982-495d-8116-68de30cbadc3",
   "metadata": {
    "tags": []
   },
   "source": [
    "#### Upload the training data to the S3 bucket"
   ]
  },
  {
   "cell_type": "code",
   "execution_count": 74,
   "id": "cefd02bb-52b0-4c97-8e38-610998667d8e",
   "metadata": {
    "tags": []
   },
   "outputs": [
    {
     "data": {
      "text/plain": [
       "{'ResponseMetadata': {'RequestId': '8FGFQ8B11Z2W5Q25',\n",
       "  'HostId': 'S0SGD6BafGEpTdqOn2ctSCX4OFne+SvhXJA01wfpXfkqYyTq3bwYuB0LfnHi+nZbrRN/I5epgDw=',\n",
       "  'HTTPStatusCode': 200,\n",
       "  'HTTPHeaders': {'x-amz-id-2': 'S0SGD6BafGEpTdqOn2ctSCX4OFne+SvhXJA01wfpXfkqYyTq3bwYuB0LfnHi+nZbrRN/I5epgDw=',\n",
       "   'x-amz-request-id': '8FGFQ8B11Z2W5Q25',\n",
       "   'date': 'Tue, 04 Apr 2023 03:42:00 GMT',\n",
       "   'x-amz-version-id': 'ST5xc8SBm3QNbb4Mp3JxJTz2swEZm.Vb',\n",
       "   'x-amz-server-side-encryption': 'AES256',\n",
       "   'etag': '\"ff20d02b6c71de30d0a2d218665f870b\"',\n",
       "   'server': 'AmazonS3',\n",
       "   'content-length': '0'},\n",
       "  'RetryAttempts': 0},\n",
       " 'ETag': '\"ff20d02b6c71de30d0a2d218665f870b\"',\n",
       " 'ServerSideEncryption': 'AES256',\n",
       " 'VersionId': 'ST5xc8SBm3QNbb4Mp3JxJTz2swEZm.Vb'}"
      ]
     },
     "execution_count": 74,
     "metadata": {},
     "output_type": "execute_result"
    }
   ],
   "source": [
    "# Convert the DataFrame to a CSV string\n",
    "csv_buffer = StringIO()\n",
    "new_dum.to_csv(csv_buffer, index=False)\n",
    "\n",
    "# Upload the CSV string to the S3 bucket\n",
    "s3_resource = boto3.resource('s3')\n",
    "bucket_name = 'usd508finalprojectteam2'\n",
    "file_key = 'train_data.csv'\n",
    "s3_resource.Object(bucket_name, file_key).put(Body=csv_buffer.getvalue())"
   ]
  },
  {
   "cell_type": "code",
   "execution_count": 75,
   "id": "5ba8d0ea-2045-40cf-a819-50411bb75ddb",
   "metadata": {
    "tags": []
   },
   "outputs": [],
   "source": [
    "s3_client = boto3.client(\"s3\")\n",
    "BUCKET='usd508finalprojectteam2'\n",
    "KEY= 'train_data.csv'\n",
    "\n",
    "response = s3_client.get_object(Bucket=BUCKET, Key=KEY)\n",
    "\n",
    "with io.StringIO() as csv_buffer:\n",
    "    train_data.to_csv(csv_buffer, index=False, header=False)\n",
    "\n",
    "    response = s3_client.put_object(\n",
    "        Bucket=BUCKET, Key=KEY, Body=csv_buffer.getvalue()\n",
    "    )"
   ]
  },
  {
   "cell_type": "code",
   "execution_count": 78,
   "id": "55412862-107e-4c6c-b6a0-f5271346e70b",
   "metadata": {
    "tags": []
   },
   "outputs": [],
   "source": [
    "# Define IAM role\n",
    "role = get_execution_role()\n",
    "\n",
    "# set the region of the instance\n",
    "region = boto3.session.Session().region_name \n",
    "\n",
    "# this line automatically looks for the XGBoost image URI and \n",
    "# builds an XGBoost container.\n",
    "xgboost_container = sagemaker.image_uris.retrieve(\"xgboost\", region,  \"latest\")"
   ]
  },
  {
   "cell_type": "code",
   "execution_count": 76,
   "id": "971db258-8487-4f67-80ff-3ed16f78b389",
   "metadata": {
    "tags": []
   },
   "outputs": [],
   "source": [
    "s3_input_train = sagemaker.inputs.TrainingInput(s3_data='s3://usd508finalprojectteam2/train_data', content_type='csv')"
   ]
  },
  {
   "cell_type": "code",
   "execution_count": 79,
   "id": "2b86d3c1-938a-4d53-ad6c-f8b8df5b28c9",
   "metadata": {
    "tags": []
   },
   "outputs": [],
   "source": [
    "sess = sagemaker.Session()\n",
    "xgb = sagemaker.estimator.Estimator(xgboost_container,role, \n",
    "                                    instance_count=1, \n",
    "                                    instance_type='ml.m5.large',\n",
    "                                    output_path='s3://usd508finalprojectteam2/output',\n",
    "                                    sagemaker_session=sess)\n",
    "# parse in the hyperparameters\n",
    "xgb.set_hyperparameters(max_depth=5,eta=0.2,gamma=4,min_child_weight=6,\n",
    "                        subsample=0.8,silent=0,\n",
    "                        objective='reg:linear',num_round=100)"
   ]
  },
  {
   "cell_type": "code",
   "execution_count": 80,
   "id": "c0f489c7-98d3-47f0-823c-a42c54f0a984",
   "metadata": {
    "tags": []
   },
   "outputs": [
    {
     "name": "stderr",
     "output_type": "stream",
     "text": [
      "INFO:sagemaker:Creating training-job with name: xgboost-2023-04-04-03-43-18-107\n"
     ]
    },
    {
     "name": "stdout",
     "output_type": "stream",
     "text": [
      "2023-04-04 03:43:19 Starting - Starting the training job...\n",
      "2023-04-04 03:43:33 Starting - Preparing the instances for training...\n",
      "2023-04-04 03:44:23 Downloading - Downloading input data......\n",
      "2023-04-04 03:45:03 Training - Downloading the training image...\n",
      "2023-04-04 03:45:55 Uploading - Uploading generated training model\u001b[34mArguments: train\u001b[0m\n",
      "\u001b[34m[2023-04-04:03:45:45:INFO] Running standalone xgboost training.\u001b[0m\n",
      "\u001b[34m[2023-04-04:03:45:45:INFO] Path /opt/ml/input/data/validation does not exist!\u001b[0m\n",
      "\u001b[34m[2023-04-04:03:45:45:INFO] File size need to be processed in the node: 3.75mb. Available memory size in the node: 310.83mb\u001b[0m\n",
      "\u001b[34m[2023-04-04:03:45:45:INFO] Determined delimiter of CSV input is ','\u001b[0m\n",
      "\u001b[34m[03:45:45] S3DistributionType set as FullyReplicated\u001b[0m\n",
      "\u001b[34m[03:45:45] 6451x300 matrix with 1935300 entries loaded from /opt/ml/input/data/train?format=csv&label_column=0&delimiter=,\u001b[0m\n",
      "\u001b[34m[03:45:45] src/tree/updater_prune.cc:74: tree pruning end, 1 roots, 8 extra nodes, 0 pruned nodes, max_depth=3\u001b[0m\n",
      "\u001b[34m[0]#011train-rmse:28.6597\u001b[0m\n",
      "\u001b[34m[03:45:45] src/tree/updater_prune.cc:74: tree pruning end, 1 roots, 12 extra nodes, 0 pruned nodes, max_depth=4\u001b[0m\n",
      "\u001b[34m[1]#011train-rmse:22.9553\u001b[0m\n",
      "\u001b[34m[03:45:45] src/tree/updater_prune.cc:74: tree pruning end, 1 roots, 22 extra nodes, 0 pruned nodes, max_depth=5\u001b[0m\n",
      "\u001b[34m[2]#011train-rmse:18.388\u001b[0m\n",
      "\u001b[34m[03:45:45] src/tree/updater_prune.cc:74: tree pruning end, 1 roots, 20 extra nodes, 0 pruned nodes, max_depth=5\u001b[0m\n",
      "\u001b[34m[3]#011train-rmse:14.7311\u001b[0m\n",
      "\u001b[34m[03:45:45] src/tree/updater_prune.cc:74: tree pruning end, 1 roots, 22 extra nodes, 2 pruned nodes, max_depth=5\u001b[0m\n",
      "\u001b[34m[4]#011train-rmse:11.8063\u001b[0m\n",
      "\u001b[34m[03:45:45] src/tree/updater_prune.cc:74: tree pruning end, 1 roots, 22 extra nodes, 0 pruned nodes, max_depth=5\u001b[0m\n",
      "\u001b[34m[5]#011train-rmse:9.46771\u001b[0m\n",
      "\u001b[34m[03:45:45] src/tree/updater_prune.cc:74: tree pruning end, 1 roots, 28 extra nodes, 0 pruned nodes, max_depth=5\u001b[0m\n",
      "\u001b[34m[6]#011train-rmse:7.59884\u001b[0m\n",
      "\u001b[34m[03:45:45] src/tree/updater_prune.cc:74: tree pruning end, 1 roots, 28 extra nodes, 2 pruned nodes, max_depth=5\u001b[0m\n",
      "\u001b[34m[7]#011train-rmse:6.10806\u001b[0m\n",
      "\u001b[34m[03:45:45] src/tree/updater_prune.cc:74: tree pruning end, 1 roots, 28 extra nodes, 0 pruned nodes, max_depth=5\u001b[0m\n",
      "\u001b[34m[8]#011train-rmse:4.91528\u001b[0m\n",
      "\u001b[34m[03:45:45] src/tree/updater_prune.cc:74: tree pruning end, 1 roots, 32 extra nodes, 0 pruned nodes, max_depth=5\u001b[0m\n",
      "\u001b[34m[9]#011train-rmse:3.96555\u001b[0m\n",
      "\u001b[34m[03:45:46] src/tree/updater_prune.cc:74: tree pruning end, 1 roots, 34 extra nodes, 2 pruned nodes, max_depth=5\u001b[0m\n",
      "\u001b[34m[10]#011train-rmse:3.20995\u001b[0m\n",
      "\u001b[34m[03:45:46] src/tree/updater_prune.cc:74: tree pruning end, 1 roots, 32 extra nodes, 2 pruned nodes, max_depth=5\u001b[0m\n",
      "\u001b[34m[11]#011train-rmse:2.61174\u001b[0m\n",
      "\u001b[34m[03:45:46] src/tree/updater_prune.cc:74: tree pruning end, 1 roots, 36 extra nodes, 2 pruned nodes, max_depth=5\u001b[0m\n",
      "\u001b[34m[12]#011train-rmse:2.14056\u001b[0m\n",
      "\u001b[34m[03:45:46] src/tree/updater_prune.cc:74: tree pruning end, 1 roots, 34 extra nodes, 12 pruned nodes, max_depth=5\u001b[0m\n",
      "\u001b[34m[13]#011train-rmse:1.77371\u001b[0m\n",
      "\u001b[34m[03:45:46] src/tree/updater_prune.cc:74: tree pruning end, 1 roots, 40 extra nodes, 4 pruned nodes, max_depth=5\u001b[0m\n",
      "\u001b[34m[14]#011train-rmse:1.48992\u001b[0m\n",
      "\u001b[34m[03:45:46] src/tree/updater_prune.cc:74: tree pruning end, 1 roots, 30 extra nodes, 12 pruned nodes, max_depth=5\u001b[0m\n",
      "\u001b[34m[15]#011train-rmse:1.27385\u001b[0m\n",
      "\u001b[34m[03:45:46] src/tree/updater_prune.cc:74: tree pruning end, 1 roots, 30 extra nodes, 2 pruned nodes, max_depth=5\u001b[0m\n",
      "\u001b[34m[16]#011train-rmse:1.11051\u001b[0m\n",
      "\u001b[34m[03:45:46] src/tree/updater_prune.cc:74: tree pruning end, 1 roots, 30 extra nodes, 14 pruned nodes, max_depth=5\u001b[0m\n",
      "\u001b[34m[17]#011train-rmse:0.991564\u001b[0m\n",
      "\u001b[34m[03:45:46] src/tree/updater_prune.cc:74: tree pruning end, 1 roots, 24 extra nodes, 2 pruned nodes, max_depth=5\u001b[0m\n",
      "\u001b[34m[18]#011train-rmse:0.905208\u001b[0m\n",
      "\u001b[34m[03:45:46] src/tree/updater_prune.cc:74: tree pruning end, 1 roots, 28 extra nodes, 12 pruned nodes, max_depth=5\u001b[0m\n",
      "\u001b[34m[19]#011train-rmse:0.840672\u001b[0m\n",
      "\u001b[34m[03:45:46] src/tree/updater_prune.cc:74: tree pruning end, 1 roots, 22 extra nodes, 4 pruned nodes, max_depth=5\u001b[0m\n",
      "\u001b[34m[20]#011train-rmse:0.79644\u001b[0m\n",
      "\u001b[34m[03:45:46] src/tree/updater_prune.cc:74: tree pruning end, 1 roots, 20 extra nodes, 10 pruned nodes, max_depth=5\u001b[0m\n",
      "\u001b[34m[21]#011train-rmse:0.766285\u001b[0m\n",
      "\u001b[34m[03:45:47] src/tree/updater_prune.cc:74: tree pruning end, 1 roots, 32 extra nodes, 4 pruned nodes, max_depth=5\u001b[0m\n",
      "\u001b[34m[22]#011train-rmse:0.742273\u001b[0m\n",
      "\u001b[34m[03:45:47] src/tree/updater_prune.cc:74: tree pruning end, 1 roots, 26 extra nodes, 8 pruned nodes, max_depth=5\u001b[0m\n",
      "\u001b[34m[23]#011train-rmse:0.725667\u001b[0m\n",
      "\u001b[34m[03:45:47] src/tree/updater_prune.cc:74: tree pruning end, 1 roots, 16 extra nodes, 10 pruned nodes, max_depth=5\u001b[0m\n",
      "\u001b[34m[24]#011train-rmse:0.715217\u001b[0m\n",
      "\u001b[34m[03:45:47] src/tree/updater_prune.cc:74: tree pruning end, 1 roots, 28 extra nodes, 18 pruned nodes, max_depth=5\u001b[0m\n",
      "\u001b[34m[25]#011train-rmse:0.703024\u001b[0m\n",
      "\u001b[34m[03:45:47] src/tree/updater_prune.cc:74: tree pruning end, 1 roots, 16 extra nodes, 2 pruned nodes, max_depth=5\u001b[0m\n",
      "\u001b[34m[26]#011train-rmse:0.697238\u001b[0m\n",
      "\u001b[34m[03:45:47] src/tree/updater_prune.cc:74: tree pruning end, 1 roots, 16 extra nodes, 10 pruned nodes, max_depth=5\u001b[0m\n",
      "\u001b[34m[27]#011train-rmse:0.692764\u001b[0m\n",
      "\u001b[34m[03:45:47] src/tree/updater_prune.cc:74: tree pruning end, 1 roots, 10 extra nodes, 10 pruned nodes, max_depth=5\u001b[0m\n",
      "\u001b[34m[28]#011train-rmse:0.689721\u001b[0m\n",
      "\u001b[34m[03:45:47] src/tree/updater_prune.cc:74: tree pruning end, 1 roots, 12 extra nodes, 6 pruned nodes, max_depth=5\u001b[0m\n",
      "\u001b[34m[29]#011train-rmse:0.686914\u001b[0m\n",
      "\u001b[34m[03:45:47] src/tree/updater_prune.cc:74: tree pruning end, 1 roots, 26 extra nodes, 32 pruned nodes, max_depth=5\u001b[0m\n",
      "\u001b[34m[30]#011train-rmse:0.681453\u001b[0m\n",
      "\u001b[34m[03:45:47] src/tree/updater_prune.cc:74: tree pruning end, 1 roots, 14 extra nodes, 4 pruned nodes, max_depth=5\u001b[0m\n",
      "\u001b[34m[31]#011train-rmse:0.679155\u001b[0m\n",
      "\u001b[34m[03:45:47] src/tree/updater_prune.cc:74: tree pruning end, 1 roots, 12 extra nodes, 6 pruned nodes, max_depth=5\u001b[0m\n",
      "\u001b[34m[32]#011train-rmse:0.677069\u001b[0m\n",
      "\u001b[34m[03:45:47] src/tree/updater_prune.cc:74: tree pruning end, 1 roots, 10 extra nodes, 10 pruned nodes, max_depth=5\u001b[0m\n",
      "\u001b[34m[33]#011train-rmse:0.675503\u001b[0m\n",
      "\u001b[34m[03:45:48] src/tree/updater_prune.cc:74: tree pruning end, 1 roots, 16 extra nodes, 4 pruned nodes, max_depth=5\u001b[0m\n",
      "\u001b[34m[34]#011train-rmse:0.673153\u001b[0m\n",
      "\u001b[34m[03:45:48] src/tree/updater_prune.cc:74: tree pruning end, 1 roots, 12 extra nodes, 6 pruned nodes, max_depth=5\u001b[0m\n",
      "\u001b[34m[35]#011train-rmse:0.67128\u001b[0m\n",
      "\u001b[34m[03:45:48] src/tree/updater_prune.cc:74: tree pruning end, 1 roots, 12 extra nodes, 6 pruned nodes, max_depth=5\u001b[0m\n",
      "\u001b[34m[36]#011train-rmse:0.669582\u001b[0m\n",
      "\u001b[34m[03:45:48] src/tree/updater_prune.cc:74: tree pruning end, 1 roots, 12 extra nodes, 10 pruned nodes, max_depth=5\u001b[0m\n",
      "\u001b[34m[37]#011train-rmse:0.668108\u001b[0m\n",
      "\u001b[34m[03:45:48] src/tree/updater_prune.cc:74: tree pruning end, 1 roots, 14 extra nodes, 6 pruned nodes, max_depth=5\u001b[0m\n",
      "\u001b[34m[38]#011train-rmse:0.666432\u001b[0m\n",
      "\u001b[34m[03:45:48] src/tree/updater_prune.cc:74: tree pruning end, 1 roots, 12 extra nodes, 8 pruned nodes, max_depth=5\u001b[0m\n",
      "\u001b[34m[39]#011train-rmse:0.665225\u001b[0m\n",
      "\u001b[34m[03:45:48] src/tree/updater_prune.cc:74: tree pruning end, 1 roots, 10 extra nodes, 6 pruned nodes, max_depth=5\u001b[0m\n",
      "\u001b[34m[40]#011train-rmse:0.664144\u001b[0m\n",
      "\u001b[34m[03:45:48] src/tree/updater_prune.cc:74: tree pruning end, 1 roots, 12 extra nodes, 6 pruned nodes, max_depth=5\u001b[0m\n",
      "\u001b[34m[41]#011train-rmse:0.662618\u001b[0m\n",
      "\u001b[34m[03:45:48] src/tree/updater_prune.cc:74: tree pruning end, 1 roots, 30 extra nodes, 4 pruned nodes, max_depth=5\u001b[0m\n",
      "\u001b[34m[42]#011train-rmse:0.654804\u001b[0m\n",
      "\u001b[34m[03:45:48] src/tree/updater_prune.cc:74: tree pruning end, 1 roots, 14 extra nodes, 6 pruned nodes, max_depth=5\u001b[0m\n",
      "\u001b[34m[43]#011train-rmse:0.653407\u001b[0m\n",
      "\u001b[34m[03:45:48] src/tree/updater_prune.cc:74: tree pruning end, 1 roots, 14 extra nodes, 30 pruned nodes, max_depth=5\u001b[0m\n",
      "\u001b[34m[44]#011train-rmse:0.651811\u001b[0m\n",
      "\u001b[34m[03:45:48] src/tree/updater_prune.cc:74: tree pruning end, 1 roots, 14 extra nodes, 4 pruned nodes, max_depth=5\u001b[0m\n",
      "\u001b[34m[45]#011train-rmse:0.650269\u001b[0m\n",
      "\u001b[34m[03:45:48] src/tree/updater_prune.cc:74: tree pruning end, 1 roots, 14 extra nodes, 4 pruned nodes, max_depth=5\u001b[0m\n",
      "\u001b[34m[46]#011train-rmse:0.64887\u001b[0m\n",
      "\u001b[34m[03:45:48] src/tree/updater_prune.cc:74: tree pruning end, 1 roots, 12 extra nodes, 10 pruned nodes, max_depth=5\u001b[0m\n",
      "\u001b[34m[47]#011train-rmse:0.647901\u001b[0m\n",
      "\u001b[34m[03:45:48] src/tree/updater_prune.cc:74: tree pruning end, 1 roots, 12 extra nodes, 10 pruned nodes, max_depth=5\u001b[0m\n",
      "\u001b[34m[48]#011train-rmse:0.646488\u001b[0m\n",
      "\u001b[34m[03:45:48] src/tree/updater_prune.cc:74: tree pruning end, 1 roots, 8 extra nodes, 12 pruned nodes, max_depth=4\u001b[0m\n",
      "\u001b[34m[49]#011train-rmse:0.645735\u001b[0m\n",
      "\u001b[34m[03:45:48] src/tree/updater_prune.cc:74: tree pruning end, 1 roots, 8 extra nodes, 12 pruned nodes, max_depth=4\u001b[0m\n",
      "\u001b[34m[50]#011train-rmse:0.644966\u001b[0m\n",
      "\u001b[34m[03:45:49] src/tree/updater_prune.cc:74: tree pruning end, 1 roots, 2 extra nodes, 14 pruned nodes, max_depth=1\u001b[0m\n",
      "\u001b[34m[51]#011train-rmse:0.644779\u001b[0m\n",
      "\u001b[34m[03:45:49] src/tree/updater_prune.cc:74: tree pruning end, 1 roots, 10 extra nodes, 10 pruned nodes, max_depth=5\u001b[0m\n",
      "\u001b[34m[52]#011train-rmse:0.643953\u001b[0m\n",
      "\u001b[34m[03:45:49] src/tree/updater_prune.cc:74: tree pruning end, 1 roots, 22 extra nodes, 2 pruned nodes, max_depth=5\u001b[0m\n",
      "\u001b[34m[53]#011train-rmse:0.639767\u001b[0m\n",
      "\u001b[34m[03:45:49] src/tree/updater_prune.cc:74: tree pruning end, 1 roots, 10 extra nodes, 10 pruned nodes, max_depth=3\u001b[0m\n",
      "\u001b[34m[54]#011train-rmse:0.638638\u001b[0m\n",
      "\u001b[34m[03:45:49] src/tree/updater_prune.cc:74: tree pruning end, 1 roots, 16 extra nodes, 4 pruned nodes, max_depth=5\u001b[0m\n",
      "\u001b[34m[55]#011train-rmse:0.636677\u001b[0m\n",
      "\u001b[34m[03:45:49] src/tree/updater_prune.cc:74: tree pruning end, 1 roots, 20 extra nodes, 2 pruned nodes, max_depth=5\u001b[0m\n",
      "\u001b[34m[56]#011train-rmse:0.633709\u001b[0m\n",
      "\u001b[34m[03:45:49] src/tree/updater_prune.cc:74: tree pruning end, 1 roots, 12 extra nodes, 6 pruned nodes, max_depth=5\u001b[0m\n",
      "\u001b[34m[57]#011train-rmse:0.632641\u001b[0m\n",
      "\u001b[34m[03:45:49] src/tree/updater_prune.cc:74: tree pruning end, 1 roots, 12 extra nodes, 8 pruned nodes, max_depth=5\u001b[0m\n",
      "\u001b[34m[58]#011train-rmse:0.631605\u001b[0m\n",
      "\u001b[34m[03:45:49] src/tree/updater_prune.cc:74: tree pruning end, 1 roots, 0 extra nodes, 18 pruned nodes, max_depth=0\u001b[0m\n",
      "\u001b[34m[59]#011train-rmse:0.631601\u001b[0m\n",
      "\u001b[34m[03:45:49] src/tree/updater_prune.cc:74: tree pruning end, 1 roots, 0 extra nodes, 18 pruned nodes, max_depth=0\u001b[0m\n",
      "\u001b[34m[60]#011train-rmse:0.631601\u001b[0m\n",
      "\u001b[34m[03:45:49] src/tree/updater_prune.cc:74: tree pruning end, 1 roots, 2 extra nodes, 18 pruned nodes, max_depth=1\u001b[0m\n",
      "\u001b[34m[61]#011train-rmse:0.631417\u001b[0m\n",
      "\u001b[34m[03:45:49] src/tree/updater_prune.cc:74: tree pruning end, 1 roots, 22 extra nodes, 6 pruned nodes, max_depth=5\u001b[0m\n",
      "\u001b[34m[62]#011train-rmse:0.62891\u001b[0m\n",
      "\u001b[34m[03:45:49] src/tree/updater_prune.cc:74: tree pruning end, 1 roots, 0 extra nodes, 18 pruned nodes, max_depth=0\u001b[0m\n",
      "\u001b[34m[63]#011train-rmse:0.62891\u001b[0m\n",
      "\u001b[34m[03:45:49] src/tree/updater_prune.cc:74: tree pruning end, 1 roots, 26 extra nodes, 20 pruned nodes, max_depth=5\u001b[0m\n",
      "\u001b[34m[64]#011train-rmse:0.623985\u001b[0m\n",
      "\u001b[34m[03:45:49] src/tree/updater_prune.cc:74: tree pruning end, 1 roots, 10 extra nodes, 8 pruned nodes, max_depth=5\u001b[0m\n",
      "\u001b[34m[65]#011train-rmse:0.623145\u001b[0m\n",
      "\u001b[34m[03:45:49] src/tree/updater_prune.cc:74: tree pruning end, 1 roots, 0 extra nodes, 16 pruned nodes, max_depth=0\u001b[0m\n",
      "\u001b[34m[66]#011train-rmse:0.623145\u001b[0m\n",
      "\u001b[34m[03:45:49] src/tree/updater_prune.cc:74: tree pruning end, 1 roots, 0 extra nodes, 20 pruned nodes, max_depth=0\u001b[0m\n",
      "\u001b[34m[67]#011train-rmse:0.623147\u001b[0m\n",
      "\u001b[34m[03:45:50] src/tree/updater_prune.cc:74: tree pruning end, 1 roots, 14 extra nodes, 22 pruned nodes, max_depth=5\u001b[0m\n",
      "\u001b[34m[68]#011train-rmse:0.621392\u001b[0m\n",
      "\u001b[34m[03:45:50] src/tree/updater_prune.cc:74: tree pruning end, 1 roots, 0 extra nodes, 18 pruned nodes, max_depth=0\u001b[0m\n",
      "\u001b[34m[69]#011train-rmse:0.621388\u001b[0m\n",
      "\u001b[34m[03:45:50] src/tree/updater_prune.cc:74: tree pruning end, 1 roots, 0 extra nodes, 18 pruned nodes, max_depth=0\u001b[0m\n",
      "\u001b[34m[70]#011train-rmse:0.621386\u001b[0m\n",
      "\u001b[34m[03:45:50] src/tree/updater_prune.cc:74: tree pruning end, 1 roots, 2 extra nodes, 16 pruned nodes, max_depth=1\u001b[0m\n",
      "\u001b[34m[71]#011train-rmse:0.621217\u001b[0m\n",
      "\u001b[34m[03:45:50] src/tree/updater_prune.cc:74: tree pruning end, 1 roots, 0 extra nodes, 20 pruned nodes, max_depth=0\u001b[0m\n",
      "\u001b[34m[72]#011train-rmse:0.621217\u001b[0m\n",
      "\u001b[34m[03:45:50] src/tree/updater_prune.cc:74: tree pruning end, 1 roots, 4 extra nodes, 18 pruned nodes, max_depth=2\u001b[0m\n",
      "\u001b[34m[73]#011train-rmse:0.620872\u001b[0m\n",
      "\u001b[34m[03:45:50] src/tree/updater_prune.cc:74: tree pruning end, 1 roots, 8 extra nodes, 12 pruned nodes, max_depth=4\u001b[0m\n",
      "\u001b[34m[74]#011train-rmse:0.620255\u001b[0m\n",
      "\u001b[34m[03:45:50] src/tree/updater_prune.cc:74: tree pruning end, 1 roots, 14 extra nodes, 22 pruned nodes, max_depth=5\u001b[0m\n",
      "\u001b[34m[75]#011train-rmse:0.618073\u001b[0m\n",
      "\u001b[34m[03:45:50] src/tree/updater_prune.cc:74: tree pruning end, 1 roots, 0 extra nodes, 16 pruned nodes, max_depth=0\u001b[0m\n",
      "\u001b[34m[76]#011train-rmse:0.618076\u001b[0m\n",
      "\u001b[34m[03:45:50] src/tree/updater_prune.cc:74: tree pruning end, 1 roots, 14 extra nodes, 4 pruned nodes, max_depth=5\u001b[0m\n",
      "\u001b[34m[77]#011train-rmse:0.616668\u001b[0m\n",
      "\u001b[34m[03:45:50] src/tree/updater_prune.cc:74: tree pruning end, 1 roots, 8 extra nodes, 12 pruned nodes, max_depth=3\u001b[0m\n",
      "\u001b[34m[78]#011train-rmse:0.615977\u001b[0m\n",
      "\u001b[34m[03:45:50] src/tree/updater_prune.cc:74: tree pruning end, 1 roots, 8 extra nodes, 10 pruned nodes, max_depth=4\u001b[0m\n",
      "\u001b[34m[79]#011train-rmse:0.615328\u001b[0m\n",
      "\u001b[34m[03:45:50] src/tree/updater_prune.cc:74: tree pruning end, 1 roots, 10 extra nodes, 8 pruned nodes, max_depth=5\u001b[0m\n",
      "\u001b[34m[80]#011train-rmse:0.614572\u001b[0m\n",
      "\u001b[34m[03:45:50] src/tree/updater_prune.cc:74: tree pruning end, 1 roots, 8 extra nodes, 12 pruned nodes, max_depth=4\u001b[0m\n",
      "\u001b[34m[81]#011train-rmse:0.613956\u001b[0m\n",
      "\u001b[34m[03:45:50] src/tree/updater_prune.cc:74: tree pruning end, 1 roots, 10 extra nodes, 10 pruned nodes, max_depth=5\u001b[0m\n",
      "\u001b[34m[82]#011train-rmse:0.613402\u001b[0m\n",
      "\u001b[34m[03:45:50] src/tree/updater_prune.cc:74: tree pruning end, 1 roots, 20 extra nodes, 26 pruned nodes, max_depth=5\u001b[0m\n",
      "\u001b[34m[83]#011train-rmse:0.610079\u001b[0m\n",
      "\u001b[34m[03:45:51] src/tree/updater_prune.cc:74: tree pruning end, 1 roots, 0 extra nodes, 18 pruned nodes, max_depth=0\u001b[0m\n",
      "\u001b[34m[84]#011train-rmse:0.610079\u001b[0m\n",
      "\u001b[34m[03:45:51] src/tree/updater_prune.cc:74: tree pruning end, 1 roots, 10 extra nodes, 8 pruned nodes, max_depth=5\u001b[0m\n",
      "\u001b[34m[85]#011train-rmse:0.609404\u001b[0m\n",
      "\u001b[34m[03:45:51] src/tree/updater_prune.cc:74: tree pruning end, 1 roots, 10 extra nodes, 12 pruned nodes, max_depth=5\u001b[0m\n",
      "\u001b[34m[86]#011train-rmse:0.608868\u001b[0m\n",
      "\u001b[34m[03:45:51] src/tree/updater_prune.cc:74: tree pruning end, 1 roots, 0 extra nodes, 18 pruned nodes, max_depth=0\u001b[0m\n",
      "\u001b[34m[87]#011train-rmse:0.608867\u001b[0m\n",
      "\u001b[34m[03:45:51] src/tree/updater_prune.cc:74: tree pruning end, 1 roots, 0 extra nodes, 18 pruned nodes, max_depth=0\u001b[0m\n",
      "\u001b[34m[88]#011train-rmse:0.608868\u001b[0m\n",
      "\u001b[34m[03:45:51] src/tree/updater_prune.cc:74: tree pruning end, 1 roots, 4 extra nodes, 14 pruned nodes, max_depth=2\u001b[0m\n",
      "\u001b[34m[89]#011train-rmse:0.608568\u001b[0m\n",
      "\u001b[34m[03:45:51] src/tree/updater_prune.cc:74: tree pruning end, 1 roots, 0 extra nodes, 20 pruned nodes, max_depth=0\u001b[0m\n",
      "\u001b[34m[90]#011train-rmse:0.608569\u001b[0m\n",
      "\u001b[34m[03:45:51] src/tree/updater_prune.cc:74: tree pruning end, 1 roots, 2 extra nodes, 24 pruned nodes, max_depth=1\u001b[0m\n",
      "\u001b[34m[91]#011train-rmse:0.608534\u001b[0m\n",
      "\u001b[34m[03:45:51] src/tree/updater_prune.cc:74: tree pruning end, 1 roots, 0 extra nodes, 16 pruned nodes, max_depth=0\u001b[0m\n",
      "\u001b[34m[92]#011train-rmse:0.608534\u001b[0m\n",
      "\u001b[34m[03:45:51] src/tree/updater_prune.cc:74: tree pruning end, 1 roots, 0 extra nodes, 18 pruned nodes, max_depth=0\u001b[0m\n",
      "\u001b[34m[93]#011train-rmse:0.608532\u001b[0m\n",
      "\u001b[34m[03:45:51] src/tree/updater_prune.cc:74: tree pruning end, 1 roots, 8 extra nodes, 12 pruned nodes, max_depth=4\u001b[0m\n",
      "\u001b[34m[94]#011train-rmse:0.607867\u001b[0m\n",
      "\u001b[34m[03:45:51] src/tree/updater_prune.cc:74: tree pruning end, 1 roots, 10 extra nodes, 8 pruned nodes, max_depth=5\u001b[0m\n",
      "\u001b[34m[95]#011train-rmse:0.607199\u001b[0m\n",
      "\u001b[34m[03:45:51] src/tree/updater_prune.cc:74: tree pruning end, 1 roots, 4 extra nodes, 12 pruned nodes, max_depth=2\u001b[0m\n",
      "\u001b[34m[96]#011train-rmse:0.606974\u001b[0m\n",
      "\u001b[34m[03:45:51] src/tree/updater_prune.cc:74: tree pruning end, 1 roots, 12 extra nodes, 6 pruned nodes, max_depth=5\u001b[0m\n",
      "\u001b[34m[97]#011train-rmse:0.60621\u001b[0m\n",
      "\u001b[34m[03:45:51] src/tree/updater_prune.cc:74: tree pruning end, 1 roots, 0 extra nodes, 18 pruned nodes, max_depth=0\u001b[0m\n",
      "\u001b[34m[98]#011train-rmse:0.60621\u001b[0m\n",
      "\u001b[34m[03:45:51] src/tree/updater_prune.cc:74: tree pruning end, 1 roots, 0 extra nodes, 18 pruned nodes, max_depth=0\u001b[0m\n",
      "\u001b[34m[99]#011train-rmse:0.60621\u001b[0m\n",
      "\n",
      "2023-04-04 03:46:11 Completed - Training job completed\n",
      "Training seconds: 108\n",
      "Billable seconds: 108\n"
     ]
    }
   ],
   "source": [
    "xgb.fit({'train': s3_input_train})"
   ]
  },
  {
   "cell_type": "code",
   "execution_count": 81,
   "id": "2e80b9ff-b432-4477-95af-d17f106fcd3d",
   "metadata": {
    "tags": []
   },
   "outputs": [
    {
     "name": "stderr",
     "output_type": "stream",
     "text": [
      "INFO:sagemaker:Creating model with name: xgboost-2023-04-04-03-46-42-329\n",
      "INFO:sagemaker:Creating endpoint-config with name xgboost-2023-04-04-03-46-42-329\n",
      "INFO:sagemaker:Creating endpoint with name xgboost-2023-04-04-03-46-42-329\n"
     ]
    },
    {
     "name": "stdout",
     "output_type": "stream",
     "text": [
      "----!"
     ]
    }
   ],
   "source": [
    "# Deploying The Predictor\n",
    "xgb_predictor = xgb.deploy(initial_instance_count=1,  instance_type='ml.m5.large')"
   ]
  },
  {
   "cell_type": "code",
   "execution_count": 82,
   "id": "dcdd6106-4945-4501-a78a-3d2caca899cb",
   "metadata": {
    "tags": []
   },
   "outputs": [
    {
     "name": "stdout",
     "output_type": "stream",
     "text": [
      "(807,)\n"
     ]
    }
   ],
   "source": [
    "# Running Predictions\n",
    "from sagemaker.serializers import CSVSerializer\n",
    "\n",
    "# load the data into an array\n",
    "test_array = test_data.drop(['HOV_Speed'], axis=1).values\n",
    "\n",
    "# set the serializer type\n",
    "xgb_predictor.serializer = CSVSerializer() \n",
    "\n",
    "# predict!\n",
    "predictions = xgb_predictor.predict(test_array).decode('utf-8') \n",
    "\n",
    "# and turn the prediction into an array\n",
    "predictions_array = np.fromstring(predictions[1:], sep=',') \n",
    "print(predictions_array.shape)"
   ]
  },
  {
   "cell_type": "code",
   "execution_count": null,
   "id": "a8c3077f-0d6b-49c3-9cdb-aa1320b75d03",
   "metadata": {},
   "outputs": [],
   "source": []
  },
  {
   "cell_type": "code",
   "execution_count": null,
   "id": "c3b6ad2e-aec8-4ce0-b421-2dd654e1ac5b",
   "metadata": {
    "tags": []
   },
   "outputs": [],
   "source": []
  },
  {
   "cell_type": "code",
   "execution_count": null,
   "id": "f606234c-f5d6-4247-94b6-e77577beceb8",
   "metadata": {
    "tags": []
   },
   "outputs": [],
   "source": []
  },
  {
   "cell_type": "code",
   "execution_count": null,
   "id": "06cd05cf-d62c-449c-812f-683208b5f8d1",
   "metadata": {
    "tags": []
   },
   "outputs": [],
   "source": []
  },
  {
   "cell_type": "code",
   "execution_count": null,
   "id": "6d046c23-3aa8-4cd3-861e-a93afd2ce64a",
   "metadata": {
    "tags": []
   },
   "outputs": [],
   "source": []
  },
  {
   "cell_type": "code",
   "execution_count": null,
   "id": "0a85d8b0-f083-4e64-bd8f-11c4841cb89b",
   "metadata": {
    "tags": []
   },
   "outputs": [],
   "source": []
  },
  {
   "cell_type": "code",
   "execution_count": null,
   "id": "a6aea5c2-399f-4827-8937-f8053d83eadf",
   "metadata": {
    "tags": []
   },
   "outputs": [],
   "source": [
    "\n"
   ]
  },
  {
   "cell_type": "code",
   "execution_count": null,
   "id": "e0cbebc0-3520-41ed-9869-e905032df06b",
   "metadata": {},
   "outputs": [],
   "source": []
  }
 ],
 "metadata": {
  "availableInstances": [
   {
    "_defaultOrder": 0,
    "_isFastLaunch": true,
    "category": "General purpose",
    "gpuNum": 0,
    "hideHardwareSpecs": false,
    "memoryGiB": 4,
    "name": "ml.t3.medium",
    "vcpuNum": 2
   },
   {
    "_defaultOrder": 1,
    "_isFastLaunch": false,
    "category": "General purpose",
    "gpuNum": 0,
    "hideHardwareSpecs": false,
    "memoryGiB": 8,
    "name": "ml.t3.large",
    "vcpuNum": 2
   },
   {
    "_defaultOrder": 2,
    "_isFastLaunch": false,
    "category": "General purpose",
    "gpuNum": 0,
    "hideHardwareSpecs": false,
    "memoryGiB": 16,
    "name": "ml.t3.xlarge",
    "vcpuNum": 4
   },
   {
    "_defaultOrder": 3,
    "_isFastLaunch": false,
    "category": "General purpose",
    "gpuNum": 0,
    "hideHardwareSpecs": false,
    "memoryGiB": 32,
    "name": "ml.t3.2xlarge",
    "vcpuNum": 8
   },
   {
    "_defaultOrder": 4,
    "_isFastLaunch": true,
    "category": "General purpose",
    "gpuNum": 0,
    "hideHardwareSpecs": false,
    "memoryGiB": 8,
    "name": "ml.m5.large",
    "vcpuNum": 2
   },
   {
    "_defaultOrder": 5,
    "_isFastLaunch": false,
    "category": "General purpose",
    "gpuNum": 0,
    "hideHardwareSpecs": false,
    "memoryGiB": 16,
    "name": "ml.m5.xlarge",
    "vcpuNum": 4
   },
   {
    "_defaultOrder": 6,
    "_isFastLaunch": false,
    "category": "General purpose",
    "gpuNum": 0,
    "hideHardwareSpecs": false,
    "memoryGiB": 32,
    "name": "ml.m5.2xlarge",
    "vcpuNum": 8
   },
   {
    "_defaultOrder": 7,
    "_isFastLaunch": false,
    "category": "General purpose",
    "gpuNum": 0,
    "hideHardwareSpecs": false,
    "memoryGiB": 64,
    "name": "ml.m5.4xlarge",
    "vcpuNum": 16
   },
   {
    "_defaultOrder": 8,
    "_isFastLaunch": false,
    "category": "General purpose",
    "gpuNum": 0,
    "hideHardwareSpecs": false,
    "memoryGiB": 128,
    "name": "ml.m5.8xlarge",
    "vcpuNum": 32
   },
   {
    "_defaultOrder": 9,
    "_isFastLaunch": false,
    "category": "General purpose",
    "gpuNum": 0,
    "hideHardwareSpecs": false,
    "memoryGiB": 192,
    "name": "ml.m5.12xlarge",
    "vcpuNum": 48
   },
   {
    "_defaultOrder": 10,
    "_isFastLaunch": false,
    "category": "General purpose",
    "gpuNum": 0,
    "hideHardwareSpecs": false,
    "memoryGiB": 256,
    "name": "ml.m5.16xlarge",
    "vcpuNum": 64
   },
   {
    "_defaultOrder": 11,
    "_isFastLaunch": false,
    "category": "General purpose",
    "gpuNum": 0,
    "hideHardwareSpecs": false,
    "memoryGiB": 384,
    "name": "ml.m5.24xlarge",
    "vcpuNum": 96
   },
   {
    "_defaultOrder": 12,
    "_isFastLaunch": false,
    "category": "General purpose",
    "gpuNum": 0,
    "hideHardwareSpecs": false,
    "memoryGiB": 8,
    "name": "ml.m5d.large",
    "vcpuNum": 2
   },
   {
    "_defaultOrder": 13,
    "_isFastLaunch": false,
    "category": "General purpose",
    "gpuNum": 0,
    "hideHardwareSpecs": false,
    "memoryGiB": 16,
    "name": "ml.m5d.xlarge",
    "vcpuNum": 4
   },
   {
    "_defaultOrder": 14,
    "_isFastLaunch": false,
    "category": "General purpose",
    "gpuNum": 0,
    "hideHardwareSpecs": false,
    "memoryGiB": 32,
    "name": "ml.m5d.2xlarge",
    "vcpuNum": 8
   },
   {
    "_defaultOrder": 15,
    "_isFastLaunch": false,
    "category": "General purpose",
    "gpuNum": 0,
    "hideHardwareSpecs": false,
    "memoryGiB": 64,
    "name": "ml.m5d.4xlarge",
    "vcpuNum": 16
   },
   {
    "_defaultOrder": 16,
    "_isFastLaunch": false,
    "category": "General purpose",
    "gpuNum": 0,
    "hideHardwareSpecs": false,
    "memoryGiB": 128,
    "name": "ml.m5d.8xlarge",
    "vcpuNum": 32
   },
   {
    "_defaultOrder": 17,
    "_isFastLaunch": false,
    "category": "General purpose",
    "gpuNum": 0,
    "hideHardwareSpecs": false,
    "memoryGiB": 192,
    "name": "ml.m5d.12xlarge",
    "vcpuNum": 48
   },
   {
    "_defaultOrder": 18,
    "_isFastLaunch": false,
    "category": "General purpose",
    "gpuNum": 0,
    "hideHardwareSpecs": false,
    "memoryGiB": 256,
    "name": "ml.m5d.16xlarge",
    "vcpuNum": 64
   },
   {
    "_defaultOrder": 19,
    "_isFastLaunch": false,
    "category": "General purpose",
    "gpuNum": 0,
    "hideHardwareSpecs": false,
    "memoryGiB": 384,
    "name": "ml.m5d.24xlarge",
    "vcpuNum": 96
   },
   {
    "_defaultOrder": 20,
    "_isFastLaunch": false,
    "category": "General purpose",
    "gpuNum": 0,
    "hideHardwareSpecs": true,
    "memoryGiB": 0,
    "name": "ml.geospatial.interactive",
    "supportedImageNames": [
     "sagemaker-geospatial-v1-0"
    ],
    "vcpuNum": 0
   },
   {
    "_defaultOrder": 21,
    "_isFastLaunch": true,
    "category": "Compute optimized",
    "gpuNum": 0,
    "hideHardwareSpecs": false,
    "memoryGiB": 4,
    "name": "ml.c5.large",
    "vcpuNum": 2
   },
   {
    "_defaultOrder": 22,
    "_isFastLaunch": false,
    "category": "Compute optimized",
    "gpuNum": 0,
    "hideHardwareSpecs": false,
    "memoryGiB": 8,
    "name": "ml.c5.xlarge",
    "vcpuNum": 4
   },
   {
    "_defaultOrder": 23,
    "_isFastLaunch": false,
    "category": "Compute optimized",
    "gpuNum": 0,
    "hideHardwareSpecs": false,
    "memoryGiB": 16,
    "name": "ml.c5.2xlarge",
    "vcpuNum": 8
   },
   {
    "_defaultOrder": 24,
    "_isFastLaunch": false,
    "category": "Compute optimized",
    "gpuNum": 0,
    "hideHardwareSpecs": false,
    "memoryGiB": 32,
    "name": "ml.c5.4xlarge",
    "vcpuNum": 16
   },
   {
    "_defaultOrder": 25,
    "_isFastLaunch": false,
    "category": "Compute optimized",
    "gpuNum": 0,
    "hideHardwareSpecs": false,
    "memoryGiB": 72,
    "name": "ml.c5.9xlarge",
    "vcpuNum": 36
   },
   {
    "_defaultOrder": 26,
    "_isFastLaunch": false,
    "category": "Compute optimized",
    "gpuNum": 0,
    "hideHardwareSpecs": false,
    "memoryGiB": 96,
    "name": "ml.c5.12xlarge",
    "vcpuNum": 48
   },
   {
    "_defaultOrder": 27,
    "_isFastLaunch": false,
    "category": "Compute optimized",
    "gpuNum": 0,
    "hideHardwareSpecs": false,
    "memoryGiB": 144,
    "name": "ml.c5.18xlarge",
    "vcpuNum": 72
   },
   {
    "_defaultOrder": 28,
    "_isFastLaunch": false,
    "category": "Compute optimized",
    "gpuNum": 0,
    "hideHardwareSpecs": false,
    "memoryGiB": 192,
    "name": "ml.c5.24xlarge",
    "vcpuNum": 96
   },
   {
    "_defaultOrder": 29,
    "_isFastLaunch": true,
    "category": "Accelerated computing",
    "gpuNum": 1,
    "hideHardwareSpecs": false,
    "memoryGiB": 16,
    "name": "ml.g4dn.xlarge",
    "vcpuNum": 4
   },
   {
    "_defaultOrder": 30,
    "_isFastLaunch": false,
    "category": "Accelerated computing",
    "gpuNum": 1,
    "hideHardwareSpecs": false,
    "memoryGiB": 32,
    "name": "ml.g4dn.2xlarge",
    "vcpuNum": 8
   },
   {
    "_defaultOrder": 31,
    "_isFastLaunch": false,
    "category": "Accelerated computing",
    "gpuNum": 1,
    "hideHardwareSpecs": false,
    "memoryGiB": 64,
    "name": "ml.g4dn.4xlarge",
    "vcpuNum": 16
   },
   {
    "_defaultOrder": 32,
    "_isFastLaunch": false,
    "category": "Accelerated computing",
    "gpuNum": 1,
    "hideHardwareSpecs": false,
    "memoryGiB": 128,
    "name": "ml.g4dn.8xlarge",
    "vcpuNum": 32
   },
   {
    "_defaultOrder": 33,
    "_isFastLaunch": false,
    "category": "Accelerated computing",
    "gpuNum": 4,
    "hideHardwareSpecs": false,
    "memoryGiB": 192,
    "name": "ml.g4dn.12xlarge",
    "vcpuNum": 48
   },
   {
    "_defaultOrder": 34,
    "_isFastLaunch": false,
    "category": "Accelerated computing",
    "gpuNum": 1,
    "hideHardwareSpecs": false,
    "memoryGiB": 256,
    "name": "ml.g4dn.16xlarge",
    "vcpuNum": 64
   },
   {
    "_defaultOrder": 35,
    "_isFastLaunch": false,
    "category": "Accelerated computing",
    "gpuNum": 1,
    "hideHardwareSpecs": false,
    "memoryGiB": 61,
    "name": "ml.p3.2xlarge",
    "vcpuNum": 8
   },
   {
    "_defaultOrder": 36,
    "_isFastLaunch": false,
    "category": "Accelerated computing",
    "gpuNum": 4,
    "hideHardwareSpecs": false,
    "memoryGiB": 244,
    "name": "ml.p3.8xlarge",
    "vcpuNum": 32
   },
   {
    "_defaultOrder": 37,
    "_isFastLaunch": false,
    "category": "Accelerated computing",
    "gpuNum": 8,
    "hideHardwareSpecs": false,
    "memoryGiB": 488,
    "name": "ml.p3.16xlarge",
    "vcpuNum": 64
   },
   {
    "_defaultOrder": 38,
    "_isFastLaunch": false,
    "category": "Accelerated computing",
    "gpuNum": 8,
    "hideHardwareSpecs": false,
    "memoryGiB": 768,
    "name": "ml.p3dn.24xlarge",
    "vcpuNum": 96
   },
   {
    "_defaultOrder": 39,
    "_isFastLaunch": false,
    "category": "Memory Optimized",
    "gpuNum": 0,
    "hideHardwareSpecs": false,
    "memoryGiB": 16,
    "name": "ml.r5.large",
    "vcpuNum": 2
   },
   {
    "_defaultOrder": 40,
    "_isFastLaunch": false,
    "category": "Memory Optimized",
    "gpuNum": 0,
    "hideHardwareSpecs": false,
    "memoryGiB": 32,
    "name": "ml.r5.xlarge",
    "vcpuNum": 4
   },
   {
    "_defaultOrder": 41,
    "_isFastLaunch": false,
    "category": "Memory Optimized",
    "gpuNum": 0,
    "hideHardwareSpecs": false,
    "memoryGiB": 64,
    "name": "ml.r5.2xlarge",
    "vcpuNum": 8
   },
   {
    "_defaultOrder": 42,
    "_isFastLaunch": false,
    "category": "Memory Optimized",
    "gpuNum": 0,
    "hideHardwareSpecs": false,
    "memoryGiB": 128,
    "name": "ml.r5.4xlarge",
    "vcpuNum": 16
   },
   {
    "_defaultOrder": 43,
    "_isFastLaunch": false,
    "category": "Memory Optimized",
    "gpuNum": 0,
    "hideHardwareSpecs": false,
    "memoryGiB": 256,
    "name": "ml.r5.8xlarge",
    "vcpuNum": 32
   },
   {
    "_defaultOrder": 44,
    "_isFastLaunch": false,
    "category": "Memory Optimized",
    "gpuNum": 0,
    "hideHardwareSpecs": false,
    "memoryGiB": 384,
    "name": "ml.r5.12xlarge",
    "vcpuNum": 48
   },
   {
    "_defaultOrder": 45,
    "_isFastLaunch": false,
    "category": "Memory Optimized",
    "gpuNum": 0,
    "hideHardwareSpecs": false,
    "memoryGiB": 512,
    "name": "ml.r5.16xlarge",
    "vcpuNum": 64
   },
   {
    "_defaultOrder": 46,
    "_isFastLaunch": false,
    "category": "Memory Optimized",
    "gpuNum": 0,
    "hideHardwareSpecs": false,
    "memoryGiB": 768,
    "name": "ml.r5.24xlarge",
    "vcpuNum": 96
   },
   {
    "_defaultOrder": 47,
    "_isFastLaunch": false,
    "category": "Accelerated computing",
    "gpuNum": 1,
    "hideHardwareSpecs": false,
    "memoryGiB": 16,
    "name": "ml.g5.xlarge",
    "vcpuNum": 4
   },
   {
    "_defaultOrder": 48,
    "_isFastLaunch": false,
    "category": "Accelerated computing",
    "gpuNum": 1,
    "hideHardwareSpecs": false,
    "memoryGiB": 32,
    "name": "ml.g5.2xlarge",
    "vcpuNum": 8
   },
   {
    "_defaultOrder": 49,
    "_isFastLaunch": false,
    "category": "Accelerated computing",
    "gpuNum": 1,
    "hideHardwareSpecs": false,
    "memoryGiB": 64,
    "name": "ml.g5.4xlarge",
    "vcpuNum": 16
   },
   {
    "_defaultOrder": 50,
    "_isFastLaunch": false,
    "category": "Accelerated computing",
    "gpuNum": 1,
    "hideHardwareSpecs": false,
    "memoryGiB": 128,
    "name": "ml.g5.8xlarge",
    "vcpuNum": 32
   },
   {
    "_defaultOrder": 51,
    "_isFastLaunch": false,
    "category": "Accelerated computing",
    "gpuNum": 1,
    "hideHardwareSpecs": false,
    "memoryGiB": 256,
    "name": "ml.g5.16xlarge",
    "vcpuNum": 64
   },
   {
    "_defaultOrder": 52,
    "_isFastLaunch": false,
    "category": "Accelerated computing",
    "gpuNum": 4,
    "hideHardwareSpecs": false,
    "memoryGiB": 192,
    "name": "ml.g5.12xlarge",
    "vcpuNum": 48
   },
   {
    "_defaultOrder": 53,
    "_isFastLaunch": false,
    "category": "Accelerated computing",
    "gpuNum": 4,
    "hideHardwareSpecs": false,
    "memoryGiB": 384,
    "name": "ml.g5.24xlarge",
    "vcpuNum": 96
   },
   {
    "_defaultOrder": 54,
    "_isFastLaunch": false,
    "category": "Accelerated computing",
    "gpuNum": 8,
    "hideHardwareSpecs": false,
    "memoryGiB": 768,
    "name": "ml.g5.48xlarge",
    "vcpuNum": 192
   }
  ],
  "kernelspec": {
   "display_name": "Python 3 (Data Science)",
   "language": "python",
   "name": "python3__SAGEMAKER_INTERNAL__arn:aws:sagemaker:us-east-1:081325390199:image/datascience-1.0"
  },
  "language_info": {
   "codemirror_mode": {
    "name": "ipython",
    "version": 3
   },
   "file_extension": ".py",
   "mimetype": "text/x-python",
   "name": "python",
   "nbconvert_exporter": "python",
   "pygments_lexer": "ipython3",
   "version": "3.7.10"
  }
 },
 "nbformat": 4,
 "nbformat_minor": 5
}
